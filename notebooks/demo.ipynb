{
 "cells": [
  {
   "cell_type": "markdown",
   "source": [
    "# 🤺 Fence demo\n",
    "\n",
    "This notebook demonstrates the use of various classes in this package. The core intent of this package is to provide a framework for interacting with language models in a way that is modular, extensible, and easy to use. The core classes are:\n",
    "- `PromptTemplate`: A template for a prompt that can be rendered with a dictionary of variables (or using keywords). It wraps around jinja2.Template, but adds some additional functionality.\n",
    "- `LLM`: A wrapper around a language model. \n",
    "- `Link`: Atomic LLM interaction wrapper. Takes in a PromptTemplate and a language model. It can be invoked with a dictionary of variables, and will return a dictionary of variables.\n",
    "- `TransformationLink`: A wrapper around a `function` that takes a dictionary of variables and returns a dictionary of variables. It can be invoked with a dictionary of variables, and will return a dictionary of variables.\n",
    "- `Chain`: A collection of links that are invoked in the right order based on the input and output keys for each Link.\n",
    "- `LinearChain`: A sequence of links that are invoked in the order they are passed in.\n",
    "\n",
    "Through these classes, we can interact with LLMs in varying degrees of complexity:\n",
    "1. Just call the model directly\n",
    "2. Use a `PromptTemplate` for reusability and abstraction\n",
    "3. Use a `Link` for atomic LLM interaction\n",
    "4. Use a `Chain` to execute a collection of `Links`\n",
    "\n",
    "Below, we'll go through each of these levels of complexity and provide examples.\n",
    "\n",
    "**Note** This notebook assumes you have access to AWS Bedrock, as we use Bedrock's Claude-instant model to fuel our LLM interactions."
   ],
   "metadata": {
    "collapsed": false
   },
   "id": "4e010e381f4d1bbe"
  },
  {
   "cell_type": "code",
   "outputs": [],
   "source": [
    "%load_ext autoreload\n",
    "from fence import Link, LLM, ClaudeInstantLLM, TransformationLink, Chain, LinearChain, PromptTemplate"
   ],
   "metadata": {
    "collapsed": true,
    "ExecuteTime": {
     "end_time": "2024-02-23T19:07:25.882098Z",
     "start_time": "2024-02-23T19:07:25.723565Z"
    }
   },
   "id": "initial_id",
   "execution_count": 1
  },
  {
   "cell_type": "markdown",
   "source": [
    "## ⚙️ Setting up"
   ],
   "metadata": {
    "collapsed": false
   },
   "id": "3ac87b524beb586b"
  },
  {
   "cell_type": "code",
   "outputs": [],
   "source": [
    "# Get our model\n",
    "claude = ClaudeInstantLLM(source='demo_notebook')"
   ],
   "metadata": {
    "collapsed": false,
    "ExecuteTime": {
     "end_time": "2024-02-23T19:07:25.925062Z",
     "start_time": "2024-02-23T19:07:25.886297Z"
    }
   },
   "id": "1a411b7c22ebd092",
   "execution_count": 2
  },
  {
   "cell_type": "markdown",
   "source": [
    "### 🪨 Level 1 - Just call the damn thing"
   ],
   "metadata": {
    "collapsed": false
   },
   "id": "efabe783b73b8ec7"
  },
  {
   "cell_type": "code",
   "outputs": [
    {
     "data": {
      "text/plain": "\" The sky appears blue because of Rayleigh scattering. This is when sunlight interacts with molecules in Earth's atmosphere, primarily nitrogen and oxygen. The short wavelengths of light, such as blue and violet, scatter more than the longer wavelengths such as red and infrared. This scattering process causes the blue wavelengths to be scattered all throughout the atmosphere and reach our eyes from all angles of the sky. The more scattered blue light there is, the more blue the sky appears.\""
     },
     "execution_count": 3,
     "metadata": {},
     "output_type": "execute_result"
    }
   ],
   "source": [
    "# Use the invoke method to call the model\n",
    "claude.invoke('Why is the sky blue?')"
   ],
   "metadata": {
    "collapsed": false,
    "ExecuteTime": {
     "end_time": "2024-02-23T19:07:27.996156Z",
     "start_time": "2024-02-23T19:07:25.926114Z"
    }
   },
   "id": "950662b95a79575c",
   "execution_count": 3
  },
  {
   "cell_type": "code",
   "outputs": [
    {
     "data": {
      "text/plain": "\" The sky appears blue because of Rayleigh scattering. This is when sunlight interacts with molecules in Earth's atmosphere, primarily nitrogen and oxygen. The short wavelengths of light, such as blue and violet, scatter more than the longer wavelengths such as red and infrared. This scattering process causes the blue wavelengths to be scattered all throughout the atmosphere and reach our eyes from every direction in the sky. The more scattered blue light entering our eyes makes the sky appear blue.\""
     },
     "execution_count": 4,
     "metadata": {},
     "output_type": "execute_result"
    }
   ],
   "source": [
    "# Just call the damn thing\n",
    "claude('Why is the sky blue?')"
   ],
   "metadata": {
    "collapsed": false,
    "ExecuteTime": {
     "end_time": "2024-02-23T19:07:29.599471Z",
     "start_time": "2024-02-23T19:07:27.994027Z"
    }
   },
   "id": "22c4da28c3c3d3b0",
   "execution_count": 4
  },
  {
   "cell_type": "markdown",
   "source": [
    "### 🔨 Level 2 - Use a PromptTemplate"
   ],
   "metadata": {
    "collapsed": false
   },
   "id": "632046188100875d"
  },
  {
   "cell_type": "code",
   "outputs": [
    {
     "name": "stdout",
     "output_type": "stream",
     "text": [
      "PromptTemplate(source=Why is the sky {{color}}?, input_variables=['color'])\n"
     ]
    }
   ],
   "source": [
    "# Initialize a prompt template\n",
    "prompt_template = PromptTemplate('Why is the sky {{color}}?', input_variables=['color'])\n",
    "print(prompt_template)"
   ],
   "metadata": {
    "collapsed": false,
    "ExecuteTime": {
     "end_time": "2024-02-23T19:07:29.600202Z",
     "start_time": "2024-02-23T19:07:29.591460Z"
    }
   },
   "id": "afe2b6d1d4078270",
   "execution_count": 5
  },
  {
   "cell_type": "code",
   "outputs": [
    {
     "name": "stdout",
     "output_type": "stream",
     "text": [
      "Why is the sky blue?\n",
      "Why is the sky red?\n",
      "Why is the sky blue?\n"
     ]
    }
   ],
   "source": [
    "# Render it with a dictionary\n",
    "print(prompt_template.render({'color': 'blue'}))\n",
    "\n",
    "# Render it with keyword arguments\n",
    "print(prompt_template.render(color='red'))\n",
    "\n",
    "# Input dict takes precedence over keyword arguments\n",
    "print(prompt_template.render(input_dict={'color': 'blue'}, color='red'))"
   ],
   "metadata": {
    "collapsed": false,
    "ExecuteTime": {
     "end_time": "2024-02-23T19:07:29.600740Z",
     "start_time": "2024-02-23T19:07:29.596536Z"
    }
   },
   "id": "9901374952217046",
   "execution_count": 6
  },
  {
   "cell_type": "code",
   "outputs": [
    {
     "name": "stdout",
     "output_type": "stream",
     "text": [
      "PromptTemplate(source=Why is the sky {{color}}? Why is the grass {{color}}? I like a dress with {{pattern}}., input_variables=['pattern', 'color'])\n",
      "Why is the sky blue? Why is the grass blue? I like a dress with polka dots.\n"
     ]
    }
   ],
   "source": [
    "# You can concatenate prompt templates, input variables are merged\n",
    "prompt_template_sky = PromptTemplate('Why is the sky {{color}}?', input_variables=['color'])\n",
    "prompt_template_grass = PromptTemplate('Why is the grass {{color}}?', input_variables=['color'])\n",
    "prompt_template_dress = PromptTemplate('I like a dress with {{pattern}}.', input_variables=['pattern'])\n",
    "combined_prompt_template = prompt_template_sky + prompt_template_grass + prompt_template_dress\n",
    "print(combined_prompt_template)\n",
    "print(combined_prompt_template.render({'color': 'blue', 'pattern': 'polka dots'}))"
   ],
   "metadata": {
    "collapsed": false,
    "ExecuteTime": {
     "end_time": "2024-02-23T19:07:29.602666Z",
     "start_time": "2024-02-23T19:07:29.600336Z"
    }
   },
   "id": "a5dca91633a69af",
   "execution_count": 7
  },
  {
   "cell_type": "code",
   "outputs": [
    {
     "name": "stdout",
     "output_type": "stream",
     "text": [
      "Why is the sky blue? FUNKY TOWN Why is the grass blue?\n"
     ]
    }
   ],
   "source": [
    "# You can customize the separator\n",
    "base_template = PromptTemplate('Why is the sky {{color}}?', input_variables=['color'], separator=' FUNKY TOWN ')\n",
    "additional_template = PromptTemplate('Why is the grass {{color}}?', input_variables=['color'])\n",
    "print((base_template + additional_template).render({'color': 'blue'}))"
   ],
   "metadata": {
    "collapsed": false,
    "ExecuteTime": {
     "end_time": "2024-02-23T19:07:29.615702Z",
     "start_time": "2024-02-23T19:07:29.603423Z"
    }
   },
   "id": "9d7766d8c7a53b12",
   "execution_count": 8
  },
  {
   "cell_type": "markdown",
   "source": [
    "### 🧠 Level 3 - Use Links (lol)\n",
    "\n",
    "What are Links? In this context, they represent atomic components of LLM interaction. That means they should be able to be strung together to form a Chain, although they can be used independently as well."
   ],
   "metadata": {
    "collapsed": false
   },
   "id": "8e5617e437fb30fc"
  },
  {
   "cell_type": "code",
   "outputs": [
    {
     "name": "stdout",
     "output_type": "stream",
     "text": [
      "Link: <['color']> -> <state>\n"
     ]
    }
   ],
   "source": [
    "# The simplest link is the Link class, which just takes a prompt template and a model\n",
    "link = Link(template=prompt_template, llm=claude)\n",
    "print(link)"
   ],
   "metadata": {
    "collapsed": false,
    "ExecuteTime": {
     "end_time": "2024-02-23T19:07:29.616243Z",
     "start_time": "2024-02-23T19:07:29.605987Z"
    }
   },
   "id": "219ef991de4352a6",
   "execution_count": 9
  },
  {
   "cell_type": "code",
   "outputs": [
    {
     "data": {
      "text/plain": "\u001B[2;36m[20:07:29]\u001B[0m\u001B[2;36m \u001B[0m\u001B[34mINFO    \u001B[0m Executing  Link                                                                                                                 \u001B]8;id=253459;file:///Users/wouter.durnez/Documents/Repositories/showpad_personal/fence/fence/src/llm/links.py\u001B\\\u001B[2mlinks.py\u001B[0m\u001B]8;;\u001B\\\u001B[2m:\u001B[0m\u001B]8;id=166077;file:///Users/wouter.durnez/Documents/Repositories/showpad_personal/fence/fence/src/llm/links.py#198\u001B\\\u001B[2m198\u001B[0m\u001B]8;;\u001B\\\n",
      "text/html": "<pre style=\"white-space:pre;overflow-x:auto;line-height:normal;font-family:Menlo,'DejaVu Sans Mono',consolas,'Courier New',monospace\"><span style=\"color: #7fbfbf; text-decoration-color: #7fbfbf\">[20:07:29] </span><span style=\"color: #000080; text-decoration-color: #000080\">INFO    </span> Executing  Link                                                                                                                 <a href=\"file:///Users/wouter.durnez/Documents/Repositories/showpad_personal/fence/fence/src/llm/links.py\" target=\"_blank\"><span style=\"color: #7f7f7f; text-decoration-color: #7f7f7f\">links.py</span></a><span style=\"color: #7f7f7f; text-decoration-color: #7f7f7f\">:</span><a href=\"file:///Users/wouter.durnez/Documents/Repositories/showpad_personal/fence/fence/src/llm/links.py#198\" target=\"_blank\"><span style=\"color: #7f7f7f; text-decoration-color: #7f7f7f\">198</span></a>\n</pre>\n"
     },
     "metadata": {},
     "output_type": "display_data"
    },
    {
     "data": {
      "text/plain": "{'state': \" The sky appears blue because of Rayleigh scattering. This is when sunlight interacts with molecules in Earth's atmosphere, primarily nitrogen and oxygen. The short wavelengths of light, such as blue and violet, scatter more than the longer wavelengths such as red and infrared. This scattering process causes the blue wavelengths to be scattered all throughout the atmosphere and reach our eyes from every direction in the sky. The more scattered blue light entering our eyes makes the sky appear blue.\"}"
     },
     "execution_count": 10,
     "metadata": {},
     "output_type": "execute_result"
    }
   ],
   "source": [
    "# Invoke it using the input_dict, NOT keyword arguments\n",
    "link(input_dict={'color': 'blue'}) # Or, equivalently, link.run(input_dict={'color': 'blue'})"
   ],
   "metadata": {
    "collapsed": false,
    "ExecuteTime": {
     "end_time": "2024-02-23T19:07:30.953078Z",
     "start_time": "2024-02-23T19:07:29.610709Z"
    }
   },
   "id": "3a1279bdd677c524",
   "execution_count": 10
  },
  {
   "cell_type": "code",
   "outputs": [
    {
     "data": {
      "text/plain": "\u001B[2;36m[20:07:30]\u001B[0m\u001B[2;36m \u001B[0m\u001B[34mINFO    \u001B[0m Executing  Link                                                                                                                 \u001B]8;id=311584;file:///Users/wouter.durnez/Documents/Repositories/showpad_personal/fence/fence/src/llm/links.py\u001B\\\u001B[2mlinks.py\u001B[0m\u001B]8;;\u001B\\\u001B[2m:\u001B[0m\u001B]8;id=281501;file:///Users/wouter.durnez/Documents/Repositories/showpad_personal/fence/fence/src/llm/links.py#198\u001B\\\u001B[2m198\u001B[0m\u001B]8;;\u001B\\\n",
      "text/html": "<pre style=\"white-space:pre;overflow-x:auto;line-height:normal;font-family:Menlo,'DejaVu Sans Mono',consolas,'Courier New',monospace\"><span style=\"color: #7fbfbf; text-decoration-color: #7fbfbf\">[20:07:30] </span><span style=\"color: #000080; text-decoration-color: #000080\">INFO    </span> Executing  Link                                                                                                                 <a href=\"file:///Users/wouter.durnez/Documents/Repositories/showpad_personal/fence/fence/src/llm/links.py\" target=\"_blank\"><span style=\"color: #7f7f7f; text-decoration-color: #7f7f7f\">links.py</span></a><span style=\"color: #7f7f7f; text-decoration-color: #7f7f7f\">:</span><a href=\"file:///Users/wouter.durnez/Documents/Repositories/showpad_personal/fence/fence/src/llm/links.py#198\" target=\"_blank\"><span style=\"color: #7f7f7f; text-decoration-color: #7f7f7f\">198</span></a>\n</pre>\n"
     },
     "metadata": {},
     "output_type": "display_data"
    },
    {
     "data": {
      "text/plain": "{'state': \" The sky appears blue because of Rayleigh scattering. This is when sunlight interacts with molecules in Earth's atmosphere, primarily nitrogen and oxygen. The short wavelengths of light, such as blue and violet, scatter more than the longer wavelengths such as red and infrared. This scattering process causes the blue wavelengths to be scattered all throughout the atmosphere and reach our eyes from all angles of the sky. The more scattered blue light there is, the more blue the sky appears.\",\n 'intermediate': \" The sky appears blue because of Rayleigh scattering. This is when sunlight interacts with molecules in Earth's atmosphere, primarily nitrogen and oxygen. The short wavelengths of light, such as blue and violet, scatter more than the longer wavelengths such as red and infrared. This scattering process causes the blue wavelengths to be scattered all throughout the atmosphere and reach our eyes from all angles of the sky. The more scattered blue light there is, the more blue the sky appears.\"}"
     },
     "execution_count": 11,
     "metadata": {},
     "output_type": "execute_result"
    }
   ],
   "source": [
    "# By default, output is stored under 'state'. You can get a copy (e.g., for inspection of intermediate results) by passing a different output key\n",
    "link = Link(template=prompt_template, llm=claude, output_key='intermediate')\n",
    "link.run(input_dict={'color': 'blue'})"
   ],
   "metadata": {
    "collapsed": false,
    "ExecuteTime": {
     "end_time": "2024-02-23T19:07:32.270324Z",
     "start_time": "2024-02-23T19:07:30.950045Z"
    }
   },
   "id": "884bda0b4dca2512",
   "execution_count": 11
  },
  {
   "cell_type": "code",
   "outputs": [
    {
     "data": {
      "text/plain": "\u001B[2;36m[20:07:32]\u001B[0m\u001B[2;36m \u001B[0m\u001B[34mINFO    \u001B[0m Executing \u001B[1m<\u001B[0m\u001B[1;95msky\u001B[0m\u001B[1m>\u001B[0m Link                                                                                                            \u001B]8;id=373268;file:///Users/wouter.durnez/Documents/Repositories/showpad_personal/fence/fence/src/llm/links.py\u001B\\\u001B[2mlinks.py\u001B[0m\u001B]8;;\u001B\\\u001B[2m:\u001B[0m\u001B]8;id=834889;file:///Users/wouter.durnez/Documents/Repositories/showpad_personal/fence/fence/src/llm/links.py#198\u001B\\\u001B[2m198\u001B[0m\u001B]8;;\u001B\\\n",
      "text/html": "<pre style=\"white-space:pre;overflow-x:auto;line-height:normal;font-family:Menlo,'DejaVu Sans Mono',consolas,'Courier New',monospace\"><span style=\"color: #7fbfbf; text-decoration-color: #7fbfbf\">[20:07:32] </span><span style=\"color: #000080; text-decoration-color: #000080\">INFO    </span> Executing <span style=\"font-weight: bold\">&lt;</span><span style=\"color: #ff00ff; text-decoration-color: #ff00ff; font-weight: bold\">sky</span><span style=\"font-weight: bold\">&gt;</span> Link                                                                                                            <a href=\"file:///Users/wouter.durnez/Documents/Repositories/showpad_personal/fence/fence/src/llm/links.py\" target=\"_blank\"><span style=\"color: #7f7f7f; text-decoration-color: #7f7f7f\">links.py</span></a><span style=\"color: #7f7f7f; text-decoration-color: #7f7f7f\">:</span><a href=\"file:///Users/wouter.durnez/Documents/Repositories/showpad_personal/fence/fence/src/llm/links.py#198\" target=\"_blank\"><span style=\"color: #7f7f7f; text-decoration-color: #7f7f7f\">198</span></a>\n</pre>\n"
     },
     "metadata": {},
     "output_type": "display_data"
    },
    {
     "data": {
      "text/plain": "{'state': \" The sky appears blue because of Rayleigh scattering. This is when sunlight interacts with molecules in Earth's atmosphere, primarily nitrogen and oxygen. The short wavelengths of light, such as blue and violet, scatter more than the longer wavelengths such as red and infrared. This scattering process causes the blue wavelengths to be scattered all throughout the atmosphere and reach our eyes from all angles of the sky. The more scattered blue wavelengths predominate, giving the sky its blue color.\"}"
     },
     "execution_count": 12,
     "metadata": {},
     "output_type": "execute_result"
    }
   ],
   "source": [
    "# You can name your links for easier debugging in logs\n",
    "link = Link(template=prompt_template, llm=claude, name='sky')\n",
    "link.run(input_dict={'color': 'blue'})"
   ],
   "metadata": {
    "collapsed": false,
    "ExecuteTime": {
     "end_time": "2024-02-23T19:07:33.832654Z",
     "start_time": "2024-02-23T19:07:32.268820Z"
    }
   },
   "id": "52913f8c6dece54e",
   "execution_count": 12
  },
  {
   "cell_type": "code",
   "outputs": [
    {
     "data": {
      "text/plain": "\u001B[2;36m[20:07:33]\u001B[0m\u001B[2;36m \u001B[0m\u001B[34mINFO    \u001B[0m Executing  Link                                                                                                                 \u001B]8;id=345970;file:///Users/wouter.durnez/Documents/Repositories/showpad_personal/fence/fence/src/llm/links.py\u001B\\\u001B[2mlinks.py\u001B[0m\u001B]8;;\u001B\\\u001B[2m:\u001B[0m\u001B]8;id=714554;file:///Users/wouter.durnez/Documents/Repositories/showpad_personal/fence/fence/src/llm/links.py#130\u001B\\\u001B[2m130\u001B[0m\u001B]8;;\u001B\\\n",
      "text/html": "<pre style=\"white-space:pre;overflow-x:auto;line-height:normal;font-family:Menlo,'DejaVu Sans Mono',consolas,'Courier New',monospace\"><span style=\"color: #7fbfbf; text-decoration-color: #7fbfbf\">[20:07:33] </span><span style=\"color: #000080; text-decoration-color: #000080\">INFO    </span> Executing  Link                                                                                                                 <a href=\"file:///Users/wouter.durnez/Documents/Repositories/showpad_personal/fence/fence/src/llm/links.py\" target=\"_blank\"><span style=\"color: #7f7f7f; text-decoration-color: #7f7f7f\">links.py</span></a><span style=\"color: #7f7f7f; text-decoration-color: #7f7f7f\">:</span><a href=\"file:///Users/wouter.durnez/Documents/Repositories/showpad_personal/fence/fence/src/llm/links.py#130\" target=\"_blank\"><span style=\"color: #7f7f7f; text-decoration-color: #7f7f7f\">130</span></a>\n</pre>\n"
     },
     "metadata": {},
     "output_type": "display_data"
    },
    {
     "data": {
      "text/plain": "{'state': 'Hello and World', 'C': 'Hello and World'}"
     },
     "execution_count": 13,
     "metadata": {},
     "output_type": "execute_result"
    }
   ],
   "source": [
    "# You can also build TransformationLinks, which take a function that transforms any input_dict into a specific output\n",
    "def concatenate(input: dict):\n",
    "    return f\"{input['X']} and {input['Y']}\"\n",
    "\n",
    "concat_link = TransformationLink(\n",
    "    input_keys=[\"X\", \"Y\"], function=concatenate, output_key=\"C\"\n",
    ")\n",
    "\n",
    "concat_link.run(input_dict={\"X\": \"Hello\", \"Y\": \"World\"})"
   ],
   "metadata": {
    "collapsed": false,
    "ExecuteTime": {
     "end_time": "2024-02-23T19:07:33.833393Z",
     "start_time": "2024-02-23T19:07:33.825472Z"
    }
   },
   "id": "460c06d5b33c6e87",
   "execution_count": 13
  },
  {
   "cell_type": "markdown",
   "source": [
    "### 🚀 Level 4 - Use Chains (lol again)"
   ],
   "metadata": {
    "collapsed": false
   },
   "id": "c83119613a5ecf54"
  },
  {
   "cell_type": "code",
   "outputs": [
    {
     "data": {
      "text/plain": "\u001B[2;36m          \u001B[0m\u001B[2;36m \u001B[0m\u001B[34mINFO    \u001B[0m Executing \u001B[1m<\u001B[0m\u001B[1;95mopposite\u001B[0m\u001B[1m>\u001B[0m Link                                                                                                       \u001B]8;id=148234;file:///Users/wouter.durnez/Documents/Repositories/showpad_personal/fence/fence/src/llm/links.py\u001B\\\u001B[2mlinks.py\u001B[0m\u001B]8;;\u001B\\\u001B[2m:\u001B[0m\u001B]8;id=841677;file:///Users/wouter.durnez/Documents/Repositories/showpad_personal/fence/fence/src/llm/links.py#198\u001B\\\u001B[2m198\u001B[0m\u001B]8;;\u001B\\\n",
      "text/html": "<pre style=\"white-space:pre;overflow-x:auto;line-height:normal;font-family:Menlo,'DejaVu Sans Mono',consolas,'Courier New',monospace\"><span style=\"color: #7fbfbf; text-decoration-color: #7fbfbf\">           </span><span style=\"color: #000080; text-decoration-color: #000080\">INFO    </span> Executing <span style=\"font-weight: bold\">&lt;</span><span style=\"color: #ff00ff; text-decoration-color: #ff00ff; font-weight: bold\">opposite</span><span style=\"font-weight: bold\">&gt;</span> Link                                                                                                       <a href=\"file:///Users/wouter.durnez/Documents/Repositories/showpad_personal/fence/fence/src/llm/links.py\" target=\"_blank\"><span style=\"color: #7f7f7f; text-decoration-color: #7f7f7f\">links.py</span></a><span style=\"color: #7f7f7f; text-decoration-color: #7f7f7f\">:</span><a href=\"file:///Users/wouter.durnez/Documents/Repositories/showpad_personal/fence/fence/src/llm/links.py#198\" target=\"_blank\"><span style=\"color: #7f7f7f; text-decoration-color: #7f7f7f\">198</span></a>\n</pre>\n"
     },
     "metadata": {},
     "output_type": "display_data"
    },
    {
     "data": {
      "text/plain": "\u001B[2;36m[20:07:34]\u001B[0m\u001B[2;36m \u001B[0m\u001B[34mINFO    \u001B[0m 🔑 State keys: \u001B[1m[\u001B[0m\u001B[32m'A'\u001B[0m, \u001B[32m'B'\u001B[0m, \u001B[32m'state'\u001B[0m, \u001B[32m'X'\u001B[0m\u001B[1m]\u001B[0m \u001B[1m(\u001B[0madded: \u001B[1m[\u001B[0m\u001B[32m'state'\u001B[0m, \u001B[32m'X'\u001B[0m\u001B[1m]\u001B[0m, removed: \u001B[1m[\u001B[0m\u001B[1m]\u001B[0m\u001B[1m)\u001B[0m                                                   \u001B]8;id=780067;file:///Users/wouter.durnez/Documents/Repositories/showpad_personal/fence/fence/src/llm/chains.py\u001B\\\u001B[2mchains.py\u001B[0m\u001B]8;;\u001B\\\u001B[2m:\u001B[0m\u001B]8;id=622152;file:///Users/wouter.durnez/Documents/Repositories/showpad_personal/fence/fence/src/llm/chains.py#250\u001B\\\u001B[2m250\u001B[0m\u001B]8;;\u001B\\\n",
      "text/html": "<pre style=\"white-space:pre;overflow-x:auto;line-height:normal;font-family:Menlo,'DejaVu Sans Mono',consolas,'Courier New',monospace\"><span style=\"color: #7fbfbf; text-decoration-color: #7fbfbf\">[20:07:34] </span><span style=\"color: #000080; text-decoration-color: #000080\">INFO    </span> 🔑 State keys: <span style=\"font-weight: bold\">[</span><span style=\"color: #008000; text-decoration-color: #008000\">'A'</span>, <span style=\"color: #008000; text-decoration-color: #008000\">'B'</span>, <span style=\"color: #008000; text-decoration-color: #008000\">'state'</span>, <span style=\"color: #008000; text-decoration-color: #008000\">'X'</span><span style=\"font-weight: bold\">]</span> <span style=\"font-weight: bold\">(</span>added: <span style=\"font-weight: bold\">[</span><span style=\"color: #008000; text-decoration-color: #008000\">'state'</span>, <span style=\"color: #008000; text-decoration-color: #008000\">'X'</span><span style=\"font-weight: bold\">]</span>, removed: <span style=\"font-weight: bold\">[])</span>                                                   <a href=\"file:///Users/wouter.durnez/Documents/Repositories/showpad_personal/fence/fence/src/llm/chains.py\" target=\"_blank\"><span style=\"color: #7f7f7f; text-decoration-color: #7f7f7f\">chains.py</span></a><span style=\"color: #7f7f7f; text-decoration-color: #7f7f7f\">:</span><a href=\"file:///Users/wouter.durnez/Documents/Repositories/showpad_personal/fence/fence/src/llm/chains.py#250\" target=\"_blank\"><span style=\"color: #7f7f7f; text-decoration-color: #7f7f7f\">250</span></a>\n</pre>\n"
     },
     "metadata": {},
     "output_type": "display_data"
    },
    {
     "data": {
      "text/plain": "\u001B[2;36m          \u001B[0m\u001B[2;36m \u001B[0m\u001B[34mINFO    \u001B[0m Executing \u001B[1m<\u001B[0m\u001B[1;95msuperlative\u001B[0m\u001B[1m>\u001B[0m Link                                                                                                    \u001B]8;id=42144;file:///Users/wouter.durnez/Documents/Repositories/showpad_personal/fence/fence/src/llm/links.py\u001B\\\u001B[2mlinks.py\u001B[0m\u001B]8;;\u001B\\\u001B[2m:\u001B[0m\u001B]8;id=202486;file:///Users/wouter.durnez/Documents/Repositories/showpad_personal/fence/fence/src/llm/links.py#198\u001B\\\u001B[2m198\u001B[0m\u001B]8;;\u001B\\\n",
      "text/html": "<pre style=\"white-space:pre;overflow-x:auto;line-height:normal;font-family:Menlo,'DejaVu Sans Mono',consolas,'Courier New',monospace\"><span style=\"color: #7fbfbf; text-decoration-color: #7fbfbf\">           </span><span style=\"color: #000080; text-decoration-color: #000080\">INFO    </span> Executing <span style=\"font-weight: bold\">&lt;</span><span style=\"color: #ff00ff; text-decoration-color: #ff00ff; font-weight: bold\">superlative</span><span style=\"font-weight: bold\">&gt;</span> Link                                                                                                    <a href=\"file:///Users/wouter.durnez/Documents/Repositories/showpad_personal/fence/fence/src/llm/links.py\" target=\"_blank\"><span style=\"color: #7f7f7f; text-decoration-color: #7f7f7f\">links.py</span></a><span style=\"color: #7f7f7f; text-decoration-color: #7f7f7f\">:</span><a href=\"file:///Users/wouter.durnez/Documents/Repositories/showpad_personal/fence/fence/src/llm/links.py#198\" target=\"_blank\"><span style=\"color: #7f7f7f; text-decoration-color: #7f7f7f\">198</span></a>\n</pre>\n"
     },
     "metadata": {},
     "output_type": "display_data"
    },
    {
     "data": {
      "text/plain": "\u001B[2;36m          \u001B[0m\u001B[2;36m \u001B[0m\u001B[34mINFO    \u001B[0m 🔑 State keys: \u001B[1m[\u001B[0m\u001B[32m'A'\u001B[0m, \u001B[32m'B'\u001B[0m, \u001B[32m'state'\u001B[0m, \u001B[32m'X'\u001B[0m, \u001B[32m'Y'\u001B[0m\u001B[1m]\u001B[0m \u001B[1m(\u001B[0madded: \u001B[1m[\u001B[0m\u001B[32m'Y'\u001B[0m\u001B[1m]\u001B[0m, removed: \u001B[1m[\u001B[0m\u001B[1m]\u001B[0m\u001B[1m)\u001B[0m                                                       \u001B]8;id=432207;file:///Users/wouter.durnez/Documents/Repositories/showpad_personal/fence/fence/src/llm/chains.py\u001B\\\u001B[2mchains.py\u001B[0m\u001B]8;;\u001B\\\u001B[2m:\u001B[0m\u001B]8;id=316785;file:///Users/wouter.durnez/Documents/Repositories/showpad_personal/fence/fence/src/llm/chains.py#250\u001B\\\u001B[2m250\u001B[0m\u001B]8;;\u001B\\\n",
      "text/html": "<pre style=\"white-space:pre;overflow-x:auto;line-height:normal;font-family:Menlo,'DejaVu Sans Mono',consolas,'Courier New',monospace\"><span style=\"color: #7fbfbf; text-decoration-color: #7fbfbf\">           </span><span style=\"color: #000080; text-decoration-color: #000080\">INFO    </span> 🔑 State keys: <span style=\"font-weight: bold\">[</span><span style=\"color: #008000; text-decoration-color: #008000\">'A'</span>, <span style=\"color: #008000; text-decoration-color: #008000\">'B'</span>, <span style=\"color: #008000; text-decoration-color: #008000\">'state'</span>, <span style=\"color: #008000; text-decoration-color: #008000\">'X'</span>, <span style=\"color: #008000; text-decoration-color: #008000\">'Y'</span><span style=\"font-weight: bold\">]</span> <span style=\"font-weight: bold\">(</span>added: <span style=\"font-weight: bold\">[</span><span style=\"color: #008000; text-decoration-color: #008000\">'Y'</span><span style=\"font-weight: bold\">]</span>, removed: <span style=\"font-weight: bold\">[])</span>                                                       <a href=\"file:///Users/wouter.durnez/Documents/Repositories/showpad_personal/fence/fence/src/llm/chains.py\" target=\"_blank\"><span style=\"color: #7f7f7f; text-decoration-color: #7f7f7f\">chains.py</span></a><span style=\"color: #7f7f7f; text-decoration-color: #7f7f7f\">:</span><a href=\"file:///Users/wouter.durnez/Documents/Repositories/showpad_personal/fence/fence/src/llm/chains.py#250\" target=\"_blank\"><span style=\"color: #7f7f7f; text-decoration-color: #7f7f7f\">250</span></a>\n</pre>\n"
     },
     "metadata": {},
     "output_type": "display_data"
    },
    {
     "data": {
      "text/plain": "\u001B[2;36m          \u001B[0m\u001B[2;36m \u001B[0m\u001B[34mINFO    \u001B[0m Executing  Link                                                                                                                 \u001B]8;id=303018;file:///Users/wouter.durnez/Documents/Repositories/showpad_personal/fence/fence/src/llm/links.py\u001B\\\u001B[2mlinks.py\u001B[0m\u001B]8;;\u001B\\\u001B[2m:\u001B[0m\u001B]8;id=354089;file:///Users/wouter.durnez/Documents/Repositories/showpad_personal/fence/fence/src/llm/links.py#130\u001B\\\u001B[2m130\u001B[0m\u001B]8;;\u001B\\\n",
      "text/html": "<pre style=\"white-space:pre;overflow-x:auto;line-height:normal;font-family:Menlo,'DejaVu Sans Mono',consolas,'Courier New',monospace\"><span style=\"color: #7fbfbf; text-decoration-color: #7fbfbf\">           </span><span style=\"color: #000080; text-decoration-color: #000080\">INFO    </span> Executing  Link                                                                                                                 <a href=\"file:///Users/wouter.durnez/Documents/Repositories/showpad_personal/fence/fence/src/llm/links.py\" target=\"_blank\"><span style=\"color: #7f7f7f; text-decoration-color: #7f7f7f\">links.py</span></a><span style=\"color: #7f7f7f; text-decoration-color: #7f7f7f\">:</span><a href=\"file:///Users/wouter.durnez/Documents/Repositories/showpad_personal/fence/fence/src/llm/links.py#130\" target=\"_blank\"><span style=\"color: #7f7f7f; text-decoration-color: #7f7f7f\">130</span></a>\n</pre>\n"
     },
     "metadata": {},
     "output_type": "display_data"
    },
    {
     "data": {
      "text/plain": "\u001B[2;36m          \u001B[0m\u001B[2;36m \u001B[0m\u001B[34mINFO    \u001B[0m 🔑 State keys: \u001B[1m[\u001B[0m\u001B[32m'A'\u001B[0m, \u001B[32m'B'\u001B[0m, \u001B[32m'state'\u001B[0m, \u001B[32m'X'\u001B[0m, \u001B[32m'Y'\u001B[0m, \u001B[32m'C'\u001B[0m\u001B[1m]\u001B[0m \u001B[1m(\u001B[0madded: \u001B[1m[\u001B[0m\u001B[32m'C'\u001B[0m\u001B[1m]\u001B[0m, removed: \u001B[1m[\u001B[0m\u001B[1m]\u001B[0m\u001B[1m)\u001B[0m                                                  \u001B]8;id=589553;file:///Users/wouter.durnez/Documents/Repositories/showpad_personal/fence/fence/src/llm/chains.py\u001B\\\u001B[2mchains.py\u001B[0m\u001B]8;;\u001B\\\u001B[2m:\u001B[0m\u001B]8;id=626914;file:///Users/wouter.durnez/Documents/Repositories/showpad_personal/fence/fence/src/llm/chains.py#250\u001B\\\u001B[2m250\u001B[0m\u001B]8;;\u001B\\\n",
      "text/html": "<pre style=\"white-space:pre;overflow-x:auto;line-height:normal;font-family:Menlo,'DejaVu Sans Mono',consolas,'Courier New',monospace\"><span style=\"color: #7fbfbf; text-decoration-color: #7fbfbf\">           </span><span style=\"color: #000080; text-decoration-color: #000080\">INFO    </span> 🔑 State keys: <span style=\"font-weight: bold\">[</span><span style=\"color: #008000; text-decoration-color: #008000\">'A'</span>, <span style=\"color: #008000; text-decoration-color: #008000\">'B'</span>, <span style=\"color: #008000; text-decoration-color: #008000\">'state'</span>, <span style=\"color: #008000; text-decoration-color: #008000\">'X'</span>, <span style=\"color: #008000; text-decoration-color: #008000\">'Y'</span>, <span style=\"color: #008000; text-decoration-color: #008000\">'C'</span><span style=\"font-weight: bold\">]</span> <span style=\"font-weight: bold\">(</span>added: <span style=\"font-weight: bold\">[</span><span style=\"color: #008000; text-decoration-color: #008000\">'C'</span><span style=\"font-weight: bold\">]</span>, removed: <span style=\"font-weight: bold\">[])</span>                                                  <a href=\"file:///Users/wouter.durnez/Documents/Repositories/showpad_personal/fence/fence/src/llm/chains.py\" target=\"_blank\"><span style=\"color: #7f7f7f; text-decoration-color: #7f7f7f\">chains.py</span></a><span style=\"color: #7f7f7f; text-decoration-color: #7f7f7f\">:</span><a href=\"file:///Users/wouter.durnez/Documents/Repositories/showpad_personal/fence/fence/src/llm/chains.py#250\" target=\"_blank\"><span style=\"color: #7f7f7f; text-decoration-color: #7f7f7f\">250</span></a>\n</pre>\n"
     },
     "metadata": {},
     "output_type": "display_data"
    },
    {
     "data": {
      "text/plain": "\u001B[2;36m          \u001B[0m\u001B[2;36m \u001B[0m\u001B[34mINFO    \u001B[0m Executing \u001B[1m<\u001B[0m\u001B[1;95mpoem\u001B[0m\u001B[1m>\u001B[0m Link                                                                                                           \u001B]8;id=167569;file:///Users/wouter.durnez/Documents/Repositories/showpad_personal/fence/fence/src/llm/links.py\u001B\\\u001B[2mlinks.py\u001B[0m\u001B]8;;\u001B\\\u001B[2m:\u001B[0m\u001B]8;id=941477;file:///Users/wouter.durnez/Documents/Repositories/showpad_personal/fence/fence/src/llm/links.py#198\u001B\\\u001B[2m198\u001B[0m\u001B]8;;\u001B\\\n",
      "text/html": "<pre style=\"white-space:pre;overflow-x:auto;line-height:normal;font-family:Menlo,'DejaVu Sans Mono',consolas,'Courier New',monospace\"><span style=\"color: #7fbfbf; text-decoration-color: #7fbfbf\">           </span><span style=\"color: #000080; text-decoration-color: #000080\">INFO    </span> Executing <span style=\"font-weight: bold\">&lt;</span><span style=\"color: #ff00ff; text-decoration-color: #ff00ff; font-weight: bold\">poem</span><span style=\"font-weight: bold\">&gt;</span> Link                                                                                                           <a href=\"file:///Users/wouter.durnez/Documents/Repositories/showpad_personal/fence/fence/src/llm/links.py\" target=\"_blank\"><span style=\"color: #7f7f7f; text-decoration-color: #7f7f7f\">links.py</span></a><span style=\"color: #7f7f7f; text-decoration-color: #7f7f7f\">:</span><a href=\"file:///Users/wouter.durnez/Documents/Repositories/showpad_personal/fence/fence/src/llm/links.py#198\" target=\"_blank\"><span style=\"color: #7f7f7f; text-decoration-color: #7f7f7f\">198</span></a>\n</pre>\n"
     },
     "metadata": {},
     "output_type": "display_data"
    },
    {
     "data": {
      "text/plain": "\u001B[2;36m[20:07:39]\u001B[0m\u001B[2;36m \u001B[0m\u001B[34mINFO    \u001B[0m 🔑 State keys: \u001B[1m[\u001B[0m\u001B[32m'A'\u001B[0m, \u001B[32m'B'\u001B[0m, \u001B[32m'state'\u001B[0m, \u001B[32m'X'\u001B[0m, \u001B[32m'Y'\u001B[0m, \u001B[32m'C'\u001B[0m, \u001B[32m'Z'\u001B[0m\u001B[1m]\u001B[0m \u001B[1m(\u001B[0madded: \u001B[1m[\u001B[0m\u001B[32m'Z'\u001B[0m\u001B[1m]\u001B[0m, removed: \u001B[1m[\u001B[0m\u001B[1m]\u001B[0m\u001B[1m)\u001B[0m                                             \u001B]8;id=777230;file:///Users/wouter.durnez/Documents/Repositories/showpad_personal/fence/fence/src/llm/chains.py\u001B\\\u001B[2mchains.py\u001B[0m\u001B]8;;\u001B\\\u001B[2m:\u001B[0m\u001B]8;id=865737;file:///Users/wouter.durnez/Documents/Repositories/showpad_personal/fence/fence/src/llm/chains.py#250\u001B\\\u001B[2m250\u001B[0m\u001B]8;;\u001B\\\n",
      "text/html": "<pre style=\"white-space:pre;overflow-x:auto;line-height:normal;font-family:Menlo,'DejaVu Sans Mono',consolas,'Courier New',monospace\"><span style=\"color: #7fbfbf; text-decoration-color: #7fbfbf\">[20:07:39] </span><span style=\"color: #000080; text-decoration-color: #000080\">INFO    </span> 🔑 State keys: <span style=\"font-weight: bold\">[</span><span style=\"color: #008000; text-decoration-color: #008000\">'A'</span>, <span style=\"color: #008000; text-decoration-color: #008000\">'B'</span>, <span style=\"color: #008000; text-decoration-color: #008000\">'state'</span>, <span style=\"color: #008000; text-decoration-color: #008000\">'X'</span>, <span style=\"color: #008000; text-decoration-color: #008000\">'Y'</span>, <span style=\"color: #008000; text-decoration-color: #008000\">'C'</span>, <span style=\"color: #008000; text-decoration-color: #008000\">'Z'</span><span style=\"font-weight: bold\">]</span> <span style=\"font-weight: bold\">(</span>added: <span style=\"font-weight: bold\">[</span><span style=\"color: #008000; text-decoration-color: #008000\">'Z'</span><span style=\"font-weight: bold\">]</span>, removed: <span style=\"font-weight: bold\">[])</span>                                             <a href=\"file:///Users/wouter.durnez/Documents/Repositories/showpad_personal/fence/fence/src/llm/chains.py\" target=\"_blank\"><span style=\"color: #7f7f7f; text-decoration-color: #7f7f7f\">chains.py</span></a><span style=\"color: #7f7f7f; text-decoration-color: #7f7f7f\">:</span><a href=\"file:///Users/wouter.durnez/Documents/Repositories/showpad_personal/fence/fence/src/llm/chains.py#250\" target=\"_blank\"><span style=\"color: #7f7f7f; text-decoration-color: #7f7f7f\">250</span></a>\n</pre>\n"
     },
     "metadata": {},
     "output_type": "display_data"
    },
    {
     "name": "stdout",
     "output_type": "stream",
     "text": [
      " The Criminal Optimist\n",
      "\n",
      "I've broken many laws without regret  \n",
      "My actions others surely won't forget\n",
      "Yet still I dream that things will turn out right\n",
      "Hoping the judge will go easy in her might  \n",
      "\n",
      "Behind these bars my mind begins to soar  \n",
      "Imagining the life that's in store  \n",
      "Once I've paid my debt to society\n",
      "The future's full of hope and possibility\n",
      "\n",
      "My heart says this is just a minor slip  \n",
      "That I'll learn from mistakes, then get my grip\n",
      "So though the evidence points me to this cell\n",
      "This criminal stays stubbornly optimistic as well\n"
     ]
    }
   ],
   "source": [
    "# You can also build Chains, which are just a sequence of links. There are two types of chains: LinearChain and Chain. \n",
    "# LinearChain is a sequence of links, while Chain is a collection of links that are invoked in the right order based on the input and output keys for each Link.\n",
    "\n",
    "# This is a LinearChain #\n",
    "#########################\n",
    "\n",
    "# Build some links\n",
    "link_opposite = Link(\n",
    "    template=PromptTemplate(\n",
    "        \"What's the opposite of {{A}}? Reply with a few words max.\", [\"A\"]\n",
    "    ),\n",
    "    name = 'opposite',\n",
    "    output_key=\"X\",\n",
    ")\n",
    "link_superlative = Link(\n",
    "    template=PromptTemplate(\n",
    "        \"What's a synonym for {{B}}. Reply with one word.\", [\"B\"],\n",
    "    ),\n",
    "    name='superlative',\n",
    "    output_key=\"Y\",\n",
    ")\n",
    "link_poem = Link(\n",
    "    template=PromptTemplate(\n",
    "        \"Write a poem about {{state}}. Return only the poem, beginning with the title.\", [\"state\"]\n",
    "    ),\n",
    "    name='poem',\n",
    "    output_key=\"Z\",\n",
    ")\n",
    "\n",
    "# Now build a LinearChain\n",
    "linear_chain = LinearChain(llm=claude, links=[link_opposite, link_superlative, concat_link, link_poem])\n",
    "\n",
    "# Run it\n",
    "result = linear_chain.run(input_dict={\"A\": \"A police officer\", \"B\": \"Hopeful\"})\n",
    "\n",
    "# Get the output\n",
    "print(result['state'])"
   ],
   "metadata": {
    "collapsed": false,
    "ExecuteTime": {
     "end_time": "2024-02-23T19:07:39.343495Z",
     "start_time": "2024-02-23T19:07:33.832563Z"
    }
   },
   "id": "a86436d806745ef0",
   "execution_count": 14
  },
  {
   "cell_type": "code",
   "outputs": [
    {
     "data": {
      "text/plain": "[Link: superlative <['B']> -> <Y>,\n Link: opposite <['A']> -> <X>,\n Link: sentence <['X', 'Y', 'C']> -> <Z>]"
     },
     "execution_count": 15,
     "metadata": {},
     "output_type": "execute_result"
    }
   ],
   "source": [
    "# A LinearChain will take the presence of the 'state' key into account when invoking the next link.\n",
    "# A Chain will not. However, it has an extra 'feature' in the form of topological sorting. As long as a graph of links can be\n",
    "# extracted from the chain, and the input keys (that are not generated in the chain) are given, the chain will invoke the links in the right order.\n",
    "\n",
    "# This is a Chain #\n",
    "###################\n",
    "link_a = Link(\n",
    "    template=PromptTemplate(\n",
    "        \"Capitalize this word: {{A}}. Only respond with the capitalized version\", [\"A\"]\n",
    "    ),\n",
    "    name = 'opposite',\n",
    "    output_key=\"X\",\n",
    ")\n",
    "link_b = Link(\n",
    "    template=PromptTemplate(\n",
    "        \"What's a synonym for {{B}}. Reply with one word.\", [\"B\"],\n",
    "    ),\n",
    "    name='superlative',\n",
    "    output_key=\"Y\",\n",
    ")\n",
    "link_c = Link(\n",
    "    template=PromptTemplate(\n",
    "        \"Combine {{X}} and {{Y}} and {{C}} in a meaningful sentence.\", [\"X\", \"Y\", \"C\"]\n",
    "    ),\n",
    "    name='sentence',\n",
    "    output_key=\"Z\",\n",
    ")\n",
    "chain = Chain(llm=claude, links=[link_c, link_a, link_b]) # Note that we can pass the links in any order\n",
    "\n",
    "# This is the sorted graph of links\n",
    "chain._topological_sort()"
   ],
   "metadata": {
    "collapsed": false,
    "ExecuteTime": {
     "end_time": "2024-02-23T19:07:39.351124Z",
     "start_time": "2024-02-23T19:07:39.345588Z"
    }
   },
   "id": "6d1a3dc176bd9580",
   "execution_count": 15
  },
  {
   "cell_type": "code",
   "outputs": [
    {
     "name": "stdout",
     "output_type": "stream",
     "text": [
      "The following input keys are required: {'B', 'C', 'A'}. Missing: {'C'}\n"
     ]
    }
   ],
   "source": [
    "# Now we can run it\n",
    "try:\n",
    "    result = chain.run(input_dict={\"A\": \"A police officer\", \"B\": \"Hopeful\"})\n",
    "except Exception as e:\n",
    "    print(e)"
   ],
   "metadata": {
    "collapsed": false,
    "ExecuteTime": {
     "end_time": "2024-02-23T19:07:39.351653Z",
     "start_time": "2024-02-23T19:07:39.348960Z"
    }
   },
   "id": "f5fca5fd6f655679",
   "execution_count": 16
  },
  {
   "cell_type": "code",
   "outputs": [
    {
     "data": {
      "text/plain": "\u001B[2;36m          \u001B[0m\u001B[2;36m \u001B[0m\u001B[34mINFO    \u001B[0m Executing \u001B[1m<\u001B[0m\u001B[1;95msuperlative\u001B[0m\u001B[1m>\u001B[0m Link                                                                                                    \u001B]8;id=96439;file:///Users/wouter.durnez/Documents/Repositories/showpad_personal/fence/fence/src/llm/links.py\u001B\\\u001B[2mlinks.py\u001B[0m\u001B]8;;\u001B\\\u001B[2m:\u001B[0m\u001B]8;id=496934;file:///Users/wouter.durnez/Documents/Repositories/showpad_personal/fence/fence/src/llm/links.py#198\u001B\\\u001B[2m198\u001B[0m\u001B]8;;\u001B\\\n",
      "text/html": "<pre style=\"white-space:pre;overflow-x:auto;line-height:normal;font-family:Menlo,'DejaVu Sans Mono',consolas,'Courier New',monospace\"><span style=\"color: #7fbfbf; text-decoration-color: #7fbfbf\">           </span><span style=\"color: #000080; text-decoration-color: #000080\">INFO    </span> Executing <span style=\"font-weight: bold\">&lt;</span><span style=\"color: #ff00ff; text-decoration-color: #ff00ff; font-weight: bold\">superlative</span><span style=\"font-weight: bold\">&gt;</span> Link                                                                                                    <a href=\"file:///Users/wouter.durnez/Documents/Repositories/showpad_personal/fence/fence/src/llm/links.py\" target=\"_blank\"><span style=\"color: #7f7f7f; text-decoration-color: #7f7f7f\">links.py</span></a><span style=\"color: #7f7f7f; text-decoration-color: #7f7f7f\">:</span><a href=\"file:///Users/wouter.durnez/Documents/Repositories/showpad_personal/fence/fence/src/llm/links.py#198\" target=\"_blank\"><span style=\"color: #7f7f7f; text-decoration-color: #7f7f7f\">198</span></a>\n</pre>\n"
     },
     "metadata": {},
     "output_type": "display_data"
    },
    {
     "data": {
      "text/plain": "\u001B[2;36m          \u001B[0m\u001B[2;36m \u001B[0m\u001B[34mINFO    \u001B[0m Executing \u001B[1m<\u001B[0m\u001B[1;95mopposite\u001B[0m\u001B[1m>\u001B[0m Link                                                                                                       \u001B]8;id=525482;file:///Users/wouter.durnez/Documents/Repositories/showpad_personal/fence/fence/src/llm/links.py\u001B\\\u001B[2mlinks.py\u001B[0m\u001B]8;;\u001B\\\u001B[2m:\u001B[0m\u001B]8;id=833952;file:///Users/wouter.durnez/Documents/Repositories/showpad_personal/fence/fence/src/llm/links.py#198\u001B\\\u001B[2m198\u001B[0m\u001B]8;;\u001B\\\n",
      "text/html": "<pre style=\"white-space:pre;overflow-x:auto;line-height:normal;font-family:Menlo,'DejaVu Sans Mono',consolas,'Courier New',monospace\"><span style=\"color: #7fbfbf; text-decoration-color: #7fbfbf\">           </span><span style=\"color: #000080; text-decoration-color: #000080\">INFO    </span> Executing <span style=\"font-weight: bold\">&lt;</span><span style=\"color: #ff00ff; text-decoration-color: #ff00ff; font-weight: bold\">opposite</span><span style=\"font-weight: bold\">&gt;</span> Link                                                                                                       <a href=\"file:///Users/wouter.durnez/Documents/Repositories/showpad_personal/fence/fence/src/llm/links.py\" target=\"_blank\"><span style=\"color: #7f7f7f; text-decoration-color: #7f7f7f\">links.py</span></a><span style=\"color: #7f7f7f; text-decoration-color: #7f7f7f\">:</span><a href=\"file:///Users/wouter.durnez/Documents/Repositories/showpad_personal/fence/fence/src/llm/links.py#198\" target=\"_blank\"><span style=\"color: #7f7f7f; text-decoration-color: #7f7f7f\">198</span></a>\n</pre>\n"
     },
     "metadata": {},
     "output_type": "display_data"
    },
    {
     "data": {
      "text/plain": "\u001B[2;36m          \u001B[0m\u001B[2;36m \u001B[0m\u001B[34mINFO    \u001B[0m Executing \u001B[1m<\u001B[0m\u001B[1;95msentence\u001B[0m\u001B[1m>\u001B[0m Link                                                                                                       \u001B]8;id=91372;file:///Users/wouter.durnez/Documents/Repositories/showpad_personal/fence/fence/src/llm/links.py\u001B\\\u001B[2mlinks.py\u001B[0m\u001B]8;;\u001B\\\u001B[2m:\u001B[0m\u001B]8;id=89168;file:///Users/wouter.durnez/Documents/Repositories/showpad_personal/fence/fence/src/llm/links.py#198\u001B\\\u001B[2m198\u001B[0m\u001B]8;;\u001B\\\n",
      "text/html": "<pre style=\"white-space:pre;overflow-x:auto;line-height:normal;font-family:Menlo,'DejaVu Sans Mono',consolas,'Courier New',monospace\"><span style=\"color: #7fbfbf; text-decoration-color: #7fbfbf\">           </span><span style=\"color: #000080; text-decoration-color: #000080\">INFO    </span> Executing <span style=\"font-weight: bold\">&lt;</span><span style=\"color: #ff00ff; text-decoration-color: #ff00ff; font-weight: bold\">sentence</span><span style=\"font-weight: bold\">&gt;</span> Link                                                                                                       <a href=\"file:///Users/wouter.durnez/Documents/Repositories/showpad_personal/fence/fence/src/llm/links.py\" target=\"_blank\"><span style=\"color: #7f7f7f; text-decoration-color: #7f7f7f\">links.py</span></a><span style=\"color: #7f7f7f; text-decoration-color: #7f7f7f\">:</span><a href=\"file:///Users/wouter.durnez/Documents/Repositories/showpad_personal/fence/fence/src/llm/links.py#198\" target=\"_blank\"><span style=\"color: #7f7f7f; text-decoration-color: #7f7f7f\">198</span></a>\n</pre>\n"
     },
     "metadata": {},
     "output_type": "display_data"
    },
    {
     "name": "stdout",
     "output_type": "stream",
     "text": [
      " Here is a sentence combining those elements:\n",
      "\n",
      "The optimistic police officer's dog always believed in him and helped brighten his day, even after difficult calls.\n"
     ]
    }
   ],
   "source": [
    "# Woops, forgot something! There's no link that generates the 'C' key. We can pass it in though.\n",
    "result = chain.run(input_dict={\"A\": \"A police officer\", \"B\": \"Hopeful\", \"C\": \"a dog\"})\n",
    "print(result['state'])"
   ],
   "metadata": {
    "collapsed": false,
    "ExecuteTime": {
     "end_time": "2024-02-23T19:07:40.514897Z",
     "start_time": "2024-02-23T19:07:39.352233Z"
    }
   },
   "id": "4dabac4f53177f1e",
   "execution_count": 17
  },
  {
   "cell_type": "code",
   "outputs": [
    {
     "name": "stdout",
     "output_type": "stream",
     "text": [
      "Cycle detected in the dependency graph.\n"
     ]
    }
   ],
   "source": [
    "# Cycles are not allowed\n",
    "link_up = Link(\n",
    "    template=PromptTemplate(\n",
    "        \"Capitalize this word: {{up}}. Only respond with the capitalized version\", [\"up\"]\n",
    "    ),\n",
    "    name = 'up',\n",
    "    output_key=\"down\",\n",
    ")\n",
    "link_b = Link(\n",
    "    template=PromptTemplate(\n",
    "        \"What's a synonym for {{down}}. Reply with one word.\", [\"down\"],\n",
    "    ),\n",
    "    name='down',\n",
    "    output_key=\"up\",\n",
    ")\n",
    "chain = Chain(llm=claude, links=[link_up, link_b])\n",
    "try:\n",
    "    chain._topological_sort()\n",
    "except Exception as e:\n",
    "    print(e)"
   ],
   "metadata": {
    "collapsed": false,
    "ExecuteTime": {
     "end_time": "2024-02-23T19:07:40.515568Z",
     "start_time": "2024-02-23T19:07:40.508944Z"
    }
   },
   "id": "fd6aa1cb2325cd41",
   "execution_count": 18
  },
  {
   "cell_type": "code",
   "outputs": [],
   "source": [],
   "metadata": {
    "collapsed": false,
    "ExecuteTime": {
     "end_time": "2024-02-23T19:07:40.515925Z",
     "start_time": "2024-02-23T19:07:40.511770Z"
    }
   },
   "id": "b3a8561144f1584c",
   "execution_count": 18
  }
 ],
 "metadata": {
  "kernelspec": {
   "display_name": "Python 3",
   "language": "python",
   "name": "python3"
  },
  "language_info": {
   "codemirror_mode": {
    "name": "ipython",
    "version": 2
   },
   "file_extension": ".py",
   "mimetype": "text/x-python",
   "name": "python",
   "nbconvert_exporter": "python",
   "pygments_lexer": "ipython2",
   "version": "2.7.6"
  }
 },
 "nbformat": 4,
 "nbformat_minor": 5
}
