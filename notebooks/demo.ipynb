{
 "cells": [
  {
   "cell_type": "markdown",
   "id": "4e010e381f4d1bbe",
   "metadata": {
    "collapsed": false,
    "jupyter": {
     "outputs_hidden": false
    }
   },
   "source": [
    "# 🤺 Fence demo\n",
    "\n",
    "This notebook demonstrates the use of various classes in this package. The core intent of this package is to provide a framework for interacting with language models in a way that is modular, extensible, and easy to use. The core classes are:\n",
    "- `PromptTemplate`: A template for a prompt that can be rendered with a dictionary of variables (or using keywords). It wraps around jinja2.Template, but adds some additional functionality.\n",
    "- `LLM`: A wrapper around a language model. \n",
    "- `Link`: Atomic LLM interaction wrapper. Takes in a PromptTemplate and a language model. It can be invoked with a dictionary of variables, and will return a dictionary of variables.\n",
    "- `TransformationLink`: A wrapper around a `function` that takes a dictionary of variables and returns a dictionary of variables. It can be invoked with a dictionary of variables, and will return a dictionary of variables.\n",
    "- `Chain`: A collection of links that are invoked in the right order based on the input and output keys for each Link.\n",
    "- `LinearChain`: A sequence of links that are invoked in the order they are passed in.\n",
    "\n",
    "Through these classes, we can interact with LLMs in varying degrees of complexity:\n",
    "1. Just call the model directly\n",
    "2. Use a `PromptTemplate` for reusability and abstraction\n",
    "3. Use a `Link` for atomic LLM interaction\n",
    "4. Use a `Chain` to execute a collection of `Links`\n",
    "\n",
    "Below, we'll go through each of these levels of complexity and provide examples.\n",
    "\n",
    "**Note** This notebook assumes you have access to AWS Bedrock, as we use Bedrock's Claude-instant model to fuel our LLM interactions."
   ]
  },
  {
   "cell_type": "code",
   "execution_count": 1,
   "id": "a937d38e",
   "metadata": {
    "ExecuteTime": {
     "end_time": "2024-07-11T09:45:54.060409Z",
     "start_time": "2024-07-11T09:45:54.057549Z"
    }
   },
   "outputs": [],
   "source": [
    "from pathlib import Path\n",
    "current_dir = Path('.').resolve().parents[0]\n",
    "import sys\n",
    "sys.path.append(str(current_dir))"
   ]
  },
  {
   "cell_type": "code",
   "execution_count": 2,
   "id": "initial_id",
   "metadata": {
    "ExecuteTime": {
     "end_time": "2024-07-11T09:45:54.214846Z",
     "start_time": "2024-07-11T09:45:54.092370Z"
    }
   },
   "outputs": [],
   "source": [
    "%load_ext autoreload\n",
    "from fence.models.claude import ClaudeInstant\n",
    "from fence.models.claude3 import Claude35Sonnet\n",
    "from fence.models.gpt import GPT4o\n",
    "from fence.templates.string import StringTemplate\n",
    "from fence.templates.messages import MessagesTemplate, Messages, Message\n",
    "from fence.links import Link, TransformationLink\n",
    "from fence.chains import Chain, LinearChain"
   ]
  },
  {
   "cell_type": "markdown",
   "id": "3ac87b524beb586b",
   "metadata": {
    "collapsed": false,
    "jupyter": {
     "outputs_hidden": false
    }
   },
   "source": [
    "## ⚙️ Setting up"
   ]
  },
  {
   "cell_type": "code",
   "execution_count": 3,
   "id": "1a411b7c22ebd092",
   "metadata": {
    "ExecuteTime": {
     "end_time": "2024-07-11T09:46:50.200919Z",
     "start_time": "2024-07-11T09:46:50.189525Z"
    },
    "collapsed": false,
    "jupyter": {
     "outputs_hidden": false
    }
   },
   "outputs": [],
   "source": [
    "# Get our model\n",
    "model = Claude35Sonnet(source='demo_notebook', region='us-east-1')"
   ]
  },
  {
   "cell_type": "markdown",
   "id": "efabe783b73b8ec7",
   "metadata": {
    "collapsed": false,
    "jupyter": {
     "outputs_hidden": false
    }
   },
   "source": [
    "### 🪨 Level 1 - Just call the damn thing"
   ]
  },
  {
   "cell_type": "code",
   "execution_count": 4,
   "id": "950662b95a79575c",
   "metadata": {
    "ExecuteTime": {
     "end_time": "2024-07-11T09:46:52.526316Z",
     "start_time": "2024-07-11T09:46:52.517895Z"
    },
    "collapsed": false,
    "jupyter": {
     "outputs_hidden": false
    }
   },
   "outputs": [
    {
     "data": {
      "text/plain": [
       "\"The sky appears blue due to a phenomenon called Rayleigh scattering. Here's a simplified explanation:\\n\\n1. Sunlight contains all colors of the visible spectrum.\\n\\n2. As sunlight enters Earth's atmosphere, it collides with gas molecules and other particles.\\n\\n3. These collisions cause the light to scatter in all directions.\\n\\n4. Blue light has a shorter wavelength and higher frequency than other colors in the visible spectrum, so it scatters more easily than other colors.\\n\\n5. This scattered blue light reaches our eyes from all directions, making the sky appear blue.\\n\\n6. Other colors, like red and yellow, have longer wavelengths and pass through the atmosphere more directly, which is why we see them more prominently during sunrise and sunset when sunlight travels through more of the atmosphere to reach our eyes.\\n\\nThe blue color is more pronounced during the day when the sun is high in the sky. At sunrise and sunset, when sunlight travels through more of the atmosphere, we see more red and orange hues because the blue light has been scattered away by the time it reaches our eyes.\""
      ]
     },
     "execution_count": 4,
     "metadata": {},
     "output_type": "execute_result"
    }
   ],
   "source": [
    "# Use the invoke method to call the model\n",
    "model.invoke('Why is the sky blue?')"
   ]
  },
  {
   "cell_type": "code",
   "execution_count": 5,
   "id": "22c4da28c3c3d3b0",
   "metadata": {
    "ExecuteTime": {
     "end_time": "2024-07-11T09:46:53.168809Z",
     "start_time": "2024-07-11T09:46:53.157501Z"
    },
    "collapsed": false,
    "jupyter": {
     "outputs_hidden": false
    }
   },
   "outputs": [
    {
     "data": {
      "text/plain": [
       "\"The sky appears blue due to a phenomenon called Rayleigh scattering. Here's a brief explanation:\\n\\n1. Sunlight contains all colors of the visible spectrum.\\n\\n2. As light travels through the Earth's atmosphere, it collides with gas molecules and other particles.\\n\\n3. These collisions cause the light to scatter in different directions.\\n\\n4. Blue light has a shorter wavelength and higher frequency than other colors in the visible spectrum, so it scatters more easily.\\n\\n5. This scattered blue light reaches our eyes from all directions, making the sky appear blue.\\n\\n6. Other colors with longer wavelengths (like red and yellow) don't scatter as much and pass through the atmosphere more directly.\\n\\n7. At sunrise and sunset, when sunlight travels through more of the atmosphere to reach our eyes, the blue light scatters away, allowing us to see more of the red and orange colors.\\n\\nThis is why the sky appears blue during most of the day but can take on different hues at dawn and dusk.\""
      ]
     },
     "execution_count": 5,
     "metadata": {},
     "output_type": "execute_result"
    }
   ],
   "source": [
    "# Just call the damn thing\n",
    "model('Why is the sky blue?')"
   ]
  },
  {
   "cell_type": "markdown",
   "id": "632046188100875d",
   "metadata": {
    "collapsed": false,
    "jupyter": {
     "outputs_hidden": false
    }
   },
   "source": [
    "### 🔨 Level 2 - Use a PromptTemplate"
   ]
  },
  {
   "cell_type": "code",
   "execution_count": 6,
   "id": "afe2b6d1d4078270",
   "metadata": {
    "ExecuteTime": {
     "end_time": "2024-07-11T09:46:54.555144Z",
     "start_time": "2024-07-11T09:46:54.542058Z"
    },
    "collapsed": false,
    "jupyter": {
     "outputs_hidden": false
    }
   },
   "outputs": [
    {
     "name": "stdout",
     "output_type": "stream",
     "text": [
      "StringTemplate: Why is the sky {color}?\n"
     ]
    }
   ],
   "source": [
    "# Initialize a prompt template\n",
    "prompt_template = StringTemplate('Why is the sky {color}?')\n",
    "print(prompt_template)"
   ]
  },
  {
   "cell_type": "code",
   "execution_count": 7,
   "id": "9901374952217046",
   "metadata": {
    "ExecuteTime": {
     "end_time": "2024-07-11T09:46:55.272964Z",
     "start_time": "2024-07-11T09:46:55.260712Z"
    },
    "collapsed": false,
    "jupyter": {
     "outputs_hidden": false
    }
   },
   "outputs": [
    {
     "name": "stdout",
     "output_type": "stream",
     "text": [
      "Why is the sky blue?\n",
      "Why is the sky red?\n",
      "Why is the sky red?\n"
     ]
    }
   ],
   "source": [
    "# Render it with a dictionary\n",
    "print(prompt_template.render({'color': 'blue'}))\n",
    "\n",
    "# Render it with keyword arguments\n",
    "print(prompt_template.render(color='red'))\n",
    "\n",
    "# Input dict takes precedence over keyword arguments\n",
    "print(prompt_template.render(input_dict={'color': 'blue'}, color='red'))"
   ]
  },
  {
   "cell_type": "code",
   "execution_count": 8,
   "id": "a5dca91633a69af",
   "metadata": {
    "ExecuteTime": {
     "end_time": "2024-07-11T09:46:55.974951Z",
     "start_time": "2024-07-11T09:46:55.962434Z"
    },
    "collapsed": false,
    "jupyter": {
     "outputs_hidden": false
    }
   },
   "outputs": [
    {
     "name": "stdout",
     "output_type": "stream",
     "text": [
      "StringTemplate: Why is the sky {color}? Why is the grass {color}? I like a dress with {pattern}.\n",
      "Why is the sky blue? Why is the grass blue? I like a dress with polka dots.\n"
     ]
    }
   ],
   "source": [
    "# You can concatenate prompt templates, input variables are merged\n",
    "prompt_template_sky = StringTemplate('Why is the sky {color}?')\n",
    "prompt_template_grass = StringTemplate('Why is the grass {color}?')\n",
    "prompt_template_dress = StringTemplate('I like a dress with {pattern}.')\n",
    "combined_prompt_template = prompt_template_sky + prompt_template_grass + prompt_template_dress\n",
    "print(combined_prompt_template)\n",
    "print(combined_prompt_template.render({'color': 'blue', 'pattern': 'polka dots'}))"
   ]
  },
  {
   "cell_type": "code",
   "execution_count": 9,
   "id": "9d7766d8c7a53b12",
   "metadata": {
    "ExecuteTime": {
     "end_time": "2024-07-11T09:46:57.034706Z",
     "start_time": "2024-07-11T09:46:57.023686Z"
    },
    "collapsed": false,
    "jupyter": {
     "outputs_hidden": false
    }
   },
   "outputs": [
    {
     "name": "stdout",
     "output_type": "stream",
     "text": [
      "Why is the sky blue? FUNKY TOWN Why is the grass blue?\n"
     ]
    }
   ],
   "source": [
    "# You can customize the separator\n",
    "base_template = StringTemplate('Why is the sky {color}?', separator=' FUNKY TOWN ')\n",
    "additional_template = StringTemplate('Why is the grass {color}?')\n",
    "print((base_template + additional_template).render({'color': 'blue'}))"
   ]
  },
  {
   "cell_type": "code",
   "execution_count": 10,
   "id": "c6c3140b13ae4f",
   "metadata": {
    "ExecuteTime": {
     "end_time": "2024-07-11T09:46:57.826145Z",
     "start_time": "2024-07-11T09:46:57.813408Z"
    }
   },
   "outputs": [
    {
     "name": "stdout",
     "output_type": "stream",
     "text": [
      "MessagesTemplate: messages=[Message(role='user', content='Why is the sky {color}?')] system='Respond in a {tone} tone'\n",
      "\n",
      "Rendered: messages=[Message(role='user', content='Why is the sky blue?')] system='Respond in a sarcastic tone'\n"
     ]
    }
   ],
   "source": [
    "# You can also use the MessagesTemplates for more complex prompts\n",
    "messages = Messages(\n",
    "    system='Respond in a {tone} tone',\n",
    "    messages= [\n",
    "        Message(role=\"user\", content=\"Why is the sky {color}?\"),\n",
    "        # Equivalent to Message(role='user', content=Content(type='text', text='Why is the sky blue?'))\n",
    "        # But Content can also be an image, etc.\n",
    "    ]\n",
    ")\n",
    "messages_template = MessagesTemplate(\n",
    "    source=messages\n",
    ")\n",
    "print(messages_template)\n",
    "print(f\"\\nRendered: {messages_template.render(tone='sarcastic', color='blue')}\")"
   ]
  },
  {
   "cell_type": "markdown",
   "id": "8e5617e437fb30fc",
   "metadata": {
    "collapsed": false,
    "jupyter": {
     "outputs_hidden": false
    }
   },
   "source": [
    "### 🧠 Level 3 - Use Links (lol)\n",
    "\n",
    "What are Links? In this context, they represent atomic components of LLM interaction. That means they should be able to be strung together to form a Chain, although they can be used independently as well."
   ]
  },
  {
   "cell_type": "code",
   "execution_count": 11,
   "id": "219ef991de4352a6",
   "metadata": {
    "collapsed": false,
    "jupyter": {
     "outputs_hidden": false
    }
   },
   "outputs": [
    {
     "name": "stdout",
     "output_type": "stream",
     "text": [
      "Link: <['color']> -> <state>\n"
     ]
    }
   ],
   "source": [
    "# The simplest link is the Link class, which just takes a prompt template and a model\n",
    "link = Link(template=prompt_template, llm=model)\n",
    "print(link)"
   ]
  },
  {
   "cell_type": "code",
   "execution_count": 12,
   "id": "3a1279bdd677c524",
   "metadata": {
    "collapsed": false,
    "jupyter": {
     "outputs_hidden": false
    }
   },
   "outputs": [
    {
     "name": "stdout",
     "output_type": "stream",
     "text": [
      "\u001b[1;32m[2024-07-11 12:24:24] [INFO] ℹ️ [links.run:198] Executing unnamed Link\u001b[0m\n"
     ]
    },
    {
     "data": {
      "text/plain": [
       "{'state': \"The sky appears blue due to a phenomenon called Rayleigh scattering. Here's a simplified explanation:\\n\\n1. Sunlight contains all colors of the visible spectrum.\\n\\n2. As sunlight enters Earth's atmosphere, it collides with gas molecules and other particles.\\n\\n3. These collisions cause the light to scatter in all directions.\\n\\n4. Blue light has a shorter wavelength and higher frequency than other colors in the visible spectrum, so it scatters more easily.\\n\\n5. This scattered blue light reaches our eyes from all directions, making the sky appear blue.\\n\\n6. Other colors, with longer wavelengths, pass through the atmosphere more directly and are less scattered.\\n\\n7. During sunrise and sunset, sunlight travels through more of the atmosphere, scattering the blue light away. This allows more red and orange light to reach our eyes, creating the colorful skies we see at these times.\\n\\nIt's worth noting that the sky's appearance can change based on factors like pollution, humidity, and the angle of the sun. However, under normal conditions during the day, Rayleigh scattering is the primary reason we perceive the sky as blue.\"}"
      ]
     },
     "execution_count": 12,
     "metadata": {},
     "output_type": "execute_result"
    }
   ],
   "source": [
    "# Invoke it\n",
    "link(color='blue') # Or, equivalently, link.run(input_dict={'color': 'blue'})"
   ]
  },
  {
   "cell_type": "code",
   "execution_count": 13,
   "id": "884bda0b4dca2512",
   "metadata": {
    "collapsed": false,
    "jupyter": {
     "outputs_hidden": false
    }
   },
   "outputs": [
    {
     "name": "stdout",
     "output_type": "stream",
     "text": [
      "\u001b[1;32m[2024-07-11 12:24:32] [INFO] ℹ️ [links.run:198] Executing unnamed Link\u001b[0m\n"
     ]
    },
    {
     "data": {
      "text/plain": [
       "{'state': \"The sky appears blue due to a phenomenon called Rayleigh scattering. Here's a simplified explanation:\\n\\n1. Sunlight contains all colors of the visible spectrum.\\n\\n2. As light travels through the Earth's atmosphere, it collides with gas molecules and other particles.\\n\\n3. These collisions cause the light to scatter in all directions.\\n\\n4. Blue light has a shorter wavelength and higher frequency than other colors in the visible spectrum, so it scatters more easily than other colors.\\n\\n5. This scattered blue light reaches our eyes from all directions, making the sky appear blue.\\n\\n6. Other colors with longer wavelengths (like red and yellow) pass through the atmosphere more directly, which is why the sun appears yellow or red, especially during sunrise and sunset when light travels through more of the atmosphere.\\n\\nThe blue color is more pronounced during the day when the sun is high in the sky. At sunrise and sunset, the light travels through more of the atmosphere, scattering the blue light away and allowing more red and orange light to reach our eyes, which is why the sky often appears more colorful at these times.\",\n",
       " 'intermediate': \"The sky appears blue due to a phenomenon called Rayleigh scattering. Here's a simplified explanation:\\n\\n1. Sunlight contains all colors of the visible spectrum.\\n\\n2. As light travels through the Earth's atmosphere, it collides with gas molecules and other particles.\\n\\n3. These collisions cause the light to scatter in all directions.\\n\\n4. Blue light has a shorter wavelength and higher frequency than other colors in the visible spectrum, so it scatters more easily than other colors.\\n\\n5. This scattered blue light reaches our eyes from all directions, making the sky appear blue.\\n\\n6. Other colors with longer wavelengths (like red and yellow) pass through the atmosphere more directly, which is why the sun appears yellow or red, especially during sunrise and sunset when light travels through more of the atmosphere.\\n\\nThe blue color is more pronounced during the day when the sun is high in the sky. At sunrise and sunset, the light travels through more of the atmosphere, scattering the blue light away and allowing more red and orange light to reach our eyes, which is why the sky often appears more colorful at these times.\"}"
      ]
     },
     "execution_count": 13,
     "metadata": {},
     "output_type": "execute_result"
    }
   ],
   "source": [
    "# By default, output is stored under 'state'. You can get a copy (e.g., for inspection of intermediate results) by passing a different output key\n",
    "link = Link(template=prompt_template, llm=model, output_key='intermediate')\n",
    "link.run(input_dict={'color': 'blue'})"
   ]
  },
  {
   "cell_type": "code",
   "execution_count": 14,
   "id": "52913f8c6dece54e",
   "metadata": {
    "collapsed": false,
    "jupyter": {
     "outputs_hidden": false
    }
   },
   "outputs": [
    {
     "name": "stdout",
     "output_type": "stream",
     "text": [
      "\u001b[1;32m[2024-07-11 12:24:39] [INFO] ℹ️ [links.run:198] Executing <sky> Link\u001b[0m\n"
     ]
    },
    {
     "data": {
      "text/plain": [
       "{'state': \"The sky appears blue due to a phenomenon called Rayleigh scattering. Here's a brief explanation:\\n\\n1. Sunlight contains all colors of the visible spectrum.\\n\\n2. As light travels through the Earth's atmosphere, it collides with gas molecules and other particles.\\n\\n3. These collisions cause the light to scatter in all directions.\\n\\n4. Blue light has a shorter wavelength and higher frequency than other colors in the visible spectrum, so it scatters more easily.\\n\\n5. This scattered blue light reaches our eyes from all directions, making the sky appear blue.\\n\\n6. Other colors with longer wavelengths (like red and yellow) don't scatter as much and pass through the atmosphere more directly.\\n\\n7. At sunrise and sunset, when sunlight travels through more of the atmosphere to reach our eyes, the blue light is scattered away, allowing us to see more of the red and orange wavelengths.\\n\\nThis is why the sky appears blue during most of the day but can take on different colors at dawn and dusk.\"}"
      ]
     },
     "execution_count": 14,
     "metadata": {},
     "output_type": "execute_result"
    }
   ],
   "source": [
    "# You can name your links for easier debugging in logs\n",
    "link = Link(template=prompt_template, llm=model, name='sky')\n",
    "link.run(input_dict={'color': 'blue'})"
   ]
  },
  {
   "cell_type": "code",
   "execution_count": 15,
   "id": "460c06d5b33c6e87",
   "metadata": {
    "collapsed": false,
    "jupyter": {
     "outputs_hidden": false
    }
   },
   "outputs": [
    {
     "name": "stdout",
     "output_type": "stream",
     "text": [
      "\u001b[1;32m[2024-07-11 12:24:46] [INFO] ℹ️ [links.run:120] Executing Transformation Link\u001b[0m\n"
     ]
    },
    {
     "data": {
      "text/plain": [
       "{'state': 'Hello and World', 'C': 'Hello and World'}"
      ]
     },
     "execution_count": 15,
     "metadata": {},
     "output_type": "execute_result"
    }
   ],
   "source": [
    "# You can also build TransformationLinks, which take a function that transforms any input_dict into a specific output\n",
    "def concatenate(input: dict):\n",
    "    return f\"{input['X']} and {input['Y']}\"\n",
    "\n",
    "concat_link = TransformationLink(\n",
    "    input_keys=[\"X\", \"Y\"], function=concatenate, output_key=\"C\"\n",
    ")\n",
    "\n",
    "concat_link.run(input_dict={\"X\": \"Hello\", \"Y\": \"World\"})"
   ]
  },
  {
   "cell_type": "markdown",
   "id": "c83119613a5ecf54",
   "metadata": {
    "collapsed": false,
    "jupyter": {
     "outputs_hidden": false
    }
   },
   "source": [
    "### 🚀 Level 4 - Use Chains (lol again)"
   ]
  },
  {
   "cell_type": "code",
   "execution_count": 16,
   "id": "a86436d806745ef0",
   "metadata": {
    "collapsed": false,
    "jupyter": {
     "outputs_hidden": false
    }
   },
   "outputs": [
    {
     "name": "stdout",
     "output_type": "stream",
     "text": [
      "\u001b[1;32m[2024-07-11 12:24:46] [INFO] ℹ️ [links.run:198] Executing <opposite> Link\u001b[0m\n",
      "\u001b[1;32m[2024-07-11 12:24:46] [INFO] ℹ️ [chains.run:265] 🔑 State keys: ['A', 'B', 'llm', 'state', 'X'] (added: ['X', 'state', 'llm'], removed: [])\u001b[0m\n",
      "\u001b[1;32m[2024-07-11 12:24:46] [INFO] ℹ️ [links.run:198] Executing <synonym> Link\u001b[0m\n",
      "\u001b[1;32m[2024-07-11 12:24:47] [INFO] ℹ️ [chains.run:265] 🔑 State keys: ['A', 'B', 'llm', 'state', 'X', 'Y'] (added: ['Y'], removed: [])\u001b[0m\n",
      "\u001b[1;32m[2024-07-11 12:24:47] [INFO] ℹ️ [links.run:120] Executing Transformation Link\u001b[0m\n",
      "\u001b[1;32m[2024-07-11 12:24:47] [INFO] ℹ️ [chains.run:265] 🔑 State keys: ['A', 'B', 'llm', 'state', 'X', 'Y', 'C'] (added: ['C'], removed: [])\u001b[0m\n",
      "\u001b[1;32m[2024-07-11 12:24:47] [INFO] ℹ️ [links.run:198] Executing <poem> Link\u001b[0m\n",
      "\u001b[1;32m[2024-07-11 12:24:53] [INFO] ℹ️ [chains.run:265] 🔑 State keys: ['A', 'B', 'llm', 'state', 'X', 'Y', 'C', 'Z'] (added: ['Z'], removed: [])\u001b[0m\n",
      "The Hopeful Outlaw\n",
      "\n",
      "Behind iron bars, a heart still beats,\n",
      "With dreams of change and new-found feats.\n",
      "Though shadows of the past loom near,\n",
      "Tomorrow's light shines bright and clear.\n",
      "\n",
      "Each misstep led him to this place,\n",
      "Yet hope adorns his weathered face.\n",
      "For in this cell, he's found the key\n",
      "To unlock a life that's truly free.\n",
      "\n",
      "With every dawn, a chance renews,\n",
      "To paint his world in brighter hues.\n",
      "The path ahead, though steep and long,\n",
      "Is lit by faith and will grow strong.\n",
      "\n",
      "For even outlaws can reform,\n",
      "And weather life's relentless storm.\n",
      "With optimism as his guide,\n",
      "He'll step beyond these walls with pride.\n"
     ]
    }
   ],
   "source": [
    "# You can also build Chains, which are just a sequence of links. There are two types of chains: LinearChain and Chain. \n",
    "# LinearChain is a sequence of links, while Chain is a collection of links that are invoked in the right order based on the input and output keys for each Link.\n",
    "\n",
    "# This is a LinearChain #\n",
    "#########################\n",
    "\n",
    "# Build some links\n",
    "link_opposite = Link(\n",
    "    template=StringTemplate(\n",
    "        \"What's the opposite of {A}? Reply with a few words max.\"\n",
    "    ),\n",
    "    name = 'opposite',\n",
    "    output_key=\"X\",\n",
    ")\n",
    "link_synonym = Link(\n",
    "    template=StringTemplate(\n",
    "        \"What's a synonym for {B}. Reply with one word.\"\n",
    "    ),\n",
    "    name='synonym',\n",
    "    output_key=\"Y\",\n",
    ")\n",
    "link_poem = Link(\n",
    "    template=StringTemplate(\n",
    "        \"Write a poem about {state}. Return only the poem, beginning with the title.\"\n",
    "    ),\n",
    "    name='poem',\n",
    "    output_key=\"Z\",\n",
    ")\n",
    "\n",
    "# Now build a LinearChain\n",
    "linear_chain = LinearChain(llm=model, links=[link_opposite, link_synonym, concat_link, link_poem])\n",
    "\n",
    "# Run it\n",
    "result = linear_chain.run(input_dict={\"A\": \"A police officer\", \"B\": \"Hopeful\"})\n",
    "\n",
    "# Get the output\n",
    "print(result['state'])"
   ]
  },
  {
   "cell_type": "code",
   "execution_count": 17,
   "id": "6d1a3dc176bd9580",
   "metadata": {
    "collapsed": false,
    "jupyter": {
     "outputs_hidden": false
    }
   },
   "outputs": [
    {
     "data": {
      "text/plain": [
       "[Link: superlative <['B']> -> <Y>,\n",
       " Link: opposite <['A']> -> <X>,\n",
       " Link: sentence <['X', 'C', 'Y']> -> <Z>]"
      ]
     },
     "execution_count": 17,
     "metadata": {},
     "output_type": "execute_result"
    }
   ],
   "source": [
    "# A LinearChain will take the presence of the 'state' key into account when invoking the next link.\n",
    "# A Chain will not. However, it has an extra 'feature' in the form of topological sorting. As long as a graph of links can be\n",
    "# extracted from the chain, and the input keys (that are not generated in the chain) are given, the chain will invoke the links in the right order.\n",
    "\n",
    "# This is a Chain #\n",
    "###################\n",
    "link_a = Link(\n",
    "    template=StringTemplate(\n",
    "        \"Capitalize this word: {A}. Only respond with the capitalized version\",\n",
    "    ),\n",
    "    name = 'opposite',\n",
    "    output_key=\"X\",\n",
    ")\n",
    "link_b = Link(\n",
    "    template=StringTemplate(\n",
    "        \"What's a synonym for {B}. Reply with one word.\", \n",
    "    ),\n",
    "    name='superlative',\n",
    "    output_key=\"Y\",\n",
    ")\n",
    "link_c = Link(\n",
    "    template=StringTemplate(\n",
    "        \"Combine {X} and {Y} and {C} in a meaningful sentence.\", \n",
    "    ),\n",
    "    name='sentence',\n",
    "    output_key=\"Z\",\n",
    ")\n",
    "chain = Chain(llm=model, links=[link_c, link_a, link_b]) # Note that we can pass the links in any order\n",
    "\n",
    "# This is the sorted graph of links\n",
    "chain._topological_sort()"
   ]
  },
  {
   "cell_type": "code",
   "execution_count": 18,
   "id": "f5fca5fd6f655679",
   "metadata": {
    "collapsed": false,
    "jupyter": {
     "outputs_hidden": false
    }
   },
   "outputs": [
    {
     "name": "stdout",
     "output_type": "stream",
     "text": [
      "The following input keys are required: {'A', 'C', 'B'}. Missing: {'C'}\n"
     ]
    }
   ],
   "source": [
    "# Now we can run it\n",
    "try:\n",
    "    result = chain.run(input_dict={\"A\": \"A police officer\", \"B\": \"Hopeful\"})\n",
    "except Exception as e:\n",
    "    print(e)"
   ]
  },
  {
   "cell_type": "code",
   "execution_count": 19,
   "id": "4dabac4f53177f1e",
   "metadata": {
    "collapsed": false,
    "jupyter": {
     "outputs_hidden": false
    }
   },
   "outputs": [
    {
     "name": "stdout",
     "output_type": "stream",
     "text": [
      "\u001b[1;32m[2024-07-11 12:24:53] [INFO] ℹ️ [links.run:198] Executing <superlative> Link\u001b[0m\n",
      "\u001b[1;32m[2024-07-11 12:24:53] [INFO] ℹ️ [links.run:198] Executing <opposite> Link\u001b[0m\n",
      "\u001b[1;32m[2024-07-11 12:24:54] [INFO] ℹ️ [links.run:198] Executing <sentence> Link\u001b[0m\n",
      "The optimistic police officer adopted a retired K-9 dog, believing their shared experiences would make them the perfect team for community outreach programs.\n"
     ]
    }
   ],
   "source": [
    "# Woops, forgot something! There's no link that generates the 'C' key. We can pass it in though.\n",
    "result = chain.run(input_dict={\"A\": \"A police officer\", \"B\": \"Hopeful\", \"C\": \"a dog\"})\n",
    "print(result['state'])"
   ]
  },
  {
   "cell_type": "code",
   "execution_count": 20,
   "id": "fd6aa1cb2325cd41",
   "metadata": {
    "collapsed": false,
    "jupyter": {
     "outputs_hidden": false
    }
   },
   "outputs": [
    {
     "name": "stdout",
     "output_type": "stream",
     "text": [
      "Cycle detected in the dependency graph.\n"
     ]
    }
   ],
   "source": [
    "# Cycles are not allowed\n",
    "link_up = Link(\n",
    "    template=StringTemplate(\n",
    "        \"Capitalize this word: {up}. Only respond with the capitalized version\",\n",
    "    ),\n",
    "    name = 'up',\n",
    "    output_key=\"down\",\n",
    ")\n",
    "link_b = Link(\n",
    "    template=StringTemplate(\n",
    "        \"What's a synonym for {down}. Reply with one word.\", \n",
    "    ),\n",
    "    name='down',\n",
    "    output_key=\"up\",\n",
    ")\n",
    "chain = Chain(llm=model, links=[link_up, link_b])\n",
    "try:\n",
    "    chain._topological_sort()\n",
    "except Exception as e:\n",
    "    print(e)"
   ]
  },
  {
   "cell_type": "code",
   "execution_count": null,
   "id": "b3a8561144f1584c",
   "metadata": {
    "collapsed": false,
    "jupyter": {
     "outputs_hidden": false
    }
   },
   "outputs": [],
   "source": []
  },
  {
   "cell_type": "code",
   "execution_count": null,
   "id": "858e4883-dd26-4d88-a009-d0145fafbfa6",
   "metadata": {},
   "outputs": [],
   "source": []
  }
 ],
 "metadata": {
  "kernelspec": {
   "display_name": "Python 3 (ipykernel)",
   "language": "python",
   "name": "python3"
  },
  "language_info": {
   "codemirror_mode": {
    "name": "ipython",
    "version": 3
   },
   "file_extension": ".py",
   "mimetype": "text/x-python",
   "name": "python",
   "nbconvert_exporter": "python",
   "pygments_lexer": "ipython3",
   "version": "3.12.4"
  }
 },
 "nbformat": 4,
 "nbformat_minor": 5
}
