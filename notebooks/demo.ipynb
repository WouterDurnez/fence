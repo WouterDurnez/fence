{
 "cells": [
  {
   "cell_type": "markdown",
   "source": [
    "# 🤺 Fence demo\n",
    "\n",
    "This notebook demonstrates the use of various classes in this package. "
   ],
   "metadata": {
    "collapsed": false
   },
   "id": "4e010e381f4d1bbe"
  },
  {
   "cell_type": "code",
   "outputs": [],
   "source": [
    "%load_ext autoreload\n",
    "from fence import Link, LLM, ClaudeInstantLLM, TransformationLink, Chain, LinearChain, PromptTemplate"
   ],
   "metadata": {
    "collapsed": true,
    "ExecuteTime": {
     "end_time": "2024-01-22T13:52:28.655348Z",
     "start_time": "2024-01-22T13:52:28.629966Z"
    }
   },
   "id": "initial_id",
   "execution_count": 38
  },
  {
   "cell_type": "markdown",
   "source": [
    "## ⚙️ Setting up"
   ],
   "metadata": {
    "collapsed": false
   },
   "id": "3ac87b524beb586b"
  },
  {
   "cell_type": "code",
   "outputs": [],
   "source": [
    "# Get our model\n",
    "claude = ClaudeInstantLLM(source='demo_notebook')"
   ],
   "metadata": {
    "collapsed": false,
    "ExecuteTime": {
     "end_time": "2024-01-22T13:52:28.655687Z",
     "start_time": "2024-01-22T13:52:28.641056Z"
    }
   },
   "id": "1a411b7c22ebd092",
   "execution_count": 39
  },
  {
   "cell_type": "markdown",
   "source": [
    "### 🚀 Level 1 - Just call the damn thing"
   ],
   "metadata": {
    "collapsed": false
   },
   "id": "efabe783b73b8ec7"
  },
  {
   "cell_type": "code",
   "outputs": [
    {
     "data": {
      "text/plain": "\" The sky appears blue because of Rayleigh scattering. This is when sunlight interacts with molecules in Earth's atmosphere, primarily nitrogen and oxygen. The short wavelengths of light, such as blue and violet, scatter more than the longer wavelengths such as red and infrared. This scattering process causes the blue wavelengths to be scattered all throughout the atmosphere and reach our eyes from all angles of the sky. The more scattered blue light there is, the more blue the sky appears.\""
     },
     "execution_count": 40,
     "metadata": {},
     "output_type": "execute_result"
    }
   ],
   "source": [
    "# Use the invoke method to call the model\n",
    "claude.invoke('Why is the sky blue?')"
   ],
   "metadata": {
    "collapsed": false,
    "ExecuteTime": {
     "end_time": "2024-01-22T13:52:29.961844Z",
     "start_time": "2024-01-22T13:52:28.658079Z"
    }
   },
   "id": "950662b95a79575c",
   "execution_count": 40
  },
  {
   "cell_type": "code",
   "outputs": [
    {
     "data": {
      "text/plain": "\" The sky appears blue because of Rayleigh scattering. This is when sunlight interacts with molecules in Earth's atmosphere, primarily nitrogen and oxygen. The short wavelengths of light, such as blue and violet, scatter more than the longer wavelengths such as red and infrared. This scattering process causes the blue wavelengths to be scattered all throughout the atmosphere and reach our eyes from all angles of the sky. The more scattered blue light there is, the more blue the sky appears.\""
     },
     "execution_count": 41,
     "metadata": {},
     "output_type": "execute_result"
    }
   ],
   "source": [
    "# Just call the damn thing\n",
    "claude('Why is the sky blue?')"
   ],
   "metadata": {
    "collapsed": false,
    "ExecuteTime": {
     "end_time": "2024-01-22T13:52:31.265716Z",
     "start_time": "2024-01-22T13:52:29.958719Z"
    }
   },
   "id": "22c4da28c3c3d3b0",
   "execution_count": 41
  },
  {
   "cell_type": "markdown",
   "source": [
    "### 🚀🚀 Level 2 - Use a PromptTemplate"
   ],
   "metadata": {
    "collapsed": false
   },
   "id": "632046188100875d"
  },
  {
   "cell_type": "code",
   "outputs": [
    {
     "name": "stdout",
     "output_type": "stream",
     "text": [
      "PromptTemplate(source=Why is the sky {{color}}?, input_variables=['color'])\n"
     ]
    }
   ],
   "source": [
    "# Initialize a prompt template\n",
    "prompt_template = PromptTemplate('Why is the sky {{color}}?', input_variables=['color'])\n",
    "print(prompt_template)"
   ],
   "metadata": {
    "collapsed": false,
    "ExecuteTime": {
     "end_time": "2024-01-22T13:52:31.267135Z",
     "start_time": "2024-01-22T13:52:31.263541Z"
    }
   },
   "id": "afe2b6d1d4078270",
   "execution_count": 42
  },
  {
   "cell_type": "code",
   "outputs": [
    {
     "name": "stdout",
     "output_type": "stream",
     "text": [
      "Why is the sky blue?\n",
      "Why is the sky red?\n",
      "Why is the sky blue?\n"
     ]
    }
   ],
   "source": [
    "# Render it with a dictionary\n",
    "print(prompt_template.render({'color': 'blue'}))\n",
    "\n",
    "# Render it with keyword arguments\n",
    "print(prompt_template.render(color='red'))\n",
    "\n",
    "# Input dict takes precedence over keyword arguments\n",
    "print(prompt_template.render(input_dict={'color': 'blue'}, color='red'))"
   ],
   "metadata": {
    "collapsed": false,
    "ExecuteTime": {
     "end_time": "2024-01-22T13:52:31.274001Z",
     "start_time": "2024-01-22T13:52:31.270535Z"
    }
   },
   "id": "9901374952217046",
   "execution_count": 43
  },
  {
   "cell_type": "code",
   "outputs": [
    {
     "name": "stdout",
     "output_type": "stream",
     "text": [
      "PromptTemplate(source=Why is the sky {{color}}? Why is the grass {{color}}? I like a dress with {{pattern}}., input_variables=['pattern', 'color'])\n",
      "Why is the sky blue? Why is the grass blue? I like a dress with polka dots.\n"
     ]
    }
   ],
   "source": [
    "# You can concatenate prompt templates, input variables are merged\n",
    "prompt_template_sky = PromptTemplate('Why is the sky {{color}}?', input_variables=['color'])\n",
    "prompt_template_grass = PromptTemplate('Why is the grass {{color}}?', input_variables=['color'])\n",
    "prompt_template_dress = PromptTemplate('I like a dress with {{pattern}}.', input_variables=['pattern'])\n",
    "combined_prompt_template = prompt_template_sky + prompt_template_grass + prompt_template_dress\n",
    "print(combined_prompt_template)\n",
    "print(combined_prompt_template.render({'color': 'blue', 'pattern': 'polka dots'}))"
   ],
   "metadata": {
    "collapsed": false,
    "ExecuteTime": {
     "end_time": "2024-01-22T13:52:31.279035Z",
     "start_time": "2024-01-22T13:52:31.275012Z"
    }
   },
   "id": "a5dca91633a69af",
   "execution_count": 44
  },
  {
   "cell_type": "code",
   "outputs": [
    {
     "name": "stdout",
     "output_type": "stream",
     "text": [
      "Why is the sky blue? FUNKY TOWN Why is the grass blue?\n"
     ]
    }
   ],
   "source": [
    "# You can customize the separator\n",
    "base_template = PromptTemplate('Why is the sky {{color}}?', input_variables=['color'], separator=' FUNKY TOWN ')\n",
    "additional_template = PromptTemplate('Why is the grass {{color}}?', input_variables=['color'])\n",
    "print((base_template + additional_template).render({'color': 'blue'}))"
   ],
   "metadata": {
    "collapsed": false,
    "ExecuteTime": {
     "end_time": "2024-01-22T13:52:31.281058Z",
     "start_time": "2024-01-22T13:52:31.278606Z"
    }
   },
   "id": "9d7766d8c7a53b12",
   "execution_count": 45
  },
  {
   "cell_type": "markdown",
   "source": [
    "### 🚀🚀🚀 Level 3 - Use Links and Chains (lol)\n",
    "\n",
    "What are Links? In this context, they represent atomic components of LLM interaction. That means they should be able to be strung together to form a Chain, although they can be used independently as well."
   ],
   "metadata": {
    "collapsed": false
   },
   "id": "8e5617e437fb30fc"
  },
  {
   "cell_type": "code",
   "outputs": [
    {
     "name": "stdout",
     "output_type": "stream",
     "text": [
      "Link: <['color']> -> <state>\n"
     ]
    }
   ],
   "source": [
    "# The simplest link is the Link class, which just takes a prompt template and a model\n",
    "link = Link(template=prompt_template, llm=claude)\n",
    "print(link)"
   ],
   "metadata": {
    "collapsed": false,
    "ExecuteTime": {
     "end_time": "2024-01-22T13:52:31.285532Z",
     "start_time": "2024-01-22T13:52:31.281236Z"
    }
   },
   "id": "219ef991de4352a6",
   "execution_count": 46
  },
  {
   "cell_type": "code",
   "outputs": [
    {
     "data": {
      "text/plain": "\u001B[2;36m[14:52:31]\u001B[0m\u001B[2;36m \u001B[0m\u001B[34mINFO    \u001B[0m 🖇️ Executing  Link with input: \u001B[1m{\u001B[0m\u001B[32m'color'\u001B[0m: \u001B[32m'blue'\u001B[0m\u001B[1m}\u001B[0m                                                                                \u001B]8;id=534213;file:///Users/wouter.durnez/Documents/Repositories/test-ai-message-composer/fence/src/llm/chains.py\u001B\\\u001B[2mchains.py\u001B[0m\u001B]8;;\u001B\\\u001B[2m:\u001B[0m\u001B]8;id=764753;file:///Users/wouter.durnez/Documents/Repositories/test-ai-message-composer/fence/src/llm/chains.py#214\u001B\\\u001B[2m214\u001B[0m\u001B]8;;\u001B\\\n",
      "text/html": "<pre style=\"white-space:pre;overflow-x:auto;line-height:normal;font-family:Menlo,'DejaVu Sans Mono',consolas,'Courier New',monospace\"><span style=\"color: #7fbfbf; text-decoration-color: #7fbfbf\">[14:52:31] </span><span style=\"color: #000080; text-decoration-color: #000080\">INFO    </span> 🖇️ Executing  Link with input: <span style=\"font-weight: bold\">{</span><span style=\"color: #008000; text-decoration-color: #008000\">'color'</span>: <span style=\"color: #008000; text-decoration-color: #008000\">'blue'</span><span style=\"font-weight: bold\">}</span>                                                                                <a href=\"file:///Users/wouter.durnez/Documents/Repositories/test-ai-message-composer/fence/src/llm/chains.py\" target=\"_blank\"><span style=\"color: #7f7f7f; text-decoration-color: #7f7f7f\">chains.py</span></a><span style=\"color: #7f7f7f; text-decoration-color: #7f7f7f\">:</span><a href=\"file:///Users/wouter.durnez/Documents/Repositories/test-ai-message-composer/fence/src/llm/chains.py#214\" target=\"_blank\"><span style=\"color: #7f7f7f; text-decoration-color: #7f7f7f\">214</span></a>\n</pre>\n"
     },
     "metadata": {},
     "output_type": "display_data"
    },
    {
     "data": {
      "text/plain": "\u001B[2;36m[14:52:32]\u001B[0m\u001B[2;36m \u001B[0m\u001B[34mINFO    \u001B[0m 🧐 Current state:  The sky appears blue because of Rayleigh scattering. This is when sunlight interacts with molecules in      \u001B]8;id=662778;file:///Users/wouter.durnez/Documents/Repositories/test-ai-message-composer/fence/src/llm/chains.py\u001B\\\u001B[2mchains.py\u001B[0m\u001B]8;;\u001B\\\u001B[2m:\u001B[0m\u001B]8;id=675421;file:///Users/wouter.durnez/Documents/Repositories/test-ai-message-composer/fence/src/llm/chains.py#270\u001B\\\u001B[2m270\u001B[0m\u001B]8;;\u001B\\\n\u001B[2;36m           \u001B[0m         Earth's atmosphere, mostly nitrogen and oxygen. The short wavelengths of light, such as blue and violet, scatter more than the \u001B[2m             \u001B[0m\n\u001B[2;36m           \u001B[0m         longer wavelengths such as red and infrared. This scattering process causes the blue wavelengths to be scattered all           \u001B[2m             \u001B[0m\n\u001B[2;36m           \u001B[0m         throughout the atmosphere and reach our eyes from every direction in the sky. The more scattered blue light from the sun       \u001B[2m             \u001B[0m\n\u001B[2;36m           \u001B[0m         overwhelms the less scattered light of other colors, which is why we see the sky as blue.                                      \u001B[2m             \u001B[0m\n",
      "text/html": "<pre style=\"white-space:pre;overflow-x:auto;line-height:normal;font-family:Menlo,'DejaVu Sans Mono',consolas,'Courier New',monospace\"><span style=\"color: #7fbfbf; text-decoration-color: #7fbfbf\">[14:52:32] </span><span style=\"color: #000080; text-decoration-color: #000080\">INFO    </span> 🧐 Current state:  The sky appears blue because of Rayleigh scattering. This is when sunlight interacts with molecules in      <a href=\"file:///Users/wouter.durnez/Documents/Repositories/test-ai-message-composer/fence/src/llm/chains.py\" target=\"_blank\"><span style=\"color: #7f7f7f; text-decoration-color: #7f7f7f\">chains.py</span></a><span style=\"color: #7f7f7f; text-decoration-color: #7f7f7f\">:</span><a href=\"file:///Users/wouter.durnez/Documents/Repositories/test-ai-message-composer/fence/src/llm/chains.py#270\" target=\"_blank\"><span style=\"color: #7f7f7f; text-decoration-color: #7f7f7f\">270</span></a>\n<span style=\"color: #7fbfbf; text-decoration-color: #7fbfbf\">           </span>         Earth's atmosphere, mostly nitrogen and oxygen. The short wavelengths of light, such as blue and violet, scatter more than the <span style=\"color: #7f7f7f; text-decoration-color: #7f7f7f\">             </span>\n<span style=\"color: #7fbfbf; text-decoration-color: #7fbfbf\">           </span>         longer wavelengths such as red and infrared. This scattering process causes the blue wavelengths to be scattered all           <span style=\"color: #7f7f7f; text-decoration-color: #7f7f7f\">             </span>\n<span style=\"color: #7fbfbf; text-decoration-color: #7fbfbf\">           </span>         throughout the atmosphere and reach our eyes from every direction in the sky. The more scattered blue light from the sun       <span style=\"color: #7f7f7f; text-decoration-color: #7f7f7f\">             </span>\n<span style=\"color: #7fbfbf; text-decoration-color: #7fbfbf\">           </span>         overwhelms the less scattered light of other colors, which is why we see the sky as blue.                                      <span style=\"color: #7f7f7f; text-decoration-color: #7f7f7f\">             </span>\n</pre>\n"
     },
     "metadata": {},
     "output_type": "display_data"
    },
    {
     "data": {
      "text/plain": "{'state': \" The sky appears blue because of Rayleigh scattering. This is when sunlight interacts with molecules in Earth's atmosphere, mostly nitrogen and oxygen. The short wavelengths of light, such as blue and violet, scatter more than the longer wavelengths such as red and infrared. This scattering process causes the blue wavelengths to be scattered all throughout the atmosphere and reach our eyes from every direction in the sky. The more scattered blue light from the sun overwhelms the less scattered light of other colors, which is why we see the sky as blue.\"}"
     },
     "execution_count": 47,
     "metadata": {},
     "output_type": "execute_result"
    }
   ],
   "source": [
    "# Invoke it using the input_dict, NOT keyword arguments\n",
    "link(input_dict={'color': 'blue'}) # Or, equivalently, link.run(input_dict={'color': 'blue'})"
   ],
   "metadata": {
    "collapsed": false,
    "ExecuteTime": {
     "end_time": "2024-01-22T13:52:32.787278Z",
     "start_time": "2024-01-22T13:52:31.284559Z"
    }
   },
   "id": "3a1279bdd677c524",
   "execution_count": 47
  },
  {
   "cell_type": "code",
   "outputs": [
    {
     "data": {
      "text/plain": "\u001B[2;36m          \u001B[0m\u001B[2;36m \u001B[0m\u001B[34mINFO    \u001B[0m 🖇️ Executing  Link with input: \u001B[1m{\u001B[0m\u001B[32m'color'\u001B[0m: \u001B[32m'blue'\u001B[0m\u001B[1m}\u001B[0m                                                                                \u001B]8;id=252576;file:///Users/wouter.durnez/Documents/Repositories/test-ai-message-composer/fence/src/llm/chains.py\u001B\\\u001B[2mchains.py\u001B[0m\u001B]8;;\u001B\\\u001B[2m:\u001B[0m\u001B]8;id=523795;file:///Users/wouter.durnez/Documents/Repositories/test-ai-message-composer/fence/src/llm/chains.py#214\u001B\\\u001B[2m214\u001B[0m\u001B]8;;\u001B\\\n",
      "text/html": "<pre style=\"white-space:pre;overflow-x:auto;line-height:normal;font-family:Menlo,'DejaVu Sans Mono',consolas,'Courier New',monospace\"><span style=\"color: #7fbfbf; text-decoration-color: #7fbfbf\">           </span><span style=\"color: #000080; text-decoration-color: #000080\">INFO    </span> 🖇️ Executing  Link with input: <span style=\"font-weight: bold\">{</span><span style=\"color: #008000; text-decoration-color: #008000\">'color'</span>: <span style=\"color: #008000; text-decoration-color: #008000\">'blue'</span><span style=\"font-weight: bold\">}</span>                                                                                <a href=\"file:///Users/wouter.durnez/Documents/Repositories/test-ai-message-composer/fence/src/llm/chains.py\" target=\"_blank\"><span style=\"color: #7f7f7f; text-decoration-color: #7f7f7f\">chains.py</span></a><span style=\"color: #7f7f7f; text-decoration-color: #7f7f7f\">:</span><a href=\"file:///Users/wouter.durnez/Documents/Repositories/test-ai-message-composer/fence/src/llm/chains.py#214\" target=\"_blank\"><span style=\"color: #7f7f7f; text-decoration-color: #7f7f7f\">214</span></a>\n</pre>\n"
     },
     "metadata": {},
     "output_type": "display_data"
    },
    {
     "data": {
      "text/plain": "\u001B[2;36m[14:52:34]\u001B[0m\u001B[2;36m \u001B[0m\u001B[34mINFO    \u001B[0m 🧐 Current state:  The sky appears blue because of Rayleigh scattering. This is when sunlight interacts with molecules in      \u001B]8;id=873933;file:///Users/wouter.durnez/Documents/Repositories/test-ai-message-composer/fence/src/llm/chains.py\u001B\\\u001B[2mchains.py\u001B[0m\u001B]8;;\u001B\\\u001B[2m:\u001B[0m\u001B]8;id=936244;file:///Users/wouter.durnez/Documents/Repositories/test-ai-message-composer/fence/src/llm/chains.py#270\u001B\\\u001B[2m270\u001B[0m\u001B]8;;\u001B\\\n\u001B[2;36m           \u001B[0m         Earth's atmosphere, primarily nitrogen and oxygen. The short wavelengths of light, such as blue and violet, scatter more than  \u001B[2m             \u001B[0m\n\u001B[2;36m           \u001B[0m         the longer wavelengths such as red and infrared. This scattering process causes the blue wavelengths to be scattered all       \u001B[2m             \u001B[0m\n\u001B[2;36m           \u001B[0m         throughout the atmosphere and reach our eyes from all angles of the sky. The more scattered blue light there is, the more blue \u001B[2m             \u001B[0m\n\u001B[2;36m           \u001B[0m         the sky appears.                                                                                                               \u001B[2m             \u001B[0m\n",
      "text/html": "<pre style=\"white-space:pre;overflow-x:auto;line-height:normal;font-family:Menlo,'DejaVu Sans Mono',consolas,'Courier New',monospace\"><span style=\"color: #7fbfbf; text-decoration-color: #7fbfbf\">[14:52:34] </span><span style=\"color: #000080; text-decoration-color: #000080\">INFO    </span> 🧐 Current state:  The sky appears blue because of Rayleigh scattering. This is when sunlight interacts with molecules in      <a href=\"file:///Users/wouter.durnez/Documents/Repositories/test-ai-message-composer/fence/src/llm/chains.py\" target=\"_blank\"><span style=\"color: #7f7f7f; text-decoration-color: #7f7f7f\">chains.py</span></a><span style=\"color: #7f7f7f; text-decoration-color: #7f7f7f\">:</span><a href=\"file:///Users/wouter.durnez/Documents/Repositories/test-ai-message-composer/fence/src/llm/chains.py#270\" target=\"_blank\"><span style=\"color: #7f7f7f; text-decoration-color: #7f7f7f\">270</span></a>\n<span style=\"color: #7fbfbf; text-decoration-color: #7fbfbf\">           </span>         Earth's atmosphere, primarily nitrogen and oxygen. The short wavelengths of light, such as blue and violet, scatter more than  <span style=\"color: #7f7f7f; text-decoration-color: #7f7f7f\">             </span>\n<span style=\"color: #7fbfbf; text-decoration-color: #7fbfbf\">           </span>         the longer wavelengths such as red and infrared. This scattering process causes the blue wavelengths to be scattered all       <span style=\"color: #7f7f7f; text-decoration-color: #7f7f7f\">             </span>\n<span style=\"color: #7fbfbf; text-decoration-color: #7fbfbf\">           </span>         throughout the atmosphere and reach our eyes from all angles of the sky. The more scattered blue light there is, the more blue <span style=\"color: #7f7f7f; text-decoration-color: #7f7f7f\">             </span>\n<span style=\"color: #7fbfbf; text-decoration-color: #7fbfbf\">           </span>         the sky appears.                                                                                                               <span style=\"color: #7f7f7f; text-decoration-color: #7f7f7f\">             </span>\n</pre>\n"
     },
     "metadata": {},
     "output_type": "display_data"
    },
    {
     "data": {
      "text/plain": "{'state': \" The sky appears blue because of Rayleigh scattering. This is when sunlight interacts with molecules in Earth's atmosphere, primarily nitrogen and oxygen. The short wavelengths of light, such as blue and violet, scatter more than the longer wavelengths such as red and infrared. This scattering process causes the blue wavelengths to be scattered all throughout the atmosphere and reach our eyes from all angles of the sky. The more scattered blue light there is, the more blue the sky appears.\",\n 'intermediate': \" The sky appears blue because of Rayleigh scattering. This is when sunlight interacts with molecules in Earth's atmosphere, primarily nitrogen and oxygen. The short wavelengths of light, such as blue and violet, scatter more than the longer wavelengths such as red and infrared. This scattering process causes the blue wavelengths to be scattered all throughout the atmosphere and reach our eyes from all angles of the sky. The more scattered blue light there is, the more blue the sky appears.\"}"
     },
     "execution_count": 48,
     "metadata": {},
     "output_type": "execute_result"
    }
   ],
   "source": [
    "# By default, output is stored under 'state'. You can get a copy (e.g., for inspection of intermediate results) by passing a different output key\n",
    "link = Link(template=prompt_template, llm=claude, output_key='intermediate')\n",
    "link.run(input_dict={'color': 'blue'})"
   ],
   "metadata": {
    "collapsed": false,
    "ExecuteTime": {
     "end_time": "2024-01-22T13:52:34.309932Z",
     "start_time": "2024-01-22T13:52:32.789190Z"
    }
   },
   "id": "884bda0b4dca2512",
   "execution_count": 48
  },
  {
   "cell_type": "code",
   "outputs": [
    {
     "data": {
      "text/plain": "\u001B[2;36m          \u001B[0m\u001B[2;36m \u001B[0m\u001B[34mINFO    \u001B[0m 🖇️ Executing \u001B[1m<\u001B[0m\u001B[1;95msky\u001B[0m\u001B[1m>\u001B[0m Link with input: \u001B[1m{\u001B[0m\u001B[32m'color'\u001B[0m: \u001B[32m'blue'\u001B[0m\u001B[1m}\u001B[0m                                                                           \u001B]8;id=321475;file:///Users/wouter.durnez/Documents/Repositories/test-ai-message-composer/fence/src/llm/chains.py\u001B\\\u001B[2mchains.py\u001B[0m\u001B]8;;\u001B\\\u001B[2m:\u001B[0m\u001B]8;id=927644;file:///Users/wouter.durnez/Documents/Repositories/test-ai-message-composer/fence/src/llm/chains.py#214\u001B\\\u001B[2m214\u001B[0m\u001B]8;;\u001B\\\n",
      "text/html": "<pre style=\"white-space:pre;overflow-x:auto;line-height:normal;font-family:Menlo,'DejaVu Sans Mono',consolas,'Courier New',monospace\"><span style=\"color: #7fbfbf; text-decoration-color: #7fbfbf\">           </span><span style=\"color: #000080; text-decoration-color: #000080\">INFO    </span> 🖇️ Executing <span style=\"font-weight: bold\">&lt;</span><span style=\"color: #ff00ff; text-decoration-color: #ff00ff; font-weight: bold\">sky</span><span style=\"font-weight: bold\">&gt;</span> Link with input: <span style=\"font-weight: bold\">{</span><span style=\"color: #008000; text-decoration-color: #008000\">'color'</span>: <span style=\"color: #008000; text-decoration-color: #008000\">'blue'</span><span style=\"font-weight: bold\">}</span>                                                                           <a href=\"file:///Users/wouter.durnez/Documents/Repositories/test-ai-message-composer/fence/src/llm/chains.py\" target=\"_blank\"><span style=\"color: #7f7f7f; text-decoration-color: #7f7f7f\">chains.py</span></a><span style=\"color: #7f7f7f; text-decoration-color: #7f7f7f\">:</span><a href=\"file:///Users/wouter.durnez/Documents/Repositories/test-ai-message-composer/fence/src/llm/chains.py#214\" target=\"_blank\"><span style=\"color: #7f7f7f; text-decoration-color: #7f7f7f\">214</span></a>\n</pre>\n"
     },
     "metadata": {},
     "output_type": "display_data"
    },
    {
     "data": {
      "text/plain": "\u001B[2;36m[14:52:37]\u001B[0m\u001B[2;36m \u001B[0m\u001B[34mINFO    \u001B[0m 🧐 Current state:  The sky appears blue because of Rayleigh scattering. This is when sunlight interacts with molecules in      \u001B]8;id=517453;file:///Users/wouter.durnez/Documents/Repositories/test-ai-message-composer/fence/src/llm/chains.py\u001B\\\u001B[2mchains.py\u001B[0m\u001B]8;;\u001B\\\u001B[2m:\u001B[0m\u001B]8;id=807045;file:///Users/wouter.durnez/Documents/Repositories/test-ai-message-composer/fence/src/llm/chains.py#270\u001B\\\u001B[2m270\u001B[0m\u001B]8;;\u001B\\\n\u001B[2;36m           \u001B[0m         Earth's atmosphere, primarily nitrogen and oxygen. The short wavelengths of light, such as blue and violet, scatter more than  \u001B[2m             \u001B[0m\n\u001B[2;36m           \u001B[0m         the longer wavelengths such as red and infrared. This scattering process causes the blue wavelengths to be scattered all       \u001B[2m             \u001B[0m\n\u001B[2;36m           \u001B[0m         throughout the atmosphere and reach our eyes from every direction in the sky. The more scattered blue light entering our eyes  \u001B[2m             \u001B[0m\n\u001B[2;36m           \u001B[0m         makes the sky appear blue.                                                                                                     \u001B[2m             \u001B[0m\n",
      "text/html": "<pre style=\"white-space:pre;overflow-x:auto;line-height:normal;font-family:Menlo,'DejaVu Sans Mono',consolas,'Courier New',monospace\"><span style=\"color: #7fbfbf; text-decoration-color: #7fbfbf\">[14:52:37] </span><span style=\"color: #000080; text-decoration-color: #000080\">INFO    </span> 🧐 Current state:  The sky appears blue because of Rayleigh scattering. This is when sunlight interacts with molecules in      <a href=\"file:///Users/wouter.durnez/Documents/Repositories/test-ai-message-composer/fence/src/llm/chains.py\" target=\"_blank\"><span style=\"color: #7f7f7f; text-decoration-color: #7f7f7f\">chains.py</span></a><span style=\"color: #7f7f7f; text-decoration-color: #7f7f7f\">:</span><a href=\"file:///Users/wouter.durnez/Documents/Repositories/test-ai-message-composer/fence/src/llm/chains.py#270\" target=\"_blank\"><span style=\"color: #7f7f7f; text-decoration-color: #7f7f7f\">270</span></a>\n<span style=\"color: #7fbfbf; text-decoration-color: #7fbfbf\">           </span>         Earth's atmosphere, primarily nitrogen and oxygen. The short wavelengths of light, such as blue and violet, scatter more than  <span style=\"color: #7f7f7f; text-decoration-color: #7f7f7f\">             </span>\n<span style=\"color: #7fbfbf; text-decoration-color: #7fbfbf\">           </span>         the longer wavelengths such as red and infrared. This scattering process causes the blue wavelengths to be scattered all       <span style=\"color: #7f7f7f; text-decoration-color: #7f7f7f\">             </span>\n<span style=\"color: #7fbfbf; text-decoration-color: #7fbfbf\">           </span>         throughout the atmosphere and reach our eyes from every direction in the sky. The more scattered blue light entering our eyes  <span style=\"color: #7f7f7f; text-decoration-color: #7f7f7f\">             </span>\n<span style=\"color: #7fbfbf; text-decoration-color: #7fbfbf\">           </span>         makes the sky appear blue.                                                                                                     <span style=\"color: #7f7f7f; text-decoration-color: #7f7f7f\">             </span>\n</pre>\n"
     },
     "metadata": {},
     "output_type": "display_data"
    },
    {
     "data": {
      "text/plain": "{'state': \" The sky appears blue because of Rayleigh scattering. This is when sunlight interacts with molecules in Earth's atmosphere, primarily nitrogen and oxygen. The short wavelengths of light, such as blue and violet, scatter more than the longer wavelengths such as red and infrared. This scattering process causes the blue wavelengths to be scattered all throughout the atmosphere and reach our eyes from every direction in the sky. The more scattered blue light entering our eyes makes the sky appear blue.\"}"
     },
     "execution_count": 49,
     "metadata": {},
     "output_type": "execute_result"
    }
   ],
   "source": [
    "# You can name your links for easier debugging in logs\n",
    "link = Link(template=prompt_template, llm=claude, name='sky')\n",
    "link.run(input_dict={'color': 'blue'})"
   ],
   "metadata": {
    "collapsed": false,
    "ExecuteTime": {
     "end_time": "2024-01-22T13:52:37.800702Z",
     "start_time": "2024-01-22T13:52:34.306640Z"
    }
   },
   "id": "52913f8c6dece54e",
   "execution_count": 49
  },
  {
   "cell_type": "code",
   "outputs": [
    {
     "data": {
      "text/plain": "{'state': 'Hello and World', 'C': 'Hello and World'}"
     },
     "execution_count": 50,
     "metadata": {},
     "output_type": "execute_result"
    }
   ],
   "source": [
    "# You can also build TransformationLinks, which take a function that transforms any input_dict into a specific output\n",
    "def concatenate(x, y):\n",
    "    return f\"{x} and {y}\"\n",
    "\n",
    "concat_link = TransformationLink(\n",
    "    input_keys=[\"X\", \"Y\"], function=concatenate, output_key=\"C\"\n",
    ")\n",
    "\n",
    "concat_link.run(input_dict={\"X\": \"Hello\", \"Y\": \"World\"})"
   ],
   "metadata": {
    "collapsed": false,
    "ExecuteTime": {
     "end_time": "2024-01-22T13:52:37.806639Z",
     "start_time": "2024-01-22T13:52:37.802057Z"
    }
   },
   "id": "460c06d5b33c6e87",
   "execution_count": 50
  },
  {
   "cell_type": "code",
   "outputs": [
    {
     "data": {
      "text/plain": "\u001B[2;36m          \u001B[0m\u001B[2;36m \u001B[0m\u001B[34mINFO    \u001B[0m 🖇️ Executing \u001B[1m<\u001B[0m\u001B[1;95mopposite\u001B[0m\u001B[1m>\u001B[0m Link with input: \u001B[1m{\u001B[0m\u001B[32m'A'\u001B[0m: \u001B[32m'A police officer'\u001B[0m, \u001B[32m'B'\u001B[0m: \u001B[32m'Hopeful'\u001B[0m\u001B[1m}\u001B[0m                                              \u001B]8;id=310414;file:///Users/wouter.durnez/Documents/Repositories/test-ai-message-composer/fence/src/llm/chains.py\u001B\\\u001B[2mchains.py\u001B[0m\u001B]8;;\u001B\\\u001B[2m:\u001B[0m\u001B]8;id=810558;file:///Users/wouter.durnez/Documents/Repositories/test-ai-message-composer/fence/src/llm/chains.py#214\u001B\\\u001B[2m214\u001B[0m\u001B]8;;\u001B\\\n",
      "text/html": "<pre style=\"white-space:pre;overflow-x:auto;line-height:normal;font-family:Menlo,'DejaVu Sans Mono',consolas,'Courier New',monospace\"><span style=\"color: #7fbfbf; text-decoration-color: #7fbfbf\">           </span><span style=\"color: #000080; text-decoration-color: #000080\">INFO    </span> 🖇️ Executing <span style=\"font-weight: bold\">&lt;</span><span style=\"color: #ff00ff; text-decoration-color: #ff00ff; font-weight: bold\">opposite</span><span style=\"font-weight: bold\">&gt;</span> Link with input: <span style=\"font-weight: bold\">{</span><span style=\"color: #008000; text-decoration-color: #008000\">'A'</span>: <span style=\"color: #008000; text-decoration-color: #008000\">'A police officer'</span>, <span style=\"color: #008000; text-decoration-color: #008000\">'B'</span>: <span style=\"color: #008000; text-decoration-color: #008000\">'Hopeful'</span><span style=\"font-weight: bold\">}</span>                                              <a href=\"file:///Users/wouter.durnez/Documents/Repositories/test-ai-message-composer/fence/src/llm/chains.py\" target=\"_blank\"><span style=\"color: #7f7f7f; text-decoration-color: #7f7f7f\">chains.py</span></a><span style=\"color: #7f7f7f; text-decoration-color: #7f7f7f\">:</span><a href=\"file:///Users/wouter.durnez/Documents/Repositories/test-ai-message-composer/fence/src/llm/chains.py#214\" target=\"_blank\"><span style=\"color: #7f7f7f; text-decoration-color: #7f7f7f\">214</span></a>\n</pre>\n"
     },
     "metadata": {},
     "output_type": "display_data"
    },
    {
     "data": {
      "text/plain": "\u001B[2;36m[14:52:38]\u001B[0m\u001B[2;36m \u001B[0m\u001B[34mINFO    \u001B[0m 🧐 Current state:  Criminal                                                                                                    \u001B]8;id=839734;file:///Users/wouter.durnez/Documents/Repositories/test-ai-message-composer/fence/src/llm/chains.py\u001B\\\u001B[2mchains.py\u001B[0m\u001B]8;;\u001B\\\u001B[2m:\u001B[0m\u001B]8;id=35484;file:///Users/wouter.durnez/Documents/Repositories/test-ai-message-composer/fence/src/llm/chains.py#270\u001B\\\u001B[2m270\u001B[0m\u001B]8;;\u001B\\\n",
      "text/html": "<pre style=\"white-space:pre;overflow-x:auto;line-height:normal;font-family:Menlo,'DejaVu Sans Mono',consolas,'Courier New',monospace\"><span style=\"color: #7fbfbf; text-decoration-color: #7fbfbf\">[14:52:38] </span><span style=\"color: #000080; text-decoration-color: #000080\">INFO    </span> 🧐 Current state:  Criminal                                                                                                    <a href=\"file:///Users/wouter.durnez/Documents/Repositories/test-ai-message-composer/fence/src/llm/chains.py\" target=\"_blank\"><span style=\"color: #7f7f7f; text-decoration-color: #7f7f7f\">chains.py</span></a><span style=\"color: #7f7f7f; text-decoration-color: #7f7f7f\">:</span><a href=\"file:///Users/wouter.durnez/Documents/Repositories/test-ai-message-composer/fence/src/llm/chains.py#270\" target=\"_blank\"><span style=\"color: #7f7f7f; text-decoration-color: #7f7f7f\">270</span></a>\n</pre>\n"
     },
     "metadata": {},
     "output_type": "display_data"
    },
    {
     "data": {
      "text/plain": "\u001B[2;36m          \u001B[0m\u001B[2;36m \u001B[0m\u001B[34mINFO    \u001B[0m 🔑 State keys: \u001B[1m[\u001B[0m\u001B[32m'A'\u001B[0m, \u001B[32m'B'\u001B[0m, \u001B[32m'state'\u001B[0m, \u001B[32m'X'\u001B[0m\u001B[1m]\u001B[0m \u001B[1m(\u001B[0madded: \u001B[1m[\u001B[0m\u001B[32m'state'\u001B[0m, \u001B[32m'X'\u001B[0m\u001B[1m]\u001B[0m, removed: \u001B[1m[\u001B[0m\u001B[1m]\u001B[0m\u001B[1m)\u001B[0m                                                   \u001B]8;id=508754;file:///Users/wouter.durnez/Documents/Repositories/test-ai-message-composer/fence/src/llm/chains.py\u001B\\\u001B[2mchains.py\u001B[0m\u001B]8;;\u001B\\\u001B[2m:\u001B[0m\u001B]8;id=915333;file:///Users/wouter.durnez/Documents/Repositories/test-ai-message-composer/fence/src/llm/chains.py#443\u001B\\\u001B[2m443\u001B[0m\u001B]8;;\u001B\\\n",
      "text/html": "<pre style=\"white-space:pre;overflow-x:auto;line-height:normal;font-family:Menlo,'DejaVu Sans Mono',consolas,'Courier New',monospace\"><span style=\"color: #7fbfbf; text-decoration-color: #7fbfbf\">           </span><span style=\"color: #000080; text-decoration-color: #000080\">INFO    </span> 🔑 State keys: <span style=\"font-weight: bold\">[</span><span style=\"color: #008000; text-decoration-color: #008000\">'A'</span>, <span style=\"color: #008000; text-decoration-color: #008000\">'B'</span>, <span style=\"color: #008000; text-decoration-color: #008000\">'state'</span>, <span style=\"color: #008000; text-decoration-color: #008000\">'X'</span><span style=\"font-weight: bold\">]</span> <span style=\"font-weight: bold\">(</span>added: <span style=\"font-weight: bold\">[</span><span style=\"color: #008000; text-decoration-color: #008000\">'state'</span>, <span style=\"color: #008000; text-decoration-color: #008000\">'X'</span><span style=\"font-weight: bold\">]</span>, removed: <span style=\"font-weight: bold\">[])</span>                                                   <a href=\"file:///Users/wouter.durnez/Documents/Repositories/test-ai-message-composer/fence/src/llm/chains.py\" target=\"_blank\"><span style=\"color: #7f7f7f; text-decoration-color: #7f7f7f\">chains.py</span></a><span style=\"color: #7f7f7f; text-decoration-color: #7f7f7f\">:</span><a href=\"file:///Users/wouter.durnez/Documents/Repositories/test-ai-message-composer/fence/src/llm/chains.py#443\" target=\"_blank\"><span style=\"color: #7f7f7f; text-decoration-color: #7f7f7f\">443</span></a>\n</pre>\n"
     },
     "metadata": {},
     "output_type": "display_data"
    },
    {
     "data": {
      "text/plain": "\u001B[2;36m          \u001B[0m\u001B[2;36m \u001B[0m\u001B[34mINFO    \u001B[0m 🖇️ Executing \u001B[1m<\u001B[0m\u001B[1;95msuperlative\u001B[0m\u001B[1m>\u001B[0m Link with input: \u001B[1m{\u001B[0m\u001B[32m'A'\u001B[0m: \u001B[32m'A police officer'\u001B[0m, \u001B[32m'B'\u001B[0m: \u001B[32m'Hopeful'\u001B[0m, \u001B[32m'state'\u001B[0m: \u001B[32m' Criminal'\u001B[0m, \u001B[32m'X'\u001B[0m: \u001B[32m' Criminal'\u001B[0m\u001B[1m}\u001B[0m   \u001B]8;id=311625;file:///Users/wouter.durnez/Documents/Repositories/test-ai-message-composer/fence/src/llm/chains.py\u001B\\\u001B[2mchains.py\u001B[0m\u001B]8;;\u001B\\\u001B[2m:\u001B[0m\u001B]8;id=849253;file:///Users/wouter.durnez/Documents/Repositories/test-ai-message-composer/fence/src/llm/chains.py#214\u001B\\\u001B[2m214\u001B[0m\u001B]8;;\u001B\\\n",
      "text/html": "<pre style=\"white-space:pre;overflow-x:auto;line-height:normal;font-family:Menlo,'DejaVu Sans Mono',consolas,'Courier New',monospace\"><span style=\"color: #7fbfbf; text-decoration-color: #7fbfbf\">           </span><span style=\"color: #000080; text-decoration-color: #000080\">INFO    </span> 🖇️ Executing <span style=\"font-weight: bold\">&lt;</span><span style=\"color: #ff00ff; text-decoration-color: #ff00ff; font-weight: bold\">superlative</span><span style=\"font-weight: bold\">&gt;</span> Link with input: <span style=\"font-weight: bold\">{</span><span style=\"color: #008000; text-decoration-color: #008000\">'A'</span>: <span style=\"color: #008000; text-decoration-color: #008000\">'A police officer'</span>, <span style=\"color: #008000; text-decoration-color: #008000\">'B'</span>: <span style=\"color: #008000; text-decoration-color: #008000\">'Hopeful'</span>, <span style=\"color: #008000; text-decoration-color: #008000\">'state'</span>: <span style=\"color: #008000; text-decoration-color: #008000\">' Criminal'</span>, <span style=\"color: #008000; text-decoration-color: #008000\">'X'</span>: <span style=\"color: #008000; text-decoration-color: #008000\">' Criminal'</span><span style=\"font-weight: bold\">}</span>   <a href=\"file:///Users/wouter.durnez/Documents/Repositories/test-ai-message-composer/fence/src/llm/chains.py\" target=\"_blank\"><span style=\"color: #7f7f7f; text-decoration-color: #7f7f7f\">chains.py</span></a><span style=\"color: #7f7f7f; text-decoration-color: #7f7f7f\">:</span><a href=\"file:///Users/wouter.durnez/Documents/Repositories/test-ai-message-composer/fence/src/llm/chains.py#214\" target=\"_blank\"><span style=\"color: #7f7f7f; text-decoration-color: #7f7f7f\">214</span></a>\n</pre>\n"
     },
     "metadata": {},
     "output_type": "display_data"
    },
    {
     "data": {
      "text/plain": "\u001B[2;36m          \u001B[0m\u001B[2;36m \u001B[0m\u001B[34mINFO    \u001B[0m 🧐 Current state:  Optimistic                                                                                                  \u001B]8;id=715855;file:///Users/wouter.durnez/Documents/Repositories/test-ai-message-composer/fence/src/llm/chains.py\u001B\\\u001B[2mchains.py\u001B[0m\u001B]8;;\u001B\\\u001B[2m:\u001B[0m\u001B]8;id=41204;file:///Users/wouter.durnez/Documents/Repositories/test-ai-message-composer/fence/src/llm/chains.py#270\u001B\\\u001B[2m270\u001B[0m\u001B]8;;\u001B\\\n",
      "text/html": "<pre style=\"white-space:pre;overflow-x:auto;line-height:normal;font-family:Menlo,'DejaVu Sans Mono',consolas,'Courier New',monospace\"><span style=\"color: #7fbfbf; text-decoration-color: #7fbfbf\">           </span><span style=\"color: #000080; text-decoration-color: #000080\">INFO    </span> 🧐 Current state:  Optimistic                                                                                                  <a href=\"file:///Users/wouter.durnez/Documents/Repositories/test-ai-message-composer/fence/src/llm/chains.py\" target=\"_blank\"><span style=\"color: #7f7f7f; text-decoration-color: #7f7f7f\">chains.py</span></a><span style=\"color: #7f7f7f; text-decoration-color: #7f7f7f\">:</span><a href=\"file:///Users/wouter.durnez/Documents/Repositories/test-ai-message-composer/fence/src/llm/chains.py#270\" target=\"_blank\"><span style=\"color: #7f7f7f; text-decoration-color: #7f7f7f\">270</span></a>\n</pre>\n"
     },
     "metadata": {},
     "output_type": "display_data"
    },
    {
     "data": {
      "text/plain": "\u001B[2;36m          \u001B[0m\u001B[2;36m \u001B[0m\u001B[34mINFO    \u001B[0m 🔑 State keys: \u001B[1m[\u001B[0m\u001B[32m'A'\u001B[0m, \u001B[32m'B'\u001B[0m, \u001B[32m'state'\u001B[0m, \u001B[32m'X'\u001B[0m, \u001B[32m'Y'\u001B[0m\u001B[1m]\u001B[0m \u001B[1m(\u001B[0madded: \u001B[1m[\u001B[0m\u001B[32m'Y'\u001B[0m\u001B[1m]\u001B[0m, removed: \u001B[1m[\u001B[0m\u001B[1m]\u001B[0m\u001B[1m)\u001B[0m                                                       \u001B]8;id=728626;file:///Users/wouter.durnez/Documents/Repositories/test-ai-message-composer/fence/src/llm/chains.py\u001B\\\u001B[2mchains.py\u001B[0m\u001B]8;;\u001B\\\u001B[2m:\u001B[0m\u001B]8;id=762595;file:///Users/wouter.durnez/Documents/Repositories/test-ai-message-composer/fence/src/llm/chains.py#443\u001B\\\u001B[2m443\u001B[0m\u001B]8;;\u001B\\\n",
      "text/html": "<pre style=\"white-space:pre;overflow-x:auto;line-height:normal;font-family:Menlo,'DejaVu Sans Mono',consolas,'Courier New',monospace\"><span style=\"color: #7fbfbf; text-decoration-color: #7fbfbf\">           </span><span style=\"color: #000080; text-decoration-color: #000080\">INFO    </span> 🔑 State keys: <span style=\"font-weight: bold\">[</span><span style=\"color: #008000; text-decoration-color: #008000\">'A'</span>, <span style=\"color: #008000; text-decoration-color: #008000\">'B'</span>, <span style=\"color: #008000; text-decoration-color: #008000\">'state'</span>, <span style=\"color: #008000; text-decoration-color: #008000\">'X'</span>, <span style=\"color: #008000; text-decoration-color: #008000\">'Y'</span><span style=\"font-weight: bold\">]</span> <span style=\"font-weight: bold\">(</span>added: <span style=\"font-weight: bold\">[</span><span style=\"color: #008000; text-decoration-color: #008000\">'Y'</span><span style=\"font-weight: bold\">]</span>, removed: <span style=\"font-weight: bold\">[])</span>                                                       <a href=\"file:///Users/wouter.durnez/Documents/Repositories/test-ai-message-composer/fence/src/llm/chains.py\" target=\"_blank\"><span style=\"color: #7f7f7f; text-decoration-color: #7f7f7f\">chains.py</span></a><span style=\"color: #7f7f7f; text-decoration-color: #7f7f7f\">:</span><a href=\"file:///Users/wouter.durnez/Documents/Repositories/test-ai-message-composer/fence/src/llm/chains.py#443\" target=\"_blank\"><span style=\"color: #7f7f7f; text-decoration-color: #7f7f7f\">443</span></a>\n</pre>\n"
     },
     "metadata": {},
     "output_type": "display_data"
    },
    {
     "data": {
      "text/plain": "\u001B[2;36m          \u001B[0m\u001B[2;36m \u001B[0m\u001B[34mINFO    \u001B[0m 🔑 State keys: \u001B[1m[\u001B[0m\u001B[32m'A'\u001B[0m, \u001B[32m'B'\u001B[0m, \u001B[32m'state'\u001B[0m, \u001B[32m'X'\u001B[0m, \u001B[32m'Y'\u001B[0m, \u001B[32m'C'\u001B[0m\u001B[1m]\u001B[0m \u001B[1m(\u001B[0madded: \u001B[1m[\u001B[0m\u001B[32m'C'\u001B[0m\u001B[1m]\u001B[0m, removed: \u001B[1m[\u001B[0m\u001B[1m]\u001B[0m\u001B[1m)\u001B[0m                                                  \u001B]8;id=93778;file:///Users/wouter.durnez/Documents/Repositories/test-ai-message-composer/fence/src/llm/chains.py\u001B\\\u001B[2mchains.py\u001B[0m\u001B]8;;\u001B\\\u001B[2m:\u001B[0m\u001B]8;id=728400;file:///Users/wouter.durnez/Documents/Repositories/test-ai-message-composer/fence/src/llm/chains.py#443\u001B\\\u001B[2m443\u001B[0m\u001B]8;;\u001B\\\n",
      "text/html": "<pre style=\"white-space:pre;overflow-x:auto;line-height:normal;font-family:Menlo,'DejaVu Sans Mono',consolas,'Courier New',monospace\"><span style=\"color: #7fbfbf; text-decoration-color: #7fbfbf\">           </span><span style=\"color: #000080; text-decoration-color: #000080\">INFO    </span> 🔑 State keys: <span style=\"font-weight: bold\">[</span><span style=\"color: #008000; text-decoration-color: #008000\">'A'</span>, <span style=\"color: #008000; text-decoration-color: #008000\">'B'</span>, <span style=\"color: #008000; text-decoration-color: #008000\">'state'</span>, <span style=\"color: #008000; text-decoration-color: #008000\">'X'</span>, <span style=\"color: #008000; text-decoration-color: #008000\">'Y'</span>, <span style=\"color: #008000; text-decoration-color: #008000\">'C'</span><span style=\"font-weight: bold\">]</span> <span style=\"font-weight: bold\">(</span>added: <span style=\"font-weight: bold\">[</span><span style=\"color: #008000; text-decoration-color: #008000\">'C'</span><span style=\"font-weight: bold\">]</span>, removed: <span style=\"font-weight: bold\">[])</span>                                                  <a href=\"file:///Users/wouter.durnez/Documents/Repositories/test-ai-message-composer/fence/src/llm/chains.py\" target=\"_blank\"><span style=\"color: #7f7f7f; text-decoration-color: #7f7f7f\">chains.py</span></a><span style=\"color: #7f7f7f; text-decoration-color: #7f7f7f\">:</span><a href=\"file:///Users/wouter.durnez/Documents/Repositories/test-ai-message-composer/fence/src/llm/chains.py#443\" target=\"_blank\"><span style=\"color: #7f7f7f; text-decoration-color: #7f7f7f\">443</span></a>\n</pre>\n"
     },
     "metadata": {},
     "output_type": "display_data"
    },
    {
     "data": {
      "text/plain": "\u001B[2;36m          \u001B[0m\u001B[2;36m \u001B[0m\u001B[34mINFO    \u001B[0m 🖇️ Executing \u001B[1m<\u001B[0m\u001B[1;95mpoem\u001B[0m\u001B[1m>\u001B[0m Link with input: \u001B[1m{\u001B[0m\u001B[32m'A'\u001B[0m: \u001B[32m'A police officer'\u001B[0m, \u001B[32m'B'\u001B[0m: \u001B[32m'Hopeful'\u001B[0m, \u001B[32m'state'\u001B[0m: \u001B[32m' Criminal and  Optimistic'\u001B[0m, \u001B[32m'X'\u001B[0m: \u001B[32m' \u001B[0m    \u001B]8;id=385947;file:///Users/wouter.durnez/Documents/Repositories/test-ai-message-composer/fence/src/llm/chains.py\u001B\\\u001B[2mchains.py\u001B[0m\u001B]8;;\u001B\\\u001B[2m:\u001B[0m\u001B]8;id=572219;file:///Users/wouter.durnez/Documents/Repositories/test-ai-message-composer/fence/src/llm/chains.py#214\u001B\\\u001B[2m214\u001B[0m\u001B]8;;\u001B\\\n\u001B[2;36m           \u001B[0m         \u001B[32mCriminal'\u001B[0m, \u001B[32m'Y'\u001B[0m: \u001B[32m' Optimistic'\u001B[0m, \u001B[32m'C'\u001B[0m: \u001B[32m' Criminal and  Optimistic'\u001B[0m\u001B[1m}\u001B[0m                                                               \u001B[2m             \u001B[0m\n",
      "text/html": "<pre style=\"white-space:pre;overflow-x:auto;line-height:normal;font-family:Menlo,'DejaVu Sans Mono',consolas,'Courier New',monospace\"><span style=\"color: #7fbfbf; text-decoration-color: #7fbfbf\">           </span><span style=\"color: #000080; text-decoration-color: #000080\">INFO    </span> 🖇️ Executing <span style=\"font-weight: bold\">&lt;</span><span style=\"color: #ff00ff; text-decoration-color: #ff00ff; font-weight: bold\">poem</span><span style=\"font-weight: bold\">&gt;</span> Link with input: <span style=\"font-weight: bold\">{</span><span style=\"color: #008000; text-decoration-color: #008000\">'A'</span>: <span style=\"color: #008000; text-decoration-color: #008000\">'A police officer'</span>, <span style=\"color: #008000; text-decoration-color: #008000\">'B'</span>: <span style=\"color: #008000; text-decoration-color: #008000\">'Hopeful'</span>, <span style=\"color: #008000; text-decoration-color: #008000\">'state'</span>: <span style=\"color: #008000; text-decoration-color: #008000\">' Criminal and  Optimistic'</span>, <span style=\"color: #008000; text-decoration-color: #008000\">'X'</span>: <span style=\"color: #008000; text-decoration-color: #008000\">' </span>    <a href=\"file:///Users/wouter.durnez/Documents/Repositories/test-ai-message-composer/fence/src/llm/chains.py\" target=\"_blank\"><span style=\"color: #7f7f7f; text-decoration-color: #7f7f7f\">chains.py</span></a><span style=\"color: #7f7f7f; text-decoration-color: #7f7f7f\">:</span><a href=\"file:///Users/wouter.durnez/Documents/Repositories/test-ai-message-composer/fence/src/llm/chains.py#214\" target=\"_blank\"><span style=\"color: #7f7f7f; text-decoration-color: #7f7f7f\">214</span></a>\n<span style=\"color: #7fbfbf; text-decoration-color: #7fbfbf\">           </span>         <span style=\"color: #008000; text-decoration-color: #008000\">Criminal'</span>, <span style=\"color: #008000; text-decoration-color: #008000\">'Y'</span>: <span style=\"color: #008000; text-decoration-color: #008000\">' Optimistic'</span>, <span style=\"color: #008000; text-decoration-color: #008000\">'C'</span>: <span style=\"color: #008000; text-decoration-color: #008000\">' Criminal and  Optimistic'</span><span style=\"font-weight: bold\">}</span>                                                               <span style=\"color: #7f7f7f; text-decoration-color: #7f7f7f\">             </span>\n</pre>\n"
     },
     "metadata": {},
     "output_type": "display_data"
    },
    {
     "data": {
      "text/plain": "\u001B[2;36m[14:52:41]\u001B[0m\u001B[2;36m \u001B[0m\u001B[34mINFO    \u001B[0m 🧐 Current state:  The Criminal Optimist                                                                                       \u001B]8;id=589777;file:///Users/wouter.durnez/Documents/Repositories/test-ai-message-composer/fence/src/llm/chains.py\u001B\\\u001B[2mchains.py\u001B[0m\u001B]8;;\u001B\\\u001B[2m:\u001B[0m\u001B]8;id=767521;file:///Users/wouter.durnez/Documents/Repositories/test-ai-message-composer/fence/src/llm/chains.py#270\u001B\\\u001B[2m270\u001B[0m\u001B]8;;\u001B\\\n\u001B[2;36m           \u001B[0m                                                                                                                                        \u001B[2m             \u001B[0m\n\u001B[2;36m           \u001B[0m         I've broken many laws without regret                                                                                           \u001B[2m             \u001B[0m\n\u001B[2;36m           \u001B[0m         My actions others surely won't forget                                                                                          \u001B[2m             \u001B[0m\n\u001B[2;36m           \u001B[0m         Yet still I dream that things will turn out right                                                                              \u001B[2m             \u001B[0m\n\u001B[2;36m           \u001B[0m         Hoping the judge will go easy in her might                                                                                     \u001B[2m             \u001B[0m\n\u001B[2;36m           \u001B[0m                                                                                                                                        \u001B[2m             \u001B[0m\n\u001B[2;36m           \u001B[0m         Behind these bars my mind begins to soar                                                                                       \u001B[2m             \u001B[0m\n\u001B[2;36m           \u001B[0m         Imagining the life that's in store                                                                                             \u001B[2m             \u001B[0m\n\u001B[2;36m           \u001B[0m         Once I've paid my debt to society                                                                                              \u001B[2m             \u001B[0m\n\u001B[2;36m           \u001B[0m         The future's full of hope and possibility                                                                                      \u001B[2m             \u001B[0m\n\u001B[2;36m           \u001B[0m                                                                                                                                        \u001B[2m             \u001B[0m\n\u001B[2;36m           \u001B[0m         My heart says this is just a minor slip                                                                                        \u001B[2m             \u001B[0m\n\u001B[2;36m           \u001B[0m         That I'll learn from it, then get back on the trip                                                                             \u001B[2m             \u001B[0m\n\u001B[2;36m           \u001B[0m         So I stay positive through each lonely night                                                                                   \u001B[2m             \u001B[0m\n\u001B[2;36m           \u001B[0m         Trusting better days will soon come into sight                                                                                 \u001B[2m             \u001B[0m\n\u001B[2;36m           \u001B[0m                                                                                                                                        \u001B[2m             \u001B[0m\n\u001B[2;36m           \u001B[0m         The criminal optimist, that's who I am                                                                                         \u001B[2m             \u001B[0m\n\u001B[2;36m           \u001B[0m         Believing in redemption as best I can                                                                                          \u001B[2m             \u001B[0m\n\u001B[2;36m           \u001B[0m         If I keep the faith that better's coming near                                                                                  \u001B[2m             \u001B[0m\n\u001B[2;36m           \u001B[0m         Then maybe hope is all a prisoner needs to hear                                                                                \u001B[2m             \u001B[0m\n",
      "text/html": "<pre style=\"white-space:pre;overflow-x:auto;line-height:normal;font-family:Menlo,'DejaVu Sans Mono',consolas,'Courier New',monospace\"><span style=\"color: #7fbfbf; text-decoration-color: #7fbfbf\">[14:52:41] </span><span style=\"color: #000080; text-decoration-color: #000080\">INFO    </span> 🧐 Current state:  The Criminal Optimist                                                                                       <a href=\"file:///Users/wouter.durnez/Documents/Repositories/test-ai-message-composer/fence/src/llm/chains.py\" target=\"_blank\"><span style=\"color: #7f7f7f; text-decoration-color: #7f7f7f\">chains.py</span></a><span style=\"color: #7f7f7f; text-decoration-color: #7f7f7f\">:</span><a href=\"file:///Users/wouter.durnez/Documents/Repositories/test-ai-message-composer/fence/src/llm/chains.py#270\" target=\"_blank\"><span style=\"color: #7f7f7f; text-decoration-color: #7f7f7f\">270</span></a>\n<span style=\"color: #7fbfbf; text-decoration-color: #7fbfbf\">           </span>                                                                                                                                        <span style=\"color: #7f7f7f; text-decoration-color: #7f7f7f\">             </span>\n<span style=\"color: #7fbfbf; text-decoration-color: #7fbfbf\">           </span>         I've broken many laws without regret                                                                                           <span style=\"color: #7f7f7f; text-decoration-color: #7f7f7f\">             </span>\n<span style=\"color: #7fbfbf; text-decoration-color: #7fbfbf\">           </span>         My actions others surely won't forget                                                                                          <span style=\"color: #7f7f7f; text-decoration-color: #7f7f7f\">             </span>\n<span style=\"color: #7fbfbf; text-decoration-color: #7fbfbf\">           </span>         Yet still I dream that things will turn out right                                                                              <span style=\"color: #7f7f7f; text-decoration-color: #7f7f7f\">             </span>\n<span style=\"color: #7fbfbf; text-decoration-color: #7fbfbf\">           </span>         Hoping the judge will go easy in her might                                                                                     <span style=\"color: #7f7f7f; text-decoration-color: #7f7f7f\">             </span>\n<span style=\"color: #7fbfbf; text-decoration-color: #7fbfbf\">           </span>                                                                                                                                        <span style=\"color: #7f7f7f; text-decoration-color: #7f7f7f\">             </span>\n<span style=\"color: #7fbfbf; text-decoration-color: #7fbfbf\">           </span>         Behind these bars my mind begins to soar                                                                                       <span style=\"color: #7f7f7f; text-decoration-color: #7f7f7f\">             </span>\n<span style=\"color: #7fbfbf; text-decoration-color: #7fbfbf\">           </span>         Imagining the life that's in store                                                                                             <span style=\"color: #7f7f7f; text-decoration-color: #7f7f7f\">             </span>\n<span style=\"color: #7fbfbf; text-decoration-color: #7fbfbf\">           </span>         Once I've paid my debt to society                                                                                              <span style=\"color: #7f7f7f; text-decoration-color: #7f7f7f\">             </span>\n<span style=\"color: #7fbfbf; text-decoration-color: #7fbfbf\">           </span>         The future's full of hope and possibility                                                                                      <span style=\"color: #7f7f7f; text-decoration-color: #7f7f7f\">             </span>\n<span style=\"color: #7fbfbf; text-decoration-color: #7fbfbf\">           </span>                                                                                                                                        <span style=\"color: #7f7f7f; text-decoration-color: #7f7f7f\">             </span>\n<span style=\"color: #7fbfbf; text-decoration-color: #7fbfbf\">           </span>         My heart says this is just a minor slip                                                                                        <span style=\"color: #7f7f7f; text-decoration-color: #7f7f7f\">             </span>\n<span style=\"color: #7fbfbf; text-decoration-color: #7fbfbf\">           </span>         That I'll learn from it, then get back on the trip                                                                             <span style=\"color: #7f7f7f; text-decoration-color: #7f7f7f\">             </span>\n<span style=\"color: #7fbfbf; text-decoration-color: #7fbfbf\">           </span>         So I stay positive through each lonely night                                                                                   <span style=\"color: #7f7f7f; text-decoration-color: #7f7f7f\">             </span>\n<span style=\"color: #7fbfbf; text-decoration-color: #7fbfbf\">           </span>         Trusting better days will soon come into sight                                                                                 <span style=\"color: #7f7f7f; text-decoration-color: #7f7f7f\">             </span>\n<span style=\"color: #7fbfbf; text-decoration-color: #7fbfbf\">           </span>                                                                                                                                        <span style=\"color: #7f7f7f; text-decoration-color: #7f7f7f\">             </span>\n<span style=\"color: #7fbfbf; text-decoration-color: #7fbfbf\">           </span>         The criminal optimist, that's who I am                                                                                         <span style=\"color: #7f7f7f; text-decoration-color: #7f7f7f\">             </span>\n<span style=\"color: #7fbfbf; text-decoration-color: #7fbfbf\">           </span>         Believing in redemption as best I can                                                                                          <span style=\"color: #7f7f7f; text-decoration-color: #7f7f7f\">             </span>\n<span style=\"color: #7fbfbf; text-decoration-color: #7fbfbf\">           </span>         If I keep the faith that better's coming near                                                                                  <span style=\"color: #7f7f7f; text-decoration-color: #7f7f7f\">             </span>\n<span style=\"color: #7fbfbf; text-decoration-color: #7fbfbf\">           </span>         Then maybe hope is all a prisoner needs to hear                                                                                <span style=\"color: #7f7f7f; text-decoration-color: #7f7f7f\">             </span>\n</pre>\n"
     },
     "metadata": {},
     "output_type": "display_data"
    },
    {
     "data": {
      "text/plain": "\u001B[2;36m          \u001B[0m\u001B[2;36m \u001B[0m\u001B[34mINFO    \u001B[0m 🔑 State keys: \u001B[1m[\u001B[0m\u001B[32m'A'\u001B[0m, \u001B[32m'B'\u001B[0m, \u001B[32m'state'\u001B[0m, \u001B[32m'X'\u001B[0m, \u001B[32m'Y'\u001B[0m, \u001B[32m'C'\u001B[0m, \u001B[32m'Z'\u001B[0m\u001B[1m]\u001B[0m \u001B[1m(\u001B[0madded: \u001B[1m[\u001B[0m\u001B[32m'Z'\u001B[0m\u001B[1m]\u001B[0m, removed: \u001B[1m[\u001B[0m\u001B[1m]\u001B[0m\u001B[1m)\u001B[0m                                             \u001B]8;id=543446;file:///Users/wouter.durnez/Documents/Repositories/test-ai-message-composer/fence/src/llm/chains.py\u001B\\\u001B[2mchains.py\u001B[0m\u001B]8;;\u001B\\\u001B[2m:\u001B[0m\u001B]8;id=408910;file:///Users/wouter.durnez/Documents/Repositories/test-ai-message-composer/fence/src/llm/chains.py#443\u001B\\\u001B[2m443\u001B[0m\u001B]8;;\u001B\\\n",
      "text/html": "<pre style=\"white-space:pre;overflow-x:auto;line-height:normal;font-family:Menlo,'DejaVu Sans Mono',consolas,'Courier New',monospace\"><span style=\"color: #7fbfbf; text-decoration-color: #7fbfbf\">           </span><span style=\"color: #000080; text-decoration-color: #000080\">INFO    </span> 🔑 State keys: <span style=\"font-weight: bold\">[</span><span style=\"color: #008000; text-decoration-color: #008000\">'A'</span>, <span style=\"color: #008000; text-decoration-color: #008000\">'B'</span>, <span style=\"color: #008000; text-decoration-color: #008000\">'state'</span>, <span style=\"color: #008000; text-decoration-color: #008000\">'X'</span>, <span style=\"color: #008000; text-decoration-color: #008000\">'Y'</span>, <span style=\"color: #008000; text-decoration-color: #008000\">'C'</span>, <span style=\"color: #008000; text-decoration-color: #008000\">'Z'</span><span style=\"font-weight: bold\">]</span> <span style=\"font-weight: bold\">(</span>added: <span style=\"font-weight: bold\">[</span><span style=\"color: #008000; text-decoration-color: #008000\">'Z'</span><span style=\"font-weight: bold\">]</span>, removed: <span style=\"font-weight: bold\">[])</span>                                             <a href=\"file:///Users/wouter.durnez/Documents/Repositories/test-ai-message-composer/fence/src/llm/chains.py\" target=\"_blank\"><span style=\"color: #7f7f7f; text-decoration-color: #7f7f7f\">chains.py</span></a><span style=\"color: #7f7f7f; text-decoration-color: #7f7f7f\">:</span><a href=\"file:///Users/wouter.durnez/Documents/Repositories/test-ai-message-composer/fence/src/llm/chains.py#443\" target=\"_blank\"><span style=\"color: #7f7f7f; text-decoration-color: #7f7f7f\">443</span></a>\n</pre>\n"
     },
     "metadata": {},
     "output_type": "display_data"
    },
    {
     "name": "stdout",
     "output_type": "stream",
     "text": [
      " The Criminal Optimist\n",
      "\n",
      "I've broken many laws without regret  \n",
      "My actions others surely won't forget\n",
      "Yet still I dream that things will turn out right\n",
      "Hoping the judge will go easy in her might  \n",
      "\n",
      "Behind these bars my mind begins to soar  \n",
      "Imagining the life that's in store  \n",
      "Once I've paid my debt to society\n",
      "The future's full of hope and possibility\n",
      "\n",
      "My heart says this is just a minor slip  \n",
      "That I'll learn from it, then get back on the trip\n",
      "So I stay positive through each lonely night  \n",
      "Trusting better days will soon come into sight\n",
      "\n",
      "The criminal optimist, that's who I am  \n",
      "Believing in redemption as best I can  \n",
      "If I keep the faith that better's coming near  \n",
      "Then maybe hope is all a prisoner needs to hear\n"
     ]
    }
   ],
   "source": [
    "# You can also build Chains, which are just a sequence of links. There are two types of chains: LinearChain and Chain. \n",
    "# LinearChain is a sequence of links, while Chain is a collection of links that are invoked in the right order based on the input and output keys for each Link.\n",
    "\n",
    "# This is a LinearChain #\n",
    "#########################\n",
    "\n",
    "# Build some links\n",
    "link_opposite = Link(\n",
    "    template=PromptTemplate(\n",
    "        \"What's the opposite of {{A}}? Reply with a few words max.\", [\"A\"]\n",
    "    ),\n",
    "    name = 'opposite',\n",
    "    output_key=\"X\",\n",
    ")\n",
    "link_superlative = Link(\n",
    "    template=PromptTemplate(\n",
    "        \"What's a synonym for {{B}}. Reply with one word.\", [\"B\"],\n",
    "    ),\n",
    "    name='superlative',\n",
    "    output_key=\"Y\",\n",
    ")\n",
    "link_poem = Link(\n",
    "    template=PromptTemplate(\n",
    "        \"Write a poem about {{state}}. Return only the poem, beginning with the title.\", [\"state\"]\n",
    "    ),\n",
    "    name='poem',\n",
    "    output_key=\"Z\",\n",
    ")\n",
    "\n",
    "# Now build a LinearChain\n",
    "linear_chain = LinearChain(llm=claude, links=[link_opposite, link_superlative, concat_link, link_poem])\n",
    "\n",
    "# Run it\n",
    "result = linear_chain.run(input_dict={\"A\": \"A police officer\", \"B\": \"Hopeful\"})\n",
    "\n",
    "# Get the output\n",
    "print(result['state'])"
   ],
   "metadata": {
    "collapsed": false,
    "ExecuteTime": {
     "end_time": "2024-01-22T13:52:41.905433Z",
     "start_time": "2024-01-22T13:52:37.806790Z"
    }
   },
   "id": "a86436d806745ef0",
   "execution_count": 51
  },
  {
   "cell_type": "code",
   "outputs": [
    {
     "data": {
      "text/plain": "[Link: superlative <['B']> -> <Y>,\n Link: opposite <['A']> -> <X>,\n Link: sentence <['X', 'Y', 'C']> -> <Z>]"
     },
     "execution_count": 52,
     "metadata": {},
     "output_type": "execute_result"
    }
   ],
   "source": [
    "# A LinearChain will take the presence of the 'state' key into account when invoking the next link.\n",
    "# A Chain will not. However, it has an extra 'feature' in the form of topological sorting. As long as a graph of links can be\n",
    "# extracted from the chain, and the input keys (that are not generated in the chain) are given, the chain will invoke the links in the right order.\n",
    "\n",
    "# This is a Chain #\n",
    "###################\n",
    "link_a = Link(\n",
    "    template=PromptTemplate(\n",
    "        \"Capitalize this word: {{A}}. Only respond with the capitalized version\", [\"A\"]\n",
    "    ),\n",
    "    name = 'opposite',\n",
    "    output_key=\"X\",\n",
    ")\n",
    "link_b = Link(\n",
    "    template=PromptTemplate(\n",
    "        \"What's a synonym for {{B}}. Reply with one word.\", [\"B\"],\n",
    "    ),\n",
    "    name='superlative',\n",
    "    output_key=\"Y\",\n",
    ")\n",
    "link_c = Link(\n",
    "    template=PromptTemplate(\n",
    "        \"Combine {{X}} and {{Y}} and {{C}} in a meaningful sentence.\", [\"X\", \"Y\", \"C\"]\n",
    "    ),\n",
    "    name='sentence',\n",
    "    output_key=\"Z\",\n",
    ")\n",
    "chain = Chain(llm=claude, links=[link_c, link_a, link_b]) # Note that we can pass the links in any order\n",
    "\n",
    "# This is the sorted graph of links\n",
    "chain._topological_sort()"
   ],
   "metadata": {
    "collapsed": false,
    "ExecuteTime": {
     "end_time": "2024-01-22T13:52:41.917590Z",
     "start_time": "2024-01-22T13:52:41.905797Z"
    }
   },
   "id": "6d1a3dc176bd9580",
   "execution_count": 52
  },
  {
   "cell_type": "code",
   "outputs": [
    {
     "name": "stdout",
     "output_type": "stream",
     "text": [
      "The following input keys are required: {'A', 'C', 'B'}. Missing: {'C'}\n"
     ]
    }
   ],
   "source": [
    "# Now we can run it\n",
    "try:\n",
    "    result = chain.run(input_dict={\"A\": \"A police officer\", \"B\": \"Hopeful\"})\n",
    "except Exception as e:\n",
    "    print(e)"
   ],
   "metadata": {
    "collapsed": false,
    "ExecuteTime": {
     "end_time": "2024-01-22T13:52:41.918262Z",
     "start_time": "2024-01-22T13:52:41.912917Z"
    }
   },
   "id": "f5fca5fd6f655679",
   "execution_count": 53
  },
  {
   "cell_type": "code",
   "outputs": [
    {
     "data": {
      "text/plain": "\u001B[2;36m          \u001B[0m\u001B[2;36m \u001B[0m\u001B[34mINFO    \u001B[0m 🖇️ Executing \u001B[1m<\u001B[0m\u001B[1;95msuperlative\u001B[0m\u001B[1m>\u001B[0m Link with input: \u001B[1m{\u001B[0m\u001B[32m'A'\u001B[0m: \u001B[32m'A police officer'\u001B[0m, \u001B[32m'B'\u001B[0m: \u001B[32m'Hopeful'\u001B[0m, \u001B[32m'C'\u001B[0m: \u001B[32m'a dog'\u001B[0m\u001B[1m}\u001B[0m                             \u001B]8;id=760752;file:///Users/wouter.durnez/Documents/Repositories/test-ai-message-composer/fence/src/llm/chains.py\u001B\\\u001B[2mchains.py\u001B[0m\u001B]8;;\u001B\\\u001B[2m:\u001B[0m\u001B]8;id=904713;file:///Users/wouter.durnez/Documents/Repositories/test-ai-message-composer/fence/src/llm/chains.py#214\u001B\\\u001B[2m214\u001B[0m\u001B]8;;\u001B\\\n",
      "text/html": "<pre style=\"white-space:pre;overflow-x:auto;line-height:normal;font-family:Menlo,'DejaVu Sans Mono',consolas,'Courier New',monospace\"><span style=\"color: #7fbfbf; text-decoration-color: #7fbfbf\">           </span><span style=\"color: #000080; text-decoration-color: #000080\">INFO    </span> 🖇️ Executing <span style=\"font-weight: bold\">&lt;</span><span style=\"color: #ff00ff; text-decoration-color: #ff00ff; font-weight: bold\">superlative</span><span style=\"font-weight: bold\">&gt;</span> Link with input: <span style=\"font-weight: bold\">{</span><span style=\"color: #008000; text-decoration-color: #008000\">'A'</span>: <span style=\"color: #008000; text-decoration-color: #008000\">'A police officer'</span>, <span style=\"color: #008000; text-decoration-color: #008000\">'B'</span>: <span style=\"color: #008000; text-decoration-color: #008000\">'Hopeful'</span>, <span style=\"color: #008000; text-decoration-color: #008000\">'C'</span>: <span style=\"color: #008000; text-decoration-color: #008000\">'a dog'</span><span style=\"font-weight: bold\">}</span>                             <a href=\"file:///Users/wouter.durnez/Documents/Repositories/test-ai-message-composer/fence/src/llm/chains.py\" target=\"_blank\"><span style=\"color: #7f7f7f; text-decoration-color: #7f7f7f\">chains.py</span></a><span style=\"color: #7f7f7f; text-decoration-color: #7f7f7f\">:</span><a href=\"file:///Users/wouter.durnez/Documents/Repositories/test-ai-message-composer/fence/src/llm/chains.py#214\" target=\"_blank\"><span style=\"color: #7f7f7f; text-decoration-color: #7f7f7f\">214</span></a>\n</pre>\n"
     },
     "metadata": {},
     "output_type": "display_data"
    },
    {
     "data": {
      "text/plain": "\u001B[2;36m[14:52:42]\u001B[0m\u001B[2;36m \u001B[0m\u001B[34mINFO    \u001B[0m 🧐 Current state:  Optimistic                                                                                                  \u001B]8;id=951253;file:///Users/wouter.durnez/Documents/Repositories/test-ai-message-composer/fence/src/llm/chains.py\u001B\\\u001B[2mchains.py\u001B[0m\u001B]8;;\u001B\\\u001B[2m:\u001B[0m\u001B]8;id=526451;file:///Users/wouter.durnez/Documents/Repositories/test-ai-message-composer/fence/src/llm/chains.py#270\u001B\\\u001B[2m270\u001B[0m\u001B]8;;\u001B\\\n",
      "text/html": "<pre style=\"white-space:pre;overflow-x:auto;line-height:normal;font-family:Menlo,'DejaVu Sans Mono',consolas,'Courier New',monospace\"><span style=\"color: #7fbfbf; text-decoration-color: #7fbfbf\">[14:52:42] </span><span style=\"color: #000080; text-decoration-color: #000080\">INFO    </span> 🧐 Current state:  Optimistic                                                                                                  <a href=\"file:///Users/wouter.durnez/Documents/Repositories/test-ai-message-composer/fence/src/llm/chains.py\" target=\"_blank\"><span style=\"color: #7f7f7f; text-decoration-color: #7f7f7f\">chains.py</span></a><span style=\"color: #7f7f7f; text-decoration-color: #7f7f7f\">:</span><a href=\"file:///Users/wouter.durnez/Documents/Repositories/test-ai-message-composer/fence/src/llm/chains.py#270\" target=\"_blank\"><span style=\"color: #7f7f7f; text-decoration-color: #7f7f7f\">270</span></a>\n</pre>\n"
     },
     "metadata": {},
     "output_type": "display_data"
    },
    {
     "data": {
      "text/plain": "\u001B[2;36m          \u001B[0m\u001B[2;36m \u001B[0m\u001B[34mINFO    \u001B[0m 🖇️ Executing \u001B[1m<\u001B[0m\u001B[1;95mopposite\u001B[0m\u001B[1m>\u001B[0m Link with input: \u001B[1m{\u001B[0m\u001B[32m'A'\u001B[0m: \u001B[32m'A police officer'\u001B[0m, \u001B[32m'B'\u001B[0m: \u001B[32m'Hopeful'\u001B[0m, \u001B[32m'C'\u001B[0m: \u001B[32m'a dog'\u001B[0m, \u001B[32m'state'\u001B[0m: \u001B[32m' Optimistic'\u001B[0m, \u001B[32m'Y'\u001B[0m: \u001B[32m'\u001B[0m \u001B]8;id=372240;file:///Users/wouter.durnez/Documents/Repositories/test-ai-message-composer/fence/src/llm/chains.py\u001B\\\u001B[2mchains.py\u001B[0m\u001B]8;;\u001B\\\u001B[2m:\u001B[0m\u001B]8;id=630778;file:///Users/wouter.durnez/Documents/Repositories/test-ai-message-composer/fence/src/llm/chains.py#214\u001B\\\u001B[2m214\u001B[0m\u001B]8;;\u001B\\\n\u001B[2;36m           \u001B[0m         \u001B[32mOptimistic'\u001B[0m\u001B[1m}\u001B[0m                                                                                                                   \u001B[2m             \u001B[0m\n",
      "text/html": "<pre style=\"white-space:pre;overflow-x:auto;line-height:normal;font-family:Menlo,'DejaVu Sans Mono',consolas,'Courier New',monospace\"><span style=\"color: #7fbfbf; text-decoration-color: #7fbfbf\">           </span><span style=\"color: #000080; text-decoration-color: #000080\">INFO    </span> 🖇️ Executing <span style=\"font-weight: bold\">&lt;</span><span style=\"color: #ff00ff; text-decoration-color: #ff00ff; font-weight: bold\">opposite</span><span style=\"font-weight: bold\">&gt;</span> Link with input: <span style=\"font-weight: bold\">{</span><span style=\"color: #008000; text-decoration-color: #008000\">'A'</span>: <span style=\"color: #008000; text-decoration-color: #008000\">'A police officer'</span>, <span style=\"color: #008000; text-decoration-color: #008000\">'B'</span>: <span style=\"color: #008000; text-decoration-color: #008000\">'Hopeful'</span>, <span style=\"color: #008000; text-decoration-color: #008000\">'C'</span>: <span style=\"color: #008000; text-decoration-color: #008000\">'a dog'</span>, <span style=\"color: #008000; text-decoration-color: #008000\">'state'</span>: <span style=\"color: #008000; text-decoration-color: #008000\">' Optimistic'</span>, <span style=\"color: #008000; text-decoration-color: #008000\">'Y'</span>: <span style=\"color: #008000; text-decoration-color: #008000\">'</span> <a href=\"file:///Users/wouter.durnez/Documents/Repositories/test-ai-message-composer/fence/src/llm/chains.py\" target=\"_blank\"><span style=\"color: #7f7f7f; text-decoration-color: #7f7f7f\">chains.py</span></a><span style=\"color: #7f7f7f; text-decoration-color: #7f7f7f\">:</span><a href=\"file:///Users/wouter.durnez/Documents/Repositories/test-ai-message-composer/fence/src/llm/chains.py#214\" target=\"_blank\"><span style=\"color: #7f7f7f; text-decoration-color: #7f7f7f\">214</span></a>\n<span style=\"color: #7fbfbf; text-decoration-color: #7fbfbf\">           </span>         <span style=\"color: #008000; text-decoration-color: #008000\">Optimistic'</span><span style=\"font-weight: bold\">}</span>                                                                                                                   <span style=\"color: #7f7f7f; text-decoration-color: #7f7f7f\">             </span>\n</pre>\n"
     },
     "metadata": {},
     "output_type": "display_data"
    },
    {
     "data": {
      "text/plain": "\u001B[2;36m          \u001B[0m\u001B[2;36m \u001B[0m\u001B[34mINFO    \u001B[0m 🧐 Current state:  A Police officer.                                                                                           \u001B]8;id=458972;file:///Users/wouter.durnez/Documents/Repositories/test-ai-message-composer/fence/src/llm/chains.py\u001B\\\u001B[2mchains.py\u001B[0m\u001B]8;;\u001B\\\u001B[2m:\u001B[0m\u001B]8;id=893433;file:///Users/wouter.durnez/Documents/Repositories/test-ai-message-composer/fence/src/llm/chains.py#270\u001B\\\u001B[2m270\u001B[0m\u001B]8;;\u001B\\\n",
      "text/html": "<pre style=\"white-space:pre;overflow-x:auto;line-height:normal;font-family:Menlo,'DejaVu Sans Mono',consolas,'Courier New',monospace\"><span style=\"color: #7fbfbf; text-decoration-color: #7fbfbf\">           </span><span style=\"color: #000080; text-decoration-color: #000080\">INFO    </span> 🧐 Current state:  A Police officer.                                                                                           <a href=\"file:///Users/wouter.durnez/Documents/Repositories/test-ai-message-composer/fence/src/llm/chains.py\" target=\"_blank\"><span style=\"color: #7f7f7f; text-decoration-color: #7f7f7f\">chains.py</span></a><span style=\"color: #7f7f7f; text-decoration-color: #7f7f7f\">:</span><a href=\"file:///Users/wouter.durnez/Documents/Repositories/test-ai-message-composer/fence/src/llm/chains.py#270\" target=\"_blank\"><span style=\"color: #7f7f7f; text-decoration-color: #7f7f7f\">270</span></a>\n</pre>\n"
     },
     "metadata": {},
     "output_type": "display_data"
    },
    {
     "data": {
      "text/plain": "\u001B[2;36m          \u001B[0m\u001B[2;36m \u001B[0m\u001B[34mINFO    \u001B[0m 🖇️ Executing \u001B[1m<\u001B[0m\u001B[1;95msentence\u001B[0m\u001B[1m>\u001B[0m Link with input: \u001B[1m{\u001B[0m\u001B[32m'A'\u001B[0m: \u001B[32m'A police officer'\u001B[0m, \u001B[32m'B'\u001B[0m: \u001B[32m'Hopeful'\u001B[0m, \u001B[32m'C'\u001B[0m: \u001B[32m'a dog'\u001B[0m, \u001B[32m'state'\u001B[0m: \u001B[32m' A Police officer.'\u001B[0m, \u001B]8;id=301208;file:///Users/wouter.durnez/Documents/Repositories/test-ai-message-composer/fence/src/llm/chains.py\u001B\\\u001B[2mchains.py\u001B[0m\u001B]8;;\u001B\\\u001B[2m:\u001B[0m\u001B]8;id=490973;file:///Users/wouter.durnez/Documents/Repositories/test-ai-message-composer/fence/src/llm/chains.py#214\u001B\\\u001B[2m214\u001B[0m\u001B]8;;\u001B\\\n\u001B[2;36m           \u001B[0m         \u001B[32m'Y'\u001B[0m: \u001B[32m' Optimistic'\u001B[0m, \u001B[32m'X'\u001B[0m: \u001B[32m' A Police officer.'\u001B[0m\u001B[1m}\u001B[0m                                                                                 \u001B[2m             \u001B[0m\n",
      "text/html": "<pre style=\"white-space:pre;overflow-x:auto;line-height:normal;font-family:Menlo,'DejaVu Sans Mono',consolas,'Courier New',monospace\"><span style=\"color: #7fbfbf; text-decoration-color: #7fbfbf\">           </span><span style=\"color: #000080; text-decoration-color: #000080\">INFO    </span> 🖇️ Executing <span style=\"font-weight: bold\">&lt;</span><span style=\"color: #ff00ff; text-decoration-color: #ff00ff; font-weight: bold\">sentence</span><span style=\"font-weight: bold\">&gt;</span> Link with input: <span style=\"font-weight: bold\">{</span><span style=\"color: #008000; text-decoration-color: #008000\">'A'</span>: <span style=\"color: #008000; text-decoration-color: #008000\">'A police officer'</span>, <span style=\"color: #008000; text-decoration-color: #008000\">'B'</span>: <span style=\"color: #008000; text-decoration-color: #008000\">'Hopeful'</span>, <span style=\"color: #008000; text-decoration-color: #008000\">'C'</span>: <span style=\"color: #008000; text-decoration-color: #008000\">'a dog'</span>, <span style=\"color: #008000; text-decoration-color: #008000\">'state'</span>: <span style=\"color: #008000; text-decoration-color: #008000\">' A Police officer.'</span>, <a href=\"file:///Users/wouter.durnez/Documents/Repositories/test-ai-message-composer/fence/src/llm/chains.py\" target=\"_blank\"><span style=\"color: #7f7f7f; text-decoration-color: #7f7f7f\">chains.py</span></a><span style=\"color: #7f7f7f; text-decoration-color: #7f7f7f\">:</span><a href=\"file:///Users/wouter.durnez/Documents/Repositories/test-ai-message-composer/fence/src/llm/chains.py#214\" target=\"_blank\"><span style=\"color: #7f7f7f; text-decoration-color: #7f7f7f\">214</span></a>\n<span style=\"color: #7fbfbf; text-decoration-color: #7fbfbf\">           </span>         <span style=\"color: #008000; text-decoration-color: #008000\">'Y'</span>: <span style=\"color: #008000; text-decoration-color: #008000\">' Optimistic'</span>, <span style=\"color: #008000; text-decoration-color: #008000\">'X'</span>: <span style=\"color: #008000; text-decoration-color: #008000\">' A Police officer.'</span><span style=\"font-weight: bold\">}</span>                                                                                 <span style=\"color: #7f7f7f; text-decoration-color: #7f7f7f\">             </span>\n</pre>\n"
     },
     "metadata": {},
     "output_type": "display_data"
    },
    {
     "data": {
      "text/plain": "\u001B[2;36m[14:52:43]\u001B[0m\u001B[2;36m \u001B[0m\u001B[34mINFO    \u001B[0m 🧐 Current state:  Here is a sentence combining those elements:                                                                \u001B]8;id=901567;file:///Users/wouter.durnez/Documents/Repositories/test-ai-message-composer/fence/src/llm/chains.py\u001B\\\u001B[2mchains.py\u001B[0m\u001B]8;;\u001B\\\u001B[2m:\u001B[0m\u001B]8;id=230759;file:///Users/wouter.durnez/Documents/Repositories/test-ai-message-composer/fence/src/llm/chains.py#270\u001B\\\u001B[2m270\u001B[0m\u001B]8;;\u001B\\\n\u001B[2;36m           \u001B[0m                                                                                                                                        \u001B[2m             \u001B[0m\n\u001B[2;36m           \u001B[0m         The optimistic police officer's dog always believed in him and helped brighten his day, even after difficult calls.            \u001B[2m             \u001B[0m\n",
      "text/html": "<pre style=\"white-space:pre;overflow-x:auto;line-height:normal;font-family:Menlo,'DejaVu Sans Mono',consolas,'Courier New',monospace\"><span style=\"color: #7fbfbf; text-decoration-color: #7fbfbf\">[14:52:43] </span><span style=\"color: #000080; text-decoration-color: #000080\">INFO    </span> 🧐 Current state:  Here is a sentence combining those elements:                                                                <a href=\"file:///Users/wouter.durnez/Documents/Repositories/test-ai-message-composer/fence/src/llm/chains.py\" target=\"_blank\"><span style=\"color: #7f7f7f; text-decoration-color: #7f7f7f\">chains.py</span></a><span style=\"color: #7f7f7f; text-decoration-color: #7f7f7f\">:</span><a href=\"file:///Users/wouter.durnez/Documents/Repositories/test-ai-message-composer/fence/src/llm/chains.py#270\" target=\"_blank\"><span style=\"color: #7f7f7f; text-decoration-color: #7f7f7f\">270</span></a>\n<span style=\"color: #7fbfbf; text-decoration-color: #7fbfbf\">           </span>                                                                                                                                        <span style=\"color: #7f7f7f; text-decoration-color: #7f7f7f\">             </span>\n<span style=\"color: #7fbfbf; text-decoration-color: #7fbfbf\">           </span>         The optimistic police officer's dog always believed in him and helped brighten his day, even after difficult calls.            <span style=\"color: #7f7f7f; text-decoration-color: #7f7f7f\">             </span>\n</pre>\n"
     },
     "metadata": {},
     "output_type": "display_data"
    }
   ],
   "source": [
    "# Woops, forgot something! There's no link that generates the 'C' key. We can pass it in though.\n",
    "result = chain.run(input_dict={\"A\": \"A police officer\", \"B\": \"Hopeful\", \"C\": \"a dog\"})"
   ],
   "metadata": {
    "collapsed": false,
    "ExecuteTime": {
     "end_time": "2024-01-22T13:52:43.104470Z",
     "start_time": "2024-01-22T13:52:41.917303Z"
    }
   },
   "id": "4dabac4f53177f1e",
   "execution_count": 54
  },
  {
   "cell_type": "code",
   "outputs": [
    {
     "name": "stdout",
     "output_type": "stream",
     "text": [
      "Cycle detected in the dependency graph.\n"
     ]
    }
   ],
   "source": [
    "# Cycles are not allowed\n",
    "link_up = Link(\n",
    "    template=PromptTemplate(\n",
    "        \"Capitalize this word: {{up}}. Only respond with the capitalized version\", [\"up\"]\n",
    "    ),\n",
    "    name = 'up',\n",
    "    output_key=\"down\",\n",
    ")\n",
    "link_b = Link(\n",
    "    template=PromptTemplate(\n",
    "        \"What's a synonym for {{down}}. Reply with one word.\", [\"down\"],\n",
    "    ),\n",
    "    name='down',\n",
    "    output_key=\"up\",\n",
    ")\n",
    "chain = Chain(llm=claude, links=[link_up, link_b])\n",
    "try:\n",
    "    chain._topological_sort()\n",
    "except Exception as e:\n",
    "    print(e)"
   ],
   "metadata": {
    "collapsed": false,
    "ExecuteTime": {
     "end_time": "2024-01-22T13:52:43.105157Z",
     "start_time": "2024-01-22T13:52:43.094494Z"
    }
   },
   "id": "fd6aa1cb2325cd41",
   "execution_count": 55
  },
  {
   "cell_type": "code",
   "outputs": [],
   "source": [],
   "metadata": {
    "collapsed": false,
    "ExecuteTime": {
     "end_time": "2024-01-22T13:52:43.105505Z",
     "start_time": "2024-01-22T13:52:43.096707Z"
    }
   },
   "id": "b3a8561144f1584c",
   "execution_count": 55
  }
 ],
 "metadata": {
  "kernelspec": {
   "display_name": "Python 3",
   "language": "python",
   "name": "python3"
  },
  "language_info": {
   "codemirror_mode": {
    "name": "ipython",
    "version": 2
   },
   "file_extension": ".py",
   "mimetype": "text/x-python",
   "name": "python",
   "nbconvert_exporter": "python",
   "pygments_lexer": "ipython2",
   "version": "2.7.6"
  }
 },
 "nbformat": 4,
 "nbformat_minor": 5
}
