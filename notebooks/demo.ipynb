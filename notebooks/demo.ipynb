{
 "cells": [
  {
   "cell_type": "markdown",
   "source": [
    "# 🤺 Fence demo\n",
    "\n",
    "This notebook demonstrates the use of various classes in this package. The core intent of this package is to provide a framework for interacting with language models in a way that is modular, extensible, and easy to use. The core classes are:\n",
    "- `PromptTemplate`: A template for a prompt that can be rendered with a dictionary of variables (or using keywords). It wraps around jinja2.Template, but adds some additional functionality.\n",
    "- `LLM`: A wrapper around a language model. \n",
    "- `Link`: Atomic LLM interaction wrapper. Takes in a PromptTemplate and a language model. It can be invoked with a dictionary of variables, and will return a dictionary of variables.\n",
    "- `TransformationLink`: A wrapper around a `function` that takes a dictionary of variables and returns a dictionary of variables. It can be invoked with a dictionary of variables, and will return a dictionary of variables.\n",
    "- `Chain`: A collection of links that are invoked in the right order based on the input and output keys for each Link.\n",
    "- `LinearChain`: A sequence of links that are invoked in the order they are passed in.\n",
    "\n",
    "Through these classes, we can interact with LLMs in varying degrees of complexity:\n",
    "1. Just call the model directly\n",
    "2. Use a `PromptTemplate` for reusability and abstraction\n",
    "3. Use a `Link` for atomic LLM interaction\n",
    "4. Use a `Chain` to execute a collection of `Links`\n",
    "\n",
    "Below, we'll go through each of these levels of complexity and provide examples.\n",
    "\n",
    "**Note** This notebook assumes you have access to AWS Bedrock, as we use Bedrock's Claude-instant model to fuel our LLM interactions."
   ],
   "metadata": {
    "collapsed": false
   },
   "id": "4e010e381f4d1bbe"
  },
  {
   "cell_type": "code",
   "outputs": [],
   "source": [
    "%load_ext autoreload\n",
    "from fence import Link, LLM, ClaudeInstantLLM, TransformationLink, Chain, LinearChain, PromptTemplate"
   ],
   "metadata": {
    "collapsed": true,
    "ExecuteTime": {
     "end_time": "2024-03-11T14:19:18.557409Z",
     "start_time": "2024-03-11T14:19:18.397773Z"
    }
   },
   "id": "initial_id",
   "execution_count": 1
  },
  {
   "cell_type": "markdown",
   "source": [
    "## ⚙️ Setting up"
   ],
   "metadata": {
    "collapsed": false
   },
   "id": "3ac87b524beb586b"
  },
  {
   "cell_type": "code",
   "outputs": [],
   "source": [
    "# Get our model\n",
    "claude = ClaudeInstantLLM(source='demo_notebook')"
   ],
   "metadata": {
    "collapsed": false,
    "ExecuteTime": {
     "end_time": "2024-03-11T14:19:18.760106Z",
     "start_time": "2024-03-11T14:19:18.560708Z"
    }
   },
   "id": "1a411b7c22ebd092",
   "execution_count": 2
  },
  {
   "cell_type": "markdown",
   "source": [
    "### 🪨 Level 1 - Just call the damn thing"
   ],
   "metadata": {
    "collapsed": false
   },
   "id": "efabe783b73b8ec7"
  },
  {
   "cell_type": "code",
   "outputs": [
    {
     "data": {
      "text/plain": "\" The sky appears blue because of Rayleigh scattering. This is when sunlight interacts with molecules in Earth's atmosphere, primarily nitrogen and oxygen. The short wavelengths of light, such as blue and violet, scatter more than the longer wavelengths such as red and infrared. This scattering process causes the blue wavelengths to be scattered all throughout the atmosphere and reach our eyes from all angles of the sky. The more scattered blue wavelengths predominate, giving the sky its blue color.\""
     },
     "execution_count": 3,
     "metadata": {},
     "output_type": "execute_result"
    }
   ],
   "source": [
    "# Use the invoke method to call the model\n",
    "claude.invoke('Why is the sky blue?')"
   ],
   "metadata": {
    "collapsed": false,
    "ExecuteTime": {
     "end_time": "2024-03-11T14:19:21.275195Z",
     "start_time": "2024-03-11T14:19:18.762229Z"
    }
   },
   "id": "950662b95a79575c",
   "execution_count": 3
  },
  {
   "cell_type": "code",
   "outputs": [
    {
     "data": {
      "text/plain": "\" The sky appears blue because of Rayleigh scattering. This is when sunlight interacts with molecules in Earth's atmosphere, primarily nitrogen and oxygen. The short wavelengths of light, such as blue and violet, scatter more than the longer wavelengths such as red and infrared. This scattering process causes the blue wavelengths to be scattered all throughout the atmosphere and reach our eyes from all angles of the sky. The more scattered blue light there is, the more blue the sky appears.\""
     },
     "execution_count": 4,
     "metadata": {},
     "output_type": "execute_result"
    }
   ],
   "source": [
    "# Just call the damn thing\n",
    "claude('Why is the sky blue?')"
   ],
   "metadata": {
    "collapsed": false,
    "ExecuteTime": {
     "end_time": "2024-03-11T14:19:22.896406Z",
     "start_time": "2024-03-11T14:19:21.257668Z"
    }
   },
   "id": "22c4da28c3c3d3b0",
   "execution_count": 4
  },
  {
   "cell_type": "markdown",
   "source": [
    "### 🔨 Level 2 - Use a PromptTemplate"
   ],
   "metadata": {
    "collapsed": false
   },
   "id": "632046188100875d"
  },
  {
   "cell_type": "code",
   "outputs": [
    {
     "name": "stdout",
     "output_type": "stream",
     "text": [
      "PromptTemplate(source=Why is the sky {{color}}?, input_variables=['color'])\n"
     ]
    }
   ],
   "source": [
    "# Initialize a prompt template\n",
    "prompt_template = PromptTemplate('Why is the sky {{color}}?', input_variables=['color'])\n",
    "print(prompt_template)"
   ],
   "metadata": {
    "collapsed": false,
    "ExecuteTime": {
     "end_time": "2024-03-11T14:19:22.904812Z",
     "start_time": "2024-03-11T14:19:22.898653Z"
    }
   },
   "id": "afe2b6d1d4078270",
   "execution_count": 5
  },
  {
   "cell_type": "code",
   "outputs": [
    {
     "name": "stdout",
     "output_type": "stream",
     "text": [
      "Why is the sky blue?\n",
      "Why is the sky red?\n",
      "Why is the sky blue?\n"
     ]
    }
   ],
   "source": [
    "# Render it with a dictionary\n",
    "print(prompt_template.render({'color': 'blue'}))\n",
    "\n",
    "# Render it with keyword arguments\n",
    "print(prompt_template.render(color='red'))\n",
    "\n",
    "# Input dict takes precedence over keyword arguments\n",
    "print(prompt_template.render(input_dict={'color': 'blue'}, color='red'))"
   ],
   "metadata": {
    "collapsed": false,
    "ExecuteTime": {
     "end_time": "2024-03-11T14:19:22.917237Z",
     "start_time": "2024-03-11T14:19:22.905484Z"
    }
   },
   "id": "9901374952217046",
   "execution_count": 6
  },
  {
   "cell_type": "code",
   "outputs": [
    {
     "name": "stdout",
     "output_type": "stream",
     "text": [
      "PromptTemplate(source=Why is the sky {{color}}? Why is the grass {{color}}? I like a dress with {{pattern}}., input_variables=['pattern', 'color'])\n",
      "Why is the sky blue? Why is the grass blue? I like a dress with polka dots.\n"
     ]
    }
   ],
   "source": [
    "# You can concatenate prompt templates, input variables are merged\n",
    "prompt_template_sky = PromptTemplate('Why is the sky {{color}}?', input_variables=['color'])\n",
    "prompt_template_grass = PromptTemplate('Why is the grass {{color}}?', input_variables=['color'])\n",
    "prompt_template_dress = PromptTemplate('I like a dress with {{pattern}}.', input_variables=['pattern'])\n",
    "combined_prompt_template = prompt_template_sky + prompt_template_grass + prompt_template_dress\n",
    "print(combined_prompt_template)\n",
    "print(combined_prompt_template.render({'color': 'blue', 'pattern': 'polka dots'}))"
   ],
   "metadata": {
    "collapsed": false,
    "ExecuteTime": {
     "end_time": "2024-03-11T14:19:22.917958Z",
     "start_time": "2024-03-11T14:19:22.909708Z"
    }
   },
   "id": "a5dca91633a69af",
   "execution_count": 7
  },
  {
   "cell_type": "code",
   "outputs": [
    {
     "name": "stdout",
     "output_type": "stream",
     "text": [
      "Why is the sky blue? FUNKY TOWN Why is the grass blue?\n"
     ]
    }
   ],
   "source": [
    "# You can customize the separator\n",
    "base_template = PromptTemplate('Why is the sky {{color}}?', input_variables=['color'], separator=' FUNKY TOWN ')\n",
    "additional_template = PromptTemplate('Why is the grass {{color}}?', input_variables=['color'])\n",
    "print((base_template + additional_template).render({'color': 'blue'}))"
   ],
   "metadata": {
    "collapsed": false,
    "ExecuteTime": {
     "end_time": "2024-03-11T14:19:22.918410Z",
     "start_time": "2024-03-11T14:19:22.913937Z"
    }
   },
   "id": "9d7766d8c7a53b12",
   "execution_count": 8
  },
  {
   "cell_type": "markdown",
   "source": [
    "### 🧠 Level 3 - Use Links (lol)\n",
    "\n",
    "What are Links? In this context, they represent atomic components of LLM interaction. That means they should be able to be strung together to form a Chain, although they can be used independently as well."
   ],
   "metadata": {
    "collapsed": false
   },
   "id": "8e5617e437fb30fc"
  },
  {
   "cell_type": "code",
   "outputs": [
    {
     "name": "stdout",
     "output_type": "stream",
     "text": [
      "Link: <['color']> -> <state>\n"
     ]
    }
   ],
   "source": [
    "# The simplest link is the Link class, which just takes a prompt template and a model\n",
    "link = Link(template=prompt_template, llm=claude)\n",
    "print(link)"
   ],
   "metadata": {
    "collapsed": false,
    "ExecuteTime": {
     "end_time": "2024-03-11T14:19:22.945222Z",
     "start_time": "2024-03-11T14:19:22.917257Z"
    }
   },
   "id": "219ef991de4352a6",
   "execution_count": 9
  },
  {
   "cell_type": "code",
   "outputs": [
    {
     "data": {
      "text/plain": "{'state': \" The sky appears blue because of Rayleigh scattering. This is when sunlight interacts with molecules in Earth's atmosphere, primarily nitrogen and oxygen. The short wavelengths of light, such as blue and violet, scatter more than the longer wavelengths such as red and infrared. This scattering process causes the blue wavelengths to be scattered all throughout the atmosphere and reach our eyes from all angles of the sky. The more scattered blue light there is, the more blue the sky appears.\"}"
     },
     "execution_count": 10,
     "metadata": {},
     "output_type": "execute_result"
    }
   ],
   "source": [
    "# Invoke it using the input_dict, NOT keyword arguments\n",
    "link(input_dict={'color': 'blue'}) # Or, equivalently, link.run(input_dict={'color': 'blue'})"
   ],
   "metadata": {
    "collapsed": false,
    "ExecuteTime": {
     "end_time": "2024-03-11T14:19:26.283038Z",
     "start_time": "2024-03-11T14:19:22.922762Z"
    }
   },
   "id": "3a1279bdd677c524",
   "execution_count": 10
  },
  {
   "cell_type": "code",
   "outputs": [
    {
     "data": {
      "text/plain": "{'state': \" The sky appears blue because of Rayleigh scattering. This is when sunlight interacts with molecules in Earth's atmosphere, primarily nitrogen and oxygen. The short wavelengths of light, such as blue and violet, scatter more than the longer wavelengths such as red and infrared. This scattering process causes the blue wavelengths to be scattered all throughout the atmosphere and reach our eyes from all angles of the sky. The more scattered blue light there is, the more blue the sky appears.\",\n 'intermediate': \" The sky appears blue because of Rayleigh scattering. This is when sunlight interacts with molecules in Earth's atmosphere, primarily nitrogen and oxygen. The short wavelengths of light, such as blue and violet, scatter more than the longer wavelengths such as red and infrared. This scattering process causes the blue wavelengths to be scattered all throughout the atmosphere and reach our eyes from all angles of the sky. The more scattered blue light there is, the more blue the sky appears.\"}"
     },
     "execution_count": 11,
     "metadata": {},
     "output_type": "execute_result"
    }
   ],
   "source": [
    "# By default, output is stored under 'state'. You can get a copy (e.g., for inspection of intermediate results) by passing a different output key\n",
    "link = Link(template=prompt_template, llm=claude, output_key='intermediate')\n",
    "link.run(input_dict={'color': 'blue'})"
   ],
   "metadata": {
    "collapsed": false,
    "ExecuteTime": {
     "end_time": "2024-03-11T14:19:28.317661Z",
     "start_time": "2024-03-11T14:19:26.280601Z"
    }
   },
   "id": "884bda0b4dca2512",
   "execution_count": 11
  },
  {
   "cell_type": "code",
   "outputs": [
    {
     "data": {
      "text/plain": "{'state': \" The sky appears blue because of Rayleigh scattering. This is when sunlight interacts with molecules in Earth's atmosphere, primarily nitrogen and oxygen. The short wavelengths of light, such as blue and violet, scatter more than the longer wavelengths such as red and infrared. This scattering process causes the blue wavelengths to be scattered all throughout the atmosphere and reach our eyes from every direction in the sky. The more scattered blue light entering our eyes makes the sky appear blue.\"}"
     },
     "execution_count": 12,
     "metadata": {},
     "output_type": "execute_result"
    }
   ],
   "source": [
    "# You can name your links for easier debugging in logs\n",
    "link = Link(template=prompt_template, llm=claude, name='sky')\n",
    "link.run(input_dict={'color': 'blue'})"
   ],
   "metadata": {
    "collapsed": false,
    "ExecuteTime": {
     "end_time": "2024-03-11T14:19:29.787786Z",
     "start_time": "2024-03-11T14:19:28.319675Z"
    }
   },
   "id": "52913f8c6dece54e",
   "execution_count": 12
  },
  {
   "cell_type": "code",
   "outputs": [
    {
     "data": {
      "text/plain": "{'state': 'Hello and World', 'C': 'Hello and World'}"
     },
     "execution_count": 13,
     "metadata": {},
     "output_type": "execute_result"
    }
   ],
   "source": [
    "# You can also build TransformationLinks, which take a function that transforms any input_dict into a specific output\n",
    "def concatenate(input: dict):\n",
    "    return f\"{input['X']} and {input['Y']}\"\n",
    "\n",
    "concat_link = TransformationLink(\n",
    "    input_keys=[\"X\", \"Y\"], function=concatenate, output_key=\"C\"\n",
    ")\n",
    "\n",
    "concat_link.run(input_dict={\"X\": \"Hello\", \"Y\": \"World\"})"
   ],
   "metadata": {
    "collapsed": false,
    "ExecuteTime": {
     "end_time": "2024-03-11T14:19:29.799690Z",
     "start_time": "2024-03-11T14:19:29.791272Z"
    }
   },
   "id": "460c06d5b33c6e87",
   "execution_count": 13
  },
  {
   "cell_type": "markdown",
   "source": [
    "### 🚀 Level 4 - Use Chains (lol again)"
   ],
   "metadata": {
    "collapsed": false
   },
   "id": "c83119613a5ecf54"
  },
  {
   "cell_type": "code",
   "outputs": [
    {
     "name": "stdout",
     "output_type": "stream",
     "text": [
      " The Criminal Optimist\n",
      "\n",
      "I've broken many laws without regret  \n",
      "My actions others surely won't forget\n",
      "Yet still I dream that things will turn out right\n",
      "Hoping the judge will go easy in her might  \n",
      "\n",
      "Behind these bars my mind can wander free   \n",
      "Imagining the life that's meant to be\n",
      "When I'm released I'll change my evil ways   \n",
      "Find an honest job to see me through my days\n",
      "\n",
      "A thief by trade but in my heart of hearts   \n",
      "I yearn for better things with all my arts  \n",
      "So lock me up if that's what you must do\n",
      "This criminal remains an optimist true\n"
     ]
    }
   ],
   "source": [
    "# You can also build Chains, which are just a sequence of links. There are two types of chains: LinearChain and Chain. \n",
    "# LinearChain is a sequence of links, while Chain is a collection of links that are invoked in the right order based on the input and output keys for each Link.\n",
    "\n",
    "# This is a LinearChain #\n",
    "#########################\n",
    "\n",
    "# Build some links\n",
    "link_opposite = Link(\n",
    "    template=PromptTemplate(\n",
    "        \"What's the opposite of {{A}}? Reply with a few words max.\", [\"A\"]\n",
    "    ),\n",
    "    name = 'opposite',\n",
    "    output_key=\"X\",\n",
    ")\n",
    "link_superlative = Link(\n",
    "    template=PromptTemplate(\n",
    "        \"What's a synonym for {{B}}. Reply with one word.\", [\"B\"],\n",
    "    ),\n",
    "    name='superlative',\n",
    "    output_key=\"Y\",\n",
    ")\n",
    "link_poem = Link(\n",
    "    template=PromptTemplate(\n",
    "        \"Write a poem about {{state}}. Return only the poem, beginning with the title.\", [\"state\"]\n",
    "    ),\n",
    "    name='poem',\n",
    "    output_key=\"Z\",\n",
    ")\n",
    "\n",
    "# Now build a LinearChain\n",
    "linear_chain = LinearChain(llm=claude, links=[link_opposite, link_superlative, concat_link, link_poem])\n",
    "\n",
    "# Run it\n",
    "result = linear_chain.run(input_dict={\"A\": \"A police officer\", \"B\": \"Hopeful\"})\n",
    "\n",
    "# Get the output\n",
    "print(result['state'])"
   ],
   "metadata": {
    "collapsed": false,
    "ExecuteTime": {
     "end_time": "2024-03-11T14:19:33.533708Z",
     "start_time": "2024-03-11T14:19:29.799302Z"
    }
   },
   "id": "a86436d806745ef0",
   "execution_count": 14
  },
  {
   "cell_type": "code",
   "outputs": [
    {
     "data": {
      "text/plain": "[Link: superlative <['B']> -> <Y>,\n Link: opposite <['A']> -> <X>,\n Link: sentence <['X', 'Y', 'C']> -> <Z>]"
     },
     "execution_count": 15,
     "metadata": {},
     "output_type": "execute_result"
    }
   ],
   "source": [
    "# A LinearChain will take the presence of the 'state' key into account when invoking the next link.\n",
    "# A Chain will not. However, it has an extra 'feature' in the form of topological sorting. As long as a graph of links can be\n",
    "# extracted from the chain, and the input keys (that are not generated in the chain) are given, the chain will invoke the links in the right order.\n",
    "\n",
    "# This is a Chain #\n",
    "###################\n",
    "link_a = Link(\n",
    "    template=PromptTemplate(\n",
    "        \"Capitalize this word: {{A}}. Only respond with the capitalized version\", [\"A\"]\n",
    "    ),\n",
    "    name = 'opposite',\n",
    "    output_key=\"X\",\n",
    ")\n",
    "link_b = Link(\n",
    "    template=PromptTemplate(\n",
    "        \"What's a synonym for {{B}}. Reply with one word.\", [\"B\"],\n",
    "    ),\n",
    "    name='superlative',\n",
    "    output_key=\"Y\",\n",
    ")\n",
    "link_c = Link(\n",
    "    template=PromptTemplate(\n",
    "        \"Combine {{X}} and {{Y}} and {{C}} in a meaningful sentence.\", [\"X\", \"Y\", \"C\"]\n",
    "    ),\n",
    "    name='sentence',\n",
    "    output_key=\"Z\",\n",
    ")\n",
    "chain = Chain(llm=claude, links=[link_c, link_a, link_b]) # Note that we can pass the links in any order\n",
    "\n",
    "# This is the sorted graph of links\n",
    "chain._topological_sort()"
   ],
   "metadata": {
    "collapsed": false,
    "ExecuteTime": {
     "end_time": "2024-03-11T14:19:33.546693Z",
     "start_time": "2024-03-11T14:19:33.538377Z"
    }
   },
   "id": "6d1a3dc176bd9580",
   "execution_count": 15
  },
  {
   "cell_type": "code",
   "outputs": [
    {
     "name": "stdout",
     "output_type": "stream",
     "text": [
      "The following input keys are required: {'B', 'C', 'A'}. Missing: {'C'}\n"
     ]
    }
   ],
   "source": [
    "# Now we can run it\n",
    "try:\n",
    "    result = chain.run(input_dict={\"A\": \"A police officer\", \"B\": \"Hopeful\"})\n",
    "except Exception as e:\n",
    "    print(e)"
   ],
   "metadata": {
    "collapsed": false,
    "ExecuteTime": {
     "end_time": "2024-03-11T14:19:33.547415Z",
     "start_time": "2024-03-11T14:19:33.542985Z"
    }
   },
   "id": "f5fca5fd6f655679",
   "execution_count": 16
  },
  {
   "cell_type": "code",
   "outputs": [
    {
     "name": "stdout",
     "output_type": "stream",
     "text": [
      " Here is a sentence combining those elements:\n",
      "\n",
      "The optimistic police officer's dog helped boost his spirits as he tried to see the positive side of even the worst calls.\n"
     ]
    }
   ],
   "source": [
    "# Woops, forgot something! There's no link that generates the 'C' key. We can pass it in though.\n",
    "result = chain.run(input_dict={\"A\": \"A police officer\", \"B\": \"Hopeful\", \"C\": \"a dog\"})\n",
    "print(result['state'])"
   ],
   "metadata": {
    "collapsed": false,
    "ExecuteTime": {
     "end_time": "2024-03-11T14:19:38.149548Z",
     "start_time": "2024-03-11T14:19:33.548517Z"
    }
   },
   "id": "4dabac4f53177f1e",
   "execution_count": 17
  },
  {
   "cell_type": "code",
   "outputs": [
    {
     "name": "stdout",
     "output_type": "stream",
     "text": [
      "Cycle detected in the dependency graph.\n"
     ]
    }
   ],
   "source": [
    "# Cycles are not allowed\n",
    "link_up = Link(\n",
    "    template=PromptTemplate(\n",
    "        \"Capitalize this word: {{up}}. Only respond with the capitalized version\", [\"up\"]\n",
    "    ),\n",
    "    name = 'up',\n",
    "    output_key=\"down\",\n",
    ")\n",
    "link_b = Link(\n",
    "    template=PromptTemplate(\n",
    "        \"What's a synonym for {{down}}. Reply with one word.\", [\"down\"],\n",
    "    ),\n",
    "    name='down',\n",
    "    output_key=\"up\",\n",
    ")\n",
    "chain = Chain(llm=claude, links=[link_up, link_b])\n",
    "try:\n",
    "    chain._topological_sort()\n",
    "except Exception as e:\n",
    "    print(e)"
   ],
   "metadata": {
    "collapsed": false,
    "ExecuteTime": {
     "end_time": "2024-03-11T14:19:38.155588Z",
     "start_time": "2024-03-11T14:19:38.151911Z"
    }
   },
   "id": "fd6aa1cb2325cd41",
   "execution_count": 18
  },
  {
   "cell_type": "code",
   "outputs": [],
   "source": [],
   "metadata": {
    "collapsed": false,
    "ExecuteTime": {
     "end_time": "2024-03-11T14:19:38.156961Z",
     "start_time": "2024-03-11T14:19:38.154752Z"
    }
   },
   "id": "b3a8561144f1584c",
   "execution_count": 18
  }
 ],
 "metadata": {
  "kernelspec": {
   "display_name": "Python 3",
   "language": "python",
   "name": "python3"
  },
  "language_info": {
   "codemirror_mode": {
    "name": "ipython",
    "version": 2
   },
   "file_extension": ".py",
   "mimetype": "text/x-python",
   "name": "python",
   "nbconvert_exporter": "python",
   "pygments_lexer": "ipython2",
   "version": "2.7.6"
  }
 },
 "nbformat": 4,
 "nbformat_minor": 5
}
