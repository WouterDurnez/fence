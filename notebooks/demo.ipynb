{
 "cells": [
  {
   "cell_type": "markdown",
   "source": [
    "# 🤺 Fence demo\n",
    "\n",
    "This notebook demonstrates the use of various classes in this package. "
   ],
   "metadata": {
    "collapsed": false
   },
   "id": "4e010e381f4d1bbe"
  },
  {
   "cell_type": "code",
   "outputs": [],
   "source": [
    "from fence import Link, LLM, ClaudeInstantLLM, TransformationLink, Chain, LinearChain, PromptTemplate"
   ],
   "metadata": {
    "collapsed": true,
    "ExecuteTime": {
     "end_time": "2024-01-22T13:49:06.397266Z",
     "start_time": "2024-01-22T13:49:06.369779Z"
    }
   },
   "id": "initial_id",
   "execution_count": 40
  },
  {
   "cell_type": "markdown",
   "source": [
    "## ⚙️ Setting up"
   ],
   "metadata": {
    "collapsed": false
   },
   "id": "3ac87b524beb586b"
  },
  {
   "cell_type": "code",
   "outputs": [],
   "source": [
    "# Get our model\n",
    "claude = ClaudeInstantLLM(source='demo_notebook')"
   ],
   "metadata": {
    "collapsed": false,
    "ExecuteTime": {
     "end_time": "2024-01-22T13:49:06.407494Z",
     "start_time": "2024-01-22T13:49:06.382385Z"
    }
   },
   "id": "1a411b7c22ebd092",
   "execution_count": 41
  },
  {
   "cell_type": "markdown",
   "source": [
    "### 🚀 Level 1 - Just call the damn thing"
   ],
   "metadata": {
    "collapsed": false
   },
   "id": "efabe783b73b8ec7"
  },
  {
   "cell_type": "code",
   "outputs": [
    {
     "data": {
      "text/plain": "\" The sky appears blue because of Rayleigh scattering. This is when sunlight interacts with molecules in Earth's atmosphere, primarily nitrogen and oxygen. The short wavelengths of light, such as blue and violet, scatter more than the longer wavelengths such as red and infrared. This scattering process causes the blue wavelengths to be scattered all throughout the atmosphere and reach our eyes from all angles of the sky. The more scattered blue light there is, the more blue the sky appears.\""
     },
     "execution_count": 42,
     "metadata": {},
     "output_type": "execute_result"
    }
   ],
   "source": [
    "# Use the invoke method to call the model\n",
    "claude.invoke('Why is the sky blue?')"
   ],
   "metadata": {
    "collapsed": false,
    "ExecuteTime": {
     "end_time": "2024-01-22T13:49:07.963631Z",
     "start_time": "2024-01-22T13:49:06.410538Z"
    }
   },
   "id": "950662b95a79575c",
   "execution_count": 42
  },
  {
   "cell_type": "code",
   "outputs": [
    {
     "data": {
      "text/plain": "\" The sky appears blue because of Rayleigh scattering. This is when sunlight interacts with molecules in Earth's atmosphere, primarily nitrogen and oxygen. The short wavelengths of light, such as blue and violet, scatter more than the longer wavelengths such as red and infrared. This scattering process causes the blue wavelengths to be scattered all throughout the atmosphere and reach our eyes from all angles of the sky. The more scattered blue light there is, the more blue the sky appears.\""
     },
     "execution_count": 43,
     "metadata": {},
     "output_type": "execute_result"
    }
   ],
   "source": [
    "# Just call the damn thing\n",
    "claude('Why is the sky blue?')"
   ],
   "metadata": {
    "collapsed": false,
    "ExecuteTime": {
     "end_time": "2024-01-22T13:49:09.299385Z",
     "start_time": "2024-01-22T13:49:07.959036Z"
    }
   },
   "id": "22c4da28c3c3d3b0",
   "execution_count": 43
  },
  {
   "cell_type": "markdown",
   "source": [
    "### 🚀🚀 Level 2 - Use a PromptTemplate"
   ],
   "metadata": {
    "collapsed": false
   },
   "id": "632046188100875d"
  },
  {
   "cell_type": "code",
   "outputs": [
    {
     "name": "stdout",
     "output_type": "stream",
     "text": [
      "PromptTemplate(source=Why is the sky {{color}}?, input_variables=['color'])\n"
     ]
    }
   ],
   "source": [
    "# Initialize a prompt template\n",
    "prompt_template = PromptTemplate('Why is the sky {{color}}?', input_variables=['color'])\n",
    "print(prompt_template)"
   ],
   "metadata": {
    "collapsed": false,
    "ExecuteTime": {
     "end_time": "2024-01-22T13:49:09.308135Z",
     "start_time": "2024-01-22T13:49:09.302212Z"
    }
   },
   "id": "afe2b6d1d4078270",
   "execution_count": 44
  },
  {
   "cell_type": "code",
   "outputs": [
    {
     "name": "stdout",
     "output_type": "stream",
     "text": [
      "Why is the sky blue?\n",
      "Why is the sky red?\n",
      "Why is the sky blue?\n"
     ]
    }
   ],
   "source": [
    "# Render it with a dictionary\n",
    "print(prompt_template.render({'color': 'blue'}))\n",
    "\n",
    "# Render it with keyword arguments\n",
    "print(prompt_template.render(color='red'))\n",
    "\n",
    "# Input dict takes precedence over keyword arguments\n",
    "print(prompt_template.render(input_dict={'color': 'blue'}, color='red'))"
   ],
   "metadata": {
    "collapsed": false,
    "ExecuteTime": {
     "end_time": "2024-01-22T13:49:09.316866Z",
     "start_time": "2024-01-22T13:49:09.309513Z"
    }
   },
   "id": "9901374952217046",
   "execution_count": 45
  },
  {
   "cell_type": "code",
   "outputs": [
    {
     "name": "stdout",
     "output_type": "stream",
     "text": [
      "PromptTemplate(source=Why is the sky {{color}}? Why is the grass {{color}}? I like a dress with {{pattern}}., input_variables=['color', 'pattern'])\n",
      "Why is the sky blue? Why is the grass blue? I like a dress with polka dots.\n"
     ]
    }
   ],
   "source": [
    "# You can concatenate prompt templates, input variables are merged\n",
    "prompt_template_sky = PromptTemplate('Why is the sky {{color}}?', input_variables=['color'])\n",
    "prompt_template_grass = PromptTemplate('Why is the grass {{color}}?', input_variables=['color'])\n",
    "prompt_template_dress = PromptTemplate('I like a dress with {{pattern}}.', input_variables=['pattern'])\n",
    "combined_prompt_template = prompt_template_sky + prompt_template_grass + prompt_template_dress\n",
    "print(combined_prompt_template)\n",
    "print(combined_prompt_template.render({'color': 'blue', 'pattern': 'polka dots'}))"
   ],
   "metadata": {
    "collapsed": false,
    "ExecuteTime": {
     "end_time": "2024-01-22T13:49:09.317562Z",
     "start_time": "2024-01-22T13:49:09.313575Z"
    }
   },
   "id": "a5dca91633a69af",
   "execution_count": 46
  },
  {
   "cell_type": "code",
   "outputs": [
    {
     "name": "stdout",
     "output_type": "stream",
     "text": [
      "Why is the sky blue? FUNKY TOWN Why is the grass blue?\n"
     ]
    }
   ],
   "source": [
    "# You can customize the separator\n",
    "base_template = PromptTemplate('Why is the sky {{color}}?', input_variables=['color'], separator=' FUNKY TOWN ')\n",
    "additional_template = PromptTemplate('Why is the grass {{color}}?', input_variables=['color'])\n",
    "print((base_template + additional_template).render({'color': 'blue'}))"
   ],
   "metadata": {
    "collapsed": false,
    "ExecuteTime": {
     "end_time": "2024-01-22T13:49:09.342644Z",
     "start_time": "2024-01-22T13:49:09.317867Z"
    }
   },
   "id": "9d7766d8c7a53b12",
   "execution_count": 47
  },
  {
   "cell_type": "markdown",
   "source": [
    "### 🚀🚀🚀 Level 3 - Use Links and Chains (lol)\n",
    "\n",
    "What are Links? In this context, they represent atomic components of LLM interaction. That means they should be able to be strung together to form a Chain, although they can be used independently as well."
   ],
   "metadata": {
    "collapsed": false
   },
   "id": "8e5617e437fb30fc"
  },
  {
   "cell_type": "code",
   "outputs": [
    {
     "name": "stdout",
     "output_type": "stream",
     "text": [
      "Link: <['color']> -> <state>\n"
     ]
    }
   ],
   "source": [
    "# The simplest link is the Link class, which just takes a prompt template and a model\n",
    "link = Link(template=prompt_template, llm=claude)\n",
    "print(link)"
   ],
   "metadata": {
    "collapsed": false,
    "ExecuteTime": {
     "end_time": "2024-01-22T13:49:09.343160Z",
     "start_time": "2024-01-22T13:49:09.320826Z"
    }
   },
   "id": "219ef991de4352a6",
   "execution_count": 48
  },
  {
   "cell_type": "code",
   "outputs": [
    {
     "data": {
      "text/plain": "\u001B[2;36m[14:49:09]\u001B[0m\u001B[2;36m \u001B[0m\u001B[34mINFO    \u001B[0m 🖇️ Executing Link: \u001B[3;35mNone\u001B[0m with input: \u001B[1m{\u001B[0m\u001B[32m'color'\u001B[0m: \u001B[32m'blue'\u001B[0m\u001B[1m}\u001B[0m                                                                           \u001B]8;id=285372;file:///Users/wouter.durnez/Documents/Repositories/test-ai-message-composer/fence/src/llm/chains.py\u001B\\\u001B[2mchains.py\u001B[0m\u001B]8;;\u001B\\\u001B[2m:\u001B[0m\u001B]8;id=737062;file:///Users/wouter.durnez/Documents/Repositories/test-ai-message-composer/fence/src/llm/chains.py#214\u001B\\\u001B[2m214\u001B[0m\u001B]8;;\u001B\\\n",
      "text/html": "<pre style=\"white-space:pre;overflow-x:auto;line-height:normal;font-family:Menlo,'DejaVu Sans Mono',consolas,'Courier New',monospace\"><span style=\"color: #7fbfbf; text-decoration-color: #7fbfbf\">[14:49:09] </span><span style=\"color: #000080; text-decoration-color: #000080\">INFO    </span> 🖇️ Executing Link: <span style=\"color: #800080; text-decoration-color: #800080; font-style: italic\">None</span> with input: <span style=\"font-weight: bold\">{</span><span style=\"color: #008000; text-decoration-color: #008000\">'color'</span>: <span style=\"color: #008000; text-decoration-color: #008000\">'blue'</span><span style=\"font-weight: bold\">}</span>                                                                           <a href=\"file:///Users/wouter.durnez/Documents/Repositories/test-ai-message-composer/fence/src/llm/chains.py\" target=\"_blank\"><span style=\"color: #7f7f7f; text-decoration-color: #7f7f7f\">chains.py</span></a><span style=\"color: #7f7f7f; text-decoration-color: #7f7f7f\">:</span><a href=\"file:///Users/wouter.durnez/Documents/Repositories/test-ai-message-composer/fence/src/llm/chains.py#214\" target=\"_blank\"><span style=\"color: #7f7f7f; text-decoration-color: #7f7f7f\">214</span></a>\n</pre>\n"
     },
     "metadata": {},
     "output_type": "display_data"
    },
    {
     "data": {
      "text/plain": "\u001B[2;36m[14:49:10]\u001B[0m\u001B[2;36m \u001B[0m\u001B[34mINFO    \u001B[0m 🧐 Current state:  The sky appears blue because of Rayleigh scattering. This is when sunlight interacts with molecules in      \u001B]8;id=563465;file:///Users/wouter.durnez/Documents/Repositories/test-ai-message-composer/fence/src/llm/chains.py\u001B\\\u001B[2mchains.py\u001B[0m\u001B]8;;\u001B\\\u001B[2m:\u001B[0m\u001B]8;id=475083;file:///Users/wouter.durnez/Documents/Repositories/test-ai-message-composer/fence/src/llm/chains.py#270\u001B\\\u001B[2m270\u001B[0m\u001B]8;;\u001B\\\n\u001B[2;36m           \u001B[0m         Earth's atmosphere, primarily nitrogen and oxygen. The short wavelengths of light, such as blue and violet, scatter more than  \u001B[2m             \u001B[0m\n\u001B[2;36m           \u001B[0m         the longer wavelengths such as red and infrared. This scattering process causes the blue wavelengths to be scattered all       \u001B[2m             \u001B[0m\n\u001B[2;36m           \u001B[0m         throughout the atmosphere and reach our eyes from all angles of the sky. The more scattered blue light there is, the more blue \u001B[2m             \u001B[0m\n\u001B[2;36m           \u001B[0m         the sky appears.                                                                                                               \u001B[2m             \u001B[0m\n",
      "text/html": "<pre style=\"white-space:pre;overflow-x:auto;line-height:normal;font-family:Menlo,'DejaVu Sans Mono',consolas,'Courier New',monospace\"><span style=\"color: #7fbfbf; text-decoration-color: #7fbfbf\">[14:49:10] </span><span style=\"color: #000080; text-decoration-color: #000080\">INFO    </span> 🧐 Current state:  The sky appears blue because of Rayleigh scattering. This is when sunlight interacts with molecules in      <a href=\"file:///Users/wouter.durnez/Documents/Repositories/test-ai-message-composer/fence/src/llm/chains.py\" target=\"_blank\"><span style=\"color: #7f7f7f; text-decoration-color: #7f7f7f\">chains.py</span></a><span style=\"color: #7f7f7f; text-decoration-color: #7f7f7f\">:</span><a href=\"file:///Users/wouter.durnez/Documents/Repositories/test-ai-message-composer/fence/src/llm/chains.py#270\" target=\"_blank\"><span style=\"color: #7f7f7f; text-decoration-color: #7f7f7f\">270</span></a>\n<span style=\"color: #7fbfbf; text-decoration-color: #7fbfbf\">           </span>         Earth's atmosphere, primarily nitrogen and oxygen. The short wavelengths of light, such as blue and violet, scatter more than  <span style=\"color: #7f7f7f; text-decoration-color: #7f7f7f\">             </span>\n<span style=\"color: #7fbfbf; text-decoration-color: #7fbfbf\">           </span>         the longer wavelengths such as red and infrared. This scattering process causes the blue wavelengths to be scattered all       <span style=\"color: #7f7f7f; text-decoration-color: #7f7f7f\">             </span>\n<span style=\"color: #7fbfbf; text-decoration-color: #7fbfbf\">           </span>         throughout the atmosphere and reach our eyes from all angles of the sky. The more scattered blue light there is, the more blue <span style=\"color: #7f7f7f; text-decoration-color: #7f7f7f\">             </span>\n<span style=\"color: #7fbfbf; text-decoration-color: #7fbfbf\">           </span>         the sky appears.                                                                                                               <span style=\"color: #7f7f7f; text-decoration-color: #7f7f7f\">             </span>\n</pre>\n"
     },
     "metadata": {},
     "output_type": "display_data"
    },
    {
     "data": {
      "text/plain": "{'state': \" The sky appears blue because of Rayleigh scattering. This is when sunlight interacts with molecules in Earth's atmosphere, primarily nitrogen and oxygen. The short wavelengths of light, such as blue and violet, scatter more than the longer wavelengths such as red and infrared. This scattering process causes the blue wavelengths to be scattered all throughout the atmosphere and reach our eyes from all angles of the sky. The more scattered blue light there is, the more blue the sky appears.\"}"
     },
     "execution_count": 49,
     "metadata": {},
     "output_type": "execute_result"
    }
   ],
   "source": [
    "# Invoke it using the input_dict, NOT keyword arguments\n",
    "link(input_dict={'color': 'blue'}) # Or, equivalently, link.run(input_dict={'color': 'blue'})"
   ],
   "metadata": {
    "collapsed": false,
    "ExecuteTime": {
     "end_time": "2024-01-22T13:49:10.594555Z",
     "start_time": "2024-01-22T13:49:09.324833Z"
    }
   },
   "id": "3a1279bdd677c524",
   "execution_count": 49
  },
  {
   "cell_type": "code",
   "outputs": [
    {
     "data": {
      "text/plain": "\u001B[2;36m          \u001B[0m\u001B[2;36m \u001B[0m\u001B[34mINFO    \u001B[0m 🖇️ Executing Link: \u001B[3;35mNone\u001B[0m with input: \u001B[1m{\u001B[0m\u001B[32m'color'\u001B[0m: \u001B[32m'blue'\u001B[0m\u001B[1m}\u001B[0m                                                                           \u001B]8;id=604175;file:///Users/wouter.durnez/Documents/Repositories/test-ai-message-composer/fence/src/llm/chains.py\u001B\\\u001B[2mchains.py\u001B[0m\u001B]8;;\u001B\\\u001B[2m:\u001B[0m\u001B]8;id=704188;file:///Users/wouter.durnez/Documents/Repositories/test-ai-message-composer/fence/src/llm/chains.py#214\u001B\\\u001B[2m214\u001B[0m\u001B]8;;\u001B\\\n",
      "text/html": "<pre style=\"white-space:pre;overflow-x:auto;line-height:normal;font-family:Menlo,'DejaVu Sans Mono',consolas,'Courier New',monospace\"><span style=\"color: #7fbfbf; text-decoration-color: #7fbfbf\">           </span><span style=\"color: #000080; text-decoration-color: #000080\">INFO    </span> 🖇️ Executing Link: <span style=\"color: #800080; text-decoration-color: #800080; font-style: italic\">None</span> with input: <span style=\"font-weight: bold\">{</span><span style=\"color: #008000; text-decoration-color: #008000\">'color'</span>: <span style=\"color: #008000; text-decoration-color: #008000\">'blue'</span><span style=\"font-weight: bold\">}</span>                                                                           <a href=\"file:///Users/wouter.durnez/Documents/Repositories/test-ai-message-composer/fence/src/llm/chains.py\" target=\"_blank\"><span style=\"color: #7f7f7f; text-decoration-color: #7f7f7f\">chains.py</span></a><span style=\"color: #7f7f7f; text-decoration-color: #7f7f7f\">:</span><a href=\"file:///Users/wouter.durnez/Documents/Repositories/test-ai-message-composer/fence/src/llm/chains.py#214\" target=\"_blank\"><span style=\"color: #7f7f7f; text-decoration-color: #7f7f7f\">214</span></a>\n</pre>\n"
     },
     "metadata": {},
     "output_type": "display_data"
    },
    {
     "data": {
      "text/plain": "\u001B[2;36m[14:49:11]\u001B[0m\u001B[2;36m \u001B[0m\u001B[34mINFO    \u001B[0m 🧐 Current state:  The sky appears blue because of Rayleigh scattering. This is when sunlight interacts with molecules in      \u001B]8;id=914281;file:///Users/wouter.durnez/Documents/Repositories/test-ai-message-composer/fence/src/llm/chains.py\u001B\\\u001B[2mchains.py\u001B[0m\u001B]8;;\u001B\\\u001B[2m:\u001B[0m\u001B]8;id=415675;file:///Users/wouter.durnez/Documents/Repositories/test-ai-message-composer/fence/src/llm/chains.py#270\u001B\\\u001B[2m270\u001B[0m\u001B]8;;\u001B\\\n\u001B[2;36m           \u001B[0m         Earth's atmosphere, primarily nitrogen and oxygen. The short wavelengths of light, such as blue and violet, scatter more than  \u001B[2m             \u001B[0m\n\u001B[2;36m           \u001B[0m         the longer wavelengths such as red and infrared. This scattering process causes the blue wavelengths to be scattered all       \u001B[2m             \u001B[0m\n\u001B[2;36m           \u001B[0m         throughout the atmosphere and reach our eyes from all angles of the sky. The more scattered blue light there is, the more blue \u001B[2m             \u001B[0m\n\u001B[2;36m           \u001B[0m         the sky appears.                                                                                                               \u001B[2m             \u001B[0m\n",
      "text/html": "<pre style=\"white-space:pre;overflow-x:auto;line-height:normal;font-family:Menlo,'DejaVu Sans Mono',consolas,'Courier New',monospace\"><span style=\"color: #7fbfbf; text-decoration-color: #7fbfbf\">[14:49:11] </span><span style=\"color: #000080; text-decoration-color: #000080\">INFO    </span> 🧐 Current state:  The sky appears blue because of Rayleigh scattering. This is when sunlight interacts with molecules in      <a href=\"file:///Users/wouter.durnez/Documents/Repositories/test-ai-message-composer/fence/src/llm/chains.py\" target=\"_blank\"><span style=\"color: #7f7f7f; text-decoration-color: #7f7f7f\">chains.py</span></a><span style=\"color: #7f7f7f; text-decoration-color: #7f7f7f\">:</span><a href=\"file:///Users/wouter.durnez/Documents/Repositories/test-ai-message-composer/fence/src/llm/chains.py#270\" target=\"_blank\"><span style=\"color: #7f7f7f; text-decoration-color: #7f7f7f\">270</span></a>\n<span style=\"color: #7fbfbf; text-decoration-color: #7fbfbf\">           </span>         Earth's atmosphere, primarily nitrogen and oxygen. The short wavelengths of light, such as blue and violet, scatter more than  <span style=\"color: #7f7f7f; text-decoration-color: #7f7f7f\">             </span>\n<span style=\"color: #7fbfbf; text-decoration-color: #7fbfbf\">           </span>         the longer wavelengths such as red and infrared. This scattering process causes the blue wavelengths to be scattered all       <span style=\"color: #7f7f7f; text-decoration-color: #7f7f7f\">             </span>\n<span style=\"color: #7fbfbf; text-decoration-color: #7fbfbf\">           </span>         throughout the atmosphere and reach our eyes from all angles of the sky. The more scattered blue light there is, the more blue <span style=\"color: #7f7f7f; text-decoration-color: #7f7f7f\">             </span>\n<span style=\"color: #7fbfbf; text-decoration-color: #7fbfbf\">           </span>         the sky appears.                                                                                                               <span style=\"color: #7f7f7f; text-decoration-color: #7f7f7f\">             </span>\n</pre>\n"
     },
     "metadata": {},
     "output_type": "display_data"
    },
    {
     "data": {
      "text/plain": "{'state': \" The sky appears blue because of Rayleigh scattering. This is when sunlight interacts with molecules in Earth's atmosphere, primarily nitrogen and oxygen. The short wavelengths of light, such as blue and violet, scatter more than the longer wavelengths such as red and infrared. This scattering process causes the blue wavelengths to be scattered all throughout the atmosphere and reach our eyes from all angles of the sky. The more scattered blue light there is, the more blue the sky appears.\",\n 'intermediate': \" The sky appears blue because of Rayleigh scattering. This is when sunlight interacts with molecules in Earth's atmosphere, primarily nitrogen and oxygen. The short wavelengths of light, such as blue and violet, scatter more than the longer wavelengths such as red and infrared. This scattering process causes the blue wavelengths to be scattered all throughout the atmosphere and reach our eyes from all angles of the sky. The more scattered blue light there is, the more blue the sky appears.\"}"
     },
     "execution_count": 50,
     "metadata": {},
     "output_type": "execute_result"
    }
   ],
   "source": [
    "# By default, output is stored under 'state'. You can get a copy (e.g., for inspection of intermediate results) by passing a different output key\n",
    "link = Link(template=prompt_template, llm=claude, output_key='intermediate')\n",
    "link.run(input_dict={'color': 'blue'})"
   ],
   "metadata": {
    "collapsed": false,
    "ExecuteTime": {
     "end_time": "2024-01-22T13:49:11.917424Z",
     "start_time": "2024-01-22T13:49:10.596636Z"
    }
   },
   "id": "884bda0b4dca2512",
   "execution_count": 50
  },
  {
   "cell_type": "code",
   "outputs": [
    {
     "data": {
      "text/plain": "\u001B[2;36m          \u001B[0m\u001B[2;36m \u001B[0m\u001B[34mINFO    \u001B[0m 🖇️ Executing Link: sky with input: \u001B[1m{\u001B[0m\u001B[32m'color'\u001B[0m: \u001B[32m'blue'\u001B[0m\u001B[1m}\u001B[0m                                                                            \u001B]8;id=599583;file:///Users/wouter.durnez/Documents/Repositories/test-ai-message-composer/fence/src/llm/chains.py\u001B\\\u001B[2mchains.py\u001B[0m\u001B]8;;\u001B\\\u001B[2m:\u001B[0m\u001B]8;id=325118;file:///Users/wouter.durnez/Documents/Repositories/test-ai-message-composer/fence/src/llm/chains.py#214\u001B\\\u001B[2m214\u001B[0m\u001B]8;;\u001B\\\n",
      "text/html": "<pre style=\"white-space:pre;overflow-x:auto;line-height:normal;font-family:Menlo,'DejaVu Sans Mono',consolas,'Courier New',monospace\"><span style=\"color: #7fbfbf; text-decoration-color: #7fbfbf\">           </span><span style=\"color: #000080; text-decoration-color: #000080\">INFO    </span> 🖇️ Executing Link: sky with input: <span style=\"font-weight: bold\">{</span><span style=\"color: #008000; text-decoration-color: #008000\">'color'</span>: <span style=\"color: #008000; text-decoration-color: #008000\">'blue'</span><span style=\"font-weight: bold\">}</span>                                                                            <a href=\"file:///Users/wouter.durnez/Documents/Repositories/test-ai-message-composer/fence/src/llm/chains.py\" target=\"_blank\"><span style=\"color: #7f7f7f; text-decoration-color: #7f7f7f\">chains.py</span></a><span style=\"color: #7f7f7f; text-decoration-color: #7f7f7f\">:</span><a href=\"file:///Users/wouter.durnez/Documents/Repositories/test-ai-message-composer/fence/src/llm/chains.py#214\" target=\"_blank\"><span style=\"color: #7f7f7f; text-decoration-color: #7f7f7f\">214</span></a>\n</pre>\n"
     },
     "metadata": {},
     "output_type": "display_data"
    },
    {
     "data": {
      "text/plain": "\u001B[2;36m[14:49:13]\u001B[0m\u001B[2;36m \u001B[0m\u001B[34mINFO    \u001B[0m 🧐 Current state:  The sky appears blue because of Rayleigh scattering. This is when sunlight interacts with molecules in      \u001B]8;id=368092;file:///Users/wouter.durnez/Documents/Repositories/test-ai-message-composer/fence/src/llm/chains.py\u001B\\\u001B[2mchains.py\u001B[0m\u001B]8;;\u001B\\\u001B[2m:\u001B[0m\u001B]8;id=268065;file:///Users/wouter.durnez/Documents/Repositories/test-ai-message-composer/fence/src/llm/chains.py#270\u001B\\\u001B[2m270\u001B[0m\u001B]8;;\u001B\\\n\u001B[2;36m           \u001B[0m         Earth's atmosphere, primarily nitrogen and oxygen. The short wavelengths of light, such as blue and violet, scatter more than  \u001B[2m             \u001B[0m\n\u001B[2;36m           \u001B[0m         the longer wavelengths such as red and infrared. This scattering process causes the blue wavelengths to be scattered all       \u001B[2m             \u001B[0m\n\u001B[2;36m           \u001B[0m         throughout the atmosphere and reach our eyes from all angles of the sky. The more scattered blue light there is, the more blue \u001B[2m             \u001B[0m\n\u001B[2;36m           \u001B[0m         the sky appears.                                                                                                               \u001B[2m             \u001B[0m\n",
      "text/html": "<pre style=\"white-space:pre;overflow-x:auto;line-height:normal;font-family:Menlo,'DejaVu Sans Mono',consolas,'Courier New',monospace\"><span style=\"color: #7fbfbf; text-decoration-color: #7fbfbf\">[14:49:13] </span><span style=\"color: #000080; text-decoration-color: #000080\">INFO    </span> 🧐 Current state:  The sky appears blue because of Rayleigh scattering. This is when sunlight interacts with molecules in      <a href=\"file:///Users/wouter.durnez/Documents/Repositories/test-ai-message-composer/fence/src/llm/chains.py\" target=\"_blank\"><span style=\"color: #7f7f7f; text-decoration-color: #7f7f7f\">chains.py</span></a><span style=\"color: #7f7f7f; text-decoration-color: #7f7f7f\">:</span><a href=\"file:///Users/wouter.durnez/Documents/Repositories/test-ai-message-composer/fence/src/llm/chains.py#270\" target=\"_blank\"><span style=\"color: #7f7f7f; text-decoration-color: #7f7f7f\">270</span></a>\n<span style=\"color: #7fbfbf; text-decoration-color: #7fbfbf\">           </span>         Earth's atmosphere, primarily nitrogen and oxygen. The short wavelengths of light, such as blue and violet, scatter more than  <span style=\"color: #7f7f7f; text-decoration-color: #7f7f7f\">             </span>\n<span style=\"color: #7fbfbf; text-decoration-color: #7fbfbf\">           </span>         the longer wavelengths such as red and infrared. This scattering process causes the blue wavelengths to be scattered all       <span style=\"color: #7f7f7f; text-decoration-color: #7f7f7f\">             </span>\n<span style=\"color: #7fbfbf; text-decoration-color: #7fbfbf\">           </span>         throughout the atmosphere and reach our eyes from all angles of the sky. The more scattered blue light there is, the more blue <span style=\"color: #7f7f7f; text-decoration-color: #7f7f7f\">             </span>\n<span style=\"color: #7fbfbf; text-decoration-color: #7fbfbf\">           </span>         the sky appears.                                                                                                               <span style=\"color: #7f7f7f; text-decoration-color: #7f7f7f\">             </span>\n</pre>\n"
     },
     "metadata": {},
     "output_type": "display_data"
    },
    {
     "data": {
      "text/plain": "{'state': \" The sky appears blue because of Rayleigh scattering. This is when sunlight interacts with molecules in Earth's atmosphere, primarily nitrogen and oxygen. The short wavelengths of light, such as blue and violet, scatter more than the longer wavelengths such as red and infrared. This scattering process causes the blue wavelengths to be scattered all throughout the atmosphere and reach our eyes from all angles of the sky. The more scattered blue light there is, the more blue the sky appears.\"}"
     },
     "execution_count": 51,
     "metadata": {},
     "output_type": "execute_result"
    }
   ],
   "source": [
    "# You can name your links for easier debugging in logs\n",
    "link = Link(template=prompt_template, llm=claude, name='sky')\n",
    "link.run(input_dict={'color': 'blue'})"
   ],
   "metadata": {
    "collapsed": false,
    "ExecuteTime": {
     "end_time": "2024-01-22T13:49:13.194055Z",
     "start_time": "2024-01-22T13:49:11.920461Z"
    }
   },
   "id": "52913f8c6dece54e",
   "execution_count": 51
  },
  {
   "cell_type": "code",
   "outputs": [
    {
     "data": {
      "text/plain": "{'state': 'Hello and World', 'C': 'Hello and World'}"
     },
     "execution_count": 52,
     "metadata": {},
     "output_type": "execute_result"
    }
   ],
   "source": [
    "# You can also build TransformationLinks, which take a function that transforms any input_dict into a specific output\n",
    "def concatenate(x, y):\n",
    "    return f\"{x} and {y}\"\n",
    "\n",
    "concat_link = TransformationLink(\n",
    "    input_keys=[\"X\", \"Y\"], function=concatenate, output_key=\"C\"\n",
    ")\n",
    "\n",
    "concat_link.run(input_dict={\"X\": \"Hello\", \"Y\": \"World\"})"
   ],
   "metadata": {
    "collapsed": false,
    "ExecuteTime": {
     "end_time": "2024-01-22T13:49:13.194523Z",
     "start_time": "2024-01-22T13:49:13.184302Z"
    }
   },
   "id": "460c06d5b33c6e87",
   "execution_count": 52
  },
  {
   "cell_type": "code",
   "outputs": [
    {
     "data": {
      "text/plain": "\u001B[2;36m          \u001B[0m\u001B[2;36m \u001B[0m\u001B[34mINFO    \u001B[0m 🖇️ Executing Link: opposite with input: \u001B[1m{\u001B[0m\u001B[32m'A'\u001B[0m: \u001B[32m'A police officer'\u001B[0m, \u001B[32m'B'\u001B[0m: \u001B[32m'Hopeful'\u001B[0m\u001B[1m}\u001B[0m                                               \u001B]8;id=576515;file:///Users/wouter.durnez/Documents/Repositories/test-ai-message-composer/fence/src/llm/chains.py\u001B\\\u001B[2mchains.py\u001B[0m\u001B]8;;\u001B\\\u001B[2m:\u001B[0m\u001B]8;id=258906;file:///Users/wouter.durnez/Documents/Repositories/test-ai-message-composer/fence/src/llm/chains.py#214\u001B\\\u001B[2m214\u001B[0m\u001B]8;;\u001B\\\n",
      "text/html": "<pre style=\"white-space:pre;overflow-x:auto;line-height:normal;font-family:Menlo,'DejaVu Sans Mono',consolas,'Courier New',monospace\"><span style=\"color: #7fbfbf; text-decoration-color: #7fbfbf\">           </span><span style=\"color: #000080; text-decoration-color: #000080\">INFO    </span> 🖇️ Executing Link: opposite with input: <span style=\"font-weight: bold\">{</span><span style=\"color: #008000; text-decoration-color: #008000\">'A'</span>: <span style=\"color: #008000; text-decoration-color: #008000\">'A police officer'</span>, <span style=\"color: #008000; text-decoration-color: #008000\">'B'</span>: <span style=\"color: #008000; text-decoration-color: #008000\">'Hopeful'</span><span style=\"font-weight: bold\">}</span>                                               <a href=\"file:///Users/wouter.durnez/Documents/Repositories/test-ai-message-composer/fence/src/llm/chains.py\" target=\"_blank\"><span style=\"color: #7f7f7f; text-decoration-color: #7f7f7f\">chains.py</span></a><span style=\"color: #7f7f7f; text-decoration-color: #7f7f7f\">:</span><a href=\"file:///Users/wouter.durnez/Documents/Repositories/test-ai-message-composer/fence/src/llm/chains.py#214\" target=\"_blank\"><span style=\"color: #7f7f7f; text-decoration-color: #7f7f7f\">214</span></a>\n</pre>\n"
     },
     "metadata": {},
     "output_type": "display_data"
    },
    {
     "data": {
      "text/plain": "\u001B[2;36m          \u001B[0m\u001B[2;36m \u001B[0m\u001B[34mINFO    \u001B[0m 🧐 Current state:  Criminal.                                                                                                   \u001B]8;id=859934;file:///Users/wouter.durnez/Documents/Repositories/test-ai-message-composer/fence/src/llm/chains.py\u001B\\\u001B[2mchains.py\u001B[0m\u001B]8;;\u001B\\\u001B[2m:\u001B[0m\u001B]8;id=225521;file:///Users/wouter.durnez/Documents/Repositories/test-ai-message-composer/fence/src/llm/chains.py#270\u001B\\\u001B[2m270\u001B[0m\u001B]8;;\u001B\\\n",
      "text/html": "<pre style=\"white-space:pre;overflow-x:auto;line-height:normal;font-family:Menlo,'DejaVu Sans Mono',consolas,'Courier New',monospace\"><span style=\"color: #7fbfbf; text-decoration-color: #7fbfbf\">           </span><span style=\"color: #000080; text-decoration-color: #000080\">INFO    </span> 🧐 Current state:  Criminal.                                                                                                   <a href=\"file:///Users/wouter.durnez/Documents/Repositories/test-ai-message-composer/fence/src/llm/chains.py\" target=\"_blank\"><span style=\"color: #7f7f7f; text-decoration-color: #7f7f7f\">chains.py</span></a><span style=\"color: #7f7f7f; text-decoration-color: #7f7f7f\">:</span><a href=\"file:///Users/wouter.durnez/Documents/Repositories/test-ai-message-composer/fence/src/llm/chains.py#270\" target=\"_blank\"><span style=\"color: #7f7f7f; text-decoration-color: #7f7f7f\">270</span></a>\n</pre>\n"
     },
     "metadata": {},
     "output_type": "display_data"
    },
    {
     "data": {
      "text/plain": "\u001B[2;36m          \u001B[0m\u001B[2;36m \u001B[0m\u001B[34mINFO    \u001B[0m 🔑 State keys: \u001B[1m[\u001B[0m\u001B[32m'A'\u001B[0m, \u001B[32m'B'\u001B[0m, \u001B[32m'state'\u001B[0m, \u001B[32m'X'\u001B[0m\u001B[1m]\u001B[0m \u001B[1m(\u001B[0madded: \u001B[1m[\u001B[0m\u001B[32m'state'\u001B[0m, \u001B[32m'X'\u001B[0m\u001B[1m]\u001B[0m, removed: \u001B[1m[\u001B[0m\u001B[1m]\u001B[0m\u001B[1m)\u001B[0m                                                   \u001B]8;id=555430;file:///Users/wouter.durnez/Documents/Repositories/test-ai-message-composer/fence/src/llm/chains.py\u001B\\\u001B[2mchains.py\u001B[0m\u001B]8;;\u001B\\\u001B[2m:\u001B[0m\u001B]8;id=610819;file:///Users/wouter.durnez/Documents/Repositories/test-ai-message-composer/fence/src/llm/chains.py#443\u001B\\\u001B[2m443\u001B[0m\u001B]8;;\u001B\\\n",
      "text/html": "<pre style=\"white-space:pre;overflow-x:auto;line-height:normal;font-family:Menlo,'DejaVu Sans Mono',consolas,'Courier New',monospace\"><span style=\"color: #7fbfbf; text-decoration-color: #7fbfbf\">           </span><span style=\"color: #000080; text-decoration-color: #000080\">INFO    </span> 🔑 State keys: <span style=\"font-weight: bold\">[</span><span style=\"color: #008000; text-decoration-color: #008000\">'A'</span>, <span style=\"color: #008000; text-decoration-color: #008000\">'B'</span>, <span style=\"color: #008000; text-decoration-color: #008000\">'state'</span>, <span style=\"color: #008000; text-decoration-color: #008000\">'X'</span><span style=\"font-weight: bold\">]</span> <span style=\"font-weight: bold\">(</span>added: <span style=\"font-weight: bold\">[</span><span style=\"color: #008000; text-decoration-color: #008000\">'state'</span>, <span style=\"color: #008000; text-decoration-color: #008000\">'X'</span><span style=\"font-weight: bold\">]</span>, removed: <span style=\"font-weight: bold\">[])</span>                                                   <a href=\"file:///Users/wouter.durnez/Documents/Repositories/test-ai-message-composer/fence/src/llm/chains.py\" target=\"_blank\"><span style=\"color: #7f7f7f; text-decoration-color: #7f7f7f\">chains.py</span></a><span style=\"color: #7f7f7f; text-decoration-color: #7f7f7f\">:</span><a href=\"file:///Users/wouter.durnez/Documents/Repositories/test-ai-message-composer/fence/src/llm/chains.py#443\" target=\"_blank\"><span style=\"color: #7f7f7f; text-decoration-color: #7f7f7f\">443</span></a>\n</pre>\n"
     },
     "metadata": {},
     "output_type": "display_data"
    },
    {
     "data": {
      "text/plain": "\u001B[2;36m          \u001B[0m\u001B[2;36m \u001B[0m\u001B[34mINFO    \u001B[0m 🖇️ Executing Link: superlative with input: \u001B[1m{\u001B[0m\u001B[32m'A'\u001B[0m: \u001B[32m'A police officer'\u001B[0m, \u001B[32m'B'\u001B[0m: \u001B[32m'Hopeful'\u001B[0m, \u001B[32m'state'\u001B[0m: \u001B[32m' Criminal.'\u001B[0m, \u001B[32m'X'\u001B[0m: \u001B[32m' Criminal.'\u001B[0m\u001B[1m}\u001B[0m  \u001B]8;id=16943;file:///Users/wouter.durnez/Documents/Repositories/test-ai-message-composer/fence/src/llm/chains.py\u001B\\\u001B[2mchains.py\u001B[0m\u001B]8;;\u001B\\\u001B[2m:\u001B[0m\u001B]8;id=666104;file:///Users/wouter.durnez/Documents/Repositories/test-ai-message-composer/fence/src/llm/chains.py#214\u001B\\\u001B[2m214\u001B[0m\u001B]8;;\u001B\\\n",
      "text/html": "<pre style=\"white-space:pre;overflow-x:auto;line-height:normal;font-family:Menlo,'DejaVu Sans Mono',consolas,'Courier New',monospace\"><span style=\"color: #7fbfbf; text-decoration-color: #7fbfbf\">           </span><span style=\"color: #000080; text-decoration-color: #000080\">INFO    </span> 🖇️ Executing Link: superlative with input: <span style=\"font-weight: bold\">{</span><span style=\"color: #008000; text-decoration-color: #008000\">'A'</span>: <span style=\"color: #008000; text-decoration-color: #008000\">'A police officer'</span>, <span style=\"color: #008000; text-decoration-color: #008000\">'B'</span>: <span style=\"color: #008000; text-decoration-color: #008000\">'Hopeful'</span>, <span style=\"color: #008000; text-decoration-color: #008000\">'state'</span>: <span style=\"color: #008000; text-decoration-color: #008000\">' Criminal.'</span>, <span style=\"color: #008000; text-decoration-color: #008000\">'X'</span>: <span style=\"color: #008000; text-decoration-color: #008000\">' Criminal.'</span><span style=\"font-weight: bold\">}</span>  <a href=\"file:///Users/wouter.durnez/Documents/Repositories/test-ai-message-composer/fence/src/llm/chains.py\" target=\"_blank\"><span style=\"color: #7f7f7f; text-decoration-color: #7f7f7f\">chains.py</span></a><span style=\"color: #7f7f7f; text-decoration-color: #7f7f7f\">:</span><a href=\"file:///Users/wouter.durnez/Documents/Repositories/test-ai-message-composer/fence/src/llm/chains.py#214\" target=\"_blank\"><span style=\"color: #7f7f7f; text-decoration-color: #7f7f7f\">214</span></a>\n</pre>\n"
     },
     "metadata": {},
     "output_type": "display_data"
    },
    {
     "data": {
      "text/plain": "\u001B[2;36m          \u001B[0m\u001B[2;36m \u001B[0m\u001B[34mINFO    \u001B[0m 🧐 Current state:  Optimistic                                                                                                  \u001B]8;id=914466;file:///Users/wouter.durnez/Documents/Repositories/test-ai-message-composer/fence/src/llm/chains.py\u001B\\\u001B[2mchains.py\u001B[0m\u001B]8;;\u001B\\\u001B[2m:\u001B[0m\u001B]8;id=376147;file:///Users/wouter.durnez/Documents/Repositories/test-ai-message-composer/fence/src/llm/chains.py#270\u001B\\\u001B[2m270\u001B[0m\u001B]8;;\u001B\\\n",
      "text/html": "<pre style=\"white-space:pre;overflow-x:auto;line-height:normal;font-family:Menlo,'DejaVu Sans Mono',consolas,'Courier New',monospace\"><span style=\"color: #7fbfbf; text-decoration-color: #7fbfbf\">           </span><span style=\"color: #000080; text-decoration-color: #000080\">INFO    </span> 🧐 Current state:  Optimistic                                                                                                  <a href=\"file:///Users/wouter.durnez/Documents/Repositories/test-ai-message-composer/fence/src/llm/chains.py\" target=\"_blank\"><span style=\"color: #7f7f7f; text-decoration-color: #7f7f7f\">chains.py</span></a><span style=\"color: #7f7f7f; text-decoration-color: #7f7f7f\">:</span><a href=\"file:///Users/wouter.durnez/Documents/Repositories/test-ai-message-composer/fence/src/llm/chains.py#270\" target=\"_blank\"><span style=\"color: #7f7f7f; text-decoration-color: #7f7f7f\">270</span></a>\n</pre>\n"
     },
     "metadata": {},
     "output_type": "display_data"
    },
    {
     "data": {
      "text/plain": "\u001B[2;36m          \u001B[0m\u001B[2;36m \u001B[0m\u001B[34mINFO    \u001B[0m 🔑 State keys: \u001B[1m[\u001B[0m\u001B[32m'A'\u001B[0m, \u001B[32m'B'\u001B[0m, \u001B[32m'state'\u001B[0m, \u001B[32m'X'\u001B[0m, \u001B[32m'Y'\u001B[0m\u001B[1m]\u001B[0m \u001B[1m(\u001B[0madded: \u001B[1m[\u001B[0m\u001B[32m'Y'\u001B[0m\u001B[1m]\u001B[0m, removed: \u001B[1m[\u001B[0m\u001B[1m]\u001B[0m\u001B[1m)\u001B[0m                                                       \u001B]8;id=190408;file:///Users/wouter.durnez/Documents/Repositories/test-ai-message-composer/fence/src/llm/chains.py\u001B\\\u001B[2mchains.py\u001B[0m\u001B]8;;\u001B\\\u001B[2m:\u001B[0m\u001B]8;id=521530;file:///Users/wouter.durnez/Documents/Repositories/test-ai-message-composer/fence/src/llm/chains.py#443\u001B\\\u001B[2m443\u001B[0m\u001B]8;;\u001B\\\n",
      "text/html": "<pre style=\"white-space:pre;overflow-x:auto;line-height:normal;font-family:Menlo,'DejaVu Sans Mono',consolas,'Courier New',monospace\"><span style=\"color: #7fbfbf; text-decoration-color: #7fbfbf\">           </span><span style=\"color: #000080; text-decoration-color: #000080\">INFO    </span> 🔑 State keys: <span style=\"font-weight: bold\">[</span><span style=\"color: #008000; text-decoration-color: #008000\">'A'</span>, <span style=\"color: #008000; text-decoration-color: #008000\">'B'</span>, <span style=\"color: #008000; text-decoration-color: #008000\">'state'</span>, <span style=\"color: #008000; text-decoration-color: #008000\">'X'</span>, <span style=\"color: #008000; text-decoration-color: #008000\">'Y'</span><span style=\"font-weight: bold\">]</span> <span style=\"font-weight: bold\">(</span>added: <span style=\"font-weight: bold\">[</span><span style=\"color: #008000; text-decoration-color: #008000\">'Y'</span><span style=\"font-weight: bold\">]</span>, removed: <span style=\"font-weight: bold\">[])</span>                                                       <a href=\"file:///Users/wouter.durnez/Documents/Repositories/test-ai-message-composer/fence/src/llm/chains.py\" target=\"_blank\"><span style=\"color: #7f7f7f; text-decoration-color: #7f7f7f\">chains.py</span></a><span style=\"color: #7f7f7f; text-decoration-color: #7f7f7f\">:</span><a href=\"file:///Users/wouter.durnez/Documents/Repositories/test-ai-message-composer/fence/src/llm/chains.py#443\" target=\"_blank\"><span style=\"color: #7f7f7f; text-decoration-color: #7f7f7f\">443</span></a>\n</pre>\n"
     },
     "metadata": {},
     "output_type": "display_data"
    },
    {
     "data": {
      "text/plain": "\u001B[2;36m          \u001B[0m\u001B[2;36m \u001B[0m\u001B[34mINFO    \u001B[0m 🔑 State keys: \u001B[1m[\u001B[0m\u001B[32m'A'\u001B[0m, \u001B[32m'B'\u001B[0m, \u001B[32m'state'\u001B[0m, \u001B[32m'X'\u001B[0m, \u001B[32m'Y'\u001B[0m, \u001B[32m'C'\u001B[0m\u001B[1m]\u001B[0m \u001B[1m(\u001B[0madded: \u001B[1m[\u001B[0m\u001B[32m'C'\u001B[0m\u001B[1m]\u001B[0m, removed: \u001B[1m[\u001B[0m\u001B[1m]\u001B[0m\u001B[1m)\u001B[0m                                                  \u001B]8;id=371917;file:///Users/wouter.durnez/Documents/Repositories/test-ai-message-composer/fence/src/llm/chains.py\u001B\\\u001B[2mchains.py\u001B[0m\u001B]8;;\u001B\\\u001B[2m:\u001B[0m\u001B]8;id=165703;file:///Users/wouter.durnez/Documents/Repositories/test-ai-message-composer/fence/src/llm/chains.py#443\u001B\\\u001B[2m443\u001B[0m\u001B]8;;\u001B\\\n",
      "text/html": "<pre style=\"white-space:pre;overflow-x:auto;line-height:normal;font-family:Menlo,'DejaVu Sans Mono',consolas,'Courier New',monospace\"><span style=\"color: #7fbfbf; text-decoration-color: #7fbfbf\">           </span><span style=\"color: #000080; text-decoration-color: #000080\">INFO    </span> 🔑 State keys: <span style=\"font-weight: bold\">[</span><span style=\"color: #008000; text-decoration-color: #008000\">'A'</span>, <span style=\"color: #008000; text-decoration-color: #008000\">'B'</span>, <span style=\"color: #008000; text-decoration-color: #008000\">'state'</span>, <span style=\"color: #008000; text-decoration-color: #008000\">'X'</span>, <span style=\"color: #008000; text-decoration-color: #008000\">'Y'</span>, <span style=\"color: #008000; text-decoration-color: #008000\">'C'</span><span style=\"font-weight: bold\">]</span> <span style=\"font-weight: bold\">(</span>added: <span style=\"font-weight: bold\">[</span><span style=\"color: #008000; text-decoration-color: #008000\">'C'</span><span style=\"font-weight: bold\">]</span>, removed: <span style=\"font-weight: bold\">[])</span>                                                  <a href=\"file:///Users/wouter.durnez/Documents/Repositories/test-ai-message-composer/fence/src/llm/chains.py\" target=\"_blank\"><span style=\"color: #7f7f7f; text-decoration-color: #7f7f7f\">chains.py</span></a><span style=\"color: #7f7f7f; text-decoration-color: #7f7f7f\">:</span><a href=\"file:///Users/wouter.durnez/Documents/Repositories/test-ai-message-composer/fence/src/llm/chains.py#443\" target=\"_blank\"><span style=\"color: #7f7f7f; text-decoration-color: #7f7f7f\">443</span></a>\n</pre>\n"
     },
     "metadata": {},
     "output_type": "display_data"
    },
    {
     "data": {
      "text/plain": "\u001B[2;36m          \u001B[0m\u001B[2;36m \u001B[0m\u001B[34mINFO    \u001B[0m 🖇️ Executing Link: poem with input: \u001B[1m{\u001B[0m\u001B[32m'A'\u001B[0m: \u001B[32m'A police officer'\u001B[0m, \u001B[32m'B'\u001B[0m: \u001B[32m'Hopeful'\u001B[0m, \u001B[32m'state'\u001B[0m: \u001B[32m' Criminal. and  Optimistic'\u001B[0m, \u001B[32m'X'\u001B[0m: \u001B[32m' \u001B[0m    \u001B]8;id=903141;file:///Users/wouter.durnez/Documents/Repositories/test-ai-message-composer/fence/src/llm/chains.py\u001B\\\u001B[2mchains.py\u001B[0m\u001B]8;;\u001B\\\u001B[2m:\u001B[0m\u001B]8;id=3826;file:///Users/wouter.durnez/Documents/Repositories/test-ai-message-composer/fence/src/llm/chains.py#214\u001B\\\u001B[2m214\u001B[0m\u001B]8;;\u001B\\\n\u001B[2;36m           \u001B[0m         \u001B[32mCriminal.'\u001B[0m, \u001B[32m'Y'\u001B[0m: \u001B[32m' Optimistic'\u001B[0m, \u001B[32m'C'\u001B[0m: \u001B[32m' Criminal. and  Optimistic'\u001B[0m\u001B[1m}\u001B[0m                                                             \u001B[2m             \u001B[0m\n",
      "text/html": "<pre style=\"white-space:pre;overflow-x:auto;line-height:normal;font-family:Menlo,'DejaVu Sans Mono',consolas,'Courier New',monospace\"><span style=\"color: #7fbfbf; text-decoration-color: #7fbfbf\">           </span><span style=\"color: #000080; text-decoration-color: #000080\">INFO    </span> 🖇️ Executing Link: poem with input: <span style=\"font-weight: bold\">{</span><span style=\"color: #008000; text-decoration-color: #008000\">'A'</span>: <span style=\"color: #008000; text-decoration-color: #008000\">'A police officer'</span>, <span style=\"color: #008000; text-decoration-color: #008000\">'B'</span>: <span style=\"color: #008000; text-decoration-color: #008000\">'Hopeful'</span>, <span style=\"color: #008000; text-decoration-color: #008000\">'state'</span>: <span style=\"color: #008000; text-decoration-color: #008000\">' Criminal. and  Optimistic'</span>, <span style=\"color: #008000; text-decoration-color: #008000\">'X'</span>: <span style=\"color: #008000; text-decoration-color: #008000\">' </span>    <a href=\"file:///Users/wouter.durnez/Documents/Repositories/test-ai-message-composer/fence/src/llm/chains.py\" target=\"_blank\"><span style=\"color: #7f7f7f; text-decoration-color: #7f7f7f\">chains.py</span></a><span style=\"color: #7f7f7f; text-decoration-color: #7f7f7f\">:</span><a href=\"file:///Users/wouter.durnez/Documents/Repositories/test-ai-message-composer/fence/src/llm/chains.py#214\" target=\"_blank\"><span style=\"color: #7f7f7f; text-decoration-color: #7f7f7f\">214</span></a>\n<span style=\"color: #7fbfbf; text-decoration-color: #7fbfbf\">           </span>         <span style=\"color: #008000; text-decoration-color: #008000\">Criminal.'</span>, <span style=\"color: #008000; text-decoration-color: #008000\">'Y'</span>: <span style=\"color: #008000; text-decoration-color: #008000\">' Optimistic'</span>, <span style=\"color: #008000; text-decoration-color: #008000\">'C'</span>: <span style=\"color: #008000; text-decoration-color: #008000\">' Criminal. and  Optimistic'</span><span style=\"font-weight: bold\">}</span>                                                             <span style=\"color: #7f7f7f; text-decoration-color: #7f7f7f\">             </span>\n</pre>\n"
     },
     "metadata": {},
     "output_type": "display_data"
    },
    {
     "data": {
      "text/plain": "\u001B[2;36m[14:49:16]\u001B[0m\u001B[2;36m \u001B[0m\u001B[34mINFO    \u001B[0m 🧐 Current state:  The Criminal's Optimism                                                                                     \u001B]8;id=54954;file:///Users/wouter.durnez/Documents/Repositories/test-ai-message-composer/fence/src/llm/chains.py\u001B\\\u001B[2mchains.py\u001B[0m\u001B]8;;\u001B\\\u001B[2m:\u001B[0m\u001B]8;id=853369;file:///Users/wouter.durnez/Documents/Repositories/test-ai-message-composer/fence/src/llm/chains.py#270\u001B\\\u001B[2m270\u001B[0m\u001B]8;;\u001B\\\n\u001B[2;36m           \u001B[0m                                                                                                                                        \u001B[2m             \u001B[0m\n\u001B[2;36m           \u001B[0m         Behind these bars I sit all alone each day                                                                                     \u001B[2m             \u001B[0m\n\u001B[2;36m           \u001B[0m         My crimes now haunt me as I pray                                                                                               \u001B[2m             \u001B[0m\n\u001B[2;36m           \u001B[0m         For a chance at redemption, to start life anew                                                                                 \u001B[2m             \u001B[0m\n\u001B[2;36m           \u001B[0m         To find purpose and meaning in all that I do                                                                                   \u001B[2m             \u001B[0m\n\u001B[2;36m           \u001B[0m         Though the road will be hard and uphill all the way                                                                            \u001B[2m             \u001B[0m\n\u001B[2;36m           \u001B[0m         Still my heart holds an optimism I cannot betray                                                                               \u001B[2m             \u001B[0m\n\u001B[2;36m           \u001B[0m         For the future's unknown and each soul has worth                                                                               \u001B[2m             \u001B[0m\n\u001B[2;36m           \u001B[0m         And hope is what guides me now, not the dirt                                                                                   \u001B[2m             \u001B[0m\n\u001B[2;36m           \u001B[0m         With time and with effort who knows what may come                                                                              \u001B[2m             \u001B[0m\n\u001B[2;36m           \u001B[0m         If I learn from mistakes and redemption is won                                                                                 \u001B[2m             \u001B[0m\n\u001B[2;36m           \u001B[0m         This cell cannot trap what's inside of my soul                                                                                 \u001B[2m             \u001B[0m\n\u001B[2;36m           \u001B[0m         My optimism keeps dreaming of futures to unfold                                                                                \u001B[2m             \u001B[0m\n",
      "text/html": "<pre style=\"white-space:pre;overflow-x:auto;line-height:normal;font-family:Menlo,'DejaVu Sans Mono',consolas,'Courier New',monospace\"><span style=\"color: #7fbfbf; text-decoration-color: #7fbfbf\">[14:49:16] </span><span style=\"color: #000080; text-decoration-color: #000080\">INFO    </span> 🧐 Current state:  The Criminal's Optimism                                                                                     <a href=\"file:///Users/wouter.durnez/Documents/Repositories/test-ai-message-composer/fence/src/llm/chains.py\" target=\"_blank\"><span style=\"color: #7f7f7f; text-decoration-color: #7f7f7f\">chains.py</span></a><span style=\"color: #7f7f7f; text-decoration-color: #7f7f7f\">:</span><a href=\"file:///Users/wouter.durnez/Documents/Repositories/test-ai-message-composer/fence/src/llm/chains.py#270\" target=\"_blank\"><span style=\"color: #7f7f7f; text-decoration-color: #7f7f7f\">270</span></a>\n<span style=\"color: #7fbfbf; text-decoration-color: #7fbfbf\">           </span>                                                                                                                                        <span style=\"color: #7f7f7f; text-decoration-color: #7f7f7f\">             </span>\n<span style=\"color: #7fbfbf; text-decoration-color: #7fbfbf\">           </span>         Behind these bars I sit all alone each day                                                                                     <span style=\"color: #7f7f7f; text-decoration-color: #7f7f7f\">             </span>\n<span style=\"color: #7fbfbf; text-decoration-color: #7fbfbf\">           </span>         My crimes now haunt me as I pray                                                                                               <span style=\"color: #7f7f7f; text-decoration-color: #7f7f7f\">             </span>\n<span style=\"color: #7fbfbf; text-decoration-color: #7fbfbf\">           </span>         For a chance at redemption, to start life anew                                                                                 <span style=\"color: #7f7f7f; text-decoration-color: #7f7f7f\">             </span>\n<span style=\"color: #7fbfbf; text-decoration-color: #7fbfbf\">           </span>         To find purpose and meaning in all that I do                                                                                   <span style=\"color: #7f7f7f; text-decoration-color: #7f7f7f\">             </span>\n<span style=\"color: #7fbfbf; text-decoration-color: #7fbfbf\">           </span>         Though the road will be hard and uphill all the way                                                                            <span style=\"color: #7f7f7f; text-decoration-color: #7f7f7f\">             </span>\n<span style=\"color: #7fbfbf; text-decoration-color: #7fbfbf\">           </span>         Still my heart holds an optimism I cannot betray                                                                               <span style=\"color: #7f7f7f; text-decoration-color: #7f7f7f\">             </span>\n<span style=\"color: #7fbfbf; text-decoration-color: #7fbfbf\">           </span>         For the future's unknown and each soul has worth                                                                               <span style=\"color: #7f7f7f; text-decoration-color: #7f7f7f\">             </span>\n<span style=\"color: #7fbfbf; text-decoration-color: #7fbfbf\">           </span>         And hope is what guides me now, not the dirt                                                                                   <span style=\"color: #7f7f7f; text-decoration-color: #7f7f7f\">             </span>\n<span style=\"color: #7fbfbf; text-decoration-color: #7fbfbf\">           </span>         With time and with effort who knows what may come                                                                              <span style=\"color: #7f7f7f; text-decoration-color: #7f7f7f\">             </span>\n<span style=\"color: #7fbfbf; text-decoration-color: #7fbfbf\">           </span>         If I learn from mistakes and redemption is won                                                                                 <span style=\"color: #7f7f7f; text-decoration-color: #7f7f7f\">             </span>\n<span style=\"color: #7fbfbf; text-decoration-color: #7fbfbf\">           </span>         This cell cannot trap what's inside of my soul                                                                                 <span style=\"color: #7f7f7f; text-decoration-color: #7f7f7f\">             </span>\n<span style=\"color: #7fbfbf; text-decoration-color: #7fbfbf\">           </span>         My optimism keeps dreaming of futures to unfold                                                                                <span style=\"color: #7f7f7f; text-decoration-color: #7f7f7f\">             </span>\n</pre>\n"
     },
     "metadata": {},
     "output_type": "display_data"
    },
    {
     "data": {
      "text/plain": "\u001B[2;36m          \u001B[0m\u001B[2;36m \u001B[0m\u001B[34mINFO    \u001B[0m 🔑 State keys: \u001B[1m[\u001B[0m\u001B[32m'A'\u001B[0m, \u001B[32m'B'\u001B[0m, \u001B[32m'state'\u001B[0m, \u001B[32m'X'\u001B[0m, \u001B[32m'Y'\u001B[0m, \u001B[32m'C'\u001B[0m, \u001B[32m'Z'\u001B[0m\u001B[1m]\u001B[0m \u001B[1m(\u001B[0madded: \u001B[1m[\u001B[0m\u001B[32m'Z'\u001B[0m\u001B[1m]\u001B[0m, removed: \u001B[1m[\u001B[0m\u001B[1m]\u001B[0m\u001B[1m)\u001B[0m                                             \u001B]8;id=468942;file:///Users/wouter.durnez/Documents/Repositories/test-ai-message-composer/fence/src/llm/chains.py\u001B\\\u001B[2mchains.py\u001B[0m\u001B]8;;\u001B\\\u001B[2m:\u001B[0m\u001B]8;id=26341;file:///Users/wouter.durnez/Documents/Repositories/test-ai-message-composer/fence/src/llm/chains.py#443\u001B\\\u001B[2m443\u001B[0m\u001B]8;;\u001B\\\n",
      "text/html": "<pre style=\"white-space:pre;overflow-x:auto;line-height:normal;font-family:Menlo,'DejaVu Sans Mono',consolas,'Courier New',monospace\"><span style=\"color: #7fbfbf; text-decoration-color: #7fbfbf\">           </span><span style=\"color: #000080; text-decoration-color: #000080\">INFO    </span> 🔑 State keys: <span style=\"font-weight: bold\">[</span><span style=\"color: #008000; text-decoration-color: #008000\">'A'</span>, <span style=\"color: #008000; text-decoration-color: #008000\">'B'</span>, <span style=\"color: #008000; text-decoration-color: #008000\">'state'</span>, <span style=\"color: #008000; text-decoration-color: #008000\">'X'</span>, <span style=\"color: #008000; text-decoration-color: #008000\">'Y'</span>, <span style=\"color: #008000; text-decoration-color: #008000\">'C'</span>, <span style=\"color: #008000; text-decoration-color: #008000\">'Z'</span><span style=\"font-weight: bold\">]</span> <span style=\"font-weight: bold\">(</span>added: <span style=\"font-weight: bold\">[</span><span style=\"color: #008000; text-decoration-color: #008000\">'Z'</span><span style=\"font-weight: bold\">]</span>, removed: <span style=\"font-weight: bold\">[])</span>                                             <a href=\"file:///Users/wouter.durnez/Documents/Repositories/test-ai-message-composer/fence/src/llm/chains.py\" target=\"_blank\"><span style=\"color: #7f7f7f; text-decoration-color: #7f7f7f\">chains.py</span></a><span style=\"color: #7f7f7f; text-decoration-color: #7f7f7f\">:</span><a href=\"file:///Users/wouter.durnez/Documents/Repositories/test-ai-message-composer/fence/src/llm/chains.py#443\" target=\"_blank\"><span style=\"color: #7f7f7f; text-decoration-color: #7f7f7f\">443</span></a>\n</pre>\n"
     },
     "metadata": {},
     "output_type": "display_data"
    },
    {
     "name": "stdout",
     "output_type": "stream",
     "text": [
      " The Criminal's Optimism\n",
      "\n",
      "Behind these bars I sit all alone each day  \n",
      "My crimes now haunt me as I pray\n",
      "For a chance at redemption, to start life anew\n",
      "To find purpose and meaning in all that I do  \n",
      "Though the road will be hard and uphill all the way\n",
      "Still my heart holds an optimism I cannot betray\n",
      "For the future's unknown and each soul has worth\n",
      "And hope is what guides me now, not the dirt\n",
      "With time and with effort who knows what may come\n",
      "If I learn from mistakes and redemption is won\n",
      "This cell cannot trap what's inside of my soul\n",
      "My optimism keeps dreaming of futures to unfold\n"
     ]
    }
   ],
   "source": [
    "# You can also build Chains, which are just a sequence of links. There are two types of chains: LinearChain and Chain. \n",
    "# LinearChain is a sequence of links, while Chain is a collection of links that are invoked in the right order based on the input and output keys for each Link.\n",
    "\n",
    "# This is a LinearChain #\n",
    "#########################\n",
    "\n",
    "# Build some links\n",
    "link_opposite = Link(\n",
    "    template=PromptTemplate(\n",
    "        \"What's the opposite of {{A}}? Reply with a few words max.\", [\"A\"]\n",
    "    ),\n",
    "    name = 'opposite',\n",
    "    output_key=\"X\",\n",
    ")\n",
    "link_superlative = Link(\n",
    "    template=PromptTemplate(\n",
    "        \"What's a synonym for {{B}}. Reply with one word.\", [\"B\"],\n",
    "    ),\n",
    "    name='superlative',\n",
    "    output_key=\"Y\",\n",
    ")\n",
    "link_poem = Link(\n",
    "    template=PromptTemplate(\n",
    "        \"Write a poem about {{state}}. Return only the poem, beginning with the title.\", [\"state\"]\n",
    "    ),\n",
    "    name='poem',\n",
    "    output_key=\"Z\",\n",
    ")\n",
    "\n",
    "# Now build a LinearChain\n",
    "linear_chain = LinearChain(llm=claude, links=[link_opposite, link_superlative, concat_link, link_poem])\n",
    "\n",
    "# Run it\n",
    "result = linear_chain.run(input_dict={\"A\": \"A police officer\", \"B\": \"Hopeful\"})\n",
    "\n",
    "# Get the output\n",
    "print(result['state'])"
   ],
   "metadata": {
    "collapsed": false,
    "ExecuteTime": {
     "end_time": "2024-01-22T13:49:16.764676Z",
     "start_time": "2024-01-22T13:49:13.188201Z"
    }
   },
   "id": "a86436d806745ef0",
   "execution_count": 53
  },
  {
   "cell_type": "code",
   "outputs": [
    {
     "data": {
      "text/plain": "[Link: superlative <['B']> -> <Y>,\n Link: opposite <['A']> -> <X>,\n Link: sentence <['X', 'Y', 'C']> -> <Z>]"
     },
     "execution_count": 54,
     "metadata": {},
     "output_type": "execute_result"
    }
   ],
   "source": [
    "# A LinearChain will take the presence of the 'state' key into account when invoking the next link.\n",
    "# A Chain will not. However, it has an extra 'feature' in the form of topological sorting. As long as a graph of links can be\n",
    "# extracted from the chain, and the input keys (that are not generated in the chain) are given, the chain will invoke the links in the right order.\n",
    "\n",
    "# This is a Chain #\n",
    "###################\n",
    "link_a = Link(\n",
    "    template=PromptTemplate(\n",
    "        \"Capitalize this word: {{A}}. Only respond with the capitalized version\", [\"A\"]\n",
    "    ),\n",
    "    name = 'opposite',\n",
    "    output_key=\"X\",\n",
    ")\n",
    "link_b = Link(\n",
    "    template=PromptTemplate(\n",
    "        \"What's a synonym for {{B}}. Reply with one word.\", [\"B\"],\n",
    "    ),\n",
    "    name='superlative',\n",
    "    output_key=\"Y\",\n",
    ")\n",
    "link_c = Link(\n",
    "    template=PromptTemplate(\n",
    "        \"Combine {{X}} and {{Y}} and {{C}} in a meaningful sentence.\", [\"X\", \"Y\", \"C\"]\n",
    "    ),\n",
    "    name='sentence',\n",
    "    output_key=\"Z\",\n",
    ")\n",
    "chain = Chain(llm=claude, links=[link_c, link_a, link_b]) # Note that we can pass the links in any order\n",
    "\n",
    "# This is the sorted graph of links\n",
    "chain._topological_sort()"
   ],
   "metadata": {
    "collapsed": false,
    "ExecuteTime": {
     "end_time": "2024-01-22T13:49:16.768121Z",
     "start_time": "2024-01-22T13:49:16.764831Z"
    }
   },
   "id": "6d1a3dc176bd9580",
   "execution_count": 54
  },
  {
   "cell_type": "code",
   "outputs": [
    {
     "name": "stdout",
     "output_type": "stream",
     "text": [
      "The following input keys are required: {'C', 'A', 'B'}. Missing: {'C'}\n"
     ]
    }
   ],
   "source": [
    "# Now we can run it\n",
    "try:\n",
    "    result = chain.run(input_dict={\"A\": \"A police officer\", \"B\": \"Hopeful\"})\n",
    "except Exception as e:\n",
    "    print(e)"
   ],
   "metadata": {
    "collapsed": false,
    "ExecuteTime": {
     "end_time": "2024-01-22T13:49:16.769874Z",
     "start_time": "2024-01-22T13:49:16.768207Z"
    }
   },
   "id": "f5fca5fd6f655679",
   "execution_count": 55
  },
  {
   "cell_type": "code",
   "outputs": [
    {
     "data": {
      "text/plain": "\u001B[2;36m          \u001B[0m\u001B[2;36m \u001B[0m\u001B[34mINFO    \u001B[0m 🖇️ Executing Link: superlative with input: \u001B[1m{\u001B[0m\u001B[32m'A'\u001B[0m: \u001B[32m'A police officer'\u001B[0m, \u001B[32m'B'\u001B[0m: \u001B[32m'Hopeful'\u001B[0m, \u001B[32m'C'\u001B[0m: \u001B[32m'a dog'\u001B[0m\u001B[1m}\u001B[0m                              \u001B]8;id=205466;file:///Users/wouter.durnez/Documents/Repositories/test-ai-message-composer/fence/src/llm/chains.py\u001B\\\u001B[2mchains.py\u001B[0m\u001B]8;;\u001B\\\u001B[2m:\u001B[0m\u001B]8;id=220254;file:///Users/wouter.durnez/Documents/Repositories/test-ai-message-composer/fence/src/llm/chains.py#214\u001B\\\u001B[2m214\u001B[0m\u001B]8;;\u001B\\\n",
      "text/html": "<pre style=\"white-space:pre;overflow-x:auto;line-height:normal;font-family:Menlo,'DejaVu Sans Mono',consolas,'Courier New',monospace\"><span style=\"color: #7fbfbf; text-decoration-color: #7fbfbf\">           </span><span style=\"color: #000080; text-decoration-color: #000080\">INFO    </span> 🖇️ Executing Link: superlative with input: <span style=\"font-weight: bold\">{</span><span style=\"color: #008000; text-decoration-color: #008000\">'A'</span>: <span style=\"color: #008000; text-decoration-color: #008000\">'A police officer'</span>, <span style=\"color: #008000; text-decoration-color: #008000\">'B'</span>: <span style=\"color: #008000; text-decoration-color: #008000\">'Hopeful'</span>, <span style=\"color: #008000; text-decoration-color: #008000\">'C'</span>: <span style=\"color: #008000; text-decoration-color: #008000\">'a dog'</span><span style=\"font-weight: bold\">}</span>                              <a href=\"file:///Users/wouter.durnez/Documents/Repositories/test-ai-message-composer/fence/src/llm/chains.py\" target=\"_blank\"><span style=\"color: #7f7f7f; text-decoration-color: #7f7f7f\">chains.py</span></a><span style=\"color: #7f7f7f; text-decoration-color: #7f7f7f\">:</span><a href=\"file:///Users/wouter.durnez/Documents/Repositories/test-ai-message-composer/fence/src/llm/chains.py#214\" target=\"_blank\"><span style=\"color: #7f7f7f; text-decoration-color: #7f7f7f\">214</span></a>\n</pre>\n"
     },
     "metadata": {},
     "output_type": "display_data"
    },
    {
     "data": {
      "text/plain": "\u001B[2;36m[14:49:17]\u001B[0m\u001B[2;36m \u001B[0m\u001B[34mINFO    \u001B[0m 🧐 Current state:  Optimistic                                                                                                  \u001B]8;id=86430;file:///Users/wouter.durnez/Documents/Repositories/test-ai-message-composer/fence/src/llm/chains.py\u001B\\\u001B[2mchains.py\u001B[0m\u001B]8;;\u001B\\\u001B[2m:\u001B[0m\u001B]8;id=467459;file:///Users/wouter.durnez/Documents/Repositories/test-ai-message-composer/fence/src/llm/chains.py#270\u001B\\\u001B[2m270\u001B[0m\u001B]8;;\u001B\\\n",
      "text/html": "<pre style=\"white-space:pre;overflow-x:auto;line-height:normal;font-family:Menlo,'DejaVu Sans Mono',consolas,'Courier New',monospace\"><span style=\"color: #7fbfbf; text-decoration-color: #7fbfbf\">[14:49:17] </span><span style=\"color: #000080; text-decoration-color: #000080\">INFO    </span> 🧐 Current state:  Optimistic                                                                                                  <a href=\"file:///Users/wouter.durnez/Documents/Repositories/test-ai-message-composer/fence/src/llm/chains.py\" target=\"_blank\"><span style=\"color: #7f7f7f; text-decoration-color: #7f7f7f\">chains.py</span></a><span style=\"color: #7f7f7f; text-decoration-color: #7f7f7f\">:</span><a href=\"file:///Users/wouter.durnez/Documents/Repositories/test-ai-message-composer/fence/src/llm/chains.py#270\" target=\"_blank\"><span style=\"color: #7f7f7f; text-decoration-color: #7f7f7f\">270</span></a>\n</pre>\n"
     },
     "metadata": {},
     "output_type": "display_data"
    },
    {
     "data": {
      "text/plain": "\u001B[2;36m          \u001B[0m\u001B[2;36m \u001B[0m\u001B[34mINFO    \u001B[0m 🖇️ Executing Link: opposite with input: \u001B[1m{\u001B[0m\u001B[32m'A'\u001B[0m: \u001B[32m'A police officer'\u001B[0m, \u001B[32m'B'\u001B[0m: \u001B[32m'Hopeful'\u001B[0m, \u001B[32m'C'\u001B[0m: \u001B[32m'a dog'\u001B[0m, \u001B[32m'state'\u001B[0m: \u001B[32m' Optimistic'\u001B[0m, \u001B[32m'Y'\u001B[0m: \u001B[32m'\u001B[0m  \u001B]8;id=504064;file:///Users/wouter.durnez/Documents/Repositories/test-ai-message-composer/fence/src/llm/chains.py\u001B\\\u001B[2mchains.py\u001B[0m\u001B]8;;\u001B\\\u001B[2m:\u001B[0m\u001B]8;id=929029;file:///Users/wouter.durnez/Documents/Repositories/test-ai-message-composer/fence/src/llm/chains.py#214\u001B\\\u001B[2m214\u001B[0m\u001B]8;;\u001B\\\n\u001B[2;36m           \u001B[0m         \u001B[32mOptimistic'\u001B[0m\u001B[1m}\u001B[0m                                                                                                                   \u001B[2m             \u001B[0m\n",
      "text/html": "<pre style=\"white-space:pre;overflow-x:auto;line-height:normal;font-family:Menlo,'DejaVu Sans Mono',consolas,'Courier New',monospace\"><span style=\"color: #7fbfbf; text-decoration-color: #7fbfbf\">           </span><span style=\"color: #000080; text-decoration-color: #000080\">INFO    </span> 🖇️ Executing Link: opposite with input: <span style=\"font-weight: bold\">{</span><span style=\"color: #008000; text-decoration-color: #008000\">'A'</span>: <span style=\"color: #008000; text-decoration-color: #008000\">'A police officer'</span>, <span style=\"color: #008000; text-decoration-color: #008000\">'B'</span>: <span style=\"color: #008000; text-decoration-color: #008000\">'Hopeful'</span>, <span style=\"color: #008000; text-decoration-color: #008000\">'C'</span>: <span style=\"color: #008000; text-decoration-color: #008000\">'a dog'</span>, <span style=\"color: #008000; text-decoration-color: #008000\">'state'</span>: <span style=\"color: #008000; text-decoration-color: #008000\">' Optimistic'</span>, <span style=\"color: #008000; text-decoration-color: #008000\">'Y'</span>: <span style=\"color: #008000; text-decoration-color: #008000\">'</span>  <a href=\"file:///Users/wouter.durnez/Documents/Repositories/test-ai-message-composer/fence/src/llm/chains.py\" target=\"_blank\"><span style=\"color: #7f7f7f; text-decoration-color: #7f7f7f\">chains.py</span></a><span style=\"color: #7f7f7f; text-decoration-color: #7f7f7f\">:</span><a href=\"file:///Users/wouter.durnez/Documents/Repositories/test-ai-message-composer/fence/src/llm/chains.py#214\" target=\"_blank\"><span style=\"color: #7f7f7f; text-decoration-color: #7f7f7f\">214</span></a>\n<span style=\"color: #7fbfbf; text-decoration-color: #7fbfbf\">           </span>         <span style=\"color: #008000; text-decoration-color: #008000\">Optimistic'</span><span style=\"font-weight: bold\">}</span>                                                                                                                   <span style=\"color: #7f7f7f; text-decoration-color: #7f7f7f\">             </span>\n</pre>\n"
     },
     "metadata": {},
     "output_type": "display_data"
    },
    {
     "data": {
      "text/plain": "\u001B[2;36m          \u001B[0m\u001B[2;36m \u001B[0m\u001B[34mINFO    \u001B[0m 🧐 Current state:  A Police officer.                                                                                           \u001B]8;id=711768;file:///Users/wouter.durnez/Documents/Repositories/test-ai-message-composer/fence/src/llm/chains.py\u001B\\\u001B[2mchains.py\u001B[0m\u001B]8;;\u001B\\\u001B[2m:\u001B[0m\u001B]8;id=588949;file:///Users/wouter.durnez/Documents/Repositories/test-ai-message-composer/fence/src/llm/chains.py#270\u001B\\\u001B[2m270\u001B[0m\u001B]8;;\u001B\\\n",
      "text/html": "<pre style=\"white-space:pre;overflow-x:auto;line-height:normal;font-family:Menlo,'DejaVu Sans Mono',consolas,'Courier New',monospace\"><span style=\"color: #7fbfbf; text-decoration-color: #7fbfbf\">           </span><span style=\"color: #000080; text-decoration-color: #000080\">INFO    </span> 🧐 Current state:  A Police officer.                                                                                           <a href=\"file:///Users/wouter.durnez/Documents/Repositories/test-ai-message-composer/fence/src/llm/chains.py\" target=\"_blank\"><span style=\"color: #7f7f7f; text-decoration-color: #7f7f7f\">chains.py</span></a><span style=\"color: #7f7f7f; text-decoration-color: #7f7f7f\">:</span><a href=\"file:///Users/wouter.durnez/Documents/Repositories/test-ai-message-composer/fence/src/llm/chains.py#270\" target=\"_blank\"><span style=\"color: #7f7f7f; text-decoration-color: #7f7f7f\">270</span></a>\n</pre>\n"
     },
     "metadata": {},
     "output_type": "display_data"
    },
    {
     "data": {
      "text/plain": "\u001B[2;36m          \u001B[0m\u001B[2;36m \u001B[0m\u001B[34mINFO    \u001B[0m 🖇️ Executing Link: sentence with input: \u001B[1m{\u001B[0m\u001B[32m'A'\u001B[0m: \u001B[32m'A police officer'\u001B[0m, \u001B[32m'B'\u001B[0m: \u001B[32m'Hopeful'\u001B[0m, \u001B[32m'C'\u001B[0m: \u001B[32m'a dog'\u001B[0m, \u001B[32m'state'\u001B[0m: \u001B[32m' A Police officer.'\u001B[0m,  \u001B]8;id=923314;file:///Users/wouter.durnez/Documents/Repositories/test-ai-message-composer/fence/src/llm/chains.py\u001B\\\u001B[2mchains.py\u001B[0m\u001B]8;;\u001B\\\u001B[2m:\u001B[0m\u001B]8;id=366615;file:///Users/wouter.durnez/Documents/Repositories/test-ai-message-composer/fence/src/llm/chains.py#214\u001B\\\u001B[2m214\u001B[0m\u001B]8;;\u001B\\\n\u001B[2;36m           \u001B[0m         \u001B[32m'Y'\u001B[0m: \u001B[32m' Optimistic'\u001B[0m, \u001B[32m'X'\u001B[0m: \u001B[32m' A Police officer.'\u001B[0m\u001B[1m}\u001B[0m                                                                                 \u001B[2m             \u001B[0m\n",
      "text/html": "<pre style=\"white-space:pre;overflow-x:auto;line-height:normal;font-family:Menlo,'DejaVu Sans Mono',consolas,'Courier New',monospace\"><span style=\"color: #7fbfbf; text-decoration-color: #7fbfbf\">           </span><span style=\"color: #000080; text-decoration-color: #000080\">INFO    </span> 🖇️ Executing Link: sentence with input: <span style=\"font-weight: bold\">{</span><span style=\"color: #008000; text-decoration-color: #008000\">'A'</span>: <span style=\"color: #008000; text-decoration-color: #008000\">'A police officer'</span>, <span style=\"color: #008000; text-decoration-color: #008000\">'B'</span>: <span style=\"color: #008000; text-decoration-color: #008000\">'Hopeful'</span>, <span style=\"color: #008000; text-decoration-color: #008000\">'C'</span>: <span style=\"color: #008000; text-decoration-color: #008000\">'a dog'</span>, <span style=\"color: #008000; text-decoration-color: #008000\">'state'</span>: <span style=\"color: #008000; text-decoration-color: #008000\">' A Police officer.'</span>,  <a href=\"file:///Users/wouter.durnez/Documents/Repositories/test-ai-message-composer/fence/src/llm/chains.py\" target=\"_blank\"><span style=\"color: #7f7f7f; text-decoration-color: #7f7f7f\">chains.py</span></a><span style=\"color: #7f7f7f; text-decoration-color: #7f7f7f\">:</span><a href=\"file:///Users/wouter.durnez/Documents/Repositories/test-ai-message-composer/fence/src/llm/chains.py#214\" target=\"_blank\"><span style=\"color: #7f7f7f; text-decoration-color: #7f7f7f\">214</span></a>\n<span style=\"color: #7fbfbf; text-decoration-color: #7fbfbf\">           </span>         <span style=\"color: #008000; text-decoration-color: #008000\">'Y'</span>: <span style=\"color: #008000; text-decoration-color: #008000\">' Optimistic'</span>, <span style=\"color: #008000; text-decoration-color: #008000\">'X'</span>: <span style=\"color: #008000; text-decoration-color: #008000\">' A Police officer.'</span><span style=\"font-weight: bold\">}</span>                                                                                 <span style=\"color: #7f7f7f; text-decoration-color: #7f7f7f\">             </span>\n</pre>\n"
     },
     "metadata": {},
     "output_type": "display_data"
    },
    {
     "data": {
      "text/plain": "\u001B[2;36m[14:49:18]\u001B[0m\u001B[2;36m \u001B[0m\u001B[34mINFO    \u001B[0m 🧐 Current state:  Here is a sentence combining those elements:                                                                \u001B]8;id=875475;file:///Users/wouter.durnez/Documents/Repositories/test-ai-message-composer/fence/src/llm/chains.py\u001B\\\u001B[2mchains.py\u001B[0m\u001B]8;;\u001B\\\u001B[2m:\u001B[0m\u001B]8;id=277754;file:///Users/wouter.durnez/Documents/Repositories/test-ai-message-composer/fence/src/llm/chains.py#270\u001B\\\u001B[2m270\u001B[0m\u001B]8;;\u001B\\\n\u001B[2;36m           \u001B[0m                                                                                                                                        \u001B[2m             \u001B[0m\n\u001B[2;36m           \u001B[0m         The optimistic police officer's dog helped boost his spirits as he tried to see the positive side of things while on patrol in \u001B[2m             \u001B[0m\n\u001B[2;36m           \u001B[0m         his neighborhood.                                                                                                              \u001B[2m             \u001B[0m\n",
      "text/html": "<pre style=\"white-space:pre;overflow-x:auto;line-height:normal;font-family:Menlo,'DejaVu Sans Mono',consolas,'Courier New',monospace\"><span style=\"color: #7fbfbf; text-decoration-color: #7fbfbf\">[14:49:18] </span><span style=\"color: #000080; text-decoration-color: #000080\">INFO    </span> 🧐 Current state:  Here is a sentence combining those elements:                                                                <a href=\"file:///Users/wouter.durnez/Documents/Repositories/test-ai-message-composer/fence/src/llm/chains.py\" target=\"_blank\"><span style=\"color: #7f7f7f; text-decoration-color: #7f7f7f\">chains.py</span></a><span style=\"color: #7f7f7f; text-decoration-color: #7f7f7f\">:</span><a href=\"file:///Users/wouter.durnez/Documents/Repositories/test-ai-message-composer/fence/src/llm/chains.py#270\" target=\"_blank\"><span style=\"color: #7f7f7f; text-decoration-color: #7f7f7f\">270</span></a>\n<span style=\"color: #7fbfbf; text-decoration-color: #7fbfbf\">           </span>                                                                                                                                        <span style=\"color: #7f7f7f; text-decoration-color: #7f7f7f\">             </span>\n<span style=\"color: #7fbfbf; text-decoration-color: #7fbfbf\">           </span>         The optimistic police officer's dog helped boost his spirits as he tried to see the positive side of things while on patrol in <span style=\"color: #7f7f7f; text-decoration-color: #7f7f7f\">             </span>\n<span style=\"color: #7fbfbf; text-decoration-color: #7fbfbf\">           </span>         his neighborhood.                                                                                                              <span style=\"color: #7f7f7f; text-decoration-color: #7f7f7f\">             </span>\n</pre>\n"
     },
     "metadata": {},
     "output_type": "display_data"
    }
   ],
   "source": [
    "# Woops, forgot something! There's no link that generates the 'C' key. We can pass it in though.\n",
    "result = chain.run(input_dict={\"A\": \"A police officer\", \"B\": \"Hopeful\", \"C\": \"a dog\"})"
   ],
   "metadata": {
    "collapsed": false,
    "ExecuteTime": {
     "end_time": "2024-01-22T13:49:18.063931Z",
     "start_time": "2024-01-22T13:49:16.771110Z"
    }
   },
   "id": "4dabac4f53177f1e",
   "execution_count": 56
  },
  {
   "cell_type": "code",
   "outputs": [
    {
     "name": "stdout",
     "output_type": "stream",
     "text": [
      "Cycle detected in the dependency graph.\n"
     ]
    }
   ],
   "source": [
    "# Cycles are not allowed\n",
    "link_up = Link(\n",
    "    template=PromptTemplate(\n",
    "        \"Capitalize this word: {{up}}. Only respond with the capitalized version\", [\"up\"]\n",
    "    ),\n",
    "    name = 'up',\n",
    "    output_key=\"down\",\n",
    ")\n",
    "link_b = Link(\n",
    "    template=PromptTemplate(\n",
    "        \"What's a synonym for {{down}}. Reply with one word.\", [\"down\"],\n",
    "    ),\n",
    "    name='down',\n",
    "    output_key=\"up\",\n",
    ")\n",
    "chain = Chain(llm=claude, links=[link_up, link_b])\n",
    "try:\n",
    "    chain._topological_sort()\n",
    "except Exception as e:\n",
    "    print(e)"
   ],
   "metadata": {
    "collapsed": false,
    "ExecuteTime": {
     "end_time": "2024-01-22T13:49:18.067410Z",
     "start_time": "2024-01-22T13:49:18.065638Z"
    }
   },
   "id": "fd6aa1cb2325cd41",
   "execution_count": 57
  },
  {
   "cell_type": "code",
   "outputs": [],
   "source": [],
   "metadata": {
    "collapsed": false,
    "ExecuteTime": {
     "end_time": "2024-01-22T13:49:18.070036Z",
     "start_time": "2024-01-22T13:49:18.067564Z"
    }
   },
   "id": "b3a8561144f1584c",
   "execution_count": 57
  }
 ],
 "metadata": {
  "kernelspec": {
   "display_name": "Python 3",
   "language": "python",
   "name": "python3"
  },
  "language_info": {
   "codemirror_mode": {
    "name": "ipython",
    "version": 2
   },
   "file_extension": ".py",
   "mimetype": "text/x-python",
   "name": "python",
   "nbconvert_exporter": "python",
   "pygments_lexer": "ipython2",
   "version": "2.7.6"
  }
 },
 "nbformat": 4,
 "nbformat_minor": 5
}
