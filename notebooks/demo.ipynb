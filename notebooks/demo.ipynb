{
 "cells": [
  {
   "cell_type": "markdown",
   "id": "4e010e381f4d1bbe",
   "metadata": {
    "collapsed": false
   },
   "source": [
    "# 🤺 Fence demo\n",
    "\n",
    "This notebook demonstrates the use of various classes in this package. The core intent of this package is to provide a framework for interacting with language models in a way that is modular, extensible, and easy to use. The core classes are:\n",
    "- `PromptTemplate`: A template for a prompt that can be rendered with a dictionary of variables (or using keywords). It wraps around jinja2.Template, but adds some additional functionality.\n",
    "- `LLM`: A wrapper around a language model. \n",
    "- `Link`: Atomic LLM interaction wrapper. Takes in a PromptTemplate and a language model. It can be invoked with a dictionary of variables, and will return a dictionary of variables.\n",
    "- `TransformationLink`: A wrapper around a `function` that takes a dictionary of variables and returns a dictionary of variables. It can be invoked with a dictionary of variables, and will return a dictionary of variables.\n",
    "- `Chain`: A collection of links that are invoked in the right order based on the input and output keys for each Link.\n",
    "- `LinearChain`: A sequence of links that are invoked in the order they are passed in.\n",
    "\n",
    "Through these classes, we can interact with LLMs in varying degrees of complexity:\n",
    "1. Just call the model directly\n",
    "2. Use a `PromptTemplate` for reusability and abstraction\n",
    "3. Use a `Link` for atomic LLM interaction\n",
    "4. Use a `Chain` to execute a collection of `Links`\n",
    "\n",
    "Below, we'll go through each of these levels of complexity and provide examples.\n",
    "\n",
    "**Note** This notebook assumes you have access to AWS Bedrock, as we use Bedrock's Claude-instant model to fuel our LLM interactions."
   ]
  },
  {
   "cell_type": "code",
   "execution_count": 1,
   "id": "a937d38e",
   "metadata": {},
   "outputs": [],
   "source": [
    "from pathlib import Path\n",
    "current_dir = Path('.').resolve().parents[0]\n",
    "import sys\n",
    "sys.path.append(str(current_dir))"
   ]
  },
  {
   "cell_type": "code",
   "execution_count": 2,
   "id": "initial_id",
   "metadata": {
    "ExecuteTime": {
     "end_time": "2024-03-11T14:19:18.557409Z",
     "start_time": "2024-03-11T14:19:18.397773Z"
    },
    "collapsed": true
   },
   "outputs": [],
   "source": [
    "%load_ext autoreload\n",
    "from fence.models.claude import ClaudeInstant\n",
    "from fence.templates.string import StringTemplate\n",
    "from fence.links import Link, TransformationLink\n",
    "from fence.chains import Chain, LinearChain"
   ]
  },
  {
   "cell_type": "markdown",
   "id": "3ac87b524beb586b",
   "metadata": {
    "collapsed": false
   },
   "source": [
    "## ⚙️ Setting up"
   ]
  },
  {
   "cell_type": "code",
   "execution_count": 3,
   "id": "1a411b7c22ebd092",
   "metadata": {
    "ExecuteTime": {
     "end_time": "2024-03-11T14:19:18.760106Z",
     "start_time": "2024-03-11T14:19:18.560708Z"
    },
    "collapsed": false
   },
   "outputs": [],
   "source": [
    "# Get our model\n",
    "claude = ClaudeInstant(source='demo_notebook')"
   ]
  },
  {
   "cell_type": "markdown",
   "id": "efabe783b73b8ec7",
   "metadata": {
    "collapsed": false
   },
   "source": [
    "### 🪨 Level 1 - Just call the damn thing"
   ]
  },
  {
   "cell_type": "code",
   "execution_count": 4,
   "id": "950662b95a79575c",
   "metadata": {
    "ExecuteTime": {
     "end_time": "2024-03-11T14:19:21.275195Z",
     "start_time": "2024-03-11T14:19:18.762229Z"
    },
    "collapsed": false
   },
   "outputs": [
    {
     "data": {
      "text/plain": [
       "\" The sky appears blue because of Rayleigh scattering. This is when sunlight interacts with molecules in Earth's atmosphere, primarily nitrogen and oxygen. The short wavelengths of light, such as blue and violet, scatter more than the longer wavelengths such as red and infrared. This scattering process causes the blue wavelengths to be scattered all throughout the atmosphere and reach our eyes from all angles of the sky. The more scattered blue light there is, the more blue the sky appears.\""
      ]
     },
     "execution_count": 4,
     "metadata": {},
     "output_type": "execute_result"
    }
   ],
   "source": [
    "# Use the invoke method to call the model\n",
    "claude.invoke('Why is the sky blue?')"
   ]
  },
  {
   "cell_type": "code",
   "execution_count": 5,
   "id": "22c4da28c3c3d3b0",
   "metadata": {
    "ExecuteTime": {
     "end_time": "2024-03-11T14:19:22.896406Z",
     "start_time": "2024-03-11T14:19:21.257668Z"
    },
    "collapsed": false
   },
   "outputs": [
    {
     "data": {
      "text/plain": [
       "\" The sky appears blue because of Rayleigh scattering. This is when sunlight interacts with molecules in Earth's atmosphere, primarily nitrogen and oxygen. The short wavelengths of light, such as blue and violet, scatter more than the longer wavelengths such as red and infrared. This scattering process causes the blue wavelengths to be scattered all throughout the atmosphere and reach our eyes from every direction in the sky. The more scattered blue light entering our eyes makes the sky appear blue.\""
      ]
     },
     "execution_count": 5,
     "metadata": {},
     "output_type": "execute_result"
    }
   ],
   "source": [
    "# Just call the damn thing\n",
    "claude('Why is the sky blue?')"
   ]
  },
  {
   "cell_type": "markdown",
   "id": "632046188100875d",
   "metadata": {
    "collapsed": false
   },
   "source": [
    "### 🔨 Level 2 - Use a PromptTemplate"
   ]
  },
  {
   "cell_type": "code",
   "execution_count": 6,
   "id": "afe2b6d1d4078270",
   "metadata": {
    "ExecuteTime": {
     "end_time": "2024-03-11T14:19:22.904812Z",
     "start_time": "2024-03-11T14:19:22.898653Z"
    },
    "collapsed": false
   },
   "outputs": [
    {
     "name": "stdout",
     "output_type": "stream",
     "text": [
      "StringTemplate: Why is the sky {color}?\n"
     ]
    }
   ],
   "source": [
    "# Initialize a prompt template\n",
    "prompt_template = StringTemplate('Why is the sky {color}?')\n",
    "print(prompt_template)"
   ]
  },
  {
   "cell_type": "code",
   "execution_count": 7,
   "id": "9901374952217046",
   "metadata": {
    "ExecuteTime": {
     "end_time": "2024-03-11T14:19:22.917237Z",
     "start_time": "2024-03-11T14:19:22.905484Z"
    },
    "collapsed": false
   },
   "outputs": [
    {
     "name": "stdout",
     "output_type": "stream",
     "text": [
      "Why is the sky blue?\n",
      "Why is the sky red?\n",
      "Why is the sky red?\n"
     ]
    }
   ],
   "source": [
    "# Render it with a dictionary\n",
    "print(prompt_template.render({'color': 'blue'}))\n",
    "\n",
    "# Render it with keyword arguments\n",
    "print(prompt_template.render(color='red'))\n",
    "\n",
    "# Input dict takes precedence over keyword arguments\n",
    "print(prompt_template.render(input_dict={'color': 'blue'}, color='red'))"
   ]
  },
  {
   "cell_type": "code",
   "execution_count": 8,
   "id": "a5dca91633a69af",
   "metadata": {
    "ExecuteTime": {
     "end_time": "2024-03-11T14:19:22.917958Z",
     "start_time": "2024-03-11T14:19:22.909708Z"
    },
    "collapsed": false
   },
   "outputs": [
    {
     "name": "stdout",
     "output_type": "stream",
     "text": [
      "StringTemplate: Why is the sky {color}? Why is the grass {color}? I like a dress with {pattern}.\n",
      "Why is the sky blue? Why is the grass blue? I like a dress with polka dots.\n"
     ]
    }
   ],
   "source": [
    "# You can concatenate prompt templates, input variables are merged\n",
    "prompt_template_sky = StringTemplate('Why is the sky {color}?')\n",
    "prompt_template_grass = StringTemplate('Why is the grass {color}?')\n",
    "prompt_template_dress = StringTemplate('I like a dress with {pattern}.')\n",
    "combined_prompt_template = prompt_template_sky + prompt_template_grass + prompt_template_dress\n",
    "print(combined_prompt_template)\n",
    "print(combined_prompt_template.render({'color': 'blue', 'pattern': 'polka dots'}))"
   ]
  },
  {
   "cell_type": "code",
   "execution_count": 9,
   "id": "9d7766d8c7a53b12",
   "metadata": {
    "ExecuteTime": {
     "end_time": "2024-03-11T14:19:22.918410Z",
     "start_time": "2024-03-11T14:19:22.913937Z"
    },
    "collapsed": false
   },
   "outputs": [
    {
     "name": "stdout",
     "output_type": "stream",
     "text": [
      "Why is the sky blue? FUNKY TOWN Why is the grass blue?\n"
     ]
    }
   ],
   "source": [
    "# You can customize the separator\n",
    "base_template = StringTemplate('Why is the sky {color}?', separator=' FUNKY TOWN ')\n",
    "additional_template = StringTemplate('Why is the grass {color}?')\n",
    "print((base_template + additional_template).render({'color': 'blue'}))"
   ]
  },
  {
   "cell_type": "markdown",
   "id": "8e5617e437fb30fc",
   "metadata": {
    "collapsed": false
   },
   "source": [
    "### 🧠 Level 3 - Use Links (lol)\n",
    "\n",
    "What are Links? In this context, they represent atomic components of LLM interaction. That means they should be able to be strung together to form a Chain, although they can be used independently as well."
   ]
  },
  {
   "cell_type": "code",
   "execution_count": 10,
   "id": "219ef991de4352a6",
   "metadata": {
    "ExecuteTime": {
     "end_time": "2024-03-11T14:19:22.945222Z",
     "start_time": "2024-03-11T14:19:22.917257Z"
    },
    "collapsed": false
   },
   "outputs": [
    {
     "name": "stdout",
     "output_type": "stream",
     "text": [
      "Link: <['color']> -> <state>\n"
     ]
    }
   ],
   "source": [
    "# The simplest link is the Link class, which just takes a prompt template and a model\n",
    "link = Link(template=prompt_template, llm=claude)\n",
    "print(link)"
   ]
  },
  {
   "cell_type": "code",
   "execution_count": 11,
   "id": "3a1279bdd677c524",
   "metadata": {
    "ExecuteTime": {
     "end_time": "2024-03-11T14:19:26.283038Z",
     "start_time": "2024-03-11T14:19:22.922762Z"
    },
    "collapsed": false
   },
   "outputs": [
    {
     "name": "stderr",
     "output_type": "stream",
     "text": [
      "[22:01:27] INFO [fence.links.run:197] Executing unnamed Link\n"
     ]
    },
    {
     "data": {
      "text/plain": [
       "{'state': \" The sky appears blue because of Rayleigh scattering. This is when sunlight interacts with molecules in Earth's atmosphere, primarily nitrogen and oxygen. The short wavelengths of light, such as blue and violet, scatter more than the longer wavelengths such as red and infrared. This scattering process causes the blue wavelengths to be scattered all throughout the atmosphere and reach our eyes from all angles of the sky. The more scattered blue light there is, the more blue the sky appears.\"}"
      ]
     },
     "execution_count": 11,
     "metadata": {},
     "output_type": "execute_result"
    }
   ],
   "source": [
    "# Invoke it using the input_dict, NOT keyword arguments\n",
    "link(input_dict={'color': 'blue'}) # Or, equivalently, link.run(input_dict={'color': 'blue'})"
   ]
  },
  {
   "cell_type": "code",
   "execution_count": 12,
   "id": "884bda0b4dca2512",
   "metadata": {
    "ExecuteTime": {
     "end_time": "2024-03-11T14:19:28.317661Z",
     "start_time": "2024-03-11T14:19:26.280601Z"
    },
    "collapsed": false
   },
   "outputs": [
    {
     "name": "stderr",
     "output_type": "stream",
     "text": [
      "[22:01:29] INFO [fence.links.run:197] Executing unnamed Link\n"
     ]
    },
    {
     "data": {
      "text/plain": [
       "{'state': \" The sky appears blue because of Rayleigh scattering. This is when sunlight interacts with molecules in Earth's atmosphere, primarily nitrogen and oxygen. The short wavelengths of light, such as blue and violet, scatter more than the longer wavelengths such as red and infrared. This scattering process causes the blue wavelengths to be scattered all throughout the atmosphere and reach our eyes from all angles of the sky. The more scattered blue light there is, the more blue the sky appears.\",\n",
       " 'intermediate': \" The sky appears blue because of Rayleigh scattering. This is when sunlight interacts with molecules in Earth's atmosphere, primarily nitrogen and oxygen. The short wavelengths of light, such as blue and violet, scatter more than the longer wavelengths such as red and infrared. This scattering process causes the blue wavelengths to be scattered all throughout the atmosphere and reach our eyes from all angles of the sky. The more scattered blue light there is, the more blue the sky appears.\"}"
      ]
     },
     "execution_count": 12,
     "metadata": {},
     "output_type": "execute_result"
    }
   ],
   "source": [
    "# By default, output is stored under 'state'. You can get a copy (e.g., for inspection of intermediate results) by passing a different output key\n",
    "link = Link(template=prompt_template, llm=claude, output_key='intermediate')\n",
    "link.run(input_dict={'color': 'blue'})"
   ]
  },
  {
   "cell_type": "code",
   "execution_count": 13,
   "id": "52913f8c6dece54e",
   "metadata": {
    "ExecuteTime": {
     "end_time": "2024-03-11T14:19:29.787786Z",
     "start_time": "2024-03-11T14:19:28.319675Z"
    },
    "collapsed": false
   },
   "outputs": [
    {
     "name": "stderr",
     "output_type": "stream",
     "text": [
      "[22:01:30] INFO [fence.links.run:197] Executing <sky> Link\n"
     ]
    },
    {
     "data": {
      "text/plain": [
       "{'state': \" The sky appears blue because of Rayleigh scattering. This is when sunlight interacts with molecules in Earth's atmosphere, primarily nitrogen and oxygen. The short wavelengths of light, such as blue and violet, scatter more than the longer wavelengths such as red and infrared. This scattering process causes the blue wavelengths to be scattered all throughout the atmosphere and reach our eyes from all angles of the sky. The more scattered blue light there is, the more blue the sky appears.\"}"
      ]
     },
     "execution_count": 13,
     "metadata": {},
     "output_type": "execute_result"
    }
   ],
   "source": [
    "# You can name your links for easier debugging in logs\n",
    "link = Link(template=prompt_template, llm=claude, name='sky')\n",
    "link.run(input_dict={'color': 'blue'})"
   ]
  },
  {
   "cell_type": "code",
   "execution_count": 14,
   "id": "460c06d5b33c6e87",
   "metadata": {
    "ExecuteTime": {
     "end_time": "2024-03-11T14:19:29.799690Z",
     "start_time": "2024-03-11T14:19:29.791272Z"
    },
    "collapsed": false
   },
   "outputs": [
    {
     "name": "stderr",
     "output_type": "stream",
     "text": [
      "[22:01:32] INFO [fence.links.run:121] Executing Link\n"
     ]
    },
    {
     "data": {
      "text/plain": [
       "{'state': 'Hello and World', 'C': 'Hello and World'}"
      ]
     },
     "execution_count": 14,
     "metadata": {},
     "output_type": "execute_result"
    }
   ],
   "source": [
    "# You can also build TransformationLinks, which take a function that transforms any input_dict into a specific output\n",
    "def concatenate(input: dict):\n",
    "    return f\"{input['X']} and {input['Y']}\"\n",
    "\n",
    "concat_link = TransformationLink(\n",
    "    input_keys=[\"X\", \"Y\"], function=concatenate, output_key=\"C\"\n",
    ")\n",
    "\n",
    "concat_link.run(input_dict={\"X\": \"Hello\", \"Y\": \"World\"})"
   ]
  },
  {
   "cell_type": "markdown",
   "id": "c83119613a5ecf54",
   "metadata": {
    "collapsed": false
   },
   "source": [
    "### 🚀 Level 4 - Use Chains (lol again)"
   ]
  },
  {
   "cell_type": "code",
   "execution_count": 15,
   "id": "a86436d806745ef0",
   "metadata": {
    "ExecuteTime": {
     "end_time": "2024-03-11T14:19:33.533708Z",
     "start_time": "2024-03-11T14:19:29.799302Z"
    },
    "collapsed": false
   },
   "outputs": [
    {
     "name": "stderr",
     "output_type": "stream",
     "text": [
      "[22:01:32] INFO [fence.links.run:197] Executing <opposite> Link\n",
      "[22:01:32] INFO [fence.chains.run:256] 🔑 State keys: ['A', 'B', 'llm', 'state', 'X'] (added: ['state', 'X', 'llm'], removed: [])\n",
      "[22:01:32] INFO [fence.links.run:197] Executing <superlative> Link\n",
      "[22:01:33] INFO [fence.chains.run:256] 🔑 State keys: ['A', 'B', 'llm', 'state', 'X', 'Y'] (added: ['Y'], removed: [])\n",
      "[22:01:33] INFO [fence.links.run:121] Executing Link\n",
      "[22:01:33] INFO [fence.chains.run:256] 🔑 State keys: ['A', 'B', 'llm', 'state', 'X', 'Y', 'C'] (added: ['C'], removed: [])\n",
      "[22:01:33] INFO [fence.links.run:197] Executing <poem> Link\n",
      "[22:01:36] INFO [fence.chains.run:256] 🔑 State keys: ['A', 'B', 'llm', 'state', 'X', 'Y', 'C', 'Z'] (added: ['Z'], removed: [])\n"
     ]
    },
    {
     "name": "stdout",
     "output_type": "stream",
     "text": [
      " The Criminal Optimist\n",
      "\n",
      "I've broken many laws without regret  \n",
      "My actions others surely won't forget\n",
      "Yet still I dream that things will turn out right\n",
      "Hoping the judge will go easy in her might  \n",
      "\n",
      "Behind these bars my mind begins to soar  \n",
      "Imagining the life that's in store  \n",
      "Once I've paid my debt to society\n",
      "The future's full of hope and possibility\n",
      "\n",
      "My heart says this is just a minor slip  \n",
      "That I'll learn from it, then get back on the trip\n",
      "So I stay positive through each lonely night  \n",
      "Trusting better days will soon come into sight\n",
      "\n",
      "The criminal optimist, that's who I am  \n",
      "Believing in redemption as best I can  \n",
      "If I keep the faith that better's coming near  \n",
      "Then maybe hope is all a prisoner needs to hear\n"
     ]
    }
   ],
   "source": [
    "# You can also build Chains, which are just a sequence of links. There are two types of chains: LinearChain and Chain. \n",
    "# LinearChain is a sequence of links, while Chain is a collection of links that are invoked in the right order based on the input and output keys for each Link.\n",
    "\n",
    "# This is a LinearChain #\n",
    "#########################\n",
    "\n",
    "# Build some links\n",
    "link_opposite = Link(\n",
    "    template=StringTemplate(\n",
    "        \"What's the opposite of {A}? Reply with a few words max.\"\n",
    "    ),\n",
    "    name = 'opposite',\n",
    "    output_key=\"X\",\n",
    ")\n",
    "link_superlative = Link(\n",
    "    template=StringTemplate(\n",
    "        \"What's a synonym for {B}. Reply with one word.\"\n",
    "    ),\n",
    "    name='superlative',\n",
    "    output_key=\"Y\",\n",
    ")\n",
    "link_poem = Link(\n",
    "    template=StringTemplate(\n",
    "        \"Write a poem about {state}. Return only the poem, beginning with the title.\"\n",
    "    ),\n",
    "    name='poem',\n",
    "    output_key=\"Z\",\n",
    ")\n",
    "\n",
    "# Now build a LinearChain\n",
    "linear_chain = LinearChain(llm=claude, links=[link_opposite, link_superlative, concat_link, link_poem])\n",
    "\n",
    "# Run it\n",
    "result = linear_chain.run(input_dict={\"A\": \"A police officer\", \"B\": \"Hopeful\"})\n",
    "\n",
    "# Get the output\n",
    "print(result['state'])"
   ]
  },
  {
   "cell_type": "code",
   "execution_count": 16,
   "id": "6d1a3dc176bd9580",
   "metadata": {
    "ExecuteTime": {
     "end_time": "2024-03-11T14:19:33.546693Z",
     "start_time": "2024-03-11T14:19:33.538377Z"
    },
    "collapsed": false
   },
   "outputs": [
    {
     "data": {
      "text/plain": [
       "[Link: superlative <['B']> -> <Y>,\n",
       " Link: opposite <['A']> -> <X>,\n",
       " Link: sentence <['C', 'X', 'Y']> -> <Z>]"
      ]
     },
     "execution_count": 16,
     "metadata": {},
     "output_type": "execute_result"
    }
   ],
   "source": [
    "# A LinearChain will take the presence of the 'state' key into account when invoking the next link.\n",
    "# A Chain will not. However, it has an extra 'feature' in the form of topological sorting. As long as a graph of links can be\n",
    "# extracted from the chain, and the input keys (that are not generated in the chain) are given, the chain will invoke the links in the right order.\n",
    "\n",
    "# This is a Chain #\n",
    "###################\n",
    "link_a = Link(\n",
    "    template=StringTemplate(\n",
    "        \"Capitalize this word: {A}. Only respond with the capitalized version\",\n",
    "    ),\n",
    "    name = 'opposite',\n",
    "    output_key=\"X\",\n",
    ")\n",
    "link_b = Link(\n",
    "    template=StringTemplate(\n",
    "        \"What's a synonym for {B}. Reply with one word.\", \n",
    "    ),\n",
    "    name='superlative',\n",
    "    output_key=\"Y\",\n",
    ")\n",
    "link_c = Link(\n",
    "    template=StringTemplate(\n",
    "        \"Combine {X} and {Y} and {C} in a meaningful sentence.\", \n",
    "    ),\n",
    "    name='sentence',\n",
    "    output_key=\"Z\",\n",
    ")\n",
    "chain = Chain(llm=claude, links=[link_c, link_a, link_b]) # Note that we can pass the links in any order\n",
    "\n",
    "# This is the sorted graph of links\n",
    "chain._topological_sort()"
   ]
  },
  {
   "cell_type": "code",
   "execution_count": 17,
   "id": "f5fca5fd6f655679",
   "metadata": {
    "ExecuteTime": {
     "end_time": "2024-03-11T14:19:33.547415Z",
     "start_time": "2024-03-11T14:19:33.542985Z"
    },
    "collapsed": false
   },
   "outputs": [
    {
     "name": "stdout",
     "output_type": "stream",
     "text": [
      "The following input keys are required: {'B', 'A', 'C'}. Missing: {'C'}\n"
     ]
    }
   ],
   "source": [
    "# Now we can run it\n",
    "try:\n",
    "    result = chain.run(input_dict={\"A\": \"A police officer\", \"B\": \"Hopeful\"})\n",
    "except Exception as e:\n",
    "    print(e)"
   ]
  },
  {
   "cell_type": "code",
   "execution_count": 18,
   "id": "4dabac4f53177f1e",
   "metadata": {
    "ExecuteTime": {
     "end_time": "2024-03-11T14:19:38.149548Z",
     "start_time": "2024-03-11T14:19:33.548517Z"
    },
    "collapsed": false
   },
   "outputs": [
    {
     "name": "stderr",
     "output_type": "stream",
     "text": [
      "[22:01:36] INFO [fence.links.run:197] Executing <superlative> Link\n",
      "[22:01:37] INFO [fence.links.run:197] Executing <opposite> Link\n",
      "[22:01:37] INFO [fence.links.run:197] Executing <sentence> Link\n"
     ]
    },
    {
     "name": "stdout",
     "output_type": "stream",
     "text": [
      " Here is a sentence combining those elements:\n",
      "\n",
      "The optimistic police officer's dog always believed in him and helped brighten his day, even after difficult calls.\n"
     ]
    }
   ],
   "source": [
    "# Woops, forgot something! There's no link that generates the 'C' key. We can pass it in though.\n",
    "result = chain.run(input_dict={\"A\": \"A police officer\", \"B\": \"Hopeful\", \"C\": \"a dog\"})\n",
    "print(result['state'])"
   ]
  },
  {
   "cell_type": "code",
   "execution_count": 19,
   "id": "fd6aa1cb2325cd41",
   "metadata": {
    "ExecuteTime": {
     "end_time": "2024-03-11T14:19:38.155588Z",
     "start_time": "2024-03-11T14:19:38.151911Z"
    },
    "collapsed": false
   },
   "outputs": [
    {
     "name": "stdout",
     "output_type": "stream",
     "text": [
      "Cycle detected in the dependency graph.\n"
     ]
    }
   ],
   "source": [
    "# Cycles are not allowed\n",
    "link_up = Link(\n",
    "    template=StringTemplate(\n",
    "        \"Capitalize this word: {up}. Only respond with the capitalized version\",\n",
    "    ),\n",
    "    name = 'up',\n",
    "    output_key=\"down\",\n",
    ")\n",
    "link_b = Link(\n",
    "    template=StringTemplate(\n",
    "        \"What's a synonym for {down}. Reply with one word.\", \n",
    "    ),\n",
    "    name='down',\n",
    "    output_key=\"up\",\n",
    ")\n",
    "chain = Chain(llm=claude, links=[link_up, link_b])\n",
    "try:\n",
    "    chain._topological_sort()\n",
    "except Exception as e:\n",
    "    print(e)"
   ]
  },
  {
   "cell_type": "code",
   "execution_count": null,
   "id": "b3a8561144f1584c",
   "metadata": {
    "ExecuteTime": {
     "end_time": "2024-03-11T14:19:38.156961Z",
     "start_time": "2024-03-11T14:19:38.154752Z"
    },
    "collapsed": false
   },
   "outputs": [],
   "source": []
  }
 ],
 "metadata": {
  "kernelspec": {
   "display_name": "Python 3",
   "language": "python",
   "name": "python3"
  },
  "language_info": {
   "codemirror_mode": {
    "name": "ipython",
    "version": 3
   },
   "file_extension": ".py",
   "mimetype": "text/x-python",
   "name": "python",
   "nbconvert_exporter": "python",
   "pygments_lexer": "ipython3",
   "version": "3.12.2"
  }
 },
 "nbformat": 4,
 "nbformat_minor": 5
}
