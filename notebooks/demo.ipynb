{
 "cells": [
  {
   "cell_type": "markdown",
   "source": [
    "# 🤺 Fence demo\n",
    "\n",
    "This notebook demonstrates the use of various classes in this package. The core intent of this package is to provide a framework for interacting with language models in a way that is modular, extensible, and easy to use. The core classes are:\n",
    "- `PromptTemplate`: A template for a prompt that can be rendered with a dictionary of variables (or using keywords). It wraps around jinja2.Template, but adds some additional functionality.\n",
    "- `LLM`: A wrapper around a language model. \n",
    "- `Link`: Atomic LLM interaction wrapper. Takes in a PromptTemplate and a language model. It can be invoked with a dictionary of variables, and will return a dictionary of variables.\n",
    "- `TransformationLink`: A wrapper around a `function` that takes a dictionary of variables and returns a dictionary of variables. It can be invoked with a dictionary of variables, and will return a dictionary of variables.\n",
    "- `Chain`: A collection of links that are invoked in the right order based on the input and output keys for each Link.\n",
    "- `LinearChain`: A sequence of links that are invoked in the order they are passed in.\n",
    "\n",
    "Through these classes, we can interact with LLMs in varying degrees of complexity:\n",
    "1. Just call the model directly\n",
    "2. Use a `PromptTemplate` for reusability and abstraction\n",
    "3. Use a `Link` for atomic LLM interaction\n",
    "4. Use a `Chain` to execute a collection of `Links`\n",
    "\n",
    "Below, we'll go through each of these levels of complexity and provide examples.\n",
    "\n",
    "**Note** This notebook assumes you have access to AWS Bedrock, as we use Bedrock's Claude-instant model to fuel our LLM interactions."
   ],
   "metadata": {
    "collapsed": false
   },
   "id": "4e010e381f4d1bbe"
  },
  {
   "cell_type": "code",
   "outputs": [
    {
     "name": "stdout",
     "output_type": "stream",
     "text": [
      "The autoreload extension is already loaded. To reload it, use:\n",
      "  %reload_ext autoreload\n"
     ]
    }
   ],
   "source": [
    "%load_ext autoreload\n",
    "from fence import Link, LLM, ClaudeInstantLLM, TransformationLink, Chain, LinearChain, PromptTemplate"
   ],
   "metadata": {
    "collapsed": true,
    "ExecuteTime": {
     "end_time": "2024-01-23T10:36:07.409966Z",
     "start_time": "2024-01-23T10:36:07.379235Z"
    }
   },
   "id": "initial_id",
   "execution_count": 75
  },
  {
   "cell_type": "markdown",
   "source": [
    "## ⚙️ Setting up"
   ],
   "metadata": {
    "collapsed": false
   },
   "id": "3ac87b524beb586b"
  },
  {
   "cell_type": "code",
   "outputs": [],
   "source": [
    "# Get our model\n",
    "claude = ClaudeInstantLLM(source='demo_notebook')"
   ],
   "metadata": {
    "collapsed": false,
    "ExecuteTime": {
     "end_time": "2024-01-23T10:36:07.445906Z",
     "start_time": "2024-01-23T10:36:07.412200Z"
    }
   },
   "id": "1a411b7c22ebd092",
   "execution_count": 76
  },
  {
   "cell_type": "markdown",
   "source": [
    "### 🪨 Level 1 - Just call the damn thing"
   ],
   "metadata": {
    "collapsed": false
   },
   "id": "efabe783b73b8ec7"
  },
  {
   "cell_type": "code",
   "outputs": [
    {
     "data": {
      "text/plain": "\" The sky appears blue because of Rayleigh scattering. This is when sunlight interacts with molecules in Earth's atmosphere, primarily nitrogen and oxygen. The short wavelengths of light, such as blue and violet, scatter more than the longer wavelengths such as red and infrared. This scattering process causes the blue wavelengths to be scattered all throughout the atmosphere and reach our eyes from all angles of the sky. The more scattered blue light there is, the more blue the sky appears.\""
     },
     "execution_count": 77,
     "metadata": {},
     "output_type": "execute_result"
    }
   ],
   "source": [
    "# Use the invoke method to call the model\n",
    "claude.invoke('Why is the sky blue?')"
   ],
   "metadata": {
    "collapsed": false,
    "ExecuteTime": {
     "end_time": "2024-01-23T10:36:08.944697Z",
     "start_time": "2024-01-23T10:36:07.438924Z"
    }
   },
   "id": "950662b95a79575c",
   "execution_count": 77
  },
  {
   "cell_type": "code",
   "outputs": [
    {
     "data": {
      "text/plain": "\" The sky appears blue because of Rayleigh scattering. This is when sunlight interacts with molecules in Earth's atmosphere, primarily nitrogen and oxygen. The short wavelengths of light, such as blue and violet, scatter more than the longer wavelengths such as red and infrared. This scattering process causes the blue wavelengths to be scattered all throughout the atmosphere and reach our eyes from all angles of the sky. The more scattered blue wavelengths predominate, giving the sky its appearance of blue.\""
     },
     "execution_count": 78,
     "metadata": {},
     "output_type": "execute_result"
    }
   ],
   "source": [
    "# Just call the damn thing\n",
    "claude('Why is the sky blue?')"
   ],
   "metadata": {
    "collapsed": false,
    "ExecuteTime": {
     "end_time": "2024-01-23T10:36:13.213339Z",
     "start_time": "2024-01-23T10:36:08.941640Z"
    }
   },
   "id": "22c4da28c3c3d3b0",
   "execution_count": 78
  },
  {
   "cell_type": "markdown",
   "source": [
    "### 🔨 Level 2 - Use a PromptTemplate"
   ],
   "metadata": {
    "collapsed": false
   },
   "id": "632046188100875d"
  },
  {
   "cell_type": "code",
   "outputs": [
    {
     "name": "stdout",
     "output_type": "stream",
     "text": [
      "PromptTemplate(source=Why is the sky {{color}}?, input_variables=['color'])\n"
     ]
    }
   ],
   "source": [
    "# Initialize a prompt template\n",
    "prompt_template = PromptTemplate('Why is the sky {{color}}?', input_variables=['color'])\n",
    "print(prompt_template)"
   ],
   "metadata": {
    "collapsed": false,
    "ExecuteTime": {
     "end_time": "2024-01-23T10:36:13.226595Z",
     "start_time": "2024-01-23T10:36:13.215038Z"
    }
   },
   "id": "afe2b6d1d4078270",
   "execution_count": 79
  },
  {
   "cell_type": "code",
   "outputs": [
    {
     "name": "stdout",
     "output_type": "stream",
     "text": [
      "Why is the sky blue?\n",
      "Why is the sky red?\n",
      "Why is the sky blue?\n"
     ]
    }
   ],
   "source": [
    "# Render it with a dictionary\n",
    "print(prompt_template.render({'color': 'blue'}))\n",
    "\n",
    "# Render it with keyword arguments\n",
    "print(prompt_template.render(color='red'))\n",
    "\n",
    "# Input dict takes precedence over keyword arguments\n",
    "print(prompt_template.render(input_dict={'color': 'blue'}, color='red'))"
   ],
   "metadata": {
    "collapsed": false,
    "ExecuteTime": {
     "end_time": "2024-01-23T10:36:13.227177Z",
     "start_time": "2024-01-23T10:36:13.222595Z"
    }
   },
   "id": "9901374952217046",
   "execution_count": 80
  },
  {
   "cell_type": "code",
   "outputs": [
    {
     "name": "stdout",
     "output_type": "stream",
     "text": [
      "PromptTemplate(source=Why is the sky {{color}}? Why is the grass {{color}}? I like a dress with {{pattern}}., input_variables=['pattern', 'color'])\n",
      "Why is the sky blue? Why is the grass blue? I like a dress with polka dots.\n"
     ]
    }
   ],
   "source": [
    "# You can concatenate prompt templates, input variables are merged\n",
    "prompt_template_sky = PromptTemplate('Why is the sky {{color}}?', input_variables=['color'])\n",
    "prompt_template_grass = PromptTemplate('Why is the grass {{color}}?', input_variables=['color'])\n",
    "prompt_template_dress = PromptTemplate('I like a dress with {{pattern}}.', input_variables=['pattern'])\n",
    "combined_prompt_template = prompt_template_sky + prompt_template_grass + prompt_template_dress\n",
    "print(combined_prompt_template)\n",
    "print(combined_prompt_template.render({'color': 'blue', 'pattern': 'polka dots'}))"
   ],
   "metadata": {
    "collapsed": false,
    "ExecuteTime": {
     "end_time": "2024-01-23T10:36:13.230387Z",
     "start_time": "2024-01-23T10:36:13.226006Z"
    }
   },
   "id": "a5dca91633a69af",
   "execution_count": 81
  },
  {
   "cell_type": "code",
   "outputs": [
    {
     "name": "stdout",
     "output_type": "stream",
     "text": [
      "Why is the sky blue? FUNKY TOWN Why is the grass blue?\n"
     ]
    }
   ],
   "source": [
    "# You can customize the separator\n",
    "base_template = PromptTemplate('Why is the sky {{color}}?', input_variables=['color'], separator=' FUNKY TOWN ')\n",
    "additional_template = PromptTemplate('Why is the grass {{color}}?', input_variables=['color'])\n",
    "print((base_template + additional_template).render({'color': 'blue'}))"
   ],
   "metadata": {
    "collapsed": false,
    "ExecuteTime": {
     "end_time": "2024-01-23T10:36:13.272393Z",
     "start_time": "2024-01-23T10:36:13.231673Z"
    }
   },
   "id": "9d7766d8c7a53b12",
   "execution_count": 82
  },
  {
   "cell_type": "markdown",
   "source": [
    "### 🧠 Level 3 - Use Links (lol)\n",
    "\n",
    "What are Links? In this context, they represent atomic components of LLM interaction. That means they should be able to be strung together to form a Chain, although they can be used independently as well."
   ],
   "metadata": {
    "collapsed": false
   },
   "id": "8e5617e437fb30fc"
  },
  {
   "cell_type": "code",
   "outputs": [
    {
     "name": "stdout",
     "output_type": "stream",
     "text": [
      "Link: <['color']> -> <state>\n"
     ]
    }
   ],
   "source": [
    "# The simplest link is the Link class, which just takes a prompt template and a model\n",
    "link = Link(template=prompt_template, llm=claude)\n",
    "print(link)"
   ],
   "metadata": {
    "collapsed": false,
    "ExecuteTime": {
     "end_time": "2024-01-23T10:36:13.272730Z",
     "start_time": "2024-01-23T10:36:13.234104Z"
    }
   },
   "id": "219ef991de4352a6",
   "execution_count": 83
  },
  {
   "cell_type": "code",
   "outputs": [
    {
     "data": {
      "text/plain": "\u001B[2;36m[11:36:13]\u001B[0m\u001B[2;36m \u001B[0m\u001B[34mINFO    \u001B[0m 🖇️ Executing  Link with input: \u001B[1m{\u001B[0m\u001B[32m'color'\u001B[0m: \u001B[32m'blue'\u001B[0m\u001B[1m}\u001B[0m                                                                                \u001B]8;id=838681;file:///Users/wouter.durnez/Documents/Repositories/test-ai-message-composer/fence/src/llm/chains.py\u001B\\\u001B[2mchains.py\u001B[0m\u001B]8;;\u001B\\\u001B[2m:\u001B[0m\u001B]8;id=437341;file:///Users/wouter.durnez/Documents/Repositories/test-ai-message-composer/fence/src/llm/chains.py#214\u001B\\\u001B[2m214\u001B[0m\u001B]8;;\u001B\\\n",
      "text/html": "<pre style=\"white-space:pre;overflow-x:auto;line-height:normal;font-family:Menlo,'DejaVu Sans Mono',consolas,'Courier New',monospace\"><span style=\"color: #7fbfbf; text-decoration-color: #7fbfbf\">[11:36:13] </span><span style=\"color: #000080; text-decoration-color: #000080\">INFO    </span> 🖇️ Executing  Link with input: <span style=\"font-weight: bold\">{</span><span style=\"color: #008000; text-decoration-color: #008000\">'color'</span>: <span style=\"color: #008000; text-decoration-color: #008000\">'blue'</span><span style=\"font-weight: bold\">}</span>                                                                                <a href=\"file:///Users/wouter.durnez/Documents/Repositories/test-ai-message-composer/fence/src/llm/chains.py\" target=\"_blank\"><span style=\"color: #7f7f7f; text-decoration-color: #7f7f7f\">chains.py</span></a><span style=\"color: #7f7f7f; text-decoration-color: #7f7f7f\">:</span><a href=\"file:///Users/wouter.durnez/Documents/Repositories/test-ai-message-composer/fence/src/llm/chains.py#214\" target=\"_blank\"><span style=\"color: #7f7f7f; text-decoration-color: #7f7f7f\">214</span></a>\n</pre>\n"
     },
     "metadata": {},
     "output_type": "display_data"
    },
    {
     "data": {
      "text/plain": "\u001B[2;36m[11:36:14]\u001B[0m\u001B[2;36m \u001B[0m\u001B[34mINFO    \u001B[0m 🧐 Current state:  The sky appears blue because of Rayleigh scattering. This is when sunlight interacts with molecules in      \u001B]8;id=304190;file:///Users/wouter.durnez/Documents/Repositories/test-ai-message-composer/fence/src/llm/chains.py\u001B\\\u001B[2mchains.py\u001B[0m\u001B]8;;\u001B\\\u001B[2m:\u001B[0m\u001B]8;id=62441;file:///Users/wouter.durnez/Documents/Repositories/test-ai-message-composer/fence/src/llm/chains.py#270\u001B\\\u001B[2m270\u001B[0m\u001B]8;;\u001B\\\n\u001B[2;36m           \u001B[0m         Earth's atmosphere, primarily nitrogen and oxygen. The short wavelengths of light, such as blue and violet, scatter more than  \u001B[2m             \u001B[0m\n\u001B[2;36m           \u001B[0m         the longer wavelengths such as red and infrared. This scattering process causes the blue wavelengths to be scattered all       \u001B[2m             \u001B[0m\n\u001B[2;36m           \u001B[0m         throughout the atmosphere and reach our eyes from all angles of the sky. The more scattered blue wavelengths predominate,      \u001B[2m             \u001B[0m\n\u001B[2;36m           \u001B[0m         giving the sky its blue color.                                                                                                 \u001B[2m             \u001B[0m\n",
      "text/html": "<pre style=\"white-space:pre;overflow-x:auto;line-height:normal;font-family:Menlo,'DejaVu Sans Mono',consolas,'Courier New',monospace\"><span style=\"color: #7fbfbf; text-decoration-color: #7fbfbf\">[11:36:14] </span><span style=\"color: #000080; text-decoration-color: #000080\">INFO    </span> 🧐 Current state:  The sky appears blue because of Rayleigh scattering. This is when sunlight interacts with molecules in      <a href=\"file:///Users/wouter.durnez/Documents/Repositories/test-ai-message-composer/fence/src/llm/chains.py\" target=\"_blank\"><span style=\"color: #7f7f7f; text-decoration-color: #7f7f7f\">chains.py</span></a><span style=\"color: #7f7f7f; text-decoration-color: #7f7f7f\">:</span><a href=\"file:///Users/wouter.durnez/Documents/Repositories/test-ai-message-composer/fence/src/llm/chains.py#270\" target=\"_blank\"><span style=\"color: #7f7f7f; text-decoration-color: #7f7f7f\">270</span></a>\n<span style=\"color: #7fbfbf; text-decoration-color: #7fbfbf\">           </span>         Earth's atmosphere, primarily nitrogen and oxygen. The short wavelengths of light, such as blue and violet, scatter more than  <span style=\"color: #7f7f7f; text-decoration-color: #7f7f7f\">             </span>\n<span style=\"color: #7fbfbf; text-decoration-color: #7fbfbf\">           </span>         the longer wavelengths such as red and infrared. This scattering process causes the blue wavelengths to be scattered all       <span style=\"color: #7f7f7f; text-decoration-color: #7f7f7f\">             </span>\n<span style=\"color: #7fbfbf; text-decoration-color: #7fbfbf\">           </span>         throughout the atmosphere and reach our eyes from all angles of the sky. The more scattered blue wavelengths predominate,      <span style=\"color: #7f7f7f; text-decoration-color: #7f7f7f\">             </span>\n<span style=\"color: #7fbfbf; text-decoration-color: #7fbfbf\">           </span>         giving the sky its blue color.                                                                                                 <span style=\"color: #7f7f7f; text-decoration-color: #7f7f7f\">             </span>\n</pre>\n"
     },
     "metadata": {},
     "output_type": "display_data"
    },
    {
     "data": {
      "text/plain": "{'state': \" The sky appears blue because of Rayleigh scattering. This is when sunlight interacts with molecules in Earth's atmosphere, primarily nitrogen and oxygen. The short wavelengths of light, such as blue and violet, scatter more than the longer wavelengths such as red and infrared. This scattering process causes the blue wavelengths to be scattered all throughout the atmosphere and reach our eyes from all angles of the sky. The more scattered blue wavelengths predominate, giving the sky its blue color.\"}"
     },
     "execution_count": 84,
     "metadata": {},
     "output_type": "execute_result"
    }
   ],
   "source": [
    "# Invoke it using the input_dict, NOT keyword arguments\n",
    "link(input_dict={'color': 'blue'}) # Or, equivalently, link.run(input_dict={'color': 'blue'})"
   ],
   "metadata": {
    "collapsed": false,
    "ExecuteTime": {
     "end_time": "2024-01-23T10:36:14.747729Z",
     "start_time": "2024-01-23T10:36:13.236389Z"
    }
   },
   "id": "3a1279bdd677c524",
   "execution_count": 84
  },
  {
   "cell_type": "code",
   "outputs": [
    {
     "data": {
      "text/plain": "\u001B[2;36m          \u001B[0m\u001B[2;36m \u001B[0m\u001B[34mINFO    \u001B[0m 🖇️ Executing  Link with input: \u001B[1m{\u001B[0m\u001B[32m'color'\u001B[0m: \u001B[32m'blue'\u001B[0m\u001B[1m}\u001B[0m                                                                                \u001B]8;id=860492;file:///Users/wouter.durnez/Documents/Repositories/test-ai-message-composer/fence/src/llm/chains.py\u001B\\\u001B[2mchains.py\u001B[0m\u001B]8;;\u001B\\\u001B[2m:\u001B[0m\u001B]8;id=357944;file:///Users/wouter.durnez/Documents/Repositories/test-ai-message-composer/fence/src/llm/chains.py#214\u001B\\\u001B[2m214\u001B[0m\u001B]8;;\u001B\\\n",
      "text/html": "<pre style=\"white-space:pre;overflow-x:auto;line-height:normal;font-family:Menlo,'DejaVu Sans Mono',consolas,'Courier New',monospace\"><span style=\"color: #7fbfbf; text-decoration-color: #7fbfbf\">           </span><span style=\"color: #000080; text-decoration-color: #000080\">INFO    </span> 🖇️ Executing  Link with input: <span style=\"font-weight: bold\">{</span><span style=\"color: #008000; text-decoration-color: #008000\">'color'</span>: <span style=\"color: #008000; text-decoration-color: #008000\">'blue'</span><span style=\"font-weight: bold\">}</span>                                                                                <a href=\"file:///Users/wouter.durnez/Documents/Repositories/test-ai-message-composer/fence/src/llm/chains.py\" target=\"_blank\"><span style=\"color: #7f7f7f; text-decoration-color: #7f7f7f\">chains.py</span></a><span style=\"color: #7f7f7f; text-decoration-color: #7f7f7f\">:</span><a href=\"file:///Users/wouter.durnez/Documents/Repositories/test-ai-message-composer/fence/src/llm/chains.py#214\" target=\"_blank\"><span style=\"color: #7f7f7f; text-decoration-color: #7f7f7f\">214</span></a>\n</pre>\n"
     },
     "metadata": {},
     "output_type": "display_data"
    },
    {
     "data": {
      "text/plain": "\u001B[2;36m[11:36:18]\u001B[0m\u001B[2;36m \u001B[0m\u001B[34mINFO    \u001B[0m 🧐 Current state:  The sky appears blue because of Rayleigh scattering. This is when sunlight interacts with molecules in      \u001B]8;id=316993;file:///Users/wouter.durnez/Documents/Repositories/test-ai-message-composer/fence/src/llm/chains.py\u001B\\\u001B[2mchains.py\u001B[0m\u001B]8;;\u001B\\\u001B[2m:\u001B[0m\u001B]8;id=726073;file:///Users/wouter.durnez/Documents/Repositories/test-ai-message-composer/fence/src/llm/chains.py#270\u001B\\\u001B[2m270\u001B[0m\u001B]8;;\u001B\\\n\u001B[2;36m           \u001B[0m         Earth's atmosphere, primarily nitrogen and oxygen. The short wavelengths of light, such as blue and violet, scatter more than  \u001B[2m             \u001B[0m\n\u001B[2;36m           \u001B[0m         the longer wavelengths such as red and infrared. This scattering process causes the blue wavelengths to be scattered all       \u001B[2m             \u001B[0m\n\u001B[2;36m           \u001B[0m         throughout the atmosphere and reach our eyes from all angles of the sky. The more scattered blue light there is, the more blue \u001B[2m             \u001B[0m\n\u001B[2;36m           \u001B[0m         the sky appears.                                                                                                               \u001B[2m             \u001B[0m\n",
      "text/html": "<pre style=\"white-space:pre;overflow-x:auto;line-height:normal;font-family:Menlo,'DejaVu Sans Mono',consolas,'Courier New',monospace\"><span style=\"color: #7fbfbf; text-decoration-color: #7fbfbf\">[11:36:18] </span><span style=\"color: #000080; text-decoration-color: #000080\">INFO    </span> 🧐 Current state:  The sky appears blue because of Rayleigh scattering. This is when sunlight interacts with molecules in      <a href=\"file:///Users/wouter.durnez/Documents/Repositories/test-ai-message-composer/fence/src/llm/chains.py\" target=\"_blank\"><span style=\"color: #7f7f7f; text-decoration-color: #7f7f7f\">chains.py</span></a><span style=\"color: #7f7f7f; text-decoration-color: #7f7f7f\">:</span><a href=\"file:///Users/wouter.durnez/Documents/Repositories/test-ai-message-composer/fence/src/llm/chains.py#270\" target=\"_blank\"><span style=\"color: #7f7f7f; text-decoration-color: #7f7f7f\">270</span></a>\n<span style=\"color: #7fbfbf; text-decoration-color: #7fbfbf\">           </span>         Earth's atmosphere, primarily nitrogen and oxygen. The short wavelengths of light, such as blue and violet, scatter more than  <span style=\"color: #7f7f7f; text-decoration-color: #7f7f7f\">             </span>\n<span style=\"color: #7fbfbf; text-decoration-color: #7fbfbf\">           </span>         the longer wavelengths such as red and infrared. This scattering process causes the blue wavelengths to be scattered all       <span style=\"color: #7f7f7f; text-decoration-color: #7f7f7f\">             </span>\n<span style=\"color: #7fbfbf; text-decoration-color: #7fbfbf\">           </span>         throughout the atmosphere and reach our eyes from all angles of the sky. The more scattered blue light there is, the more blue <span style=\"color: #7f7f7f; text-decoration-color: #7f7f7f\">             </span>\n<span style=\"color: #7fbfbf; text-decoration-color: #7fbfbf\">           </span>         the sky appears.                                                                                                               <span style=\"color: #7f7f7f; text-decoration-color: #7f7f7f\">             </span>\n</pre>\n"
     },
     "metadata": {},
     "output_type": "display_data"
    },
    {
     "data": {
      "text/plain": "{'state': \" The sky appears blue because of Rayleigh scattering. This is when sunlight interacts with molecules in Earth's atmosphere, primarily nitrogen and oxygen. The short wavelengths of light, such as blue and violet, scatter more than the longer wavelengths such as red and infrared. This scattering process causes the blue wavelengths to be scattered all throughout the atmosphere and reach our eyes from all angles of the sky. The more scattered blue light there is, the more blue the sky appears.\",\n 'intermediate': \" The sky appears blue because of Rayleigh scattering. This is when sunlight interacts with molecules in Earth's atmosphere, primarily nitrogen and oxygen. The short wavelengths of light, such as blue and violet, scatter more than the longer wavelengths such as red and infrared. This scattering process causes the blue wavelengths to be scattered all throughout the atmosphere and reach our eyes from all angles of the sky. The more scattered blue light there is, the more blue the sky appears.\"}"
     },
     "execution_count": 85,
     "metadata": {},
     "output_type": "execute_result"
    }
   ],
   "source": [
    "# By default, output is stored under 'state'. You can get a copy (e.g., for inspection of intermediate results) by passing a different output key\n",
    "link = Link(template=prompt_template, llm=claude, output_key='intermediate')\n",
    "link.run(input_dict={'color': 'blue'})"
   ],
   "metadata": {
    "collapsed": false,
    "ExecuteTime": {
     "end_time": "2024-01-23T10:36:18.442479Z",
     "start_time": "2024-01-23T10:36:14.741953Z"
    }
   },
   "id": "884bda0b4dca2512",
   "execution_count": 85
  },
  {
   "cell_type": "code",
   "outputs": [
    {
     "data": {
      "text/plain": "\u001B[2;36m          \u001B[0m\u001B[2;36m \u001B[0m\u001B[34mINFO    \u001B[0m 🖇️ Executing \u001B[1m<\u001B[0m\u001B[1;95msky\u001B[0m\u001B[1m>\u001B[0m Link with input: \u001B[1m{\u001B[0m\u001B[32m'color'\u001B[0m: \u001B[32m'blue'\u001B[0m\u001B[1m}\u001B[0m                                                                           \u001B]8;id=594579;file:///Users/wouter.durnez/Documents/Repositories/test-ai-message-composer/fence/src/llm/chains.py\u001B\\\u001B[2mchains.py\u001B[0m\u001B]8;;\u001B\\\u001B[2m:\u001B[0m\u001B]8;id=701323;file:///Users/wouter.durnez/Documents/Repositories/test-ai-message-composer/fence/src/llm/chains.py#214\u001B\\\u001B[2m214\u001B[0m\u001B]8;;\u001B\\\n",
      "text/html": "<pre style=\"white-space:pre;overflow-x:auto;line-height:normal;font-family:Menlo,'DejaVu Sans Mono',consolas,'Courier New',monospace\"><span style=\"color: #7fbfbf; text-decoration-color: #7fbfbf\">           </span><span style=\"color: #000080; text-decoration-color: #000080\">INFO    </span> 🖇️ Executing <span style=\"font-weight: bold\">&lt;</span><span style=\"color: #ff00ff; text-decoration-color: #ff00ff; font-weight: bold\">sky</span><span style=\"font-weight: bold\">&gt;</span> Link with input: <span style=\"font-weight: bold\">{</span><span style=\"color: #008000; text-decoration-color: #008000\">'color'</span>: <span style=\"color: #008000; text-decoration-color: #008000\">'blue'</span><span style=\"font-weight: bold\">}</span>                                                                           <a href=\"file:///Users/wouter.durnez/Documents/Repositories/test-ai-message-composer/fence/src/llm/chains.py\" target=\"_blank\"><span style=\"color: #7f7f7f; text-decoration-color: #7f7f7f\">chains.py</span></a><span style=\"color: #7f7f7f; text-decoration-color: #7f7f7f\">:</span><a href=\"file:///Users/wouter.durnez/Documents/Repositories/test-ai-message-composer/fence/src/llm/chains.py#214\" target=\"_blank\"><span style=\"color: #7f7f7f; text-decoration-color: #7f7f7f\">214</span></a>\n</pre>\n"
     },
     "metadata": {},
     "output_type": "display_data"
    },
    {
     "data": {
      "text/plain": "\u001B[2;36m[11:36:20]\u001B[0m\u001B[2;36m \u001B[0m\u001B[34mINFO    \u001B[0m 🧐 Current state:  The sky appears blue because of Rayleigh scattering. This is when sunlight interacts with molecules in      \u001B]8;id=331035;file:///Users/wouter.durnez/Documents/Repositories/test-ai-message-composer/fence/src/llm/chains.py\u001B\\\u001B[2mchains.py\u001B[0m\u001B]8;;\u001B\\\u001B[2m:\u001B[0m\u001B]8;id=390387;file:///Users/wouter.durnez/Documents/Repositories/test-ai-message-composer/fence/src/llm/chains.py#270\u001B\\\u001B[2m270\u001B[0m\u001B]8;;\u001B\\\n\u001B[2;36m           \u001B[0m         Earth's atmosphere, primarily nitrogen and oxygen. The short wavelengths of light, such as blue and violet, scatter more than  \u001B[2m             \u001B[0m\n\u001B[2;36m           \u001B[0m         the longer wavelengths such as red and infrared. This scattering process causes the blue wavelengths to be scattered all       \u001B[2m             \u001B[0m\n\u001B[2;36m           \u001B[0m         throughout the atmosphere and reach our eyes from all angles of the sky. The more scattered blue wavelengths predominate,      \u001B[2m             \u001B[0m\n\u001B[2;36m           \u001B[0m         giving the sky its blue color.                                                                                                 \u001B[2m             \u001B[0m\n",
      "text/html": "<pre style=\"white-space:pre;overflow-x:auto;line-height:normal;font-family:Menlo,'DejaVu Sans Mono',consolas,'Courier New',monospace\"><span style=\"color: #7fbfbf; text-decoration-color: #7fbfbf\">[11:36:20] </span><span style=\"color: #000080; text-decoration-color: #000080\">INFO    </span> 🧐 Current state:  The sky appears blue because of Rayleigh scattering. This is when sunlight interacts with molecules in      <a href=\"file:///Users/wouter.durnez/Documents/Repositories/test-ai-message-composer/fence/src/llm/chains.py\" target=\"_blank\"><span style=\"color: #7f7f7f; text-decoration-color: #7f7f7f\">chains.py</span></a><span style=\"color: #7f7f7f; text-decoration-color: #7f7f7f\">:</span><a href=\"file:///Users/wouter.durnez/Documents/Repositories/test-ai-message-composer/fence/src/llm/chains.py#270\" target=\"_blank\"><span style=\"color: #7f7f7f; text-decoration-color: #7f7f7f\">270</span></a>\n<span style=\"color: #7fbfbf; text-decoration-color: #7fbfbf\">           </span>         Earth's atmosphere, primarily nitrogen and oxygen. The short wavelengths of light, such as blue and violet, scatter more than  <span style=\"color: #7f7f7f; text-decoration-color: #7f7f7f\">             </span>\n<span style=\"color: #7fbfbf; text-decoration-color: #7fbfbf\">           </span>         the longer wavelengths such as red and infrared. This scattering process causes the blue wavelengths to be scattered all       <span style=\"color: #7f7f7f; text-decoration-color: #7f7f7f\">             </span>\n<span style=\"color: #7fbfbf; text-decoration-color: #7fbfbf\">           </span>         throughout the atmosphere and reach our eyes from all angles of the sky. The more scattered blue wavelengths predominate,      <span style=\"color: #7f7f7f; text-decoration-color: #7f7f7f\">             </span>\n<span style=\"color: #7fbfbf; text-decoration-color: #7fbfbf\">           </span>         giving the sky its blue color.                                                                                                 <span style=\"color: #7f7f7f; text-decoration-color: #7f7f7f\">             </span>\n</pre>\n"
     },
     "metadata": {},
     "output_type": "display_data"
    },
    {
     "data": {
      "text/plain": "{'state': \" The sky appears blue because of Rayleigh scattering. This is when sunlight interacts with molecules in Earth's atmosphere, primarily nitrogen and oxygen. The short wavelengths of light, such as blue and violet, scatter more than the longer wavelengths such as red and infrared. This scattering process causes the blue wavelengths to be scattered all throughout the atmosphere and reach our eyes from all angles of the sky. The more scattered blue wavelengths predominate, giving the sky its blue color.\"}"
     },
     "execution_count": 86,
     "metadata": {},
     "output_type": "execute_result"
    }
   ],
   "source": [
    "# You can name your links for easier debugging in logs\n",
    "link = Link(template=prompt_template, llm=claude, name='sky')\n",
    "link.run(input_dict={'color': 'blue'})"
   ],
   "metadata": {
    "collapsed": false,
    "ExecuteTime": {
     "end_time": "2024-01-23T10:36:20.061272Z",
     "start_time": "2024-01-23T10:36:18.446433Z"
    }
   },
   "id": "52913f8c6dece54e",
   "execution_count": 86
  },
  {
   "cell_type": "code",
   "outputs": [
    {
     "data": {
      "text/plain": "{'state': 'Hello and World', 'C': 'Hello and World'}"
     },
     "execution_count": 87,
     "metadata": {},
     "output_type": "execute_result"
    }
   ],
   "source": [
    "# You can also build TransformationLinks, which take a function that transforms any input_dict into a specific output\n",
    "def concatenate(x, y):\n",
    "    return f\"{x} and {y}\"\n",
    "\n",
    "concat_link = TransformationLink(\n",
    "    input_keys=[\"X\", \"Y\"], function=concatenate, output_key=\"C\"\n",
    ")\n",
    "\n",
    "concat_link.run(input_dict={\"X\": \"Hello\", \"Y\": \"World\"})"
   ],
   "metadata": {
    "collapsed": false,
    "ExecuteTime": {
     "end_time": "2024-01-23T10:36:20.062153Z",
     "start_time": "2024-01-23T10:36:20.051052Z"
    }
   },
   "id": "460c06d5b33c6e87",
   "execution_count": 87
  },
  {
   "cell_type": "markdown",
   "source": [
    "### 🚀 Level 4 - Use Chains (lol again)"
   ],
   "metadata": {
    "collapsed": false
   },
   "id": "c83119613a5ecf54"
  },
  {
   "cell_type": "code",
   "outputs": [
    {
     "data": {
      "text/plain": "\u001B[2;36m          \u001B[0m\u001B[2;36m \u001B[0m\u001B[34mINFO    \u001B[0m 🖇️ Executing \u001B[1m<\u001B[0m\u001B[1;95mopposite\u001B[0m\u001B[1m>\u001B[0m Link with input: \u001B[1m{\u001B[0m\u001B[32m'A'\u001B[0m: \u001B[32m'A police officer'\u001B[0m, \u001B[32m'B'\u001B[0m: \u001B[32m'Hopeful'\u001B[0m\u001B[1m}\u001B[0m                                              \u001B]8;id=688919;file:///Users/wouter.durnez/Documents/Repositories/test-ai-message-composer/fence/src/llm/chains.py\u001B\\\u001B[2mchains.py\u001B[0m\u001B]8;;\u001B\\\u001B[2m:\u001B[0m\u001B]8;id=474751;file:///Users/wouter.durnez/Documents/Repositories/test-ai-message-composer/fence/src/llm/chains.py#214\u001B\\\u001B[2m214\u001B[0m\u001B]8;;\u001B\\\n",
      "text/html": "<pre style=\"white-space:pre;overflow-x:auto;line-height:normal;font-family:Menlo,'DejaVu Sans Mono',consolas,'Courier New',monospace\"><span style=\"color: #7fbfbf; text-decoration-color: #7fbfbf\">           </span><span style=\"color: #000080; text-decoration-color: #000080\">INFO    </span> 🖇️ Executing <span style=\"font-weight: bold\">&lt;</span><span style=\"color: #ff00ff; text-decoration-color: #ff00ff; font-weight: bold\">opposite</span><span style=\"font-weight: bold\">&gt;</span> Link with input: <span style=\"font-weight: bold\">{</span><span style=\"color: #008000; text-decoration-color: #008000\">'A'</span>: <span style=\"color: #008000; text-decoration-color: #008000\">'A police officer'</span>, <span style=\"color: #008000; text-decoration-color: #008000\">'B'</span>: <span style=\"color: #008000; text-decoration-color: #008000\">'Hopeful'</span><span style=\"font-weight: bold\">}</span>                                              <a href=\"file:///Users/wouter.durnez/Documents/Repositories/test-ai-message-composer/fence/src/llm/chains.py\" target=\"_blank\"><span style=\"color: #7f7f7f; text-decoration-color: #7f7f7f\">chains.py</span></a><span style=\"color: #7f7f7f; text-decoration-color: #7f7f7f\">:</span><a href=\"file:///Users/wouter.durnez/Documents/Repositories/test-ai-message-composer/fence/src/llm/chains.py#214\" target=\"_blank\"><span style=\"color: #7f7f7f; text-decoration-color: #7f7f7f\">214</span></a>\n</pre>\n"
     },
     "metadata": {},
     "output_type": "display_data"
    },
    {
     "data": {
      "text/plain": "\u001B[2;36m[11:36:23]\u001B[0m\u001B[2;36m \u001B[0m\u001B[34mINFO    \u001B[0m 🧐 Current state:  Criminal.                                                                                                   \u001B]8;id=223405;file:///Users/wouter.durnez/Documents/Repositories/test-ai-message-composer/fence/src/llm/chains.py\u001B\\\u001B[2mchains.py\u001B[0m\u001B]8;;\u001B\\\u001B[2m:\u001B[0m\u001B]8;id=7940;file:///Users/wouter.durnez/Documents/Repositories/test-ai-message-composer/fence/src/llm/chains.py#270\u001B\\\u001B[2m270\u001B[0m\u001B]8;;\u001B\\\n",
      "text/html": "<pre style=\"white-space:pre;overflow-x:auto;line-height:normal;font-family:Menlo,'DejaVu Sans Mono',consolas,'Courier New',monospace\"><span style=\"color: #7fbfbf; text-decoration-color: #7fbfbf\">[11:36:23] </span><span style=\"color: #000080; text-decoration-color: #000080\">INFO    </span> 🧐 Current state:  Criminal.                                                                                                   <a href=\"file:///Users/wouter.durnez/Documents/Repositories/test-ai-message-composer/fence/src/llm/chains.py\" target=\"_blank\"><span style=\"color: #7f7f7f; text-decoration-color: #7f7f7f\">chains.py</span></a><span style=\"color: #7f7f7f; text-decoration-color: #7f7f7f\">:</span><a href=\"file:///Users/wouter.durnez/Documents/Repositories/test-ai-message-composer/fence/src/llm/chains.py#270\" target=\"_blank\"><span style=\"color: #7f7f7f; text-decoration-color: #7f7f7f\">270</span></a>\n</pre>\n"
     },
     "metadata": {},
     "output_type": "display_data"
    },
    {
     "data": {
      "text/plain": "\u001B[2;36m          \u001B[0m\u001B[2;36m \u001B[0m\u001B[34mINFO    \u001B[0m 🔑 State keys: \u001B[1m[\u001B[0m\u001B[32m'A'\u001B[0m, \u001B[32m'B'\u001B[0m, \u001B[32m'state'\u001B[0m, \u001B[32m'X'\u001B[0m\u001B[1m]\u001B[0m \u001B[1m(\u001B[0madded: \u001B[1m[\u001B[0m\u001B[32m'state'\u001B[0m, \u001B[32m'X'\u001B[0m\u001B[1m]\u001B[0m, removed: \u001B[1m[\u001B[0m\u001B[1m]\u001B[0m\u001B[1m)\u001B[0m                                                   \u001B]8;id=874008;file:///Users/wouter.durnez/Documents/Repositories/test-ai-message-composer/fence/src/llm/chains.py\u001B\\\u001B[2mchains.py\u001B[0m\u001B]8;;\u001B\\\u001B[2m:\u001B[0m\u001B]8;id=718570;file:///Users/wouter.durnez/Documents/Repositories/test-ai-message-composer/fence/src/llm/chains.py#443\u001B\\\u001B[2m443\u001B[0m\u001B]8;;\u001B\\\n",
      "text/html": "<pre style=\"white-space:pre;overflow-x:auto;line-height:normal;font-family:Menlo,'DejaVu Sans Mono',consolas,'Courier New',monospace\"><span style=\"color: #7fbfbf; text-decoration-color: #7fbfbf\">           </span><span style=\"color: #000080; text-decoration-color: #000080\">INFO    </span> 🔑 State keys: <span style=\"font-weight: bold\">[</span><span style=\"color: #008000; text-decoration-color: #008000\">'A'</span>, <span style=\"color: #008000; text-decoration-color: #008000\">'B'</span>, <span style=\"color: #008000; text-decoration-color: #008000\">'state'</span>, <span style=\"color: #008000; text-decoration-color: #008000\">'X'</span><span style=\"font-weight: bold\">]</span> <span style=\"font-weight: bold\">(</span>added: <span style=\"font-weight: bold\">[</span><span style=\"color: #008000; text-decoration-color: #008000\">'state'</span>, <span style=\"color: #008000; text-decoration-color: #008000\">'X'</span><span style=\"font-weight: bold\">]</span>, removed: <span style=\"font-weight: bold\">[])</span>                                                   <a href=\"file:///Users/wouter.durnez/Documents/Repositories/test-ai-message-composer/fence/src/llm/chains.py\" target=\"_blank\"><span style=\"color: #7f7f7f; text-decoration-color: #7f7f7f\">chains.py</span></a><span style=\"color: #7f7f7f; text-decoration-color: #7f7f7f\">:</span><a href=\"file:///Users/wouter.durnez/Documents/Repositories/test-ai-message-composer/fence/src/llm/chains.py#443\" target=\"_blank\"><span style=\"color: #7f7f7f; text-decoration-color: #7f7f7f\">443</span></a>\n</pre>\n"
     },
     "metadata": {},
     "output_type": "display_data"
    },
    {
     "data": {
      "text/plain": "\u001B[2;36m          \u001B[0m\u001B[2;36m \u001B[0m\u001B[34mINFO    \u001B[0m 🖇️ Executing \u001B[1m<\u001B[0m\u001B[1;95msuperlative\u001B[0m\u001B[1m>\u001B[0m Link with input: \u001B[1m{\u001B[0m\u001B[32m'A'\u001B[0m: \u001B[32m'A police officer'\u001B[0m, \u001B[32m'B'\u001B[0m: \u001B[32m'Hopeful'\u001B[0m, \u001B[32m'state'\u001B[0m: \u001B[32m' Criminal.'\u001B[0m, \u001B[32m'X'\u001B[0m: \u001B[32m' Criminal.'\u001B[0m\u001B[1m}\u001B[0m \u001B]8;id=338714;file:///Users/wouter.durnez/Documents/Repositories/test-ai-message-composer/fence/src/llm/chains.py\u001B\\\u001B[2mchains.py\u001B[0m\u001B]8;;\u001B\\\u001B[2m:\u001B[0m\u001B]8;id=55965;file:///Users/wouter.durnez/Documents/Repositories/test-ai-message-composer/fence/src/llm/chains.py#214\u001B\\\u001B[2m214\u001B[0m\u001B]8;;\u001B\\\n",
      "text/html": "<pre style=\"white-space:pre;overflow-x:auto;line-height:normal;font-family:Menlo,'DejaVu Sans Mono',consolas,'Courier New',monospace\"><span style=\"color: #7fbfbf; text-decoration-color: #7fbfbf\">           </span><span style=\"color: #000080; text-decoration-color: #000080\">INFO    </span> 🖇️ Executing <span style=\"font-weight: bold\">&lt;</span><span style=\"color: #ff00ff; text-decoration-color: #ff00ff; font-weight: bold\">superlative</span><span style=\"font-weight: bold\">&gt;</span> Link with input: <span style=\"font-weight: bold\">{</span><span style=\"color: #008000; text-decoration-color: #008000\">'A'</span>: <span style=\"color: #008000; text-decoration-color: #008000\">'A police officer'</span>, <span style=\"color: #008000; text-decoration-color: #008000\">'B'</span>: <span style=\"color: #008000; text-decoration-color: #008000\">'Hopeful'</span>, <span style=\"color: #008000; text-decoration-color: #008000\">'state'</span>: <span style=\"color: #008000; text-decoration-color: #008000\">' Criminal.'</span>, <span style=\"color: #008000; text-decoration-color: #008000\">'X'</span>: <span style=\"color: #008000; text-decoration-color: #008000\">' Criminal.'</span><span style=\"font-weight: bold\">}</span> <a href=\"file:///Users/wouter.durnez/Documents/Repositories/test-ai-message-composer/fence/src/llm/chains.py\" target=\"_blank\"><span style=\"color: #7f7f7f; text-decoration-color: #7f7f7f\">chains.py</span></a><span style=\"color: #7f7f7f; text-decoration-color: #7f7f7f\">:</span><a href=\"file:///Users/wouter.durnez/Documents/Repositories/test-ai-message-composer/fence/src/llm/chains.py#214\" target=\"_blank\"><span style=\"color: #7f7f7f; text-decoration-color: #7f7f7f\">214</span></a>\n</pre>\n"
     },
     "metadata": {},
     "output_type": "display_data"
    },
    {
     "data": {
      "text/plain": "\u001B[2;36m          \u001B[0m\u001B[2;36m \u001B[0m\u001B[34mINFO    \u001B[0m 🧐 Current state:  Optimistic                                                                                                  \u001B]8;id=595377;file:///Users/wouter.durnez/Documents/Repositories/test-ai-message-composer/fence/src/llm/chains.py\u001B\\\u001B[2mchains.py\u001B[0m\u001B]8;;\u001B\\\u001B[2m:\u001B[0m\u001B]8;id=120156;file:///Users/wouter.durnez/Documents/Repositories/test-ai-message-composer/fence/src/llm/chains.py#270\u001B\\\u001B[2m270\u001B[0m\u001B]8;;\u001B\\\n",
      "text/html": "<pre style=\"white-space:pre;overflow-x:auto;line-height:normal;font-family:Menlo,'DejaVu Sans Mono',consolas,'Courier New',monospace\"><span style=\"color: #7fbfbf; text-decoration-color: #7fbfbf\">           </span><span style=\"color: #000080; text-decoration-color: #000080\">INFO    </span> 🧐 Current state:  Optimistic                                                                                                  <a href=\"file:///Users/wouter.durnez/Documents/Repositories/test-ai-message-composer/fence/src/llm/chains.py\" target=\"_blank\"><span style=\"color: #7f7f7f; text-decoration-color: #7f7f7f\">chains.py</span></a><span style=\"color: #7f7f7f; text-decoration-color: #7f7f7f\">:</span><a href=\"file:///Users/wouter.durnez/Documents/Repositories/test-ai-message-composer/fence/src/llm/chains.py#270\" target=\"_blank\"><span style=\"color: #7f7f7f; text-decoration-color: #7f7f7f\">270</span></a>\n</pre>\n"
     },
     "metadata": {},
     "output_type": "display_data"
    },
    {
     "data": {
      "text/plain": "\u001B[2;36m          \u001B[0m\u001B[2;36m \u001B[0m\u001B[34mINFO    \u001B[0m 🔑 State keys: \u001B[1m[\u001B[0m\u001B[32m'A'\u001B[0m, \u001B[32m'B'\u001B[0m, \u001B[32m'state'\u001B[0m, \u001B[32m'X'\u001B[0m, \u001B[32m'Y'\u001B[0m\u001B[1m]\u001B[0m \u001B[1m(\u001B[0madded: \u001B[1m[\u001B[0m\u001B[32m'Y'\u001B[0m\u001B[1m]\u001B[0m, removed: \u001B[1m[\u001B[0m\u001B[1m]\u001B[0m\u001B[1m)\u001B[0m                                                       \u001B]8;id=403114;file:///Users/wouter.durnez/Documents/Repositories/test-ai-message-composer/fence/src/llm/chains.py\u001B\\\u001B[2mchains.py\u001B[0m\u001B]8;;\u001B\\\u001B[2m:\u001B[0m\u001B]8;id=715971;file:///Users/wouter.durnez/Documents/Repositories/test-ai-message-composer/fence/src/llm/chains.py#443\u001B\\\u001B[2m443\u001B[0m\u001B]8;;\u001B\\\n",
      "text/html": "<pre style=\"white-space:pre;overflow-x:auto;line-height:normal;font-family:Menlo,'DejaVu Sans Mono',consolas,'Courier New',monospace\"><span style=\"color: #7fbfbf; text-decoration-color: #7fbfbf\">           </span><span style=\"color: #000080; text-decoration-color: #000080\">INFO    </span> 🔑 State keys: <span style=\"font-weight: bold\">[</span><span style=\"color: #008000; text-decoration-color: #008000\">'A'</span>, <span style=\"color: #008000; text-decoration-color: #008000\">'B'</span>, <span style=\"color: #008000; text-decoration-color: #008000\">'state'</span>, <span style=\"color: #008000; text-decoration-color: #008000\">'X'</span>, <span style=\"color: #008000; text-decoration-color: #008000\">'Y'</span><span style=\"font-weight: bold\">]</span> <span style=\"font-weight: bold\">(</span>added: <span style=\"font-weight: bold\">[</span><span style=\"color: #008000; text-decoration-color: #008000\">'Y'</span><span style=\"font-weight: bold\">]</span>, removed: <span style=\"font-weight: bold\">[])</span>                                                       <a href=\"file:///Users/wouter.durnez/Documents/Repositories/test-ai-message-composer/fence/src/llm/chains.py\" target=\"_blank\"><span style=\"color: #7f7f7f; text-decoration-color: #7f7f7f\">chains.py</span></a><span style=\"color: #7f7f7f; text-decoration-color: #7f7f7f\">:</span><a href=\"file:///Users/wouter.durnez/Documents/Repositories/test-ai-message-composer/fence/src/llm/chains.py#443\" target=\"_blank\"><span style=\"color: #7f7f7f; text-decoration-color: #7f7f7f\">443</span></a>\n</pre>\n"
     },
     "metadata": {},
     "output_type": "display_data"
    },
    {
     "data": {
      "text/plain": "\u001B[2;36m          \u001B[0m\u001B[2;36m \u001B[0m\u001B[34mINFO    \u001B[0m 🔑 State keys: \u001B[1m[\u001B[0m\u001B[32m'A'\u001B[0m, \u001B[32m'B'\u001B[0m, \u001B[32m'state'\u001B[0m, \u001B[32m'X'\u001B[0m, \u001B[32m'Y'\u001B[0m, \u001B[32m'C'\u001B[0m\u001B[1m]\u001B[0m \u001B[1m(\u001B[0madded: \u001B[1m[\u001B[0m\u001B[32m'C'\u001B[0m\u001B[1m]\u001B[0m, removed: \u001B[1m[\u001B[0m\u001B[1m]\u001B[0m\u001B[1m)\u001B[0m                                                  \u001B]8;id=249176;file:///Users/wouter.durnez/Documents/Repositories/test-ai-message-composer/fence/src/llm/chains.py\u001B\\\u001B[2mchains.py\u001B[0m\u001B]8;;\u001B\\\u001B[2m:\u001B[0m\u001B]8;id=693199;file:///Users/wouter.durnez/Documents/Repositories/test-ai-message-composer/fence/src/llm/chains.py#443\u001B\\\u001B[2m443\u001B[0m\u001B]8;;\u001B\\\n",
      "text/html": "<pre style=\"white-space:pre;overflow-x:auto;line-height:normal;font-family:Menlo,'DejaVu Sans Mono',consolas,'Courier New',monospace\"><span style=\"color: #7fbfbf; text-decoration-color: #7fbfbf\">           </span><span style=\"color: #000080; text-decoration-color: #000080\">INFO    </span> 🔑 State keys: <span style=\"font-weight: bold\">[</span><span style=\"color: #008000; text-decoration-color: #008000\">'A'</span>, <span style=\"color: #008000; text-decoration-color: #008000\">'B'</span>, <span style=\"color: #008000; text-decoration-color: #008000\">'state'</span>, <span style=\"color: #008000; text-decoration-color: #008000\">'X'</span>, <span style=\"color: #008000; text-decoration-color: #008000\">'Y'</span>, <span style=\"color: #008000; text-decoration-color: #008000\">'C'</span><span style=\"font-weight: bold\">]</span> <span style=\"font-weight: bold\">(</span>added: <span style=\"font-weight: bold\">[</span><span style=\"color: #008000; text-decoration-color: #008000\">'C'</span><span style=\"font-weight: bold\">]</span>, removed: <span style=\"font-weight: bold\">[])</span>                                                  <a href=\"file:///Users/wouter.durnez/Documents/Repositories/test-ai-message-composer/fence/src/llm/chains.py\" target=\"_blank\"><span style=\"color: #7f7f7f; text-decoration-color: #7f7f7f\">chains.py</span></a><span style=\"color: #7f7f7f; text-decoration-color: #7f7f7f\">:</span><a href=\"file:///Users/wouter.durnez/Documents/Repositories/test-ai-message-composer/fence/src/llm/chains.py#443\" target=\"_blank\"><span style=\"color: #7f7f7f; text-decoration-color: #7f7f7f\">443</span></a>\n</pre>\n"
     },
     "metadata": {},
     "output_type": "display_data"
    },
    {
     "data": {
      "text/plain": "\u001B[2;36m          \u001B[0m\u001B[2;36m \u001B[0m\u001B[34mINFO    \u001B[0m 🖇️ Executing \u001B[1m<\u001B[0m\u001B[1;95mpoem\u001B[0m\u001B[1m>\u001B[0m Link with input: \u001B[1m{\u001B[0m\u001B[32m'A'\u001B[0m: \u001B[32m'A police officer'\u001B[0m, \u001B[32m'B'\u001B[0m: \u001B[32m'Hopeful'\u001B[0m, \u001B[32m'state'\u001B[0m: \u001B[32m' Criminal. and  Optimistic'\u001B[0m, \u001B[32m'X'\u001B[0m: \u001B[32m' \u001B[0m   \u001B]8;id=104166;file:///Users/wouter.durnez/Documents/Repositories/test-ai-message-composer/fence/src/llm/chains.py\u001B\\\u001B[2mchains.py\u001B[0m\u001B]8;;\u001B\\\u001B[2m:\u001B[0m\u001B]8;id=673771;file:///Users/wouter.durnez/Documents/Repositories/test-ai-message-composer/fence/src/llm/chains.py#214\u001B\\\u001B[2m214\u001B[0m\u001B]8;;\u001B\\\n\u001B[2;36m           \u001B[0m         \u001B[32mCriminal.'\u001B[0m, \u001B[32m'Y'\u001B[0m: \u001B[32m' Optimistic'\u001B[0m, \u001B[32m'C'\u001B[0m: \u001B[32m' Criminal. and  Optimistic'\u001B[0m\u001B[1m}\u001B[0m                                                             \u001B[2m             \u001B[0m\n",
      "text/html": "<pre style=\"white-space:pre;overflow-x:auto;line-height:normal;font-family:Menlo,'DejaVu Sans Mono',consolas,'Courier New',monospace\"><span style=\"color: #7fbfbf; text-decoration-color: #7fbfbf\">           </span><span style=\"color: #000080; text-decoration-color: #000080\">INFO    </span> 🖇️ Executing <span style=\"font-weight: bold\">&lt;</span><span style=\"color: #ff00ff; text-decoration-color: #ff00ff; font-weight: bold\">poem</span><span style=\"font-weight: bold\">&gt;</span> Link with input: <span style=\"font-weight: bold\">{</span><span style=\"color: #008000; text-decoration-color: #008000\">'A'</span>: <span style=\"color: #008000; text-decoration-color: #008000\">'A police officer'</span>, <span style=\"color: #008000; text-decoration-color: #008000\">'B'</span>: <span style=\"color: #008000; text-decoration-color: #008000\">'Hopeful'</span>, <span style=\"color: #008000; text-decoration-color: #008000\">'state'</span>: <span style=\"color: #008000; text-decoration-color: #008000\">' Criminal. and  Optimistic'</span>, <span style=\"color: #008000; text-decoration-color: #008000\">'X'</span>: <span style=\"color: #008000; text-decoration-color: #008000\">' </span>   <a href=\"file:///Users/wouter.durnez/Documents/Repositories/test-ai-message-composer/fence/src/llm/chains.py\" target=\"_blank\"><span style=\"color: #7f7f7f; text-decoration-color: #7f7f7f\">chains.py</span></a><span style=\"color: #7f7f7f; text-decoration-color: #7f7f7f\">:</span><a href=\"file:///Users/wouter.durnez/Documents/Repositories/test-ai-message-composer/fence/src/llm/chains.py#214\" target=\"_blank\"><span style=\"color: #7f7f7f; text-decoration-color: #7f7f7f\">214</span></a>\n<span style=\"color: #7fbfbf; text-decoration-color: #7fbfbf\">           </span>         <span style=\"color: #008000; text-decoration-color: #008000\">Criminal.'</span>, <span style=\"color: #008000; text-decoration-color: #008000\">'Y'</span>: <span style=\"color: #008000; text-decoration-color: #008000\">' Optimistic'</span>, <span style=\"color: #008000; text-decoration-color: #008000\">'C'</span>: <span style=\"color: #008000; text-decoration-color: #008000\">' Criminal. and  Optimistic'</span><span style=\"font-weight: bold\">}</span>                                                             <span style=\"color: #7f7f7f; text-decoration-color: #7f7f7f\">             </span>\n</pre>\n"
     },
     "metadata": {},
     "output_type": "display_data"
    },
    {
     "data": {
      "text/plain": "\u001B[2;36m[11:36:29]\u001B[0m\u001B[2;36m \u001B[0m\u001B[34mINFO    \u001B[0m 🧐 Current state:  The Criminal's Optimism                                                                                     \u001B]8;id=386506;file:///Users/wouter.durnez/Documents/Repositories/test-ai-message-composer/fence/src/llm/chains.py\u001B\\\u001B[2mchains.py\u001B[0m\u001B]8;;\u001B\\\u001B[2m:\u001B[0m\u001B]8;id=462013;file:///Users/wouter.durnez/Documents/Repositories/test-ai-message-composer/fence/src/llm/chains.py#270\u001B\\\u001B[2m270\u001B[0m\u001B]8;;\u001B\\\n\u001B[2;36m           \u001B[0m                                                                                                                                        \u001B[2m             \u001B[0m\n\u001B[2;36m           \u001B[0m         Behind these bars I sit all alone each day                                                                                     \u001B[2m             \u001B[0m\n\u001B[2;36m           \u001B[0m         My crimes now haunt me as I pray                                                                                               \u001B[2m             \u001B[0m\n\u001B[2;36m           \u001B[0m         For a chance at redemption, to start life anew                                                                                 \u001B[2m             \u001B[0m\n\u001B[2;36m           \u001B[0m         To find purpose and meaning in all that I do                                                                                   \u001B[2m             \u001B[0m\n\u001B[2;36m           \u001B[0m         Though the road will be hard and uphill all the way                                                                            \u001B[2m             \u001B[0m\n\u001B[2;36m           \u001B[0m         Still my heart holds an optimism I cannot betray                                                                               \u001B[2m             \u001B[0m\n\u001B[2;36m           \u001B[0m         For the future's unknown and each soul has worth                                                                               \u001B[2m             \u001B[0m\n\u001B[2;36m           \u001B[0m         I'll greet a new dawn and give life on earth.                                                                                  \u001B[2m             \u001B[0m\n\u001B[2;36m           \u001B[0m         My debt I've now paid, my sentence now served                                                                                  \u001B[2m             \u001B[0m\n\u001B[2;36m           \u001B[0m         By hope I'm still guided, by hope I'm preserved                                                                                \u001B[2m             \u001B[0m\n\u001B[2;36m           \u001B[0m         This cell cannot keep what's inside me confined                                                                                \u001B[2m             \u001B[0m\n\u001B[2;36m           \u001B[0m         An optimistic spirit, a purpose I've found                                                                                     \u001B[2m             \u001B[0m\n\u001B[2;36m           \u001B[0m         Though a criminal's path was the road I once trod                                                                              \u001B[2m             \u001B[0m\n\u001B[2;36m           \u001B[0m         I see light up ahead, guided by faith in God                                                                                   \u001B[2m             \u001B[0m\n\u001B[2;36m           \u001B[0m         My optimism sees past these walls made of stone                                                                                \u001B[2m             \u001B[0m\n\u001B[2;36m           \u001B[0m         To the life that awaits me, no longer alone.                                                                                   \u001B[2m             \u001B[0m\n",
      "text/html": "<pre style=\"white-space:pre;overflow-x:auto;line-height:normal;font-family:Menlo,'DejaVu Sans Mono',consolas,'Courier New',monospace\"><span style=\"color: #7fbfbf; text-decoration-color: #7fbfbf\">[11:36:29] </span><span style=\"color: #000080; text-decoration-color: #000080\">INFO    </span> 🧐 Current state:  The Criminal's Optimism                                                                                     <a href=\"file:///Users/wouter.durnez/Documents/Repositories/test-ai-message-composer/fence/src/llm/chains.py\" target=\"_blank\"><span style=\"color: #7f7f7f; text-decoration-color: #7f7f7f\">chains.py</span></a><span style=\"color: #7f7f7f; text-decoration-color: #7f7f7f\">:</span><a href=\"file:///Users/wouter.durnez/Documents/Repositories/test-ai-message-composer/fence/src/llm/chains.py#270\" target=\"_blank\"><span style=\"color: #7f7f7f; text-decoration-color: #7f7f7f\">270</span></a>\n<span style=\"color: #7fbfbf; text-decoration-color: #7fbfbf\">           </span>                                                                                                                                        <span style=\"color: #7f7f7f; text-decoration-color: #7f7f7f\">             </span>\n<span style=\"color: #7fbfbf; text-decoration-color: #7fbfbf\">           </span>         Behind these bars I sit all alone each day                                                                                     <span style=\"color: #7f7f7f; text-decoration-color: #7f7f7f\">             </span>\n<span style=\"color: #7fbfbf; text-decoration-color: #7fbfbf\">           </span>         My crimes now haunt me as I pray                                                                                               <span style=\"color: #7f7f7f; text-decoration-color: #7f7f7f\">             </span>\n<span style=\"color: #7fbfbf; text-decoration-color: #7fbfbf\">           </span>         For a chance at redemption, to start life anew                                                                                 <span style=\"color: #7f7f7f; text-decoration-color: #7f7f7f\">             </span>\n<span style=\"color: #7fbfbf; text-decoration-color: #7fbfbf\">           </span>         To find purpose and meaning in all that I do                                                                                   <span style=\"color: #7f7f7f; text-decoration-color: #7f7f7f\">             </span>\n<span style=\"color: #7fbfbf; text-decoration-color: #7fbfbf\">           </span>         Though the road will be hard and uphill all the way                                                                            <span style=\"color: #7f7f7f; text-decoration-color: #7f7f7f\">             </span>\n<span style=\"color: #7fbfbf; text-decoration-color: #7fbfbf\">           </span>         Still my heart holds an optimism I cannot betray                                                                               <span style=\"color: #7f7f7f; text-decoration-color: #7f7f7f\">             </span>\n<span style=\"color: #7fbfbf; text-decoration-color: #7fbfbf\">           </span>         For the future's unknown and each soul has worth                                                                               <span style=\"color: #7f7f7f; text-decoration-color: #7f7f7f\">             </span>\n<span style=\"color: #7fbfbf; text-decoration-color: #7fbfbf\">           </span>         I'll greet a new dawn and give life on earth.                                                                                  <span style=\"color: #7f7f7f; text-decoration-color: #7f7f7f\">             </span>\n<span style=\"color: #7fbfbf; text-decoration-color: #7fbfbf\">           </span>         My debt I've now paid, my sentence now served                                                                                  <span style=\"color: #7f7f7f; text-decoration-color: #7f7f7f\">             </span>\n<span style=\"color: #7fbfbf; text-decoration-color: #7fbfbf\">           </span>         By hope I'm still guided, by hope I'm preserved                                                                                <span style=\"color: #7f7f7f; text-decoration-color: #7f7f7f\">             </span>\n<span style=\"color: #7fbfbf; text-decoration-color: #7fbfbf\">           </span>         This cell cannot keep what's inside me confined                                                                                <span style=\"color: #7f7f7f; text-decoration-color: #7f7f7f\">             </span>\n<span style=\"color: #7fbfbf; text-decoration-color: #7fbfbf\">           </span>         An optimistic spirit, a purpose I've found                                                                                     <span style=\"color: #7f7f7f; text-decoration-color: #7f7f7f\">             </span>\n<span style=\"color: #7fbfbf; text-decoration-color: #7fbfbf\">           </span>         Though a criminal's path was the road I once trod                                                                              <span style=\"color: #7f7f7f; text-decoration-color: #7f7f7f\">             </span>\n<span style=\"color: #7fbfbf; text-decoration-color: #7fbfbf\">           </span>         I see light up ahead, guided by faith in God                                                                                   <span style=\"color: #7f7f7f; text-decoration-color: #7f7f7f\">             </span>\n<span style=\"color: #7fbfbf; text-decoration-color: #7fbfbf\">           </span>         My optimism sees past these walls made of stone                                                                                <span style=\"color: #7f7f7f; text-decoration-color: #7f7f7f\">             </span>\n<span style=\"color: #7fbfbf; text-decoration-color: #7fbfbf\">           </span>         To the life that awaits me, no longer alone.                                                                                   <span style=\"color: #7f7f7f; text-decoration-color: #7f7f7f\">             </span>\n</pre>\n"
     },
     "metadata": {},
     "output_type": "display_data"
    },
    {
     "data": {
      "text/plain": "\u001B[2;36m          \u001B[0m\u001B[2;36m \u001B[0m\u001B[34mINFO    \u001B[0m 🔑 State keys: \u001B[1m[\u001B[0m\u001B[32m'A'\u001B[0m, \u001B[32m'B'\u001B[0m, \u001B[32m'state'\u001B[0m, \u001B[32m'X'\u001B[0m, \u001B[32m'Y'\u001B[0m, \u001B[32m'C'\u001B[0m, \u001B[32m'Z'\u001B[0m\u001B[1m]\u001B[0m \u001B[1m(\u001B[0madded: \u001B[1m[\u001B[0m\u001B[32m'Z'\u001B[0m\u001B[1m]\u001B[0m, removed: \u001B[1m[\u001B[0m\u001B[1m]\u001B[0m\u001B[1m)\u001B[0m                                             \u001B]8;id=336441;file:///Users/wouter.durnez/Documents/Repositories/test-ai-message-composer/fence/src/llm/chains.py\u001B\\\u001B[2mchains.py\u001B[0m\u001B]8;;\u001B\\\u001B[2m:\u001B[0m\u001B]8;id=529732;file:///Users/wouter.durnez/Documents/Repositories/test-ai-message-composer/fence/src/llm/chains.py#443\u001B\\\u001B[2m443\u001B[0m\u001B]8;;\u001B\\\n",
      "text/html": "<pre style=\"white-space:pre;overflow-x:auto;line-height:normal;font-family:Menlo,'DejaVu Sans Mono',consolas,'Courier New',monospace\"><span style=\"color: #7fbfbf; text-decoration-color: #7fbfbf\">           </span><span style=\"color: #000080; text-decoration-color: #000080\">INFO    </span> 🔑 State keys: <span style=\"font-weight: bold\">[</span><span style=\"color: #008000; text-decoration-color: #008000\">'A'</span>, <span style=\"color: #008000; text-decoration-color: #008000\">'B'</span>, <span style=\"color: #008000; text-decoration-color: #008000\">'state'</span>, <span style=\"color: #008000; text-decoration-color: #008000\">'X'</span>, <span style=\"color: #008000; text-decoration-color: #008000\">'Y'</span>, <span style=\"color: #008000; text-decoration-color: #008000\">'C'</span>, <span style=\"color: #008000; text-decoration-color: #008000\">'Z'</span><span style=\"font-weight: bold\">]</span> <span style=\"font-weight: bold\">(</span>added: <span style=\"font-weight: bold\">[</span><span style=\"color: #008000; text-decoration-color: #008000\">'Z'</span><span style=\"font-weight: bold\">]</span>, removed: <span style=\"font-weight: bold\">[])</span>                                             <a href=\"file:///Users/wouter.durnez/Documents/Repositories/test-ai-message-composer/fence/src/llm/chains.py\" target=\"_blank\"><span style=\"color: #7f7f7f; text-decoration-color: #7f7f7f\">chains.py</span></a><span style=\"color: #7f7f7f; text-decoration-color: #7f7f7f\">:</span><a href=\"file:///Users/wouter.durnez/Documents/Repositories/test-ai-message-composer/fence/src/llm/chains.py#443\" target=\"_blank\"><span style=\"color: #7f7f7f; text-decoration-color: #7f7f7f\">443</span></a>\n</pre>\n"
     },
     "metadata": {},
     "output_type": "display_data"
    },
    {
     "name": "stdout",
     "output_type": "stream",
     "text": [
      " The Criminal's Optimism\n",
      "\n",
      "Behind these bars I sit all alone each day  \n",
      "My crimes now haunt me as I pray\n",
      "For a chance at redemption, to start life anew\n",
      "To find purpose and meaning in all that I do  \n",
      "Though the road will be hard and uphill all the way\n",
      "Still my heart holds an optimism I cannot betray\n",
      "For the future's unknown and each soul has worth\n",
      "I'll greet a new dawn and give life on earth.\n",
      "My debt I've now paid, my sentence now served\n",
      "By hope I'm still guided, by hope I'm preserved  \n",
      "This cell cannot keep what's inside me confined\n",
      "An optimistic spirit, a purpose I've found\n",
      "Though a criminal's path was the road I once trod\n",
      "I see light up ahead, guided by faith in God\n",
      "My optimism sees past these walls made of stone\n",
      "To the life that awaits me, no longer alone.\n"
     ]
    }
   ],
   "source": [
    "# You can also build Chains, which are just a sequence of links. There are two types of chains: LinearChain and Chain. \n",
    "# LinearChain is a sequence of links, while Chain is a collection of links that are invoked in the right order based on the input and output keys for each Link.\n",
    "\n",
    "# This is a LinearChain #\n",
    "#########################\n",
    "\n",
    "# Build some links\n",
    "link_opposite = Link(\n",
    "    template=PromptTemplate(\n",
    "        \"What's the opposite of {{A}}? Reply with a few words max.\", [\"A\"]\n",
    "    ),\n",
    "    name = 'opposite',\n",
    "    output_key=\"X\",\n",
    ")\n",
    "link_superlative = Link(\n",
    "    template=PromptTemplate(\n",
    "        \"What's a synonym for {{B}}. Reply with one word.\", [\"B\"],\n",
    "    ),\n",
    "    name='superlative',\n",
    "    output_key=\"Y\",\n",
    ")\n",
    "link_poem = Link(\n",
    "    template=PromptTemplate(\n",
    "        \"Write a poem about {{state}}. Return only the poem, beginning with the title.\", [\"state\"]\n",
    "    ),\n",
    "    name='poem',\n",
    "    output_key=\"Z\",\n",
    ")\n",
    "\n",
    "# Now build a LinearChain\n",
    "linear_chain = LinearChain(llm=claude, links=[link_opposite, link_superlative, concat_link, link_poem])\n",
    "\n",
    "# Run it\n",
    "result = linear_chain.run(input_dict={\"A\": \"A police officer\", \"B\": \"Hopeful\"})\n",
    "\n",
    "# Get the output\n",
    "print(result['state'])"
   ],
   "metadata": {
    "collapsed": false,
    "ExecuteTime": {
     "end_time": "2024-01-23T10:36:29.785526Z",
     "start_time": "2024-01-23T10:36:20.058665Z"
    }
   },
   "id": "a86436d806745ef0",
   "execution_count": 88
  },
  {
   "cell_type": "code",
   "outputs": [
    {
     "data": {
      "text/plain": "[Link: superlative <['B']> -> <Y>,\n Link: opposite <['A']> -> <X>,\n Link: sentence <['X', 'Y', 'C']> -> <Z>]"
     },
     "execution_count": 89,
     "metadata": {},
     "output_type": "execute_result"
    }
   ],
   "source": [
    "# A LinearChain will take the presence of the 'state' key into account when invoking the next link.\n",
    "# A Chain will not. However, it has an extra 'feature' in the form of topological sorting. As long as a graph of links can be\n",
    "# extracted from the chain, and the input keys (that are not generated in the chain) are given, the chain will invoke the links in the right order.\n",
    "\n",
    "# This is a Chain #\n",
    "###################\n",
    "link_a = Link(\n",
    "    template=PromptTemplate(\n",
    "        \"Capitalize this word: {{A}}. Only respond with the capitalized version\", [\"A\"]\n",
    "    ),\n",
    "    name = 'opposite',\n",
    "    output_key=\"X\",\n",
    ")\n",
    "link_b = Link(\n",
    "    template=PromptTemplate(\n",
    "        \"What's a synonym for {{B}}. Reply with one word.\", [\"B\"],\n",
    "    ),\n",
    "    name='superlative',\n",
    "    output_key=\"Y\",\n",
    ")\n",
    "link_c = Link(\n",
    "    template=PromptTemplate(\n",
    "        \"Combine {{X}} and {{Y}} and {{C}} in a meaningful sentence.\", [\"X\", \"Y\", \"C\"]\n",
    "    ),\n",
    "    name='sentence',\n",
    "    output_key=\"Z\",\n",
    ")\n",
    "chain = Chain(llm=claude, links=[link_c, link_a, link_b]) # Note that we can pass the links in any order\n",
    "\n",
    "# This is the sorted graph of links\n",
    "chain._topological_sort()"
   ],
   "metadata": {
    "collapsed": false,
    "ExecuteTime": {
     "end_time": "2024-01-23T10:36:29.796405Z",
     "start_time": "2024-01-23T10:36:29.785888Z"
    }
   },
   "id": "6d1a3dc176bd9580",
   "execution_count": 89
  },
  {
   "cell_type": "code",
   "outputs": [
    {
     "name": "stdout",
     "output_type": "stream",
     "text": [
      "The following input keys are required: {'A', 'C', 'B'}. Missing: {'C'}\n"
     ]
    }
   ],
   "source": [
    "# Now we can run it\n",
    "try:\n",
    "    result = chain.run(input_dict={\"A\": \"A police officer\", \"B\": \"Hopeful\"})\n",
    "except Exception as e:\n",
    "    print(e)"
   ],
   "metadata": {
    "collapsed": false,
    "ExecuteTime": {
     "end_time": "2024-01-23T10:36:29.797028Z",
     "start_time": "2024-01-23T10:36:29.793431Z"
    }
   },
   "id": "f5fca5fd6f655679",
   "execution_count": 90
  },
  {
   "cell_type": "code",
   "outputs": [
    {
     "data": {
      "text/plain": "\u001B[2;36m          \u001B[0m\u001B[2;36m \u001B[0m\u001B[34mINFO    \u001B[0m 🖇️ Executing \u001B[1m<\u001B[0m\u001B[1;95msuperlative\u001B[0m\u001B[1m>\u001B[0m Link with input: \u001B[1m{\u001B[0m\u001B[32m'A'\u001B[0m: \u001B[32m'A police officer'\u001B[0m, \u001B[32m'B'\u001B[0m: \u001B[32m'Hopeful'\u001B[0m, \u001B[32m'C'\u001B[0m: \u001B[32m'a dog'\u001B[0m\u001B[1m}\u001B[0m                             \u001B]8;id=922884;file:///Users/wouter.durnez/Documents/Repositories/test-ai-message-composer/fence/src/llm/chains.py\u001B\\\u001B[2mchains.py\u001B[0m\u001B]8;;\u001B\\\u001B[2m:\u001B[0m\u001B]8;id=596029;file:///Users/wouter.durnez/Documents/Repositories/test-ai-message-composer/fence/src/llm/chains.py#214\u001B\\\u001B[2m214\u001B[0m\u001B]8;;\u001B\\\n",
      "text/html": "<pre style=\"white-space:pre;overflow-x:auto;line-height:normal;font-family:Menlo,'DejaVu Sans Mono',consolas,'Courier New',monospace\"><span style=\"color: #7fbfbf; text-decoration-color: #7fbfbf\">           </span><span style=\"color: #000080; text-decoration-color: #000080\">INFO    </span> 🖇️ Executing <span style=\"font-weight: bold\">&lt;</span><span style=\"color: #ff00ff; text-decoration-color: #ff00ff; font-weight: bold\">superlative</span><span style=\"font-weight: bold\">&gt;</span> Link with input: <span style=\"font-weight: bold\">{</span><span style=\"color: #008000; text-decoration-color: #008000\">'A'</span>: <span style=\"color: #008000; text-decoration-color: #008000\">'A police officer'</span>, <span style=\"color: #008000; text-decoration-color: #008000\">'B'</span>: <span style=\"color: #008000; text-decoration-color: #008000\">'Hopeful'</span>, <span style=\"color: #008000; text-decoration-color: #008000\">'C'</span>: <span style=\"color: #008000; text-decoration-color: #008000\">'a dog'</span><span style=\"font-weight: bold\">}</span>                             <a href=\"file:///Users/wouter.durnez/Documents/Repositories/test-ai-message-composer/fence/src/llm/chains.py\" target=\"_blank\"><span style=\"color: #7f7f7f; text-decoration-color: #7f7f7f\">chains.py</span></a><span style=\"color: #7f7f7f; text-decoration-color: #7f7f7f\">:</span><a href=\"file:///Users/wouter.durnez/Documents/Repositories/test-ai-message-composer/fence/src/llm/chains.py#214\" target=\"_blank\"><span style=\"color: #7f7f7f; text-decoration-color: #7f7f7f\">214</span></a>\n</pre>\n"
     },
     "metadata": {},
     "output_type": "display_data"
    },
    {
     "data": {
      "text/plain": "\u001B[2;36m[11:36:30]\u001B[0m\u001B[2;36m \u001B[0m\u001B[34mINFO    \u001B[0m 🧐 Current state:  Optimistic                                                                                                  \u001B]8;id=813213;file:///Users/wouter.durnez/Documents/Repositories/test-ai-message-composer/fence/src/llm/chains.py\u001B\\\u001B[2mchains.py\u001B[0m\u001B]8;;\u001B\\\u001B[2m:\u001B[0m\u001B]8;id=966959;file:///Users/wouter.durnez/Documents/Repositories/test-ai-message-composer/fence/src/llm/chains.py#270\u001B\\\u001B[2m270\u001B[0m\u001B]8;;\u001B\\\n",
      "text/html": "<pre style=\"white-space:pre;overflow-x:auto;line-height:normal;font-family:Menlo,'DejaVu Sans Mono',consolas,'Courier New',monospace\"><span style=\"color: #7fbfbf; text-decoration-color: #7fbfbf\">[11:36:30] </span><span style=\"color: #000080; text-decoration-color: #000080\">INFO    </span> 🧐 Current state:  Optimistic                                                                                                  <a href=\"file:///Users/wouter.durnez/Documents/Repositories/test-ai-message-composer/fence/src/llm/chains.py\" target=\"_blank\"><span style=\"color: #7f7f7f; text-decoration-color: #7f7f7f\">chains.py</span></a><span style=\"color: #7f7f7f; text-decoration-color: #7f7f7f\">:</span><a href=\"file:///Users/wouter.durnez/Documents/Repositories/test-ai-message-composer/fence/src/llm/chains.py#270\" target=\"_blank\"><span style=\"color: #7f7f7f; text-decoration-color: #7f7f7f\">270</span></a>\n</pre>\n"
     },
     "metadata": {},
     "output_type": "display_data"
    },
    {
     "data": {
      "text/plain": "\u001B[2;36m          \u001B[0m\u001B[2;36m \u001B[0m\u001B[34mINFO    \u001B[0m 🖇️ Executing \u001B[1m<\u001B[0m\u001B[1;95mopposite\u001B[0m\u001B[1m>\u001B[0m Link with input: \u001B[1m{\u001B[0m\u001B[32m'A'\u001B[0m: \u001B[32m'A police officer'\u001B[0m, \u001B[32m'B'\u001B[0m: \u001B[32m'Hopeful'\u001B[0m, \u001B[32m'C'\u001B[0m: \u001B[32m'a dog'\u001B[0m, \u001B[32m'state'\u001B[0m: \u001B[32m' Optimistic'\u001B[0m, \u001B[32m'Y'\u001B[0m: \u001B[32m'\u001B[0m \u001B]8;id=363376;file:///Users/wouter.durnez/Documents/Repositories/test-ai-message-composer/fence/src/llm/chains.py\u001B\\\u001B[2mchains.py\u001B[0m\u001B]8;;\u001B\\\u001B[2m:\u001B[0m\u001B]8;id=376510;file:///Users/wouter.durnez/Documents/Repositories/test-ai-message-composer/fence/src/llm/chains.py#214\u001B\\\u001B[2m214\u001B[0m\u001B]8;;\u001B\\\n\u001B[2;36m           \u001B[0m         \u001B[32mOptimistic'\u001B[0m\u001B[1m}\u001B[0m                                                                                                                   \u001B[2m             \u001B[0m\n",
      "text/html": "<pre style=\"white-space:pre;overflow-x:auto;line-height:normal;font-family:Menlo,'DejaVu Sans Mono',consolas,'Courier New',monospace\"><span style=\"color: #7fbfbf; text-decoration-color: #7fbfbf\">           </span><span style=\"color: #000080; text-decoration-color: #000080\">INFO    </span> 🖇️ Executing <span style=\"font-weight: bold\">&lt;</span><span style=\"color: #ff00ff; text-decoration-color: #ff00ff; font-weight: bold\">opposite</span><span style=\"font-weight: bold\">&gt;</span> Link with input: <span style=\"font-weight: bold\">{</span><span style=\"color: #008000; text-decoration-color: #008000\">'A'</span>: <span style=\"color: #008000; text-decoration-color: #008000\">'A police officer'</span>, <span style=\"color: #008000; text-decoration-color: #008000\">'B'</span>: <span style=\"color: #008000; text-decoration-color: #008000\">'Hopeful'</span>, <span style=\"color: #008000; text-decoration-color: #008000\">'C'</span>: <span style=\"color: #008000; text-decoration-color: #008000\">'a dog'</span>, <span style=\"color: #008000; text-decoration-color: #008000\">'state'</span>: <span style=\"color: #008000; text-decoration-color: #008000\">' Optimistic'</span>, <span style=\"color: #008000; text-decoration-color: #008000\">'Y'</span>: <span style=\"color: #008000; text-decoration-color: #008000\">'</span> <a href=\"file:///Users/wouter.durnez/Documents/Repositories/test-ai-message-composer/fence/src/llm/chains.py\" target=\"_blank\"><span style=\"color: #7f7f7f; text-decoration-color: #7f7f7f\">chains.py</span></a><span style=\"color: #7f7f7f; text-decoration-color: #7f7f7f\">:</span><a href=\"file:///Users/wouter.durnez/Documents/Repositories/test-ai-message-composer/fence/src/llm/chains.py#214\" target=\"_blank\"><span style=\"color: #7f7f7f; text-decoration-color: #7f7f7f\">214</span></a>\n<span style=\"color: #7fbfbf; text-decoration-color: #7fbfbf\">           </span>         <span style=\"color: #008000; text-decoration-color: #008000\">Optimistic'</span><span style=\"font-weight: bold\">}</span>                                                                                                                   <span style=\"color: #7f7f7f; text-decoration-color: #7f7f7f\">             </span>\n</pre>\n"
     },
     "metadata": {},
     "output_type": "display_data"
    },
    {
     "data": {
      "text/plain": "\u001B[2;36m          \u001B[0m\u001B[2;36m \u001B[0m\u001B[34mINFO    \u001B[0m 🧐 Current state:  A Police officer.                                                                                           \u001B]8;id=882845;file:///Users/wouter.durnez/Documents/Repositories/test-ai-message-composer/fence/src/llm/chains.py\u001B\\\u001B[2mchains.py\u001B[0m\u001B]8;;\u001B\\\u001B[2m:\u001B[0m\u001B]8;id=781495;file:///Users/wouter.durnez/Documents/Repositories/test-ai-message-composer/fence/src/llm/chains.py#270\u001B\\\u001B[2m270\u001B[0m\u001B]8;;\u001B\\\n",
      "text/html": "<pre style=\"white-space:pre;overflow-x:auto;line-height:normal;font-family:Menlo,'DejaVu Sans Mono',consolas,'Courier New',monospace\"><span style=\"color: #7fbfbf; text-decoration-color: #7fbfbf\">           </span><span style=\"color: #000080; text-decoration-color: #000080\">INFO    </span> 🧐 Current state:  A Police officer.                                                                                           <a href=\"file:///Users/wouter.durnez/Documents/Repositories/test-ai-message-composer/fence/src/llm/chains.py\" target=\"_blank\"><span style=\"color: #7f7f7f; text-decoration-color: #7f7f7f\">chains.py</span></a><span style=\"color: #7f7f7f; text-decoration-color: #7f7f7f\">:</span><a href=\"file:///Users/wouter.durnez/Documents/Repositories/test-ai-message-composer/fence/src/llm/chains.py#270\" target=\"_blank\"><span style=\"color: #7f7f7f; text-decoration-color: #7f7f7f\">270</span></a>\n</pre>\n"
     },
     "metadata": {},
     "output_type": "display_data"
    },
    {
     "data": {
      "text/plain": "\u001B[2;36m          \u001B[0m\u001B[2;36m \u001B[0m\u001B[34mINFO    \u001B[0m 🖇️ Executing \u001B[1m<\u001B[0m\u001B[1;95msentence\u001B[0m\u001B[1m>\u001B[0m Link with input: \u001B[1m{\u001B[0m\u001B[32m'A'\u001B[0m: \u001B[32m'A police officer'\u001B[0m, \u001B[32m'B'\u001B[0m: \u001B[32m'Hopeful'\u001B[0m, \u001B[32m'C'\u001B[0m: \u001B[32m'a dog'\u001B[0m, \u001B[32m'state'\u001B[0m: \u001B[32m' A Police officer.'\u001B[0m, \u001B]8;id=673111;file:///Users/wouter.durnez/Documents/Repositories/test-ai-message-composer/fence/src/llm/chains.py\u001B\\\u001B[2mchains.py\u001B[0m\u001B]8;;\u001B\\\u001B[2m:\u001B[0m\u001B]8;id=419381;file:///Users/wouter.durnez/Documents/Repositories/test-ai-message-composer/fence/src/llm/chains.py#214\u001B\\\u001B[2m214\u001B[0m\u001B]8;;\u001B\\\n\u001B[2;36m           \u001B[0m         \u001B[32m'Y'\u001B[0m: \u001B[32m' Optimistic'\u001B[0m, \u001B[32m'X'\u001B[0m: \u001B[32m' A Police officer.'\u001B[0m\u001B[1m}\u001B[0m                                                                                 \u001B[2m             \u001B[0m\n",
      "text/html": "<pre style=\"white-space:pre;overflow-x:auto;line-height:normal;font-family:Menlo,'DejaVu Sans Mono',consolas,'Courier New',monospace\"><span style=\"color: #7fbfbf; text-decoration-color: #7fbfbf\">           </span><span style=\"color: #000080; text-decoration-color: #000080\">INFO    </span> 🖇️ Executing <span style=\"font-weight: bold\">&lt;</span><span style=\"color: #ff00ff; text-decoration-color: #ff00ff; font-weight: bold\">sentence</span><span style=\"font-weight: bold\">&gt;</span> Link with input: <span style=\"font-weight: bold\">{</span><span style=\"color: #008000; text-decoration-color: #008000\">'A'</span>: <span style=\"color: #008000; text-decoration-color: #008000\">'A police officer'</span>, <span style=\"color: #008000; text-decoration-color: #008000\">'B'</span>: <span style=\"color: #008000; text-decoration-color: #008000\">'Hopeful'</span>, <span style=\"color: #008000; text-decoration-color: #008000\">'C'</span>: <span style=\"color: #008000; text-decoration-color: #008000\">'a dog'</span>, <span style=\"color: #008000; text-decoration-color: #008000\">'state'</span>: <span style=\"color: #008000; text-decoration-color: #008000\">' A Police officer.'</span>, <a href=\"file:///Users/wouter.durnez/Documents/Repositories/test-ai-message-composer/fence/src/llm/chains.py\" target=\"_blank\"><span style=\"color: #7f7f7f; text-decoration-color: #7f7f7f\">chains.py</span></a><span style=\"color: #7f7f7f; text-decoration-color: #7f7f7f\">:</span><a href=\"file:///Users/wouter.durnez/Documents/Repositories/test-ai-message-composer/fence/src/llm/chains.py#214\" target=\"_blank\"><span style=\"color: #7f7f7f; text-decoration-color: #7f7f7f\">214</span></a>\n<span style=\"color: #7fbfbf; text-decoration-color: #7fbfbf\">           </span>         <span style=\"color: #008000; text-decoration-color: #008000\">'Y'</span>: <span style=\"color: #008000; text-decoration-color: #008000\">' Optimistic'</span>, <span style=\"color: #008000; text-decoration-color: #008000\">'X'</span>: <span style=\"color: #008000; text-decoration-color: #008000\">' A Police officer.'</span><span style=\"font-weight: bold\">}</span>                                                                                 <span style=\"color: #7f7f7f; text-decoration-color: #7f7f7f\">             </span>\n</pre>\n"
     },
     "metadata": {},
     "output_type": "display_data"
    },
    {
     "data": {
      "text/plain": "\u001B[2;36m[11:36:31]\u001B[0m\u001B[2;36m \u001B[0m\u001B[34mINFO    \u001B[0m 🧐 Current state:  Here is a sentence combining those elements:                                                                \u001B]8;id=491885;file:///Users/wouter.durnez/Documents/Repositories/test-ai-message-composer/fence/src/llm/chains.py\u001B\\\u001B[2mchains.py\u001B[0m\u001B]8;;\u001B\\\u001B[2m:\u001B[0m\u001B]8;id=441524;file:///Users/wouter.durnez/Documents/Repositories/test-ai-message-composer/fence/src/llm/chains.py#270\u001B\\\u001B[2m270\u001B[0m\u001B]8;;\u001B\\\n\u001B[2;36m           \u001B[0m                                                                                                                                        \u001B[2m             \u001B[0m\n\u001B[2;36m           \u001B[0m         The optimistic police officer's dog always believed in him and helped brighten his day, even after difficult calls.            \u001B[2m             \u001B[0m\n",
      "text/html": "<pre style=\"white-space:pre;overflow-x:auto;line-height:normal;font-family:Menlo,'DejaVu Sans Mono',consolas,'Courier New',monospace\"><span style=\"color: #7fbfbf; text-decoration-color: #7fbfbf\">[11:36:31] </span><span style=\"color: #000080; text-decoration-color: #000080\">INFO    </span> 🧐 Current state:  Here is a sentence combining those elements:                                                                <a href=\"file:///Users/wouter.durnez/Documents/Repositories/test-ai-message-composer/fence/src/llm/chains.py\" target=\"_blank\"><span style=\"color: #7f7f7f; text-decoration-color: #7f7f7f\">chains.py</span></a><span style=\"color: #7f7f7f; text-decoration-color: #7f7f7f\">:</span><a href=\"file:///Users/wouter.durnez/Documents/Repositories/test-ai-message-composer/fence/src/llm/chains.py#270\" target=\"_blank\"><span style=\"color: #7f7f7f; text-decoration-color: #7f7f7f\">270</span></a>\n<span style=\"color: #7fbfbf; text-decoration-color: #7fbfbf\">           </span>                                                                                                                                        <span style=\"color: #7f7f7f; text-decoration-color: #7f7f7f\">             </span>\n<span style=\"color: #7fbfbf; text-decoration-color: #7fbfbf\">           </span>         The optimistic police officer's dog always believed in him and helped brighten his day, even after difficult calls.            <span style=\"color: #7f7f7f; text-decoration-color: #7f7f7f\">             </span>\n</pre>\n"
     },
     "metadata": {},
     "output_type": "display_data"
    }
   ],
   "source": [
    "# Woops, forgot something! There's no link that generates the 'C' key. We can pass it in though.\n",
    "result = chain.run(input_dict={\"A\": \"A police officer\", \"B\": \"Hopeful\", \"C\": \"a dog\"})"
   ],
   "metadata": {
    "collapsed": false,
    "ExecuteTime": {
     "end_time": "2024-01-23T10:36:31.369852Z",
     "start_time": "2024-01-23T10:36:29.797329Z"
    }
   },
   "id": "4dabac4f53177f1e",
   "execution_count": 91
  },
  {
   "cell_type": "code",
   "outputs": [
    {
     "name": "stdout",
     "output_type": "stream",
     "text": [
      "Cycle detected in the dependency graph.\n"
     ]
    }
   ],
   "source": [
    "# Cycles are not allowed\n",
    "link_up = Link(\n",
    "    template=PromptTemplate(\n",
    "        \"Capitalize this word: {{up}}. Only respond with the capitalized version\", [\"up\"]\n",
    "    ),\n",
    "    name = 'up',\n",
    "    output_key=\"down\",\n",
    ")\n",
    "link_b = Link(\n",
    "    template=PromptTemplate(\n",
    "        \"What's a synonym for {{down}}. Reply with one word.\", [\"down\"],\n",
    "    ),\n",
    "    name='down',\n",
    "    output_key=\"up\",\n",
    ")\n",
    "chain = Chain(llm=claude, links=[link_up, link_b])\n",
    "try:\n",
    "    chain._topological_sort()\n",
    "except Exception as e:\n",
    "    print(e)"
   ],
   "metadata": {
    "collapsed": false,
    "ExecuteTime": {
     "end_time": "2024-01-23T10:36:31.370724Z",
     "start_time": "2024-01-23T10:36:31.352957Z"
    }
   },
   "id": "fd6aa1cb2325cd41",
   "execution_count": 92
  },
  {
   "cell_type": "code",
   "outputs": [],
   "source": [],
   "metadata": {
    "collapsed": false,
    "ExecuteTime": {
     "end_time": "2024-01-23T10:36:31.371224Z",
     "start_time": "2024-01-23T10:36:31.356473Z"
    }
   },
   "id": "b3a8561144f1584c",
   "execution_count": 92
  }
 ],
 "metadata": {
  "kernelspec": {
   "display_name": "Python 3",
   "language": "python",
   "name": "python3"
  },
  "language_info": {
   "codemirror_mode": {
    "name": "ipython",
    "version": 2
   },
   "file_extension": ".py",
   "mimetype": "text/x-python",
   "name": "python",
   "nbconvert_exporter": "python",
   "pygments_lexer": "ipython2",
   "version": "2.7.6"
  }
 },
 "nbformat": 4,
 "nbformat_minor": 5
}
